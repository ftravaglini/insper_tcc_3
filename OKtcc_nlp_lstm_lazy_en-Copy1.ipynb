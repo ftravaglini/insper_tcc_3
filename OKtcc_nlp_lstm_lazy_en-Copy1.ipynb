{
 "cells": [
  {
   "cell_type": "markdown",
   "id": "791f0e12-bbb6-4bcb-8a2e-1048ab03bbd2",
   "metadata": {},
   "source": [
    "# NLP - Lazy rnn - lstm"
   ]
  },
  {
   "cell_type": "code",
   "execution_count": 98,
   "id": "5a418dd8-90ca-41b5-b4ea-9638598d471d",
   "metadata": {},
   "outputs": [],
   "source": [
    "import pandas as pd\n",
    "import numpy as np\n",
    "import matplotlib.pyplot as plt"
   ]
  },
  {
   "cell_type": "code",
   "execution_count": 99,
   "id": "d116ad26-12a3-487c-9b47-5f9abe2b6a14",
   "metadata": {},
   "outputs": [],
   "source": [
    "df_copom = pd.read_csv('df_copom_label_en.csv')"
   ]
  },
  {
   "cell_type": "code",
   "execution_count": 100,
   "id": "60443267-16fc-4610-9633-d96d57c5a6d3",
   "metadata": {},
   "outputs": [
    {
     "data": {
      "text/html": [
       "<div>\n",
       "<style scoped>\n",
       "    .dataframe tbody tr th:only-of-type {\n",
       "        vertical-align: middle;\n",
       "    }\n",
       "\n",
       "    .dataframe tbody tr th {\n",
       "        vertical-align: top;\n",
       "    }\n",
       "\n",
       "    .dataframe thead th {\n",
       "        text-align: right;\n",
       "    }\n",
       "</style>\n",
       "<table border=\"1\" class=\"dataframe\">\n",
       "  <thead>\n",
       "    <tr style=\"text-align: right;\">\n",
       "      <th></th>\n",
       "      <th>Unnamed: 0</th>\n",
       "      <th>meeting_number</th>\n",
       "      <th>date_x</th>\n",
       "      <th>date_y</th>\n",
       "      <th>selic</th>\n",
       "      <th>decision</th>\n",
       "      <th>decision_txt</th>\n",
       "      <th>type</th>\n",
       "      <th>text</th>\n",
       "      <th>num_words</th>\n",
       "      <th>text_raw</th>\n",
       "      <th>num_words_raw</th>\n",
       "      <th>label_hawk_dove</th>\n",
       "      <th>label_next_meet</th>\n",
       "    </tr>\n",
       "  </thead>\n",
       "  <tbody>\n",
       "    <tr>\n",
       "      <th>0</th>\n",
       "      <td>0</td>\n",
       "      <td>117</td>\n",
       "      <td>2006/03/08</td>\n",
       "      <td>2006/03/08</td>\n",
       "      <td>16.5</td>\n",
       "      <td>-0.75</td>\n",
       "      <td>decrease</td>\n",
       "      <td>statement</td>\n",
       "      <td>march meeting , banco central brasil 's moneta...</td>\n",
       "      <td>55.0</td>\n",
       "      <td>In the March Meeting, the Banco Central do Br...</td>\n",
       "      <td>67.0</td>\n",
       "      <td>dovish</td>\n",
       "      <td>decrease</td>\n",
       "    </tr>\n",
       "  </tbody>\n",
       "</table>\n",
       "</div>"
      ],
      "text/plain": [
       "   Unnamed: 0  meeting_number      date_x      date_y  selic  decision  \\\n",
       "0           0             117  2006/03/08  2006/03/08   16.5     -0.75   \n",
       "\n",
       "  decision_txt       type                                               text  \\\n",
       "0     decrease  statement  march meeting , banco central brasil 's moneta...   \n",
       "\n",
       "   num_words                                           text_raw  \\\n",
       "0       55.0   In the March Meeting, the Banco Central do Br...   \n",
       "\n",
       "   num_words_raw label_hawk_dove label_next_meet  \n",
       "0           67.0          dovish        decrease  "
      ]
     },
     "execution_count": 100,
     "metadata": {},
     "output_type": "execute_result"
    }
   ],
   "source": [
    "df_copom.head(1)"
   ]
  },
  {
   "cell_type": "code",
   "execution_count": 101,
   "id": "d8e853d8-e066-46f9-bac5-f3686a143845",
   "metadata": {},
   "outputs": [],
   "source": [
    "df = df_copom[df_copom['type'] == 'statement'].copy()"
   ]
  },
  {
   "cell_type": "code",
   "execution_count": 102,
   "id": "c0403aab-6e78-44c6-ba1d-cd2324d077f7",
   "metadata": {},
   "outputs": [
    {
     "data": {
      "text/html": [
       "<div>\n",
       "<style scoped>\n",
       "    .dataframe tbody tr th:only-of-type {\n",
       "        vertical-align: middle;\n",
       "    }\n",
       "\n",
       "    .dataframe tbody tr th {\n",
       "        vertical-align: top;\n",
       "    }\n",
       "\n",
       "    .dataframe thead th {\n",
       "        text-align: right;\n",
       "    }\n",
       "</style>\n",
       "<table border=\"1\" class=\"dataframe\">\n",
       "  <thead>\n",
       "    <tr style=\"text-align: right;\">\n",
       "      <th></th>\n",
       "      <th>Unnamed: 0</th>\n",
       "      <th>meeting_number</th>\n",
       "      <th>date_x</th>\n",
       "      <th>date_y</th>\n",
       "      <th>selic</th>\n",
       "      <th>decision</th>\n",
       "      <th>decision_txt</th>\n",
       "      <th>type</th>\n",
       "      <th>text</th>\n",
       "      <th>num_words</th>\n",
       "      <th>text_raw</th>\n",
       "      <th>num_words_raw</th>\n",
       "      <th>label_hawk_dove</th>\n",
       "      <th>label_next_meet</th>\n",
       "    </tr>\n",
       "  </thead>\n",
       "  <tbody>\n",
       "    <tr>\n",
       "      <th>0</th>\n",
       "      <td>0</td>\n",
       "      <td>117</td>\n",
       "      <td>2006/03/08</td>\n",
       "      <td>2006/03/08</td>\n",
       "      <td>16.5</td>\n",
       "      <td>-0.75</td>\n",
       "      <td>decrease</td>\n",
       "      <td>statement</td>\n",
       "      <td>march meeting , banco central brasil 's moneta...</td>\n",
       "      <td>55.0</td>\n",
       "      <td>In the March Meeting, the Banco Central do Br...</td>\n",
       "      <td>67.0</td>\n",
       "      <td>dovish</td>\n",
       "      <td>decrease</td>\n",
       "    </tr>\n",
       "  </tbody>\n",
       "</table>\n",
       "</div>"
      ],
      "text/plain": [
       "   Unnamed: 0  meeting_number      date_x      date_y  selic  decision  \\\n",
       "0           0             117  2006/03/08  2006/03/08   16.5     -0.75   \n",
       "\n",
       "  decision_txt       type                                               text  \\\n",
       "0     decrease  statement  march meeting , banco central brasil 's moneta...   \n",
       "\n",
       "   num_words                                           text_raw  \\\n",
       "0       55.0   In the March Meeting, the Banco Central do Br...   \n",
       "\n",
       "   num_words_raw label_hawk_dove label_next_meet  \n",
       "0           67.0          dovish        decrease  "
      ]
     },
     "execution_count": 102,
     "metadata": {},
     "output_type": "execute_result"
    }
   ],
   "source": [
    "df.head(1)"
   ]
  },
  {
   "cell_type": "code",
   "execution_count": 103,
   "id": "c84c4022-78cd-4e0e-aa03-61e3ef9a1bb0",
   "metadata": {},
   "outputs": [
    {
     "data": {
      "text/plain": [
       "(140, 14)"
      ]
     },
     "execution_count": 103,
     "metadata": {},
     "output_type": "execute_result"
    }
   ],
   "source": [
    "df.shape"
   ]
  },
  {
   "cell_type": "code",
   "execution_count": 104,
   "id": "62fdf67a-93e3-48be-a3de-9c7408824b42",
   "metadata": {
    "tags": []
   },
   "outputs": [
    {
     "data": {
      "text/plain": [
       "Unnamed: 0         0\n",
       "meeting_number     0\n",
       "date_x             0\n",
       "date_y             0\n",
       "selic              0\n",
       "decision           0\n",
       "decision_txt       0\n",
       "type               0\n",
       "text               0\n",
       "num_words          0\n",
       "text_raw           0\n",
       "num_words_raw      0\n",
       "label_hawk_dove    1\n",
       "label_next_meet    1\n",
       "dtype: int64"
      ]
     },
     "execution_count": 104,
     "metadata": {},
     "output_type": "execute_result"
    }
   ],
   "source": [
    "df.isnull().sum()"
   ]
  },
  {
   "cell_type": "code",
   "execution_count": 105,
   "id": "39bab668-0d9e-4017-9e79-aea19644b098",
   "metadata": {
    "tags": []
   },
   "outputs": [
    {
     "data": {
      "text/plain": [
       "(139, 14)"
      ]
     },
     "execution_count": 105,
     "metadata": {},
     "output_type": "execute_result"
    }
   ],
   "source": [
    "df = df.dropna().copy()\n",
    "df.shape"
   ]
  },
  {
   "cell_type": "code",
   "execution_count": 106,
   "id": "d180fe09-9b06-43be-8011-885964d6a045",
   "metadata": {
    "tags": []
   },
   "outputs": [
    {
     "data": {
      "text/plain": [
       "Unnamed: 0         0\n",
       "meeting_number     0\n",
       "date_x             0\n",
       "date_y             0\n",
       "selic              0\n",
       "decision           0\n",
       "decision_txt       0\n",
       "type               0\n",
       "text               0\n",
       "num_words          0\n",
       "text_raw           0\n",
       "num_words_raw      0\n",
       "label_hawk_dove    0\n",
       "label_next_meet    0\n",
       "dtype: int64"
      ]
     },
     "execution_count": 106,
     "metadata": {},
     "output_type": "execute_result"
    }
   ],
   "source": [
    "df.isnull().sum()"
   ]
  },
  {
   "cell_type": "markdown",
   "id": "36c44e4b-0795-4f05-838d-c5caa6b9dcd9",
   "metadata": {},
   "source": [
    "### Split test and train"
   ]
  },
  {
   "cell_type": "code",
   "execution_count": 107,
   "id": "9783a43e-78d9-4a51-a65e-58e9ba6bf0e8",
   "metadata": {},
   "outputs": [],
   "source": [
    "from sklearn.model_selection import train_test_split"
   ]
  },
  {
   "cell_type": "code",
   "execution_count": 108,
   "id": "b9572834-9d66-4da3-8e55-e6fa9177a530",
   "metadata": {},
   "outputs": [],
   "source": [
    "X = df.copy()\n",
    "y = df['label_hawk_dove']"
   ]
  },
  {
   "cell_type": "code",
   "execution_count": 109,
   "id": "26356f49-54c3-4096-bf3d-4154aacce342",
   "metadata": {},
   "outputs": [],
   "source": [
    "#Perform train/test split\n",
    "X_train, X_test, y_train, y_test = train_test_split(X, y, test_size=0.2, random_state=2015)"
   ]
  },
  {
   "cell_type": "code",
   "execution_count": 110,
   "id": "48226f65-b901-44e2-b066-bdc45a9dda50",
   "metadata": {},
   "outputs": [],
   "source": [
    "texts = X_train['text'].tolist()\n",
    "labels = y_train.tolist()"
   ]
  },
  {
   "cell_type": "code",
   "execution_count": 111,
   "id": "4f688c59-6721-4af2-82c0-13b9ead5e0e1",
   "metadata": {},
   "outputs": [
    {
     "data": {
      "text/plain": [
       "'copom unanimously decided maintain selic rate 6.50 % p.a.the following observations provide update c'"
      ]
     },
     "execution_count": 111,
     "metadata": {},
     "output_type": "execute_result"
    }
   ],
   "source": [
    "texts[0][:100]"
   ]
  },
  {
   "cell_type": "code",
   "execution_count": 112,
   "id": "c6e6c3df-8161-4e4c-bec2-3c98773d2d96",
   "metadata": {},
   "outputs": [
    {
     "data": {
      "text/plain": [
       "['neutral', 'hawkish', 'dovish', 'dovish', 'dovish']"
      ]
     },
     "execution_count": 112,
     "metadata": {},
     "output_type": "execute_result"
    }
   ],
   "source": [
    "labels[:5]"
   ]
  },
  {
   "cell_type": "code",
   "execution_count": 113,
   "id": "505cec28-3d87-47e6-a8a5-c7acfaea9efe",
   "metadata": {},
   "outputs": [
    {
     "data": {
      "text/plain": [
       "(111, 111)"
      ]
     },
     "execution_count": 113,
     "metadata": {},
     "output_type": "execute_result"
    }
   ],
   "source": [
    "len(texts), len(labels)"
   ]
  },
  {
   "cell_type": "code",
   "execution_count": 114,
   "id": "c8a8b86c-9391-4baf-9aff-59221bb3faa6",
   "metadata": {},
   "outputs": [],
   "source": [
    "# seq_len = 512 # number of the tokens tokenizer will create\n",
    "# num_samples = len (texts)\n",
    "# num_samples, seq_len"
   ]
  },
  {
   "cell_type": "markdown",
   "id": "7029bbf4-2632-4984-8d0a-42bdc2382cdd",
   "metadata": {},
   "source": [
    "### Convert labels to one-hot encoded vectors"
   ]
  },
  {
   "cell_type": "code",
   "execution_count": 115,
   "id": "4b0e070e-a8ae-43f6-b8b1-504ec31b12c6",
   "metadata": {},
   "outputs": [],
   "source": [
    "label_classes = list(set(labels))\n",
    "num_classes = len(label_classes)\n",
    "\n",
    "label_to_index = {label: index for index, label in enumerate(label_classes)}\n",
    "index_to_label = {index: label for label, index in label_to_index.items()}\n",
    "\n",
    "labels_encoded = np.array([label_to_index[label] for label in labels])\n",
    "labels = np.eye(num_classes)[labels_encoded]"
   ]
  },
  {
   "cell_type": "code",
   "execution_count": 116,
   "id": "661e9943-7abf-47a2-af7a-df2e982a36f7",
   "metadata": {},
   "outputs": [
    {
     "data": {
      "text/plain": [
       "{'neutral': 0, 'dovish': 1, 'hawkish': 2}"
      ]
     },
     "execution_count": 116,
     "metadata": {},
     "output_type": "execute_result"
    }
   ],
   "source": [
    "label_to_index"
   ]
  },
  {
   "cell_type": "code",
   "execution_count": 117,
   "id": "960493b5-4c56-49d0-98b5-ceb1a8ab31df",
   "metadata": {},
   "outputs": [
    {
     "data": {
      "text/plain": [
       "array([[1., 0., 0.],\n",
       "       [0., 0., 1.],\n",
       "       [0., 1., 0.],\n",
       "       [0., 1., 0.],\n",
       "       [0., 1., 0.]])"
      ]
     },
     "execution_count": 117,
     "metadata": {},
     "output_type": "execute_result"
    }
   ],
   "source": [
    "labels[:5]"
   ]
  },
  {
   "cell_type": "code",
   "execution_count": 118,
   "id": "89ce264c-0ed0-4041-ae4b-81364cff95db",
   "metadata": {},
   "outputs": [
    {
     "data": {
      "text/plain": [
       "111"
      ]
     },
     "execution_count": 118,
     "metadata": {},
     "output_type": "execute_result"
    }
   ],
   "source": [
    "len(labels)"
   ]
  },
  {
   "cell_type": "markdown",
   "id": "41ff51f9-f286-4f63-b42e-1ee6dc4ae8ca",
   "metadata": {},
   "source": [
    "## Model"
   ]
  },
  {
   "cell_type": "code",
   "execution_count": 119,
   "id": "6fba3d00-052e-4a92-88df-904263258eec",
   "metadata": {
    "tags": []
   },
   "outputs": [],
   "source": [
    "import os\n",
    "import sys"
   ]
  },
  {
   "cell_type": "code",
   "execution_count": 120,
   "id": "6f7dd4d6-753f-4712-acd9-e8eeb3dc834b",
   "metadata": {},
   "outputs": [],
   "source": [
    "from keras.models import Model\n",
    "from keras.layers import Dense, Embedding, Input\n",
    "from keras.layers import LSTM, Bidirectional, GlobalMaxPool1D, Dropout\n",
    "from keras.preprocessing.text import Tokenizer\n",
    "# from keras.preprocessing.sequence import pad_sequences\n",
    "from keras.optimizers import Adam\n",
    "from sklearn.metrics import roc_auc_score\n",
    "\n",
    "import tensorflow as tf\n",
    "\n",
    "import keras.backend as K\n",
    "# if len(K.tensorflow_backend._get_available_gpus()) > 0:\n",
    "#   from keras.layers import CuDNNLSTM as LSTM\n",
    "#   from keras.layers import CuDNNGRU as GRU"
   ]
  },
  {
   "cell_type": "code",
   "execution_count": 121,
   "id": "b0e937f0-71fa-403d-bf1f-7d7e7b41c205",
   "metadata": {
    "tags": []
   },
   "outputs": [
    {
     "name": "stdout",
     "output_type": "stream",
     "text": [
      "2.12.0\n"
     ]
    }
   ],
   "source": [
    "import keras\n",
    "print(keras.__version__)"
   ]
  },
  {
   "cell_type": "code",
   "execution_count": 123,
   "id": "80fa6053-d1f2-4673-a401-b58e15806ec5",
   "metadata": {
    "tags": []
   },
   "outputs": [],
   "source": [
    "# some configuration\n",
    "MAX_SEQUENCE_LENGTH = 600\n",
    "MAX_VOCAB_SIZE = 20000\n",
    "EMBEDDING_DIM = 50\n",
    "VALIDATION_SPLIT = 0.2\n",
    "BATCH_SIZE = 128\n",
    "EPOCHS = 100"
   ]
  },
  {
   "cell_type": "code",
   "execution_count": 124,
   "id": "513b6547-d009-46fa-968b-683af5acb1fb",
   "metadata": {
    "tags": []
   },
   "outputs": [
    {
     "name": "stdout",
     "output_type": "stream",
     "text": [
      "Loading word vectors...\n",
      "Found 400000 word vectors.\n"
     ]
    }
   ],
   "source": [
    "# load in pre-trained word vectors\n",
    "print('Loading word vectors...')\n",
    "word2vec = {}\n",
    "with open('glove.6B/glove.6B.50d.txt', encoding='utf-8') as f:\n",
    "    # is just a space-separated text file in the format:\n",
    "    # word vec[0] vec[1] vec[2] ...\n",
    "    for line in f:\n",
    "        values = line.split()\n",
    "        word = values[0]\n",
    "        vec = np.asarray(values[1:], dtype='float32')\n",
    "        word2vec[word] = vec\n",
    "print('Found %s word vectors.' % len(word2vec))"
   ]
  },
  {
   "cell_type": "code",
   "execution_count": 125,
   "id": "36301ddc-4715-4138-a875-08b1ed382208",
   "metadata": {
    "tags": []
   },
   "outputs": [],
   "source": [
    "# train = pd.read_csv(\"train.csv/train.csv\")\n",
    "# sentences = train[\"comment_text\"].fillna(\"DUMMY_VALUE\").values\n",
    "# possible_labels = [\"toxic\", \"severe_toxic\", \"obscene\", \"threat\", \"insult\", \"identity_hate\"]\n",
    "# targets = train[possible_labels].values"
   ]
  },
  {
   "cell_type": "code",
   "execution_count": 126,
   "id": "7df62310-9328-4ef1-8509-60936cd48b84",
   "metadata": {
    "tags": []
   },
   "outputs": [],
   "source": [
    "sentences = X_train['text'].fillna(\"DUMMY_VALUE\").values\n",
    "possible_labels = ['dovish', 'neutral', 'hawkish']\n",
    "targets = labels"
   ]
  },
  {
   "cell_type": "code",
   "execution_count": 127,
   "id": "2e474c7f-f406-4160-b31b-5f93d328212a",
   "metadata": {
    "tags": []
   },
   "outputs": [],
   "source": [
    "# convert the sentences (strings) into integers\n",
    "tokenizer = Tokenizer(num_words=MAX_VOCAB_SIZE)\n",
    "tokenizer.fit_on_texts(sentences)\n",
    "sequences = tokenizer.texts_to_sequences(sentences)"
   ]
  },
  {
   "cell_type": "code",
   "execution_count": 128,
   "id": "d8683ffc-f1e5-49a4-b2ad-dc548d9ff857",
   "metadata": {
    "tags": []
   },
   "outputs": [
    {
     "data": {
      "text/plain": [
       "111"
      ]
     },
     "execution_count": 128,
     "metadata": {},
     "output_type": "execute_result"
    }
   ],
   "source": [
    "len(sequences)"
   ]
  },
  {
   "cell_type": "code",
   "execution_count": 129,
   "id": "a4d269c7-aef3-47fe-ba96-60e096b2a4ba",
   "metadata": {
    "tags": []
   },
   "outputs": [
    {
     "name": "stdout",
     "output_type": "stream",
     "text": [
      "Found 1324 unique tokens.\n"
     ]
    }
   ],
   "source": [
    "# get word -> integer mapping\n",
    "word2idx = tokenizer.word_index\n",
    "print('Found %s unique tokens.' % len(word2idx))"
   ]
  },
  {
   "cell_type": "code",
   "execution_count": 130,
   "id": "b570e5c7-905f-4c23-8b1d-37417ab641b1",
   "metadata": {
    "tags": []
   },
   "outputs": [
    {
     "name": "stdout",
     "output_type": "stream",
     "text": [
      "Shape of data tensor: (111, 600)\n"
     ]
    }
   ],
   "source": [
    "# pad sequences so that we get a N x T matrix\n",
    "data = tf.keras.utils.pad_sequences(sequences, maxlen=MAX_SEQUENCE_LENGTH)\n",
    "print('Shape of data tensor:', data.shape)"
   ]
  },
  {
   "cell_type": "code",
   "execution_count": 131,
   "id": "48eea7a7-b326-4348-b640-8b1e644668e0",
   "metadata": {
    "tags": []
   },
   "outputs": [
    {
     "name": "stdout",
     "output_type": "stream",
     "text": [
      "Filling pre-trained embeddings...\n"
     ]
    }
   ],
   "source": [
    "# prepare embedding matrix\n",
    "print('Filling pre-trained embeddings...')\n",
    "num_words = min(MAX_VOCAB_SIZE, len(word2idx) + 1)\n",
    "embedding_matrix = np.zeros((num_words, EMBEDDING_DIM))\n",
    "for word, i in word2idx.items():\n",
    "    if i < MAX_VOCAB_SIZE:\n",
    "        embedding_vector = word2vec.get(word)\n",
    "    if embedding_vector is not None:\n",
    "        # words not found in embedding index will be all zeros.\n",
    "        embedding_matrix[i] = embedding_vector"
   ]
  },
  {
   "cell_type": "code",
   "execution_count": 132,
   "id": "a9e0d37f-8b5d-4f63-9370-4e8d53240e48",
   "metadata": {
    "tags": []
   },
   "outputs": [],
   "source": [
    "# load pre-trained word embeddings into an Embedding layer\n",
    "# note that we set trainable = False so as to keep the embeddings fixed\n",
    "embedding_layer = Embedding(\n",
    "  num_words,\n",
    "  EMBEDDING_DIM,\n",
    "  weights=[embedding_matrix],\n",
    "  input_length=MAX_SEQUENCE_LENGTH,\n",
    "  trainable=False\n",
    ")"
   ]
  },
  {
   "cell_type": "code",
   "execution_count": 133,
   "id": "dc57cb3b-fd40-4fb8-b518-db52b1437c47",
   "metadata": {
    "tags": []
   },
   "outputs": [
    {
     "name": "stdout",
     "output_type": "stream",
     "text": [
      "Building model...\n"
     ]
    }
   ],
   "source": [
    "print('Building model...')\n",
    "\n",
    "# create an LSTM network with a single LSTM\n",
    "input_ = Input(shape=(MAX_SEQUENCE_LENGTH,))\n",
    "x = embedding_layer(input_)\n",
    "# x = LSTM(15, return_sequences=True)(x)\n",
    "x = Bidirectional(LSTM(15, return_sequences=True))(x)\n",
    "x = GlobalMaxPool1D()(x)\n",
    "output = Dense(len(possible_labels), activation=\"sigmoid\")(x)\n",
    "\n",
    "model = Model(input_, output)\n",
    "model.compile(\n",
    "  loss='binary_crossentropy',\n",
    "  optimizer=Adam(learning_rate=0.01),\n",
    "  metrics=['accuracy'],\n",
    ")"
   ]
  },
  {
   "cell_type": "code",
   "execution_count": 134,
   "id": "e4eeb64d-f9fb-4a43-98bd-db7c6f5763f5",
   "metadata": {
    "tags": []
   },
   "outputs": [
    {
     "name": "stdout",
     "output_type": "stream",
     "text": [
      "Training model...\n",
      "Epoch 1/100\n",
      "1/1 [==============================] - 2s 2s/step - loss: 0.7206 - accuracy: 0.4318 - val_loss: 0.6573 - val_accuracy: 0.3478\n",
      "Epoch 2/100\n",
      "1/1 [==============================] - 0s 171ms/step - loss: 0.6359 - accuracy: 0.3977 - val_loss: 0.6383 - val_accuracy: 0.3478\n",
      "Epoch 3/100\n",
      "1/1 [==============================] - 0s 173ms/step - loss: 0.6128 - accuracy: 0.3977 - val_loss: 0.6372 - val_accuracy: 0.3478\n",
      "Epoch 4/100\n",
      "1/1 [==============================] - 0s 173ms/step - loss: 0.6095 - accuracy: 0.4318 - val_loss: 0.6321 - val_accuracy: 0.4348\n",
      "Epoch 5/100\n",
      "1/1 [==============================] - 0s 177ms/step - loss: 0.6046 - accuracy: 0.5795 - val_loss: 0.6230 - val_accuracy: 0.4783\n",
      "Epoch 6/100\n",
      "1/1 [==============================] - 0s 167ms/step - loss: 0.5957 - accuracy: 0.6591 - val_loss: 0.6119 - val_accuracy: 0.4783\n",
      "Epoch 7/100\n",
      "1/1 [==============================] - 0s 174ms/step - loss: 0.5837 - accuracy: 0.6591 - val_loss: 0.5979 - val_accuracy: 0.4783\n",
      "Epoch 8/100\n",
      "1/1 [==============================] - 0s 213ms/step - loss: 0.5699 - accuracy: 0.6364 - val_loss: 0.5867 - val_accuracy: 0.4783\n",
      "Epoch 9/100\n",
      "1/1 [==============================] - 0s 182ms/step - loss: 0.5583 - accuracy: 0.6477 - val_loss: 0.5778 - val_accuracy: 0.5652\n",
      "Epoch 10/100\n",
      "1/1 [==============================] - 0s 186ms/step - loss: 0.5477 - accuracy: 0.6818 - val_loss: 0.5748 - val_accuracy: 0.6522\n",
      "Epoch 11/100\n",
      "1/1 [==============================] - 0s 171ms/step - loss: 0.5374 - accuracy: 0.7273 - val_loss: 0.5743 - val_accuracy: 0.6087\n",
      "Epoch 12/100\n",
      "1/1 [==============================] - 0s 176ms/step - loss: 0.5266 - accuracy: 0.7500 - val_loss: 0.5751 - val_accuracy: 0.6087\n",
      "Epoch 13/100\n",
      "1/1 [==============================] - 0s 180ms/step - loss: 0.5156 - accuracy: 0.7500 - val_loss: 0.5740 - val_accuracy: 0.5652\n",
      "Epoch 14/100\n",
      "1/1 [==============================] - 0s 180ms/step - loss: 0.5049 - accuracy: 0.7614 - val_loss: 0.5656 - val_accuracy: 0.6522\n",
      "Epoch 15/100\n",
      "1/1 [==============================] - 0s 214ms/step - loss: 0.4938 - accuracy: 0.7727 - val_loss: 0.5547 - val_accuracy: 0.6957\n",
      "Epoch 16/100\n",
      "1/1 [==============================] - 0s 172ms/step - loss: 0.4825 - accuracy: 0.7841 - val_loss: 0.5455 - val_accuracy: 0.6957\n",
      "Epoch 17/100\n",
      "1/1 [==============================] - 0s 173ms/step - loss: 0.4704 - accuracy: 0.7727 - val_loss: 0.5367 - val_accuracy: 0.6957\n",
      "Epoch 18/100\n",
      "1/1 [==============================] - 0s 171ms/step - loss: 0.4587 - accuracy: 0.7727 - val_loss: 0.5275 - val_accuracy: 0.6957\n",
      "Epoch 19/100\n",
      "1/1 [==============================] - 0s 178ms/step - loss: 0.4458 - accuracy: 0.7841 - val_loss: 0.5207 - val_accuracy: 0.6522\n",
      "Epoch 20/100\n",
      "1/1 [==============================] - 0s 168ms/step - loss: 0.4323 - accuracy: 0.7841 - val_loss: 0.5144 - val_accuracy: 0.6522\n",
      "Epoch 21/100\n",
      "1/1 [==============================] - 0s 170ms/step - loss: 0.4197 - accuracy: 0.7727 - val_loss: 0.4965 - val_accuracy: 0.6957\n",
      "Epoch 22/100\n",
      "1/1 [==============================] - 0s 172ms/step - loss: 0.4079 - accuracy: 0.8409 - val_loss: 0.4847 - val_accuracy: 0.6957\n",
      "Epoch 23/100\n",
      "1/1 [==============================] - 0s 188ms/step - loss: 0.3941 - accuracy: 0.8864 - val_loss: 0.4860 - val_accuracy: 0.6957\n",
      "Epoch 24/100\n",
      "1/1 [==============================] - 0s 168ms/step - loss: 0.3832 - accuracy: 0.8182 - val_loss: 0.4741 - val_accuracy: 0.6957\n",
      "Epoch 25/100\n",
      "1/1 [==============================] - 0s 169ms/step - loss: 0.3670 - accuracy: 0.8977 - val_loss: 0.4656 - val_accuracy: 0.6522\n",
      "Epoch 26/100\n",
      "1/1 [==============================] - 0s 170ms/step - loss: 0.3570 - accuracy: 0.8977 - val_loss: 0.4594 - val_accuracy: 0.6957\n",
      "Epoch 27/100\n",
      "1/1 [==============================] - 0s 169ms/step - loss: 0.3435 - accuracy: 0.8977 - val_loss: 0.4545 - val_accuracy: 0.6957\n",
      "Epoch 28/100\n",
      "1/1 [==============================] - 0s 167ms/step - loss: 0.3284 - accuracy: 0.9091 - val_loss: 0.4488 - val_accuracy: 0.6522\n",
      "Epoch 29/100\n",
      "1/1 [==============================] - 0s 170ms/step - loss: 0.3166 - accuracy: 0.9205 - val_loss: 0.4326 - val_accuracy: 0.6957\n",
      "Epoch 30/100\n",
      "1/1 [==============================] - 0s 171ms/step - loss: 0.3053 - accuracy: 0.9205 - val_loss: 0.4602 - val_accuracy: 0.6522\n",
      "Epoch 31/100\n",
      "1/1 [==============================] - 0s 171ms/step - loss: 0.2982 - accuracy: 0.8864 - val_loss: 0.4187 - val_accuracy: 0.6957\n",
      "Epoch 32/100\n",
      "1/1 [==============================] - 0s 170ms/step - loss: 0.2892 - accuracy: 0.9091 - val_loss: 0.4178 - val_accuracy: 0.6957\n",
      "Epoch 33/100\n",
      "1/1 [==============================] - 0s 173ms/step - loss: 0.2719 - accuracy: 0.9205 - val_loss: 0.4352 - val_accuracy: 0.6087\n",
      "Epoch 34/100\n",
      "1/1 [==============================] - 0s 173ms/step - loss: 0.2582 - accuracy: 0.9432 - val_loss: 0.4268 - val_accuracy: 0.6087\n",
      "Epoch 35/100\n",
      "1/1 [==============================] - 0s 186ms/step - loss: 0.2529 - accuracy: 0.9318 - val_loss: 0.4085 - val_accuracy: 0.6522\n",
      "Epoch 36/100\n",
      "1/1 [==============================] - 0s 194ms/step - loss: 0.2371 - accuracy: 0.9318 - val_loss: 0.4129 - val_accuracy: 0.6087\n",
      "Epoch 37/100\n",
      "1/1 [==============================] - 0s 170ms/step - loss: 0.2366 - accuracy: 0.9318 - val_loss: 0.3808 - val_accuracy: 0.8696\n",
      "Epoch 38/100\n",
      "1/1 [==============================] - 0s 165ms/step - loss: 0.2170 - accuracy: 0.9318 - val_loss: 0.3711 - val_accuracy: 0.9130\n",
      "Epoch 39/100\n",
      "1/1 [==============================] - 0s 162ms/step - loss: 0.2150 - accuracy: 0.9659 - val_loss: 0.3992 - val_accuracy: 0.6087\n",
      "Epoch 40/100\n",
      "1/1 [==============================] - 0s 164ms/step - loss: 0.2016 - accuracy: 0.9659 - val_loss: 0.4222 - val_accuracy: 0.6087\n",
      "Epoch 41/100\n",
      "1/1 [==============================] - 0s 163ms/step - loss: 0.1926 - accuracy: 0.9545 - val_loss: 0.3902 - val_accuracy: 0.7391\n",
      "Epoch 42/100\n",
      "1/1 [==============================] - 0s 160ms/step - loss: 0.1849 - accuracy: 0.9432 - val_loss: 0.3886 - val_accuracy: 0.7391\n",
      "Epoch 43/100\n",
      "1/1 [==============================] - 0s 160ms/step - loss: 0.1732 - accuracy: 0.9659 - val_loss: 0.4095 - val_accuracy: 0.6957\n",
      "Epoch 44/100\n",
      "1/1 [==============================] - 0s 160ms/step - loss: 0.1664 - accuracy: 0.9659 - val_loss: 0.4021 - val_accuracy: 0.6957\n",
      "Epoch 45/100\n",
      "1/1 [==============================] - 0s 163ms/step - loss: 0.1620 - accuracy: 0.9773 - val_loss: 0.4041 - val_accuracy: 0.6957\n",
      "Epoch 46/100\n",
      "1/1 [==============================] - 0s 162ms/step - loss: 0.1599 - accuracy: 0.9773 - val_loss: 0.4154 - val_accuracy: 0.7391\n",
      "Epoch 47/100\n",
      "1/1 [==============================] - 0s 161ms/step - loss: 0.1493 - accuracy: 0.9659 - val_loss: 0.4197 - val_accuracy: 0.6957\n",
      "Epoch 48/100\n",
      "1/1 [==============================] - 0s 162ms/step - loss: 0.1396 - accuracy: 0.9886 - val_loss: 0.4078 - val_accuracy: 0.7391\n",
      "Epoch 49/100\n",
      "1/1 [==============================] - 0s 160ms/step - loss: 0.1376 - accuracy: 0.9773 - val_loss: 0.3883 - val_accuracy: 0.7391\n",
      "Epoch 50/100\n",
      "1/1 [==============================] - 0s 163ms/step - loss: 0.1266 - accuracy: 1.0000 - val_loss: 0.5260 - val_accuracy: 0.5652\n",
      "Epoch 51/100\n",
      "1/1 [==============================] - 0s 163ms/step - loss: 0.2209 - accuracy: 0.8182 - val_loss: 0.4089 - val_accuracy: 0.6957\n",
      "Epoch 52/100\n",
      "1/1 [==============================] - 0s 161ms/step - loss: 0.1603 - accuracy: 0.9432 - val_loss: 0.3867 - val_accuracy: 0.7826\n",
      "Epoch 53/100\n",
      "1/1 [==============================] - 0s 164ms/step - loss: 0.1620 - accuracy: 0.9659 - val_loss: 0.4594 - val_accuracy: 0.6957\n",
      "Epoch 54/100\n",
      "1/1 [==============================] - 0s 163ms/step - loss: 0.1206 - accuracy: 0.9659 - val_loss: 0.5963 - val_accuracy: 0.5652\n",
      "Epoch 55/100\n",
      "1/1 [==============================] - 0s 164ms/step - loss: 0.1523 - accuracy: 0.9318 - val_loss: 0.4426 - val_accuracy: 0.6957\n",
      "Epoch 56/100\n",
      "1/1 [==============================] - 0s 163ms/step - loss: 0.1178 - accuracy: 0.9773 - val_loss: 0.4041 - val_accuracy: 0.7391\n",
      "Epoch 57/100\n",
      "1/1 [==============================] - 0s 162ms/step - loss: 0.1368 - accuracy: 0.9659 - val_loss: 0.4067 - val_accuracy: 0.7391\n",
      "Epoch 58/100\n",
      "1/1 [==============================] - 0s 163ms/step - loss: 0.1385 - accuracy: 0.9659 - val_loss: 0.4400 - val_accuracy: 0.6957\n",
      "Epoch 59/100\n",
      "1/1 [==============================] - 0s 163ms/step - loss: 0.1247 - accuracy: 0.9773 - val_loss: 0.4567 - val_accuracy: 0.6957\n",
      "Epoch 60/100\n",
      "1/1 [==============================] - 0s 167ms/step - loss: 0.1044 - accuracy: 0.9886 - val_loss: 0.4953 - val_accuracy: 0.6522\n",
      "Epoch 61/100\n",
      "1/1 [==============================] - 0s 164ms/step - loss: 0.1028 - accuracy: 0.9886 - val_loss: 0.5255 - val_accuracy: 0.5652\n",
      "Epoch 62/100\n",
      "1/1 [==============================] - 0s 162ms/step - loss: 0.1176 - accuracy: 0.9773 - val_loss: 0.4659 - val_accuracy: 0.7391\n",
      "Epoch 63/100\n",
      "1/1 [==============================] - 0s 163ms/step - loss: 0.0948 - accuracy: 0.9773 - val_loss: 0.3869 - val_accuracy: 0.7826\n",
      "Epoch 64/100\n",
      "1/1 [==============================] - 0s 169ms/step - loss: 0.0988 - accuracy: 0.9773 - val_loss: 0.3818 - val_accuracy: 0.7826\n",
      "Epoch 65/100\n",
      "1/1 [==============================] - 0s 160ms/step - loss: 0.0969 - accuracy: 1.0000 - val_loss: 0.3860 - val_accuracy: 0.7391\n",
      "Epoch 66/100\n",
      "1/1 [==============================] - 0s 167ms/step - loss: 0.0816 - accuracy: 1.0000 - val_loss: 0.4419 - val_accuracy: 0.7391\n",
      "Epoch 67/100\n",
      "1/1 [==============================] - 0s 165ms/step - loss: 0.0760 - accuracy: 1.0000 - val_loss: 0.5315 - val_accuracy: 0.6522\n",
      "Epoch 68/100\n",
      "1/1 [==============================] - 0s 169ms/step - loss: 0.0799 - accuracy: 0.9886 - val_loss: 0.5531 - val_accuracy: 0.6522\n",
      "Epoch 69/100\n",
      "1/1 [==============================] - 0s 161ms/step - loss: 0.0779 - accuracy: 1.0000 - val_loss: 0.4766 - val_accuracy: 0.7391\n",
      "Epoch 70/100\n",
      "1/1 [==============================] - 0s 162ms/step - loss: 0.0689 - accuracy: 1.0000 - val_loss: 0.4457 - val_accuracy: 0.7391\n",
      "Epoch 71/100\n",
      "1/1 [==============================] - 0s 159ms/step - loss: 0.0651 - accuracy: 1.0000 - val_loss: 0.4238 - val_accuracy: 0.7391\n",
      "Epoch 72/100\n",
      "1/1 [==============================] - 0s 163ms/step - loss: 0.0654 - accuracy: 1.0000 - val_loss: 0.4009 - val_accuracy: 0.7391\n",
      "Epoch 73/100\n",
      "1/1 [==============================] - 0s 162ms/step - loss: 0.0627 - accuracy: 1.0000 - val_loss: 0.3977 - val_accuracy: 0.7391\n",
      "Epoch 74/100\n",
      "1/1 [==============================] - 0s 198ms/step - loss: 0.0593 - accuracy: 1.0000 - val_loss: 0.4130 - val_accuracy: 0.7391\n",
      "Epoch 75/100\n",
      "1/1 [==============================] - 0s 190ms/step - loss: 0.0553 - accuracy: 1.0000 - val_loss: 0.4490 - val_accuracy: 0.7391\n",
      "Epoch 76/100\n",
      "1/1 [==============================] - 0s 163ms/step - loss: 0.0530 - accuracy: 1.0000 - val_loss: 0.4840 - val_accuracy: 0.7391\n",
      "Epoch 77/100\n",
      "1/1 [==============================] - 0s 163ms/step - loss: 0.0525 - accuracy: 1.0000 - val_loss: 0.5111 - val_accuracy: 0.7391\n",
      "Epoch 78/100\n",
      "1/1 [==============================] - 0s 164ms/step - loss: 0.0517 - accuracy: 0.9886 - val_loss: 0.5230 - val_accuracy: 0.7391\n",
      "Epoch 79/100\n",
      "1/1 [==============================] - 0s 164ms/step - loss: 0.0501 - accuracy: 1.0000 - val_loss: 0.5089 - val_accuracy: 0.7391\n",
      "Epoch 80/100\n",
      "1/1 [==============================] - 0s 164ms/step - loss: 0.0471 - accuracy: 1.0000 - val_loss: 0.4900 - val_accuracy: 0.7391\n",
      "Epoch 81/100\n",
      "1/1 [==============================] - 0s 163ms/step - loss: 0.0451 - accuracy: 1.0000 - val_loss: 0.4841 - val_accuracy: 0.7391\n",
      "Epoch 82/100\n",
      "1/1 [==============================] - 0s 163ms/step - loss: 0.0434 - accuracy: 1.0000 - val_loss: 0.4790 - val_accuracy: 0.7391\n",
      "Epoch 83/100\n",
      "1/1 [==============================] - 0s 163ms/step - loss: 0.0424 - accuracy: 1.0000 - val_loss: 0.4877 - val_accuracy: 0.7391\n",
      "Epoch 84/100\n",
      "1/1 [==============================] - 0s 165ms/step - loss: 0.0410 - accuracy: 1.0000 - val_loss: 0.5034 - val_accuracy: 0.7391\n",
      "Epoch 85/100\n",
      "1/1 [==============================] - 0s 162ms/step - loss: 0.0394 - accuracy: 1.0000 - val_loss: 0.5262 - val_accuracy: 0.7391\n",
      "Epoch 86/100\n",
      "1/1 [==============================] - 0s 160ms/step - loss: 0.0381 - accuracy: 1.0000 - val_loss: 0.5587 - val_accuracy: 0.7391\n",
      "Epoch 87/100\n",
      "1/1 [==============================] - 0s 161ms/step - loss: 0.0365 - accuracy: 1.0000 - val_loss: 0.5986 - val_accuracy: 0.7391\n",
      "Epoch 88/100\n",
      "1/1 [==============================] - 0s 187ms/step - loss: 0.0369 - accuracy: 1.0000 - val_loss: 0.5439 - val_accuracy: 0.6957\n",
      "Epoch 89/100\n",
      "1/1 [==============================] - 0s 168ms/step - loss: 0.0429 - accuracy: 1.0000 - val_loss: 0.5913 - val_accuracy: 0.6522\n",
      "Epoch 90/100\n",
      "1/1 [==============================] - 0s 169ms/step - loss: 0.0371 - accuracy: 1.0000 - val_loss: 0.6032 - val_accuracy: 0.6957\n",
      "Epoch 91/100\n",
      "1/1 [==============================] - 0s 164ms/step - loss: 0.0400 - accuracy: 0.9886 - val_loss: 0.5656 - val_accuracy: 0.7391\n",
      "Epoch 92/100\n",
      "1/1 [==============================] - 0s 167ms/step - loss: 0.0358 - accuracy: 0.9886 - val_loss: 0.5479 - val_accuracy: 0.7391\n",
      "Epoch 93/100\n",
      "1/1 [==============================] - 0s 169ms/step - loss: 0.0318 - accuracy: 1.0000 - val_loss: 0.5257 - val_accuracy: 0.7391\n",
      "Epoch 94/100\n",
      "1/1 [==============================] - 0s 165ms/step - loss: 0.0346 - accuracy: 0.9886 - val_loss: 0.5725 - val_accuracy: 0.7391\n",
      "Epoch 95/100\n",
      "1/1 [==============================] - 0s 166ms/step - loss: 0.0323 - accuracy: 0.9886 - val_loss: 0.6037 - val_accuracy: 0.7391\n",
      "Epoch 96/100\n",
      "1/1 [==============================] - 0s 166ms/step - loss: 0.0303 - accuracy: 1.0000 - val_loss: 0.6430 - val_accuracy: 0.7391\n",
      "Epoch 97/100\n",
      "1/1 [==============================] - 0s 165ms/step - loss: 0.0286 - accuracy: 1.0000 - val_loss: 0.6367 - val_accuracy: 0.7391\n",
      "Epoch 98/100\n",
      "1/1 [==============================] - 0s 163ms/step - loss: 0.0281 - accuracy: 1.0000 - val_loss: 0.6373 - val_accuracy: 0.7391\n",
      "Epoch 99/100\n",
      "1/1 [==============================] - 0s 164ms/step - loss: 0.0272 - accuracy: 1.0000 - val_loss: 0.6316 - val_accuracy: 0.7391\n",
      "Epoch 100/100\n",
      "1/1 [==============================] - 0s 162ms/step - loss: 0.0262 - accuracy: 1.0000 - val_loss: 0.6248 - val_accuracy: 0.7391\n"
     ]
    }
   ],
   "source": [
    "print('Training model...')\n",
    "r = model.fit(\n",
    "  data,\n",
    "  targets,\n",
    "  batch_size=BATCH_SIZE,\n",
    "  epochs=EPOCHS,\n",
    "  validation_split=VALIDATION_SPLIT\n",
    ")"
   ]
  },
  {
   "cell_type": "code",
   "execution_count": 135,
   "id": "b3ad1df1-8ae0-4eba-bfd8-9b454faa3dee",
   "metadata": {
    "tags": []
   },
   "outputs": [
    {
     "data": {
      "image/png": "[encoded data removed]",
      "text/plain": [
       "<Figure size 640x480 with 1 Axes>"
      ]
     },
     "metadata": {},
     "output_type": "display_data"
    }
   ],
   "source": [
    "# plot some data\n",
    "plt.plot(r.history['loss'], label='loss')\n",
    "plt.plot(r.history['val_loss'], label='val_loss')\n",
    "plt.legend()\n",
    "plt.show()"
   ]
  },
  {
   "cell_type": "code",
   "execution_count": 136,
   "id": "e767af5d-ee2e-4879-9775-60ba393f911f",
   "metadata": {
    "tags": []
   },
   "outputs": [
    {
     "data": {
      "image/png": "[encoded data removed]",
      "text/plain": [
       "<Figure size 640x480 with 1 Axes>"
      ]
     },
     "metadata": {},
     "output_type": "display_data"
    }
   ],
   "source": [
    "# accuracies\n",
    "plt.plot(r.history['accuracy'], label='acc')\n",
    "plt.plot(r.history['val_accuracy'], label='val_acc')\n",
    "plt.legend()\n",
    "plt.show()"
   ]
  },
  {
   "cell_type": "code",
   "execution_count": 147,
   "id": "4681bb29-41c2-4723-8c68-cf6ae72b8261",
   "metadata": {
    "tags": []
   },
   "outputs": [
    {
     "name": "stdout",
     "output_type": "stream",
     "text": [
      "Epoch 1/40\n",
      "1/1 [==============================] - 0s 221ms/step - loss: 0.0250 - accuracy: 1.0000 - val_loss: 0.6175 - val_accuracy: 0.7391\n",
      "Epoch 2/40\n",
      "1/1 [==============================] - 0s 193ms/step - loss: 0.0235 - accuracy: 1.0000 - val_loss: 0.6009 - val_accuracy: 0.7391\n",
      "Epoch 3/40\n",
      "1/1 [==============================] - 0s 192ms/step - loss: 0.0230 - accuracy: 1.0000 - val_loss: 0.5948 - val_accuracy: 0.7391\n",
      "Epoch 4/40\n",
      "1/1 [==============================] - 0s 192ms/step - loss: 0.0221 - accuracy: 1.0000 - val_loss: 0.5944 - val_accuracy: 0.7391\n",
      "Epoch 5/40\n",
      "1/1 [==============================] - 0s 192ms/step - loss: 0.0215 - accuracy: 1.0000 - val_loss: 0.6035 - val_accuracy: 0.7391\n",
      "Epoch 6/40\n",
      "1/1 [==============================] - 0s 198ms/step - loss: 0.0205 - accuracy: 1.0000 - val_loss: 0.6165 - val_accuracy: 0.7391\n",
      "Epoch 7/40\n",
      "1/1 [==============================] - 0s 196ms/step - loss: 0.0202 - accuracy: 1.0000 - val_loss: 0.6196 - val_accuracy: 0.7391\n",
      "Epoch 8/40\n",
      "1/1 [==============================] - 0s 194ms/step - loss: 0.0190 - accuracy: 1.0000 - val_loss: 0.6271 - val_accuracy: 0.7391\n",
      "Epoch 9/40\n",
      "1/1 [==============================] - 0s 194ms/step - loss: 0.0192 - accuracy: 1.0000 - val_loss: 0.6595 - val_accuracy: 0.6957\n",
      "Epoch 10/40\n",
      "1/1 [==============================] - 0s 196ms/step - loss: 0.0182 - accuracy: 1.0000 - val_loss: 0.6663 - val_accuracy: 0.6957\n",
      "Epoch 11/40\n",
      "1/1 [==============================] - 0s 195ms/step - loss: 0.0178 - accuracy: 1.0000 - val_loss: 0.6754 - val_accuracy: 0.6957\n",
      "Epoch 12/40\n",
      "1/1 [==============================] - 0s 196ms/step - loss: 0.0172 - accuracy: 1.0000 - val_loss: 0.6856 - val_accuracy: 0.6957\n",
      "Epoch 13/40\n",
      "1/1 [==============================] - 0s 195ms/step - loss: 0.0163 - accuracy: 1.0000 - val_loss: 0.6923 - val_accuracy: 0.6957\n",
      "Epoch 14/40\n",
      "1/1 [==============================] - 0s 200ms/step - loss: 0.0161 - accuracy: 1.0000 - val_loss: 0.6944 - val_accuracy: 0.6957\n",
      "Epoch 15/40\n",
      "1/1 [==============================] - 0s 193ms/step - loss: 0.0156 - accuracy: 1.0000 - val_loss: 0.6956 - val_accuracy: 0.6957\n",
      "Epoch 16/40\n",
      "1/1 [==============================] - 0s 192ms/step - loss: 0.0150 - accuracy: 1.0000 - val_loss: 0.6955 - val_accuracy: 0.6957\n",
      "Epoch 17/40\n",
      "1/1 [==============================] - 0s 204ms/step - loss: 0.0146 - accuracy: 1.0000 - val_loss: 0.6866 - val_accuracy: 0.6957\n",
      "Epoch 18/40\n",
      "1/1 [==============================] - 0s 192ms/step - loss: 0.0141 - accuracy: 1.0000 - val_loss: 0.6846 - val_accuracy: 0.6957\n",
      "Epoch 19/40\n",
      "1/1 [==============================] - 0s 191ms/step - loss: 0.0139 - accuracy: 1.0000 - val_loss: 0.6862 - val_accuracy: 0.6957\n",
      "Epoch 20/40\n",
      "1/1 [==============================] - 0s 193ms/step - loss: 0.0136 - accuracy: 1.0000 - val_loss: 0.6899 - val_accuracy: 0.6957\n",
      "Epoch 21/40\n",
      "1/1 [==============================] - 0s 195ms/step - loss: 0.0132 - accuracy: 1.0000 - val_loss: 0.6966 - val_accuracy: 0.6957\n",
      "Epoch 22/40\n",
      "1/1 [==============================] - 0s 192ms/step - loss: 0.0127 - accuracy: 1.0000 - val_loss: 0.7093 - val_accuracy: 0.6957\n",
      "Epoch 23/40\n",
      "1/1 [==============================] - 0s 200ms/step - loss: 0.0124 - accuracy: 1.0000 - val_loss: 0.7137 - val_accuracy: 0.6957\n",
      "Epoch 24/40\n",
      "1/1 [==============================] - 0s 195ms/step - loss: 0.0121 - accuracy: 1.0000 - val_loss: 0.7147 - val_accuracy: 0.6957\n",
      "Epoch 25/40\n",
      "1/1 [==============================] - 0s 196ms/step - loss: 0.0118 - accuracy: 1.0000 - val_loss: 0.7192 - val_accuracy: 0.6957\n",
      "Epoch 26/40\n",
      "1/1 [==============================] - 0s 195ms/step - loss: 0.0116 - accuracy: 1.0000 - val_loss: 0.7250 - val_accuracy: 0.6957\n",
      "Epoch 27/40\n",
      "1/1 [==============================] - 0s 199ms/step - loss: 0.0113 - accuracy: 1.0000 - val_loss: 0.7310 - val_accuracy: 0.6957\n",
      "Epoch 28/40\n",
      "1/1 [==============================] - 0s 199ms/step - loss: 0.0110 - accuracy: 1.0000 - val_loss: 0.7339 - val_accuracy: 0.6957\n",
      "Epoch 29/40\n",
      "1/1 [==============================] - 0s 197ms/step - loss: 0.0108 - accuracy: 1.0000 - val_loss: 0.7347 - val_accuracy: 0.6957\n",
      "Epoch 30/40\n",
      "1/1 [==============================] - 0s 193ms/step - loss: 0.0105 - accuracy: 1.0000 - val_loss: 0.7363 - val_accuracy: 0.6957\n",
      "Epoch 31/40\n",
      "1/1 [==============================] - 0s 195ms/step - loss: 0.0103 - accuracy: 1.0000 - val_loss: 0.7382 - val_accuracy: 0.6957\n",
      "Epoch 32/40\n",
      "1/1 [==============================] - 0s 194ms/step - loss: 0.0101 - accuracy: 1.0000 - val_loss: 0.7403 - val_accuracy: 0.6957\n",
      "Epoch 33/40\n",
      "1/1 [==============================] - 0s 195ms/step - loss: 0.0099 - accuracy: 1.0000 - val_loss: 0.7424 - val_accuracy: 0.6957\n",
      "Epoch 34/40\n",
      "1/1 [==============================] - 0s 198ms/step - loss: 0.0097 - accuracy: 1.0000 - val_loss: 0.7445 - val_accuracy: 0.6957\n",
      "Epoch 35/40\n",
      "1/1 [==============================] - 0s 193ms/step - loss: 0.0095 - accuracy: 1.0000 - val_loss: 0.7467 - val_accuracy: 0.6957\n",
      "Epoch 36/40\n",
      "1/1 [==============================] - 0s 198ms/step - loss: 0.0093 - accuracy: 1.0000 - val_loss: 0.7493 - val_accuracy: 0.6957\n",
      "Epoch 37/40\n",
      "1/1 [==============================] - 0s 201ms/step - loss: 0.0091 - accuracy: 1.0000 - val_loss: 0.7514 - val_accuracy: 0.6957\n",
      "Epoch 38/40\n",
      "1/1 [==============================] - 0s 195ms/step - loss: 0.0089 - accuracy: 1.0000 - val_loss: 0.7533 - val_accuracy: 0.6957\n",
      "Epoch 39/40\n",
      "1/1 [==============================] - 0s 193ms/step - loss: 0.0087 - accuracy: 1.0000 - val_loss: 0.7552 - val_accuracy: 0.6957\n",
      "Epoch 40/40\n",
      "1/1 [==============================] - 0s 200ms/step - loss: 0.0085 - accuracy: 1.0000 - val_loss: 0.7569 - val_accuracy: 0.6957\n"
     ]
    }
   ],
   "source": [
    "EPOCHS = 40\n",
    "\n",
    "r = model.fit(\n",
    "  data,\n",
    "  targets,\n",
    "  batch_size=BATCH_SIZE,\n",
    "  epochs=EPOCHS,\n",
    "  validation_split=VALIDATION_SPLIT\n",
    ")"
   ]
  },
  {
   "cell_type": "code",
   "execution_count": null,
   "id": "a9c3feeb-7a47-423f-9144-91699f35c999",
   "metadata": {},
   "outputs": [],
   "source": []
  },
  {
   "cell_type": "code",
   "execution_count": 148,
   "id": "acadb07f-0519-4d37-808c-08acd904ddb7",
   "metadata": {
    "tags": []
   },
   "outputs": [
    {
     "name": "stdout",
     "output_type": "stream",
     "text": [
      "4/4 [==============================] - 0s 30ms/step\n",
      "0.9799875215625562\n"
     ]
    }
   ],
   "source": [
    "p = model.predict(data)\n",
    "aucs = []\n",
    "for j in range(3):\n",
    "    auc = roc_auc_score(targets[:,j], p[:,j])\n",
    "    aucs.append(auc)\n",
    "print(np.mean(aucs))"
   ]
  },
  {
   "cell_type": "code",
   "execution_count": null,
   "id": "bf5b2acd-67a5-4cff-a706-77ceb832ef4c",
   "metadata": {},
   "outputs": [],
   "source": []
  },
  {
   "cell_type": "code",
   "execution_count": 149,
   "id": "d3a26767-96a4-4dfd-9769-89079b62db36",
   "metadata": {
    "tags": []
   },
   "outputs": [],
   "source": [
    "sentences_test = X_test['text'].fillna(\"DUMMY_VALUE\").values"
   ]
  },
  {
   "cell_type": "code",
   "execution_count": 150,
   "id": "aaabea3a-49e6-4fdb-829b-65240064ad50",
   "metadata": {
    "tags": []
   },
   "outputs": [],
   "source": [
    "# convert the sentences (strings) into integers\n",
    "tokenizer = Tokenizer(num_words=MAX_VOCAB_SIZE)\n",
    "tokenizer.fit_on_texts(sentences_test)\n",
    "sequences_test = tokenizer.texts_to_sequences(sentences_test)"
   ]
  },
  {
   "cell_type": "code",
   "execution_count": 151,
   "id": "e0dac109-eb3a-4797-810e-af294b4fdf0f",
   "metadata": {
    "tags": []
   },
   "outputs": [
    {
     "name": "stdout",
     "output_type": "stream",
     "text": [
      "Found 963 unique tokens.\n"
     ]
    }
   ],
   "source": [
    "# get word -> integer mapping\n",
    "word2idx = tokenizer.word_index\n",
    "print('Found %s unique tokens.' % len(word2idx))"
   ]
  },
  {
   "cell_type": "code",
   "execution_count": 152,
   "id": "4c4f60e7-f50f-4c4e-8a57-6c91a8d9597f",
   "metadata": {
    "tags": []
   },
   "outputs": [
    {
     "name": "stdout",
     "output_type": "stream",
     "text": [
      "Shape of data tensor: (28, 600)\n"
     ]
    }
   ],
   "source": [
    "# pad sequences so that we get a N x T matrix\n",
    "data_test = tf.keras.utils.pad_sequences(sequences_test, maxlen=MAX_SEQUENCE_LENGTH)\n",
    "print('Shape of data tensor:', data_test.shape)"
   ]
  },
  {
   "cell_type": "code",
   "execution_count": null,
   "id": "c0269718-441b-4589-b285-2bf04e20a811",
   "metadata": {},
   "outputs": [],
   "source": []
  },
  {
   "cell_type": "code",
   "execution_count": 153,
   "id": "7932f5fe-a1cb-48f2-b816-dc4d77bcd2bb",
   "metadata": {
    "tags": []
   },
   "outputs": [
    {
     "name": "stdout",
     "output_type": "stream",
     "text": [
      "1/1 [==============================] - 0s 40ms/step\n"
     ]
    }
   ],
   "source": [
    "p = model.predict(data_test)"
   ]
  },
  {
   "cell_type": "code",
   "execution_count": 154,
   "id": "ffd0378e-12c7-4397-bf69-165daf2e177d",
   "metadata": {
    "tags": []
   },
   "outputs": [],
   "source": [
    "results = np.argmax(p, axis=1)"
   ]
  },
  {
   "cell_type": "code",
   "execution_count": 155,
   "id": "b5ddef1e-cb26-4397-8421-6da04fc2cd07",
   "metadata": {
    "tags": []
   },
   "outputs": [],
   "source": [
    "label = y_test.values"
   ]
  },
  {
   "cell_type": "code",
   "execution_count": 156,
   "id": "73a6effb-fbe9-449c-97bd-e56b40a9c4a9",
   "metadata": {
    "tags": []
   },
   "outputs": [],
   "source": [
    "df = pd.DataFrame({'Label': label, 'Result': results})"
   ]
  },
  {
   "cell_type": "code",
   "execution_count": 157,
   "id": "7e78b88d-f001-422c-925a-c74b2199267d",
   "metadata": {
    "tags": []
   },
   "outputs": [
    {
     "data": {
      "text/html": [
       "<div>\n",
       "<style scoped>\n",
       "    .dataframe tbody tr th:only-of-type {\n",
       "        vertical-align: middle;\n",
       "    }\n",
       "\n",
       "    .dataframe tbody tr th {\n",
       "        vertical-align: top;\n",
       "    }\n",
       "\n",
       "    .dataframe thead th {\n",
       "        text-align: right;\n",
       "    }\n",
       "</style>\n",
       "<table border=\"1\" class=\"dataframe\">\n",
       "  <thead>\n",
       "    <tr style=\"text-align: right;\">\n",
       "      <th></th>\n",
       "      <th>Label</th>\n",
       "      <th>Result</th>\n",
       "    </tr>\n",
       "  </thead>\n",
       "  <tbody>\n",
       "    <tr>\n",
       "      <th>0</th>\n",
       "      <td>dovish</td>\n",
       "      <td>0</td>\n",
       "    </tr>\n",
       "    <tr>\n",
       "      <th>1</th>\n",
       "      <td>dovish</td>\n",
       "      <td>1</td>\n",
       "    </tr>\n",
       "    <tr>\n",
       "      <th>2</th>\n",
       "      <td>dovish</td>\n",
       "      <td>1</td>\n",
       "    </tr>\n",
       "    <tr>\n",
       "      <th>3</th>\n",
       "      <td>dovish</td>\n",
       "      <td>0</td>\n",
       "    </tr>\n",
       "    <tr>\n",
       "      <th>4</th>\n",
       "      <td>neutral</td>\n",
       "      <td>1</td>\n",
       "    </tr>\n",
       "    <tr>\n",
       "      <th>5</th>\n",
       "      <td>neutral</td>\n",
       "      <td>1</td>\n",
       "    </tr>\n",
       "    <tr>\n",
       "      <th>6</th>\n",
       "      <td>neutral</td>\n",
       "      <td>1</td>\n",
       "    </tr>\n",
       "    <tr>\n",
       "      <th>7</th>\n",
       "      <td>neutral</td>\n",
       "      <td>1</td>\n",
       "    </tr>\n",
       "    <tr>\n",
       "      <th>8</th>\n",
       "      <td>dovish</td>\n",
       "      <td>1</td>\n",
       "    </tr>\n",
       "    <tr>\n",
       "      <th>9</th>\n",
       "      <td>hawkish</td>\n",
       "      <td>1</td>\n",
       "    </tr>\n",
       "    <tr>\n",
       "      <th>10</th>\n",
       "      <td>hawkish</td>\n",
       "      <td>1</td>\n",
       "    </tr>\n",
       "    <tr>\n",
       "      <th>11</th>\n",
       "      <td>hawkish</td>\n",
       "      <td>1</td>\n",
       "    </tr>\n",
       "    <tr>\n",
       "      <th>12</th>\n",
       "      <td>hawkish</td>\n",
       "      <td>2</td>\n",
       "    </tr>\n",
       "    <tr>\n",
       "      <th>13</th>\n",
       "      <td>dovish</td>\n",
       "      <td>2</td>\n",
       "    </tr>\n",
       "    <tr>\n",
       "      <th>14</th>\n",
       "      <td>dovish</td>\n",
       "      <td>0</td>\n",
       "    </tr>\n",
       "    <tr>\n",
       "      <th>15</th>\n",
       "      <td>neutral</td>\n",
       "      <td>1</td>\n",
       "    </tr>\n",
       "    <tr>\n",
       "      <th>16</th>\n",
       "      <td>neutral</td>\n",
       "      <td>0</td>\n",
       "    </tr>\n",
       "    <tr>\n",
       "      <th>17</th>\n",
       "      <td>neutral</td>\n",
       "      <td>1</td>\n",
       "    </tr>\n",
       "    <tr>\n",
       "      <th>18</th>\n",
       "      <td>dovish</td>\n",
       "      <td>0</td>\n",
       "    </tr>\n",
       "    <tr>\n",
       "      <th>19</th>\n",
       "      <td>dovish</td>\n",
       "      <td>1</td>\n",
       "    </tr>\n",
       "    <tr>\n",
       "      <th>20</th>\n",
       "      <td>hawkish</td>\n",
       "      <td>1</td>\n",
       "    </tr>\n",
       "    <tr>\n",
       "      <th>21</th>\n",
       "      <td>dovish</td>\n",
       "      <td>1</td>\n",
       "    </tr>\n",
       "    <tr>\n",
       "      <th>22</th>\n",
       "      <td>hawkish</td>\n",
       "      <td>0</td>\n",
       "    </tr>\n",
       "    <tr>\n",
       "      <th>23</th>\n",
       "      <td>dovish</td>\n",
       "      <td>2</td>\n",
       "    </tr>\n",
       "    <tr>\n",
       "      <th>24</th>\n",
       "      <td>hawkish</td>\n",
       "      <td>1</td>\n",
       "    </tr>\n",
       "    <tr>\n",
       "      <th>25</th>\n",
       "      <td>hawkish</td>\n",
       "      <td>1</td>\n",
       "    </tr>\n",
       "    <tr>\n",
       "      <th>26</th>\n",
       "      <td>dovish</td>\n",
       "      <td>1</td>\n",
       "    </tr>\n",
       "    <tr>\n",
       "      <th>27</th>\n",
       "      <td>hawkish</td>\n",
       "      <td>2</td>\n",
       "    </tr>\n",
       "  </tbody>\n",
       "</table>\n",
       "</div>"
      ],
      "text/plain": [
       "      Label  Result\n",
       "0    dovish       0\n",
       "1    dovish       1\n",
       "2    dovish       1\n",
       "3    dovish       0\n",
       "4   neutral       1\n",
       "5   neutral       1\n",
       "6   neutral       1\n",
       "7   neutral       1\n",
       "8    dovish       1\n",
       "9   hawkish       1\n",
       "10  hawkish       1\n",
       "11  hawkish       1\n",
       "12  hawkish       2\n",
       "13   dovish       2\n",
       "14   dovish       0\n",
       "15  neutral       1\n",
       "16  neutral       0\n",
       "17  neutral       1\n",
       "18   dovish       0\n",
       "19   dovish       1\n",
       "20  hawkish       1\n",
       "21   dovish       1\n",
       "22  hawkish       0\n",
       "23   dovish       2\n",
       "24  hawkish       1\n",
       "25  hawkish       1\n",
       "26   dovish       1\n",
       "27  hawkish       2"
      ]
     },
     "execution_count": 157,
     "metadata": {},
     "output_type": "execute_result"
    }
   ],
   "source": [
    "df"
   ]
  },
  {
   "cell_type": "code",
   "execution_count": null,
   "id": "56dd19fe-5a1d-4eff-845a-29221738d119",
   "metadata": {},
   "outputs": [],
   "source": []
  }
 ],
 "metadata": {
  "kernelspec": {
   "display_name": "Python 3 (ipykernel)",
   "language": "python",
   "name": "python3"
  },
  "language_info": {
   "codemirror_mode": {
    "name": "ipython",
    "version": 3
   },
   "file_extension": ".py",
   "mimetype": "text/x-python",
   "name": "python",
   "nbconvert_exporter": "python",
   "pygments_lexer": "ipython3",
   "version": "3.11.3"
  }
 },
 "nbformat": 4,
 "nbformat_minor": 5
}

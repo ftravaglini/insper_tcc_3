{
 "cells": [
  {
   "cell_type": "markdown",
   "id": "4cb37e5f-5116-4554-a965-04c8c0e5b592",
   "metadata": {},
   "source": [
    "# Text classification - Bag of Word"
   ]
  },
  {
   "cell_type": "code",
   "execution_count": 1,
   "id": "6b609099-b0b2-4f1d-90de-8841b42c3051",
   "metadata": {
    "tags": []
   },
   "outputs": [],
   "source": [
    "from __future__ import print_function, division\n",
    "from builtins import range\n",
    "# Note: you may need to update your version of future\n",
    "# sudo pip install -U future\n",
    "\n",
    "\n",
    "import sys\n",
    "import numpy as np\n",
    "import pandas as pd\n",
    "import matplotlib.pyplot as plt\n",
    "\n",
    "from sklearn.ensemble import ExtraTreesClassifier, RandomForestClassifier\n",
    "from gensim.models import KeyedVectors"
   ]
  },
  {
   "cell_type": "code",
   "execution_count": null,
   "id": "bbb953ba-8d36-4775-880f-9539f5b2605b",
   "metadata": {},
   "outputs": [],
   "source": [
    "# data from https://www.cs.umb.edu/~smimarog/textmining/datasets/\n",
    "# alternate source: https://lazyprogrammer.me/course_files/deepnlp_classification_data.zip"
   ]
  }
 ],
 "metadata": {
  "kernelspec": {
   "display_name": "Python 3 (ipykernel)",
   "language": "python",
   "name": "python3"
  },
  "language_info": {
   "codemirror_mode": {
    "name": "ipython",
    "version": 3
   },
   "file_extension": ".py",
   "mimetype": "text/x-python",
   "name": "python",
   "nbconvert_exporter": "python",
   "pygments_lexer": "ipython3",
   "version": "3.11.3"
  }
 },
 "nbformat": 4,
 "nbformat_minor": 5
}

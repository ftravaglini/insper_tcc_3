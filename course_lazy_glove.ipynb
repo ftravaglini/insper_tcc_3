{
 "cells": [
  {
   "cell_type": "code",
   "execution_count": 1,
   "id": "d76e4af0-fc9b-4217-82e5-94d2a58e6dd6",
   "metadata": {
    "tags": []
   },
   "outputs": [],
   "source": [
    "# pip install -U future"
   ]
  },
  {
   "cell_type": "code",
   "execution_count": 3,
   "id": "2e26c21c-b8c3-45c6-bf34-1a893ace9830",
   "metadata": {
    "tags": []
   },
   "outputs": [],
   "source": [
    "from __future__ import print_function, division\n",
    "from future.utils import iteritems\n",
    "from builtins import range"
   ]
  },
  {
   "cell_type": "code",
   "execution_count": 5,
   "id": "5b600686-a73a-4842-ade1-0d4cf6f0180a",
   "metadata": {
    "tags": []
   },
   "outputs": [],
   "source": [
    "# WHERE TO GET THE VECTORS:\n",
    "# GloVe: https://nlp.stanford.edu/projects/glove/\n",
    "# Direct link: http://nlp.stanford.edu/data/glove.6B.zip"
   ]
  },
  {
   "cell_type": "code",
   "execution_count": 6,
   "id": "ffd73a2c-332c-416b-bad8-f862b2f9cab3",
   "metadata": {
    "tags": []
   },
   "outputs": [],
   "source": [
    "import numpy as np\n",
    "from sklearn.metrics.pairwise import pairwise_distances"
   ]
  },
  {
   "cell_type": "code",
   "execution_count": null,
   "id": "4dc281ee-c1d2-4669-ba5c-bd92589a0624",
   "metadata": {},
   "outputs": [],
   "source": []
  },
  {
   "cell_type": "code",
   "execution_count": 7,
   "id": "ce74e9cd-839a-4454-ba8e-bb099c837346",
   "metadata": {
    "tags": []
   },
   "outputs": [],
   "source": [
    "def dist1(a, b):\n",
    "    return np.linalg.norm(a - b)\n",
    "def dist2(a, b):\n",
    "    return 1- a.dot(b) / (np.linalg.norm(a) * np.linalg.norm(b))"
   ]
  },
  {
   "cell_type": "code",
   "execution_count": 9,
   "id": "10ecc3d4-4005-451b-9a93-ffe481d46916",
   "metadata": {
    "tags": []
   },
   "outputs": [],
   "source": [
    "dist, metric = dist2, 'cosine'\n",
    "# dist, metric = dist1, 'euclidean'"
   ]
  },
  {
   "cell_type": "code",
   "execution_count": 10,
   "id": "3b69eb73-d6f4-4ba9-8ed8-c94612f6dd4b",
   "metadata": {
    "tags": []
   },
   "outputs": [],
   "source": [
    "def find_analogies(w1, w2, w3):\n",
    "    for w in (w1, w2, w3):\n",
    "        if w not in word2vec:\n",
    "            print(\"%s not in dictionary\" % w)\n",
    "            return\n",
    "    king = word2vec[w1]\n",
    "    man = word2vec[w2]\n",
    "    woman = word2vec[w3]\n",
    "    v0 = king - man + woman\n",
    "    \n",
    "    min_dist = float('inf')\n",
    "    best_word = ''\n",
    "    for word, v1 in iteritems(word2vec):\n",
    "        if word not in (w1, w2, w3):\n",
    "            d = dist(v0, v1)\n",
    "            if d < min_dist:\n",
    "                min_dist = d\n",
    "                best_word = word\n",
    "    print(w1, \"-\", w2, \"=\", best_word, \"-\", w3)"
   ]
  },
  {
   "cell_type": "code",
   "execution_count": 11,
   "id": "9983dff2-7167-4cfb-8302-55123e9cd079",
   "metadata": {
    "tags": []
   },
   "outputs": [],
   "source": [
    "## faster\n",
    "def find_analogies(w1, w2, w3):\n",
    "  for w in (w1, w2, w3):\n",
    "    if w not in word2vec:\n",
    "      print(\"%s not in dictionary\" % w)\n",
    "      return\n",
    "\n",
    "  king = word2vec[w1]\n",
    "  man = word2vec[w2]\n",
    "  woman = word2vec[w3]\n",
    "  v0 = king - man + woman\n",
    "\n",
    "  distances = pairwise_distances(v0.reshape(1, D), embedding, metric=metric).reshape(V)\n",
    "  idxs = distances.argsort()[:4]\n",
    "  for idx in idxs:\n",
    "    word = idx2word[idx]\n",
    "    if word not in (w1, w2, w3): \n",
    "      best_word = word\n",
    "      break\n",
    "\n",
    "  print(w1, \"-\", w2, \"=\", best_word, \"-\", w3)"
   ]
  },
  {
   "cell_type": "code",
   "execution_count": 12,
   "id": "be26b284-c6de-409a-99ae-4fcb26153bdb",
   "metadata": {
    "tags": []
   },
   "outputs": [],
   "source": [
    "def nearest_neighbors(w, n=5):\n",
    "  if w not in word2vec:\n",
    "    print(\"%s not in dictionary:\" % w)\n",
    "    return\n",
    "\n",
    "  v = word2vec[w]\n",
    "  distances = pairwise_distances(v.reshape(1, D), embedding, metric=metric).reshape(V)\n",
    "  idxs = distances.argsort()[1:n+1]\n",
    "  print(\"neighbors of: %s\" % w)\n",
    "  for idx in idxs:\n",
    "    print(\"\\t%s\" % idx2word[idx])\n"
   ]
  },
  {
   "cell_type": "code",
   "execution_count": 15,
   "id": "29d80cf3-abad-462e-8b91-232d014d9212",
   "metadata": {
    "tags": []
   },
   "outputs": [
    {
     "name": "stdout",
     "output_type": "stream",
     "text": [
      "Loading word vectors...\n",
      "Found 400000 word vectors.\n"
     ]
    }
   ],
   "source": [
    "# load in pre-trained word vectors\n",
    "print('Loading word vectors...')\n",
    "word2vec = {}\n",
    "embedding = []\n",
    "idx2word = []\n",
    "with open('glove.6B/glove.6B.50d.txt', encoding='utf-8') as f:\n",
    "  # is just a space-separated text file in the format:\n",
    "  # word vec[0] vec[1] vec[2] ...\n",
    "  for line in f:\n",
    "    values = line.split()\n",
    "    word = values[0]\n",
    "    vec = np.asarray(values[1:], dtype='float32')\n",
    "    word2vec[word] = vec\n",
    "    embedding.append(vec)\n",
    "    idx2word.append(word)\n",
    "print('Found %s word vectors.' % len(word2vec))\n",
    "embedding = np.array(embedding)\n",
    "V, D = embedding.shape"
   ]
  },
  {
   "cell_type": "code",
   "execution_count": 21,
   "id": "ae7bcc7c-2dcd-44de-977e-bafea68d3014",
   "metadata": {
    "tags": []
   },
   "outputs": [
    {
     "name": "stdout",
     "output_type": "stream",
     "text": [
      "king - man = queen - woman\n"
     ]
    }
   ],
   "source": [
    "find_analogies('king', 'man', 'woman')"
   ]
  },
  {
   "cell_type": "code",
   "execution_count": 17,
   "id": "8b65575e-77f3-4f15-be5a-e956e23bc7e2",
   "metadata": {
    "tags": []
   },
   "outputs": [
    {
     "name": "stdout",
     "output_type": "stream",
     "text": [
      "france - paris = britain - london\n"
     ]
    }
   ],
   "source": [
    "find_analogies('france', 'paris', 'london')"
   ]
  },
  {
   "cell_type": "code",
   "execution_count": 18,
   "id": "a730c3b9-c62d-4616-b822-6a0a06268589",
   "metadata": {
    "tags": []
   },
   "outputs": [
    {
     "name": "stdout",
     "output_type": "stream",
     "text": [
      "neighbors of: king\n",
      "\tprince\n",
      "\tqueen\n",
      "\tii\n",
      "\temperor\n",
      "\tson\n"
     ]
    }
   ],
   "source": [
    "nearest_neighbors('king')"
   ]
  },
  {
   "cell_type": "code",
   "execution_count": 19,
   "id": "42b4ec4f-003d-44da-8414-a3fc8f6e7069",
   "metadata": {
    "tags": []
   },
   "outputs": [
    {
     "name": "stdout",
     "output_type": "stream",
     "text": [
      "neighbors of: france\n",
      "\tfrench\n",
      "\tbelgium\n",
      "\tparis\n",
      "\tspain\n",
      "\tnetherlands\n"
     ]
    }
   ],
   "source": [
    "nearest_neighbors('france')"
   ]
  },
  {
   "cell_type": "code",
   "execution_count": 26,
   "id": "cde91705-2de8-43d4-902c-c230be57ee6a",
   "metadata": {
    "tags": []
   },
   "outputs": [
    {
     "name": "stdout",
     "output_type": "stream",
     "text": [
      "neighbors of: fed\n",
      "\trates\n",
      "\tinflation\n",
      "\tlikely\n",
      "\tgreenspan\n",
      "\tpolicymakers\n"
     ]
    }
   ],
   "source": [
    "nearest_neighbors('fed')"
   ]
  },
  {
   "cell_type": "code",
   "execution_count": 28,
   "id": "c15fec90-15c5-463a-9c11-9ea063f0231c",
   "metadata": {
    "tags": []
   },
   "outputs": [
    {
     "name": "stdout",
     "output_type": "stream",
     "text": [
      "Looking in indexes: https://pypi.org/simple, https://pypi.ngc.nvidia.com\n",
      "Collecting gensim\n",
      "  Downloading gensim-4.3.1-cp311-cp311-win_amd64.whl (23.9 MB)\n",
      "                                              0.0/23.9 MB ? eta -:--:--\n",
      "     -                                        0.9/23.9 MB 29.1 MB/s eta 0:00:01\n",
      "     ---------                                5.9/23.9 MB 75.9 MB/s eta 0:00:01\n",
      "     ------------------                     11.5/23.9 MB 108.8 MB/s eta 0:00:01\n",
      "     -----------------------                14.7/23.9 MB 110.0 MB/s eta 0:00:01\n",
      "     --------------------------              16.3/23.9 MB 72.6 MB/s eta 0:00:01\n",
      "     -----------------------------------     21.8/23.9 MB 72.6 MB/s eta 0:00:01\n",
      "     --------------------------------------- 23.9/23.9 MB 65.6 MB/s eta 0:00:00\n",
      "Requirement already satisfied: numpy>=1.18.5 in c:\\users\\ftrav\\anaconda3\\envs\\tcc_gpu2\\lib\\site-packages (from gensim) (1.24.3)\n",
      "Requirement already satisfied: scipy>=1.7.0 in c:\\users\\ftrav\\anaconda3\\envs\\tcc_gpu2\\lib\\site-packages (from gensim) (1.10.1)\n",
      "Collecting smart-open>=1.8.1 (from gensim)\n",
      "  Downloading smart_open-6.3.0-py3-none-any.whl (56 kB)\n",
      "                                              0.0/56.8 kB ? eta -:--:--\n",
      "     ---------------------------------------- 56.8/56.8 kB ? eta 0:00:00\n",
      "Installing collected packages: smart-open, gensim\n",
      "Successfully installed gensim-4.3.1 smart-open-6.3.0\n",
      "Note: you may need to restart the kernel to use updated packages.\n"
     ]
    }
   ],
   "source": [
    "pip install gensim"
   ]
  },
  {
   "cell_type": "code",
   "execution_count": 29,
   "id": "1c83ae24-52bf-4b45-b2d8-9f96a710bb3c",
   "metadata": {
    "tags": []
   },
   "outputs": [],
   "source": [
    "from gensim.models import KeyedVectors"
   ]
  },
  {
   "cell_type": "code",
   "execution_count": 30,
   "id": "201a5771-3435-4b70-ade9-0297f5d85e02",
   "metadata": {
    "tags": []
   },
   "outputs": [],
   "source": [
    "# warning: takes quite awhile\n",
    "# https://code.google.com/archive/p/word2vec/\n",
    "# direct link: https://drive.google.com/file/d/0B7XkCwpI5KDYNlNUTTlSS21pQmM/edit?usp=sharing\n",
    "# 3 million words and phrases\n",
    "# D = 300"
   ]
  },
  {
   "cell_type": "code",
   "execution_count": 35,
   "id": "657393dd-7c16-4438-9041-fd9782ec242a",
   "metadata": {
    "tags": []
   },
   "outputs": [],
   "source": [
    "word_vectors = KeyedVectors.load_word2vec_format(\n",
    "  'GoogleNews-vectors-negative300.bin',\n",
    "  binary=True\n",
    ")"
   ]
  },
  {
   "cell_type": "code",
   "execution_count": 36,
   "id": "030bfcd3-fbf6-4b96-9c42-224dae5f8bb3",
   "metadata": {
    "tags": []
   },
   "outputs": [],
   "source": [
    "def find_analogies(w1, w2, w3):\n",
    "  r = word_vectors.most_similar(positive=[w1, w3], negative=[w2])\n",
    "  print(\"%s - %s = %s - %s\" % (w1, w2, r[0][0], w3))"
   ]
  },
  {
   "cell_type": "code",
   "execution_count": 37,
   "id": "ea8b68e7-2979-4d4a-bfc1-7c6824910938",
   "metadata": {
    "tags": []
   },
   "outputs": [],
   "source": [
    "def nearest_neighbors(w):\n",
    "  r = word_vectors.most_similar(positive=[w])\n",
    "  print(\"neighbors of: %s\" % w)\n",
    "  for word, score in r:\n",
    "    print(\"\\t%s\" % word)"
   ]
  },
  {
   "cell_type": "code",
   "execution_count": 38,
   "id": "258262d1-6933-45d4-8fc6-201874832a74",
   "metadata": {
    "tags": []
   },
   "outputs": [
    {
     "name": "stdout",
     "output_type": "stream",
     "text": [
      "king - man = queen - woman\n"
     ]
    }
   ],
   "source": [
    "find_analogies('king', 'man', 'woman')"
   ]
  },
  {
   "cell_type": "code",
   "execution_count": 39,
   "id": "d1f1e00d-a950-4f1b-bfe7-cc52f8e713d2",
   "metadata": {
    "tags": []
   },
   "outputs": [
    {
     "name": "stdout",
     "output_type": "stream",
     "text": [
      "france - paris = england - london\n",
      "france - paris = italy - rome\n",
      "paris - france = lohan - italy\n",
      "france - french = england - english\n",
      "japan - japanese = tibet - chinese\n",
      "japan - japanese = italy - italian\n",
      "japan - japanese = queensland - australian\n",
      "december - november = september - june\n",
      "miami - florida = dallas - texas\n",
      "einstein - scientist = jude - painter\n",
      "china - rice = dinnerware - bread\n",
      "man - woman = he - she\n",
      "man - woman = uncle - aunt\n",
      "man - woman = brother - sister\n",
      "man - woman = son - wife\n",
      "man - woman = actor - actress\n",
      "man - woman = father - mother\n",
      "heir - heiress = prince - princess\n",
      "nephew - niece = uncle - aunt\n",
      "france - paris = japan - tokyo\n",
      "france - paris = chinese - beijing\n",
      "february - january = april - november\n",
      "france - paris = italy - rome\n",
      "paris - france = lohan - italy\n"
     ]
    }
   ],
   "source": [
    "find_analogies('france', 'paris', 'london')\n",
    "find_analogies('france', 'paris', 'rome')\n",
    "find_analogies('paris', 'france', 'italy')\n",
    "find_analogies('france', 'french', 'english')\n",
    "find_analogies('japan', 'japanese', 'chinese')\n",
    "find_analogies('japan', 'japanese', 'italian')\n",
    "find_analogies('japan', 'japanese', 'australian')\n",
    "find_analogies('december', 'november', 'june')\n",
    "find_analogies('miami', 'florida', 'texas')\n",
    "find_analogies('einstein', 'scientist', 'painter')\n",
    "find_analogies('china', 'rice', 'bread')\n",
    "find_analogies('man', 'woman', 'she')\n",
    "find_analogies('man', 'woman', 'aunt')\n",
    "find_analogies('man', 'woman', 'sister')\n",
    "find_analogies('man', 'woman', 'wife')\n",
    "find_analogies('man', 'woman', 'actress')\n",
    "find_analogies('man', 'woman', 'mother')\n",
    "find_analogies('heir', 'heiress', 'princess')\n",
    "find_analogies('nephew', 'niece', 'aunt')\n",
    "find_analogies('france', 'paris', 'tokyo')\n",
    "find_analogies('france', 'paris', 'beijing')\n",
    "find_analogies('february', 'january', 'november')\n",
    "find_analogies('france', 'paris', 'rome')\n",
    "find_analogies('paris', 'france', 'italy')"
   ]
  },
  {
   "cell_type": "code",
   "execution_count": 40,
   "id": "3c519a07-ba3a-466f-af2e-55f9a11bba0d",
   "metadata": {
    "tags": []
   },
   "outputs": [
    {
     "name": "stdout",
     "output_type": "stream",
     "text": [
      "neighbors of: king\n",
      "\tkings\n",
      "\tqueen\n",
      "\tmonarch\n",
      "\tcrown_prince\n",
      "\tprince\n",
      "\tsultan\n",
      "\truler\n",
      "\tprinces\n",
      "\tPrince_Paras\n",
      "\tthrone\n",
      "neighbors of: france\n",
      "\tspain\n",
      "\tfrench\n",
      "\tgermany\n",
      "\teurope\n",
      "\titaly\n",
      "\tengland\n",
      "\teuropean\n",
      "\tbelgium\n",
      "\tusa\n",
      "\tserbia\n",
      "neighbors of: japan\n",
      "\tjapanese\n",
      "\ttokyo\n",
      "\tamerica\n",
      "\teurope\n",
      "\tgermany\n",
      "\tchinese\n",
      "\tindia\n",
      "\thawaii\n",
      "\tusa\n",
      "\tkorea\n",
      "neighbors of: einstein\n",
      "\tnikki\n",
      "\tlmfao\n",
      "\talbert\n",
      "\tarmstrong\n",
      "\tjoan\n",
      "\tbecky\n",
      "\tmcmahon\n",
      "\tconrad\n",
      "\tlori\n",
      "\thaley\n",
      "neighbors of: woman\n",
      "\tman\n",
      "\tgirl\n",
      "\tteenage_girl\n",
      "\tteenager\n",
      "\tlady\n",
      "\tteenaged_girl\n",
      "\tmother\n",
      "\tpolicewoman\n",
      "\tboy\n",
      "\tWoman\n",
      "neighbors of: nephew\n",
      "\tson\n",
      "\tuncle\n",
      "\tbrother\n",
      "\tgrandson\n",
      "\tcousin\n",
      "\tfather\n",
      "\tniece\n",
      "\tyounger_brother\n",
      "\tnephews\n",
      "\tstepson\n",
      "neighbors of: february\n",
      "\tjanuary\n",
      "\tapril\n",
      "\tseptember\n",
      "\tdecember\n",
      "\tjuly\n",
      "\toctober\n",
      "\tnovember\n",
      "\tjune\n",
      "\tfeb\n",
      "\tnorway\n",
      "neighbors of: rome\n",
      "\tathens\n",
      "\talbert\n",
      "\tholmes\n",
      "\tdonnie\n",
      "\titaly\n",
      "\ttoni\n",
      "\tspain\n",
      "\tjh\n",
      "\tpablo\n",
      "\tmalta\n"
     ]
    }
   ],
   "source": [
    "nearest_neighbors('king')\n",
    "nearest_neighbors('france')\n",
    "nearest_neighbors('japan')\n",
    "nearest_neighbors('einstein')\n",
    "nearest_neighbors('woman')\n",
    "nearest_neighbors('nephew')\n",
    "nearest_neighbors('february')\n",
    "nearest_neighbors('rome')"
   ]
  },
  {
   "cell_type": "code",
   "execution_count": 41,
   "id": "5df2b16d-2d72-4c31-bdbe-b32776840da8",
   "metadata": {
    "tags": []
   },
   "outputs": [
    {
     "name": "stdout",
     "output_type": "stream",
     "text": [
      "neighbors of: brazil\n",
      "\targentina\n",
      "\tspain\n",
      "\tusa\n",
      "\tbrazilian\n",
      "\tcarlos\n",
      "\tportugal\n",
      "\tdiego\n",
      "\tfrance\n",
      "\tbarcelona\n",
      "\tswitzerland\n"
     ]
    }
   ],
   "source": [
    "nearest_neighbors('brazil')"
   ]
  },
  {
   "cell_type": "code",
   "execution_count": null,
   "id": "18bd2379-2f8a-4fae-b094-9516d6d0d72a",
   "metadata": {},
   "outputs": [],
   "source": []
  }
 ],
 "metadata": {
  "kernelspec": {
   "display_name": "Python 3 (ipykernel)",
   "language": "python",
   "name": "python3"
  },
  "language_info": {
   "codemirror_mode": {
    "name": "ipython",
    "version": 3
   },
   "file_extension": ".py",
   "mimetype": "text/x-python",
   "name": "python",
   "nbconvert_exporter": "python",
   "pygments_lexer": "ipython3",
   "version": "3.11.3"
  }
 },
 "nbformat": 4,
 "nbformat_minor": 5
}

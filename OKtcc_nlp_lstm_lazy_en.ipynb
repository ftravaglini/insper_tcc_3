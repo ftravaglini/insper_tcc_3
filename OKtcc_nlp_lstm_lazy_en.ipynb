{
 "cells": [
  {
   "cell_type": "markdown",
   "id": "791f0e12-bbb6-4bcb-8a2e-1048ab03bbd2",
   "metadata": {},
   "source": [
    "# NLP - Lazy rnn - lstm"
   ]
  },
  {
   "cell_type": "code",
   "execution_count": 1,
   "id": "5a418dd8-90ca-41b5-b4ea-9638598d471d",
   "metadata": {},
   "outputs": [],
   "source": [
    "import pandas as pd\n",
    "import numpy as np\n",
    "import matplotlib.pyplot as plt"
   ]
  },
  {
   "cell_type": "code",
   "execution_count": 2,
   "id": "d116ad26-12a3-487c-9b47-5f9abe2b6a14",
   "metadata": {},
   "outputs": [],
   "source": [
    "df_copom = pd.read_csv('df_copom_label_en.csv')"
   ]
  },
  {
   "cell_type": "code",
   "execution_count": 3,
   "id": "60443267-16fc-4610-9633-d96d57c5a6d3",
   "metadata": {},
   "outputs": [
    {
     "data": {
      "text/html": [
       "<div>\n",
       "<style scoped>\n",
       "    .dataframe tbody tr th:only-of-type {\n",
       "        vertical-align: middle;\n",
       "    }\n",
       "\n",
       "    .dataframe tbody tr th {\n",
       "        vertical-align: top;\n",
       "    }\n",
       "\n",
       "    .dataframe thead th {\n",
       "        text-align: right;\n",
       "    }\n",
       "</style>\n",
       "<table border=\"1\" class=\"dataframe\">\n",
       "  <thead>\n",
       "    <tr style=\"text-align: right;\">\n",
       "      <th></th>\n",
       "      <th>Unnamed: 0</th>\n",
       "      <th>meeting_number</th>\n",
       "      <th>date_x</th>\n",
       "      <th>date_y</th>\n",
       "      <th>selic</th>\n",
       "      <th>decision</th>\n",
       "      <th>decision_txt</th>\n",
       "      <th>type</th>\n",
       "      <th>text</th>\n",
       "      <th>num_words</th>\n",
       "      <th>text_raw</th>\n",
       "      <th>num_words_raw</th>\n",
       "      <th>label_hawk_dove</th>\n",
       "      <th>label_next_meet</th>\n",
       "    </tr>\n",
       "  </thead>\n",
       "  <tbody>\n",
       "    <tr>\n",
       "      <th>0</th>\n",
       "      <td>0</td>\n",
       "      <td>117</td>\n",
       "      <td>2006/03/08</td>\n",
       "      <td>2006/03/08</td>\n",
       "      <td>16.5</td>\n",
       "      <td>-0.75</td>\n",
       "      <td>decrease</td>\n",
       "      <td>statement</td>\n",
       "      <td>march meeting , banco central brasil 's moneta...</td>\n",
       "      <td>55.0</td>\n",
       "      <td>In the March Meeting, the Banco Central do Br...</td>\n",
       "      <td>67.0</td>\n",
       "      <td>dovish</td>\n",
       "      <td>decrease</td>\n",
       "    </tr>\n",
       "  </tbody>\n",
       "</table>\n",
       "</div>"
      ],
      "text/plain": [
       "   Unnamed: 0  meeting_number      date_x      date_y  selic  decision  \\\n",
       "0           0             117  2006/03/08  2006/03/08   16.5     -0.75   \n",
       "\n",
       "  decision_txt       type                                               text  \\\n",
       "0     decrease  statement  march meeting , banco central brasil 's moneta...   \n",
       "\n",
       "   num_words                                           text_raw  \\\n",
       "0       55.0   In the March Meeting, the Banco Central do Br...   \n",
       "\n",
       "   num_words_raw label_hawk_dove label_next_meet  \n",
       "0           67.0          dovish        decrease  "
      ]
     },
     "execution_count": 3,
     "metadata": {},
     "output_type": "execute_result"
    }
   ],
   "source": [
    "df_copom.head(1)"
   ]
  },
  {
   "cell_type": "code",
   "execution_count": 4,
   "id": "d8e853d8-e066-46f9-bac5-f3686a143845",
   "metadata": {},
   "outputs": [],
   "source": [
    "df = df_copom[df_copom['type'] == 'statement'].copy()"
   ]
  },
  {
   "cell_type": "code",
   "execution_count": 5,
   "id": "c0403aab-6e78-44c6-ba1d-cd2324d077f7",
   "metadata": {},
   "outputs": [
    {
     "data": {
      "text/html": [
       "<div>\n",
       "<style scoped>\n",
       "    .dataframe tbody tr th:only-of-type {\n",
       "        vertical-align: middle;\n",
       "    }\n",
       "\n",
       "    .dataframe tbody tr th {\n",
       "        vertical-align: top;\n",
       "    }\n",
       "\n",
       "    .dataframe thead th {\n",
       "        text-align: right;\n",
       "    }\n",
       "</style>\n",
       "<table border=\"1\" class=\"dataframe\">\n",
       "  <thead>\n",
       "    <tr style=\"text-align: right;\">\n",
       "      <th></th>\n",
       "      <th>Unnamed: 0</th>\n",
       "      <th>meeting_number</th>\n",
       "      <th>date_x</th>\n",
       "      <th>date_y</th>\n",
       "      <th>selic</th>\n",
       "      <th>decision</th>\n",
       "      <th>decision_txt</th>\n",
       "      <th>type</th>\n",
       "      <th>text</th>\n",
       "      <th>num_words</th>\n",
       "      <th>text_raw</th>\n",
       "      <th>num_words_raw</th>\n",
       "      <th>label_hawk_dove</th>\n",
       "      <th>label_next_meet</th>\n",
       "    </tr>\n",
       "  </thead>\n",
       "  <tbody>\n",
       "    <tr>\n",
       "      <th>0</th>\n",
       "      <td>0</td>\n",
       "      <td>117</td>\n",
       "      <td>2006/03/08</td>\n",
       "      <td>2006/03/08</td>\n",
       "      <td>16.5</td>\n",
       "      <td>-0.75</td>\n",
       "      <td>decrease</td>\n",
       "      <td>statement</td>\n",
       "      <td>march meeting , banco central brasil 's moneta...</td>\n",
       "      <td>55.0</td>\n",
       "      <td>In the March Meeting, the Banco Central do Br...</td>\n",
       "      <td>67.0</td>\n",
       "      <td>dovish</td>\n",
       "      <td>decrease</td>\n",
       "    </tr>\n",
       "  </tbody>\n",
       "</table>\n",
       "</div>"
      ],
      "text/plain": [
       "   Unnamed: 0  meeting_number      date_x      date_y  selic  decision  \\\n",
       "0           0             117  2006/03/08  2006/03/08   16.5     -0.75   \n",
       "\n",
       "  decision_txt       type                                               text  \\\n",
       "0     decrease  statement  march meeting , banco central brasil 's moneta...   \n",
       "\n",
       "   num_words                                           text_raw  \\\n",
       "0       55.0   In the March Meeting, the Banco Central do Br...   \n",
       "\n",
       "   num_words_raw label_hawk_dove label_next_meet  \n",
       "0           67.0          dovish        decrease  "
      ]
     },
     "execution_count": 5,
     "metadata": {},
     "output_type": "execute_result"
    }
   ],
   "source": [
    "df.head(1)"
   ]
  },
  {
   "cell_type": "code",
   "execution_count": 6,
   "id": "c84c4022-78cd-4e0e-aa03-61e3ef9a1bb0",
   "metadata": {},
   "outputs": [
    {
     "data": {
      "text/plain": [
       "(140, 14)"
      ]
     },
     "execution_count": 6,
     "metadata": {},
     "output_type": "execute_result"
    }
   ],
   "source": [
    "df.shape"
   ]
  },
  {
   "cell_type": "code",
   "execution_count": 7,
   "id": "62fdf67a-93e3-48be-a3de-9c7408824b42",
   "metadata": {
    "tags": []
   },
   "outputs": [
    {
     "data": {
      "text/plain": [
       "Unnamed: 0         0\n",
       "meeting_number     0\n",
       "date_x             0\n",
       "date_y             0\n",
       "selic              0\n",
       "decision           0\n",
       "decision_txt       0\n",
       "type               0\n",
       "text               0\n",
       "num_words          0\n",
       "text_raw           0\n",
       "num_words_raw      0\n",
       "label_hawk_dove    1\n",
       "label_next_meet    1\n",
       "dtype: int64"
      ]
     },
     "execution_count": 7,
     "metadata": {},
     "output_type": "execute_result"
    }
   ],
   "source": [
    "df.isnull().sum()"
   ]
  },
  {
   "cell_type": "code",
   "execution_count": 8,
   "id": "39bab668-0d9e-4017-9e79-aea19644b098",
   "metadata": {
    "tags": []
   },
   "outputs": [
    {
     "data": {
      "text/plain": [
       "(139, 14)"
      ]
     },
     "execution_count": 8,
     "metadata": {},
     "output_type": "execute_result"
    }
   ],
   "source": [
    "df = df.dropna().copy()\n",
    "df.shape"
   ]
  },
  {
   "cell_type": "code",
   "execution_count": 9,
   "id": "d180fe09-9b06-43be-8011-885964d6a045",
   "metadata": {
    "tags": []
   },
   "outputs": [
    {
     "data": {
      "text/plain": [
       "Unnamed: 0         0\n",
       "meeting_number     0\n",
       "date_x             0\n",
       "date_y             0\n",
       "selic              0\n",
       "decision           0\n",
       "decision_txt       0\n",
       "type               0\n",
       "text               0\n",
       "num_words          0\n",
       "text_raw           0\n",
       "num_words_raw      0\n",
       "label_hawk_dove    0\n",
       "label_next_meet    0\n",
       "dtype: int64"
      ]
     },
     "execution_count": 9,
     "metadata": {},
     "output_type": "execute_result"
    }
   ],
   "source": [
    "df.isnull().sum()"
   ]
  },
  {
   "cell_type": "markdown",
   "id": "36c44e4b-0795-4f05-838d-c5caa6b9dcd9",
   "metadata": {},
   "source": [
    "### Split test and train"
   ]
  },
  {
   "cell_type": "code",
   "execution_count": 10,
   "id": "9783a43e-78d9-4a51-a65e-58e9ba6bf0e8",
   "metadata": {},
   "outputs": [],
   "source": [
    "from sklearn.model_selection import train_test_split"
   ]
  },
  {
   "cell_type": "code",
   "execution_count": 11,
   "id": "b9572834-9d66-4da3-8e55-e6fa9177a530",
   "metadata": {},
   "outputs": [],
   "source": [
    "X = df.copy()\n",
    "y = df['label_hawk_dove']"
   ]
  },
  {
   "cell_type": "code",
   "execution_count": 12,
   "id": "26356f49-54c3-4096-bf3d-4154aacce342",
   "metadata": {},
   "outputs": [],
   "source": [
    "#Perform train/test split\n",
    "X_train, X_test, y_train, y_test = train_test_split(X, y, test_size=0.2, random_state=2015)"
   ]
  },
  {
   "cell_type": "code",
   "execution_count": 13,
   "id": "48226f65-b901-44e2-b066-bdc45a9dda50",
   "metadata": {},
   "outputs": [],
   "source": [
    "texts = X_train['text'].tolist()\n",
    "labels = y_train.tolist()"
   ]
  },
  {
   "cell_type": "code",
   "execution_count": 14,
   "id": "4f688c59-6721-4af2-82c0-13b9ead5e0e1",
   "metadata": {},
   "outputs": [
    {
     "data": {
      "text/plain": [
       "'copom unanimously decided maintain selic rate 6.50 % p.a.the following observations provide update c'"
      ]
     },
     "execution_count": 14,
     "metadata": {},
     "output_type": "execute_result"
    }
   ],
   "source": [
    "texts[0][:100]"
   ]
  },
  {
   "cell_type": "code",
   "execution_count": 15,
   "id": "c6e6c3df-8161-4e4c-bec2-3c98773d2d96",
   "metadata": {},
   "outputs": [
    {
     "data": {
      "text/plain": [
       "['neutral', 'hawkish', 'dovish', 'dovish', 'dovish']"
      ]
     },
     "execution_count": 15,
     "metadata": {},
     "output_type": "execute_result"
    }
   ],
   "source": [
    "labels[:5]"
   ]
  },
  {
   "cell_type": "code",
   "execution_count": 16,
   "id": "505cec28-3d87-47e6-a8a5-c7acfaea9efe",
   "metadata": {},
   "outputs": [
    {
     "data": {
      "text/plain": [
       "(111, 111)"
      ]
     },
     "execution_count": 16,
     "metadata": {},
     "output_type": "execute_result"
    }
   ],
   "source": [
    "len(texts), len(labels)"
   ]
  },
  {
   "cell_type": "code",
   "execution_count": 17,
   "id": "c8a8b86c-9391-4baf-9aff-59221bb3faa6",
   "metadata": {},
   "outputs": [],
   "source": [
    "# seq_len = 512 # number of the tokens tokenizer will create\n",
    "# num_samples = len (texts)\n",
    "# num_samples, seq_len"
   ]
  },
  {
   "cell_type": "markdown",
   "id": "7029bbf4-2632-4984-8d0a-42bdc2382cdd",
   "metadata": {},
   "source": [
    "### Convert labels to one-hot encoded vectors"
   ]
  },
  {
   "cell_type": "code",
   "execution_count": 18,
   "id": "4b0e070e-a8ae-43f6-b8b1-504ec31b12c6",
   "metadata": {},
   "outputs": [],
   "source": [
    "label_classes = list(set(labels))\n",
    "num_classes = len(label_classes)\n",
    "\n",
    "label_to_index = {label: index for index, label in enumerate(label_classes)}\n",
    "index_to_label = {index: label for label, index in label_to_index.items()}\n",
    "\n",
    "labels_encoded = np.array([label_to_index[label] for label in labels])\n",
    "labels = np.eye(num_classes)[labels_encoded]"
   ]
  },
  {
   "cell_type": "code",
   "execution_count": 19,
   "id": "661e9943-7abf-47a2-af7a-df2e982a36f7",
   "metadata": {},
   "outputs": [
    {
     "data": {
      "text/plain": [
       "{'hawkish': 0, 'neutral': 1, 'dovish': 2}"
      ]
     },
     "execution_count": 19,
     "metadata": {},
     "output_type": "execute_result"
    }
   ],
   "source": [
    "label_to_index"
   ]
  },
  {
   "cell_type": "code",
   "execution_count": 20,
   "id": "960493b5-4c56-49d0-98b5-ceb1a8ab31df",
   "metadata": {},
   "outputs": [
    {
     "data": {
      "text/plain": [
       "array([[0., 1., 0.],\n",
       "       [1., 0., 0.],\n",
       "       [0., 0., 1.],\n",
       "       [0., 0., 1.],\n",
       "       [0., 0., 1.]])"
      ]
     },
     "execution_count": 20,
     "metadata": {},
     "output_type": "execute_result"
    }
   ],
   "source": [
    "labels[:5]"
   ]
  },
  {
   "cell_type": "code",
   "execution_count": 21,
   "id": "89ce264c-0ed0-4041-ae4b-81364cff95db",
   "metadata": {},
   "outputs": [
    {
     "data": {
      "text/plain": [
       "111"
      ]
     },
     "execution_count": 21,
     "metadata": {},
     "output_type": "execute_result"
    }
   ],
   "source": [
    "len(labels)"
   ]
  },
  {
   "cell_type": "markdown",
   "id": "41ff51f9-f286-4f63-b42e-1ee6dc4ae8ca",
   "metadata": {},
   "source": [
    "## Model"
   ]
  },
  {
   "cell_type": "code",
   "execution_count": 22,
   "id": "6fba3d00-052e-4a92-88df-904263258eec",
   "metadata": {
    "tags": []
   },
   "outputs": [],
   "source": [
    "import os\n",
    "import sys"
   ]
  },
  {
   "cell_type": "code",
   "execution_count": 23,
   "id": "6f7dd4d6-753f-4712-acd9-e8eeb3dc834b",
   "metadata": {},
   "outputs": [],
   "source": [
    "from keras.models import Model\n",
    "from keras.layers import Dense, Embedding, Input\n",
    "from keras.layers import LSTM, Bidirectional, GlobalMaxPool1D, Dropout\n",
    "from keras.preprocessing.text import Tokenizer\n",
    "# from keras.preprocessing.sequence import pad_sequences\n",
    "from keras.optimizers import Adam\n",
    "from sklearn.metrics import roc_auc_score\n",
    "\n",
    "import tensorflow as tf\n",
    "\n",
    "import keras.backend as K\n",
    "# if len(K.tensorflow_backend._get_available_gpus()) > 0:\n",
    "#   from keras.layers import CuDNNLSTM as LSTM\n",
    "#   from keras.layers import CuDNNGRU as GRU"
   ]
  },
  {
   "cell_type": "code",
   "execution_count": 24,
   "id": "b0e937f0-71fa-403d-bf1f-7d7e7b41c205",
   "metadata": {
    "tags": []
   },
   "outputs": [
    {
     "name": "stdout",
     "output_type": "stream",
     "text": [
      "2.12.0\n"
     ]
    }
   ],
   "source": [
    "import keras\n",
    "print(keras.__version__)"
   ]
  },
  {
   "cell_type": "code",
   "execution_count": 25,
   "id": "80fa6053-d1f2-4673-a401-b58e15806ec5",
   "metadata": {
    "tags": []
   },
   "outputs": [],
   "source": [
    "# some configuration\n",
    "MAX_SEQUENCE_LENGTH = 600\n",
    "MAX_VOCAB_SIZE = 20000\n",
    "EMBEDDING_DIM = 50\n",
    "VALIDATION_SPLIT = 0.2\n",
    "BATCH_SIZE = 128\n",
    "EPOCHS = 100"
   ]
  },
  {
   "cell_type": "code",
   "execution_count": 26,
   "id": "513b6547-d009-46fa-968b-683af5acb1fb",
   "metadata": {
    "tags": []
   },
   "outputs": [
    {
     "name": "stdout",
     "output_type": "stream",
     "text": [
      "Loading word vectors...\n",
      "Found 400000 word vectors.\n"
     ]
    }
   ],
   "source": [
    "# load in pre-trained word vectors\n",
    "print('Loading word vectors...')\n",
    "word2vec = {}\n",
    "with open('glove.6B/glove.6B.50d.txt', encoding='utf-8') as f:\n",
    "    # is just a space-separated text file in the format:\n",
    "    # word vec[0] vec[1] vec[2] ...\n",
    "    for line in f:\n",
    "        values = line.split()\n",
    "        word = values[0]\n",
    "        vec = np.asarray(values[1:], dtype='float32')\n",
    "        word2vec[word] = vec\n",
    "print('Found %s word vectors.' % len(word2vec))"
   ]
  },
  {
   "cell_type": "code",
   "execution_count": 27,
   "id": "36301ddc-4715-4138-a875-08b1ed382208",
   "metadata": {
    "tags": []
   },
   "outputs": [],
   "source": [
    "# train = pd.read_csv(\"train.csv/train.csv\")\n",
    "# sentences = train[\"comment_text\"].fillna(\"DUMMY_VALUE\").values\n",
    "# possible_labels = [\"toxic\", \"severe_toxic\", \"obscene\", \"threat\", \"insult\", \"identity_hate\"]\n",
    "# targets = train[possible_labels].values"
   ]
  },
  {
   "cell_type": "code",
   "execution_count": 28,
   "id": "7df62310-9328-4ef1-8509-60936cd48b84",
   "metadata": {
    "tags": []
   },
   "outputs": [],
   "source": [
    "sentences = X_train['text'].fillna(\"DUMMY_VALUE\").values\n",
    "possible_labels = ['dovish', 'neutral', 'hawkish']\n",
    "targets = labels"
   ]
  },
  {
   "cell_type": "code",
   "execution_count": 29,
   "id": "2e474c7f-f406-4160-b31b-5f93d328212a",
   "metadata": {
    "tags": []
   },
   "outputs": [],
   "source": [
    "# convert the sentences (strings) into integers\n",
    "tokenizer = Tokenizer(num_words=MAX_VOCAB_SIZE)\n",
    "tokenizer.fit_on_texts(sentences)\n",
    "sequences = tokenizer.texts_to_sequences(sentences)"
   ]
  },
  {
   "cell_type": "code",
   "execution_count": 30,
   "id": "d8683ffc-f1e5-49a4-b2ad-dc548d9ff857",
   "metadata": {
    "tags": []
   },
   "outputs": [
    {
     "data": {
      "text/plain": [
       "111"
      ]
     },
     "execution_count": 30,
     "metadata": {},
     "output_type": "execute_result"
    }
   ],
   "source": [
    "len(sequences)"
   ]
  },
  {
   "cell_type": "code",
   "execution_count": 31,
   "id": "a4d269c7-aef3-47fe-ba96-60e096b2a4ba",
   "metadata": {
    "tags": []
   },
   "outputs": [
    {
     "name": "stdout",
     "output_type": "stream",
     "text": [
      "Found 1324 unique tokens.\n"
     ]
    }
   ],
   "source": [
    "# get word -> integer mapping\n",
    "word2idx = tokenizer.word_index\n",
    "print('Found %s unique tokens.' % len(word2idx))"
   ]
  },
  {
   "cell_type": "code",
   "execution_count": 32,
   "id": "b570e5c7-905f-4c23-8b1d-37417ab641b1",
   "metadata": {
    "tags": []
   },
   "outputs": [
    {
     "name": "stdout",
     "output_type": "stream",
     "text": [
      "Shape of data tensor: (111, 600)\n"
     ]
    }
   ],
   "source": [
    "# pad sequences so that we get a N x T matrix\n",
    "data = tf.keras.utils.pad_sequences(sequences, maxlen=MAX_SEQUENCE_LENGTH)\n",
    "print('Shape of data tensor:', data.shape)"
   ]
  },
  {
   "cell_type": "code",
   "execution_count": 33,
   "id": "48eea7a7-b326-4348-b640-8b1e644668e0",
   "metadata": {
    "tags": []
   },
   "outputs": [
    {
     "name": "stdout",
     "output_type": "stream",
     "text": [
      "Filling pre-trained embeddings...\n"
     ]
    }
   ],
   "source": [
    "# prepare embedding matrix\n",
    "print('Filling pre-trained embeddings...')\n",
    "num_words = min(MAX_VOCAB_SIZE, len(word2idx) + 1)\n",
    "embedding_matrix = np.zeros((num_words, EMBEDDING_DIM))\n",
    "for word, i in word2idx.items():\n",
    "    if i < MAX_VOCAB_SIZE:\n",
    "        embedding_vector = word2vec.get(word)\n",
    "    if embedding_vector is not None:\n",
    "        # words not found in embedding index will be all zeros.\n",
    "        embedding_matrix[i] = embedding_vector"
   ]
  },
  {
   "cell_type": "code",
   "execution_count": 34,
   "id": "a9e0d37f-8b5d-4f63-9370-4e8d53240e48",
   "metadata": {
    "tags": []
   },
   "outputs": [],
   "source": [
    "# load pre-trained word embeddings into an Embedding layer\n",
    "# note that we set trainable = False so as to keep the embeddings fixed\n",
    "embedding_layer = Embedding(\n",
    "  num_words,\n",
    "  EMBEDDING_DIM,\n",
    "  weights=[embedding_matrix],\n",
    "  input_length=MAX_SEQUENCE_LENGTH,\n",
    "  trainable=False\n",
    ")"
   ]
  },
  {
   "cell_type": "code",
   "execution_count": 35,
   "id": "dc57cb3b-fd40-4fb8-b518-db52b1437c47",
   "metadata": {
    "tags": []
   },
   "outputs": [
    {
     "name": "stdout",
     "output_type": "stream",
     "text": [
      "Building model...\n"
     ]
    }
   ],
   "source": [
    "print('Building model...')\n",
    "\n",
    "# create an LSTM network with a single LSTM\n",
    "input_ = Input(shape=(MAX_SEQUENCE_LENGTH,))\n",
    "x = embedding_layer(input_)\n",
    "# x = LSTM(15, return_sequences=True)(x)\n",
    "x = Bidirectional(LSTM(15, return_sequences=True))(x)\n",
    "x = GlobalMaxPool1D()(x)\n",
    "output = Dense(len(possible_labels), activation=\"sigmoid\")(x)\n",
    "\n",
    "model = Model(input_, output)\n",
    "model.compile(\n",
    "  loss='binary_crossentropy',\n",
    "  optimizer=Adam(learning_rate=0.01),\n",
    "  metrics=['accuracy'],\n",
    ")"
   ]
  },
  {
   "cell_type": "code",
   "execution_count": 36,
   "id": "e4eeb64d-f9fb-4a43-98bd-db7c6f5763f5",
   "metadata": {
    "tags": []
   },
   "outputs": [
    {
     "name": "stdout",
     "output_type": "stream",
     "text": [
      "Training model...\n",
      "Epoch 1/100\n",
      "1/1 [==============================] - 3s 3s/step - loss: 0.7209 - accuracy: 0.2614 - val_loss: 0.6398 - val_accuracy: 0.4348\n",
      "Epoch 2/100\n",
      "1/1 [==============================] - 0s 174ms/step - loss: 0.6458 - accuracy: 0.3409 - val_loss: 0.6329 - val_accuracy: 0.3478\n",
      "Epoch 3/100\n",
      "1/1 [==============================] - 0s 178ms/step - loss: 0.6241 - accuracy: 0.3864 - val_loss: 0.6450 - val_accuracy: 0.3478\n",
      "Epoch 4/100\n",
      "1/1 [==============================] - 0s 180ms/step - loss: 0.6206 - accuracy: 0.3977 - val_loss: 0.6537 - val_accuracy: 0.3478\n",
      "Epoch 5/100\n",
      "1/1 [==============================] - 0s 179ms/step - loss: 0.6171 - accuracy: 0.3977 - val_loss: 0.6517 - val_accuracy: 0.3478\n",
      "Epoch 6/100\n",
      "1/1 [==============================] - 0s 174ms/step - loss: 0.6099 - accuracy: 0.3977 - val_loss: 0.6417 - val_accuracy: 0.3478\n",
      "Epoch 7/100\n",
      "1/1 [==============================] - 0s 176ms/step - loss: 0.6000 - accuracy: 0.3977 - val_loss: 0.6307 - val_accuracy: 0.3478\n",
      "Epoch 8/100\n",
      "1/1 [==============================] - 0s 188ms/step - loss: 0.5907 - accuracy: 0.4091 - val_loss: 0.6213 - val_accuracy: 0.4348\n",
      "Epoch 9/100\n",
      "1/1 [==============================] - 0s 178ms/step - loss: 0.5830 - accuracy: 0.5795 - val_loss: 0.6144 - val_accuracy: 0.4348\n",
      "Epoch 10/100\n",
      "1/1 [==============================] - 0s 185ms/step - loss: 0.5763 - accuracy: 0.5682 - val_loss: 0.6104 - val_accuracy: 0.5217\n",
      "Epoch 11/100\n",
      "1/1 [==============================] - 0s 169ms/step - loss: 0.5697 - accuracy: 0.6250 - val_loss: 0.6081 - val_accuracy: 0.5217\n",
      "Epoch 12/100\n",
      "1/1 [==============================] - 0s 182ms/step - loss: 0.5618 - accuracy: 0.6364 - val_loss: 0.6059 - val_accuracy: 0.5217\n",
      "Epoch 13/100\n",
      "1/1 [==============================] - 0s 177ms/step - loss: 0.5534 - accuracy: 0.6591 - val_loss: 0.6056 - val_accuracy: 0.5217\n",
      "Epoch 14/100\n",
      "1/1 [==============================] - 0s 186ms/step - loss: 0.5444 - accuracy: 0.6705 - val_loss: 0.6051 - val_accuracy: 0.5217\n",
      "Epoch 15/100\n",
      "1/1 [==============================] - 0s 178ms/step - loss: 0.5352 - accuracy: 0.6818 - val_loss: 0.5994 - val_accuracy: 0.5217\n",
      "Epoch 16/100\n",
      "1/1 [==============================] - 0s 183ms/step - loss: 0.5254 - accuracy: 0.7045 - val_loss: 0.5891 - val_accuracy: 0.5217\n",
      "Epoch 17/100\n",
      "1/1 [==============================] - 0s 172ms/step - loss: 0.5154 - accuracy: 0.7273 - val_loss: 0.5808 - val_accuracy: 0.5652\n",
      "Epoch 18/100\n",
      "1/1 [==============================] - 0s 169ms/step - loss: 0.5047 - accuracy: 0.7500 - val_loss: 0.5778 - val_accuracy: 0.5652\n",
      "Epoch 19/100\n",
      "1/1 [==============================] - 0s 168ms/step - loss: 0.4947 - accuracy: 0.7500 - val_loss: 0.5737 - val_accuracy: 0.5652\n",
      "Epoch 20/100\n",
      "1/1 [==============================] - 0s 166ms/step - loss: 0.4837 - accuracy: 0.7614 - val_loss: 0.5736 - val_accuracy: 0.5652\n",
      "Epoch 21/100\n",
      "1/1 [==============================] - 0s 173ms/step - loss: 0.4721 - accuracy: 0.7841 - val_loss: 0.5730 - val_accuracy: 0.5652\n",
      "Epoch 22/100\n",
      "1/1 [==============================] - 0s 176ms/step - loss: 0.4606 - accuracy: 0.7955 - val_loss: 0.5643 - val_accuracy: 0.5652\n",
      "Epoch 23/100\n",
      "1/1 [==============================] - 0s 169ms/step - loss: 0.4481 - accuracy: 0.8068 - val_loss: 0.5593 - val_accuracy: 0.5652\n",
      "Epoch 24/100\n",
      "1/1 [==============================] - 0s 171ms/step - loss: 0.4350 - accuracy: 0.8409 - val_loss: 0.5524 - val_accuracy: 0.5652\n",
      "Epoch 25/100\n",
      "1/1 [==============================] - 0s 165ms/step - loss: 0.4218 - accuracy: 0.8750 - val_loss: 0.5472 - val_accuracy: 0.5652\n",
      "Epoch 26/100\n",
      "1/1 [==============================] - 0s 165ms/step - loss: 0.4093 - accuracy: 0.9091 - val_loss: 0.5462 - val_accuracy: 0.5652\n",
      "Epoch 27/100\n",
      "1/1 [==============================] - 0s 166ms/step - loss: 0.3957 - accuracy: 0.9091 - val_loss: 0.5409 - val_accuracy: 0.5652\n",
      "Epoch 28/100\n",
      "1/1 [==============================] - 0s 176ms/step - loss: 0.3820 - accuracy: 0.9091 - val_loss: 0.5329 - val_accuracy: 0.6087\n",
      "Epoch 29/100\n",
      "1/1 [==============================] - 0s 174ms/step - loss: 0.3674 - accuracy: 0.9205 - val_loss: 0.5314 - val_accuracy: 0.6087\n",
      "Epoch 30/100\n",
      "1/1 [==============================] - 0s 179ms/step - loss: 0.3529 - accuracy: 0.9205 - val_loss: 0.5207 - val_accuracy: 0.6087\n",
      "Epoch 31/100\n",
      "1/1 [==============================] - 0s 174ms/step - loss: 0.3410 - accuracy: 0.9091 - val_loss: 0.5266 - val_accuracy: 0.6087\n",
      "Epoch 32/100\n",
      "1/1 [==============================] - 0s 171ms/step - loss: 0.3272 - accuracy: 0.9205 - val_loss: 0.5150 - val_accuracy: 0.6522\n",
      "Epoch 33/100\n",
      "1/1 [==============================] - 0s 171ms/step - loss: 0.3112 - accuracy: 0.9545 - val_loss: 0.5151 - val_accuracy: 0.6522\n",
      "Epoch 34/100\n",
      "1/1 [==============================] - 0s 167ms/step - loss: 0.2995 - accuracy: 0.9659 - val_loss: 0.5276 - val_accuracy: 0.6522\n",
      "Epoch 35/100\n",
      "1/1 [==============================] - 0s 168ms/step - loss: 0.2854 - accuracy: 0.9432 - val_loss: 0.5155 - val_accuracy: 0.6522\n",
      "Epoch 36/100\n",
      "1/1 [==============================] - 0s 167ms/step - loss: 0.2713 - accuracy: 0.9432 - val_loss: 0.5121 - val_accuracy: 0.6522\n",
      "Epoch 37/100\n",
      "1/1 [==============================] - 0s 164ms/step - loss: 0.2596 - accuracy: 0.9432 - val_loss: 0.5191 - val_accuracy: 0.6522\n",
      "Epoch 38/100\n",
      "1/1 [==============================] - 0s 166ms/step - loss: 0.2504 - accuracy: 0.9432 - val_loss: 0.4991 - val_accuracy: 0.6522\n",
      "Epoch 39/100\n",
      "1/1 [==============================] - 0s 168ms/step - loss: 0.2399 - accuracy: 0.9545 - val_loss: 0.4805 - val_accuracy: 0.6522\n",
      "Epoch 40/100\n",
      "1/1 [==============================] - 0s 162ms/step - loss: 0.2311 - accuracy: 0.9773 - val_loss: 0.4824 - val_accuracy: 0.6522\n",
      "Epoch 41/100\n",
      "1/1 [==============================] - 0s 168ms/step - loss: 0.2169 - accuracy: 0.9773 - val_loss: 0.4959 - val_accuracy: 0.6087\n",
      "Epoch 42/100\n",
      "1/1 [==============================] - 0s 165ms/step - loss: 0.2200 - accuracy: 0.9545 - val_loss: 0.5000 - val_accuracy: 0.6522\n",
      "Epoch 43/100\n",
      "1/1 [==============================] - 0s 164ms/step - loss: 0.2059 - accuracy: 1.0000 - val_loss: 0.5011 - val_accuracy: 0.6522\n",
      "Epoch 44/100\n",
      "1/1 [==============================] - 0s 160ms/step - loss: 0.1950 - accuracy: 0.9886 - val_loss: 0.5059 - val_accuracy: 0.6522\n",
      "Epoch 45/100\n",
      "1/1 [==============================] - 0s 169ms/step - loss: 0.1863 - accuracy: 0.9659 - val_loss: 0.5144 - val_accuracy: 0.6522\n",
      "Epoch 46/100\n",
      "1/1 [==============================] - 0s 164ms/step - loss: 0.1806 - accuracy: 0.9545 - val_loss: 0.4871 - val_accuracy: 0.6522\n",
      "Epoch 47/100\n",
      "1/1 [==============================] - 0s 168ms/step - loss: 0.1663 - accuracy: 0.9886 - val_loss: 0.4968 - val_accuracy: 0.6522\n",
      "Epoch 48/100\n",
      "1/1 [==============================] - 0s 168ms/step - loss: 0.1590 - accuracy: 1.0000 - val_loss: 0.5044 - val_accuracy: 0.6522\n",
      "Epoch 49/100\n",
      "1/1 [==============================] - 0s 164ms/step - loss: 0.1599 - accuracy: 1.0000 - val_loss: 0.5103 - val_accuracy: 0.6522\n",
      "Epoch 50/100\n",
      "1/1 [==============================] - 0s 165ms/step - loss: 0.1465 - accuracy: 1.0000 - val_loss: 0.5254 - val_accuracy: 0.6522\n",
      "Epoch 51/100\n",
      "1/1 [==============================] - 0s 166ms/step - loss: 0.1397 - accuracy: 0.9773 - val_loss: 0.5123 - val_accuracy: 0.6522\n",
      "Epoch 52/100\n",
      "1/1 [==============================] - 0s 163ms/step - loss: 0.1302 - accuracy: 0.9886 - val_loss: 0.4748 - val_accuracy: 0.6957\n",
      "Epoch 53/100\n",
      "1/1 [==============================] - 0s 171ms/step - loss: 0.1278 - accuracy: 1.0000 - val_loss: 0.4913 - val_accuracy: 0.6522\n",
      "Epoch 54/100\n",
      "1/1 [==============================] - 0s 167ms/step - loss: 0.1182 - accuracy: 0.9886 - val_loss: 0.5228 - val_accuracy: 0.6522\n",
      "Epoch 55/100\n",
      "1/1 [==============================] - 0s 164ms/step - loss: 0.1163 - accuracy: 0.9886 - val_loss: 0.4826 - val_accuracy: 0.6957\n",
      "Epoch 56/100\n",
      "1/1 [==============================] - 0s 169ms/step - loss: 0.1131 - accuracy: 0.9886 - val_loss: 0.5005 - val_accuracy: 0.6522\n",
      "Epoch 57/100\n",
      "1/1 [==============================] - 0s 169ms/step - loss: 0.1037 - accuracy: 0.9886 - val_loss: 0.5577 - val_accuracy: 0.6522\n",
      "Epoch 58/100\n",
      "1/1 [==============================] - 0s 161ms/step - loss: 0.1004 - accuracy: 0.9886 - val_loss: 0.5583 - val_accuracy: 0.6522\n",
      "Epoch 59/100\n",
      "1/1 [==============================] - 0s 164ms/step - loss: 0.0953 - accuracy: 0.9886 - val_loss: 0.5167 - val_accuracy: 0.6957\n",
      "Epoch 60/100\n",
      "1/1 [==============================] - 0s 167ms/step - loss: 0.0919 - accuracy: 1.0000 - val_loss: 0.5157 - val_accuracy: 0.6957\n",
      "Epoch 61/100\n",
      "1/1 [==============================] - 0s 186ms/step - loss: 0.0840 - accuracy: 1.0000 - val_loss: 0.5312 - val_accuracy: 0.6957\n",
      "Epoch 62/100\n",
      "1/1 [==============================] - 0s 212ms/step - loss: 0.0822 - accuracy: 1.0000 - val_loss: 0.5155 - val_accuracy: 0.6957\n",
      "Epoch 63/100\n",
      "1/1 [==============================] - 0s 167ms/step - loss: 0.0772 - accuracy: 1.0000 - val_loss: 0.5381 - val_accuracy: 0.6522\n",
      "Epoch 64/100\n",
      "1/1 [==============================] - 0s 167ms/step - loss: 0.0738 - accuracy: 1.0000 - val_loss: 0.5778 - val_accuracy: 0.6522\n",
      "Epoch 65/100\n",
      "1/1 [==============================] - 0s 164ms/step - loss: 0.0701 - accuracy: 0.9886 - val_loss: 0.5500 - val_accuracy: 0.6957\n",
      "Epoch 66/100\n",
      "1/1 [==============================] - 0s 167ms/step - loss: 0.0698 - accuracy: 0.9886 - val_loss: 0.5252 - val_accuracy: 0.6957\n",
      "Epoch 67/100\n",
      "1/1 [==============================] - 0s 165ms/step - loss: 0.0666 - accuracy: 1.0000 - val_loss: 0.5502 - val_accuracy: 0.6957\n",
      "Epoch 68/100\n",
      "1/1 [==============================] - 0s 167ms/step - loss: 0.0616 - accuracy: 1.0000 - val_loss: 0.5793 - val_accuracy: 0.6957\n",
      "Epoch 69/100\n",
      "1/1 [==============================] - 0s 169ms/step - loss: 0.0589 - accuracy: 1.0000 - val_loss: 0.5685 - val_accuracy: 0.6957\n",
      "Epoch 70/100\n",
      "1/1 [==============================] - 0s 162ms/step - loss: 0.0560 - accuracy: 1.0000 - val_loss: 0.5775 - val_accuracy: 0.6957\n",
      "Epoch 71/100\n",
      "1/1 [==============================] - 0s 164ms/step - loss: 0.0626 - accuracy: 1.0000 - val_loss: 0.5311 - val_accuracy: 0.6957\n",
      "Epoch 72/100\n",
      "1/1 [==============================] - 0s 168ms/step - loss: 0.0559 - accuracy: 1.0000 - val_loss: 0.5110 - val_accuracy: 0.6957\n",
      "Epoch 73/100\n",
      "1/1 [==============================] - 0s 163ms/step - loss: 0.0555 - accuracy: 1.0000 - val_loss: 0.5571 - val_accuracy: 0.6957\n",
      "Epoch 74/100\n",
      "1/1 [==============================] - 0s 167ms/step - loss: 0.0821 - accuracy: 0.9659 - val_loss: 0.5443 - val_accuracy: 0.6522\n",
      "Epoch 75/100\n",
      "1/1 [==============================] - 0s 167ms/step - loss: 0.0783 - accuracy: 0.9886 - val_loss: 0.6175 - val_accuracy: 0.5652\n",
      "Epoch 76/100\n",
      "1/1 [==============================] - 0s 163ms/step - loss: 0.1056 - accuracy: 0.9659 - val_loss: 0.6453 - val_accuracy: 0.6087\n",
      "Epoch 77/100\n",
      "1/1 [==============================] - 0s 169ms/step - loss: 0.0861 - accuracy: 0.9886 - val_loss: 0.5802 - val_accuracy: 0.6522\n",
      "Epoch 78/100\n",
      "1/1 [==============================] - 0s 163ms/step - loss: 0.0749 - accuracy: 1.0000 - val_loss: 0.5074 - val_accuracy: 0.6957\n",
      "Epoch 79/100\n",
      "1/1 [==============================] - 0s 171ms/step - loss: 0.0692 - accuracy: 1.0000 - val_loss: 0.5459 - val_accuracy: 0.6522\n",
      "Epoch 80/100\n",
      "1/1 [==============================] - 0s 163ms/step - loss: 0.0656 - accuracy: 1.0000 - val_loss: 0.6382 - val_accuracy: 0.6522\n",
      "Epoch 81/100\n",
      "1/1 [==============================] - 0s 164ms/step - loss: 0.0642 - accuracy: 0.9886 - val_loss: 0.6457 - val_accuracy: 0.6522\n",
      "Epoch 82/100\n",
      "1/1 [==============================] - 0s 165ms/step - loss: 0.0563 - accuracy: 0.9886 - val_loss: 0.5957 - val_accuracy: 0.6522\n",
      "Epoch 83/100\n",
      "1/1 [==============================] - 0s 165ms/step - loss: 0.0515 - accuracy: 1.0000 - val_loss: 0.5892 - val_accuracy: 0.6957\n",
      "Epoch 84/100\n",
      "1/1 [==============================] - 0s 165ms/step - loss: 0.0498 - accuracy: 1.0000 - val_loss: 0.6412 - val_accuracy: 0.6522\n",
      "Epoch 85/100\n",
      "1/1 [==============================] - 0s 165ms/step - loss: 0.0454 - accuracy: 0.9886 - val_loss: 0.6606 - val_accuracy: 0.6522\n",
      "Epoch 86/100\n",
      "1/1 [==============================] - 0s 169ms/step - loss: 0.0436 - accuracy: 0.9886 - val_loss: 0.6244 - val_accuracy: 0.6522\n",
      "Epoch 87/100\n",
      "1/1 [==============================] - 0s 167ms/step - loss: 0.0422 - accuracy: 0.9886 - val_loss: 0.5913 - val_accuracy: 0.6087\n",
      "Epoch 88/100\n",
      "1/1 [==============================] - 0s 165ms/step - loss: 0.0417 - accuracy: 0.9886 - val_loss: 0.6081 - val_accuracy: 0.6087\n",
      "Epoch 89/100\n",
      "1/1 [==============================] - 0s 170ms/step - loss: 0.0406 - accuracy: 0.9886 - val_loss: 0.6198 - val_accuracy: 0.6522\n",
      "Epoch 90/100\n",
      "1/1 [==============================] - 0s 167ms/step - loss: 0.0379 - accuracy: 0.9886 - val_loss: 0.6158 - val_accuracy: 0.6522\n",
      "Epoch 91/100\n",
      "1/1 [==============================] - 0s 171ms/step - loss: 0.0358 - accuracy: 1.0000 - val_loss: 0.6229 - val_accuracy: 0.6522\n",
      "Epoch 92/100\n",
      "1/1 [==============================] - 0s 164ms/step - loss: 0.0342 - accuracy: 1.0000 - val_loss: 0.6232 - val_accuracy: 0.6522\n",
      "Epoch 93/100\n",
      "1/1 [==============================] - 0s 168ms/step - loss: 0.0332 - accuracy: 1.0000 - val_loss: 0.6216 - val_accuracy: 0.6522\n",
      "Epoch 94/100\n",
      "1/1 [==============================] - 0s 161ms/step - loss: 0.0321 - accuracy: 1.0000 - val_loss: 0.6344 - val_accuracy: 0.6522\n",
      "Epoch 95/100\n",
      "1/1 [==============================] - 0s 165ms/step - loss: 0.0305 - accuracy: 1.0000 - val_loss: 0.6369 - val_accuracy: 0.6957\n",
      "Epoch 96/100\n",
      "1/1 [==============================] - 0s 169ms/step - loss: 0.0294 - accuracy: 1.0000 - val_loss: 0.6315 - val_accuracy: 0.6957\n",
      "Epoch 97/100\n",
      "1/1 [==============================] - 0s 164ms/step - loss: 0.0282 - accuracy: 1.0000 - val_loss: 0.6409 - val_accuracy: 0.6957\n",
      "Epoch 98/100\n",
      "1/1 [==============================] - 0s 163ms/step - loss: 0.0270 - accuracy: 1.0000 - val_loss: 0.6545 - val_accuracy: 0.6522\n",
      "Epoch 99/100\n",
      "1/1 [==============================] - 0s 166ms/step - loss: 0.0258 - accuracy: 1.0000 - val_loss: 0.6816 - val_accuracy: 0.6522\n",
      "Epoch 100/100\n",
      "1/1 [==============================] - 0s 164ms/step - loss: 0.0249 - accuracy: 1.0000 - val_loss: 0.6963 - val_accuracy: 0.6522\n"
     ]
    }
   ],
   "source": [
    "print('Training model...')\n",
    "r = model.fit(\n",
    "  data,\n",
    "  targets,\n",
    "  batch_size=BATCH_SIZE,\n",
    "  epochs=EPOCHS,\n",
    "  validation_split=VALIDATION_SPLIT\n",
    ")"
   ]
  },
  {
   "cell_type": "code",
   "execution_count": 37,
   "id": "b3ad1df1-8ae0-4eba-bfd8-9b454faa3dee",
   "metadata": {
    "jupyter": {
     "source_hidden": true
    },
    "tags": []
   },
   "outputs": [
    {
     "data": {
      "image/png": "[encoded data removed]",
      "text/plain": [
       "<Figure size 640x480 with 1 Axes>"
      ]
     },
     "metadata": {},
     "output_type": "display_data"
    }
   ],
   "source": [
    "# plot some data\n",
    "plt.plot(r.history['loss'], label='loss')\n",
    "plt.plot(r.history['val_loss'], label='val_loss')\n",
    "plt.legend()\n",
    "plt.show()"
   ]
  },
  {
   "cell_type": "code",
   "execution_count": 38,
   "id": "e767af5d-ee2e-4879-9775-60ba393f911f",
   "metadata": {
    "tags": []
   },
   "outputs": [
    {
     "data": {
      "image/png": "[encoded data removed]",
      "text/plain": [
       "<Figure size 640x480 with 1 Axes>"
      ]
     },
     "metadata": {},
     "output_type": "display_data"
    }
   ],
   "source": [
    "# accuracies\n",
    "plt.plot(r.history['accuracy'], label='acc')\n",
    "plt.plot(r.history['val_accuracy'], label='val_acc')\n",
    "plt.legend()\n",
    "plt.show()"
   ]
  },
  {
   "cell_type": "code",
   "execution_count": 39,
   "id": "4681bb29-41c2-4723-8c68-cf6ae72b8261",
   "metadata": {
    "tags": []
   },
   "outputs": [
    {
     "name": "stdout",
     "output_type": "stream",
     "text": [
      "Epoch 1/40\n",
      "1/1 [==============================] - 0s 191ms/step - loss: 0.0240 - accuracy: 1.0000 - val_loss: 0.6896 - val_accuracy: 0.6522\n",
      "Epoch 2/40\n",
      "1/1 [==============================] - 0s 165ms/step - loss: 0.0230 - accuracy: 1.0000 - val_loss: 0.6785 - val_accuracy: 0.6957\n",
      "Epoch 3/40\n",
      "1/1 [==============================] - 0s 172ms/step - loss: 0.0226 - accuracy: 1.0000 - val_loss: 0.6724 - val_accuracy: 0.6957\n",
      "Epoch 4/40\n",
      "1/1 [==============================] - 0s 168ms/step - loss: 0.0218 - accuracy: 1.0000 - val_loss: 0.6866 - val_accuracy: 0.6522\n",
      "Epoch 5/40\n",
      "1/1 [==============================] - 0s 163ms/step - loss: 0.0210 - accuracy: 1.0000 - val_loss: 0.7081 - val_accuracy: 0.6522\n",
      "Epoch 6/40\n",
      "1/1 [==============================] - 0s 166ms/step - loss: 0.0203 - accuracy: 1.0000 - val_loss: 0.7146 - val_accuracy: 0.6522\n",
      "Epoch 7/40\n",
      "1/1 [==============================] - 0s 168ms/step - loss: 0.0196 - accuracy: 1.0000 - val_loss: 0.6986 - val_accuracy: 0.6522\n",
      "Epoch 8/40\n",
      "1/1 [==============================] - 0s 171ms/step - loss: 0.0189 - accuracy: 1.0000 - val_loss: 0.6718 - val_accuracy: 0.6522\n",
      "Epoch 9/40\n",
      "1/1 [==============================] - 0s 178ms/step - loss: 0.0184 - accuracy: 1.0000 - val_loss: 0.6733 - val_accuracy: 0.6522\n",
      "Epoch 10/40\n",
      "1/1 [==============================] - 0s 173ms/step - loss: 0.0181 - accuracy: 1.0000 - val_loss: 0.6843 - val_accuracy: 0.6522\n",
      "Epoch 11/40\n",
      "1/1 [==============================] - 0s 167ms/step - loss: 0.0175 - accuracy: 1.0000 - val_loss: 0.7074 - val_accuracy: 0.6522\n",
      "Epoch 12/40\n",
      "1/1 [==============================] - 0s 163ms/step - loss: 0.0169 - accuracy: 1.0000 - val_loss: 0.7308 - val_accuracy: 0.6087\n",
      "Epoch 13/40\n",
      "1/1 [==============================] - 0s 166ms/step - loss: 0.0166 - accuracy: 1.0000 - val_loss: 0.7347 - val_accuracy: 0.6087\n",
      "Epoch 14/40\n",
      "1/1 [==============================] - 0s 166ms/step - loss: 0.0161 - accuracy: 1.0000 - val_loss: 0.7197 - val_accuracy: 0.6087\n",
      "Epoch 15/40\n",
      "1/1 [==============================] - 0s 167ms/step - loss: 0.0156 - accuracy: 1.0000 - val_loss: 0.7093 - val_accuracy: 0.6087\n",
      "Epoch 16/40\n",
      "1/1 [==============================] - 0s 167ms/step - loss: 0.0153 - accuracy: 1.0000 - val_loss: 0.7122 - val_accuracy: 0.6087\n",
      "Epoch 17/40\n",
      "1/1 [==============================] - 0s 166ms/step - loss: 0.0149 - accuracy: 1.0000 - val_loss: 0.7251 - val_accuracy: 0.6087\n",
      "Epoch 18/40\n",
      "1/1 [==============================] - 0s 165ms/step - loss: 0.0144 - accuracy: 1.0000 - val_loss: 0.7404 - val_accuracy: 0.6087\n",
      "Epoch 19/40\n",
      "1/1 [==============================] - 0s 172ms/step - loss: 0.0140 - accuracy: 1.0000 - val_loss: 0.7459 - val_accuracy: 0.6087\n",
      "Epoch 20/40\n",
      "1/1 [==============================] - 0s 166ms/step - loss: 0.0137 - accuracy: 1.0000 - val_loss: 0.7453 - val_accuracy: 0.6087\n",
      "Epoch 21/40\n",
      "1/1 [==============================] - 0s 172ms/step - loss: 0.0132 - accuracy: 1.0000 - val_loss: 0.7391 - val_accuracy: 0.6087\n",
      "Epoch 22/40\n",
      "1/1 [==============================] - 0s 176ms/step - loss: 0.0129 - accuracy: 1.0000 - val_loss: 0.7348 - val_accuracy: 0.6087\n",
      "Epoch 23/40\n",
      "1/1 [==============================] - 0s 165ms/step - loss: 0.0126 - accuracy: 1.0000 - val_loss: 0.7404 - val_accuracy: 0.6087\n",
      "Epoch 24/40\n",
      "1/1 [==============================] - 0s 168ms/step - loss: 0.0122 - accuracy: 1.0000 - val_loss: 0.7517 - val_accuracy: 0.6087\n",
      "Epoch 25/40\n",
      "1/1 [==============================] - 0s 171ms/step - loss: 0.0118 - accuracy: 1.0000 - val_loss: 0.7539 - val_accuracy: 0.6087\n",
      "Epoch 26/40\n",
      "1/1 [==============================] - 0s 170ms/step - loss: 0.0115 - accuracy: 1.0000 - val_loss: 0.7453 - val_accuracy: 0.6087\n",
      "Epoch 27/40\n",
      "1/1 [==============================] - 0s 166ms/step - loss: 0.0112 - accuracy: 1.0000 - val_loss: 0.7444 - val_accuracy: 0.6087\n",
      "Epoch 28/40\n",
      "1/1 [==============================] - 0s 176ms/step - loss: 0.0109 - accuracy: 1.0000 - val_loss: 0.7263 - val_accuracy: 0.6087\n",
      "Epoch 29/40\n",
      "1/1 [==============================] - 0s 166ms/step - loss: 0.0106 - accuracy: 1.0000 - val_loss: 0.7294 - val_accuracy: 0.6087\n",
      "Epoch 30/40\n",
      "1/1 [==============================] - 0s 169ms/step - loss: 0.0103 - accuracy: 1.0000 - val_loss: 0.7434 - val_accuracy: 0.6087\n",
      "Epoch 31/40\n",
      "1/1 [==============================] - 0s 166ms/step - loss: 0.0102 - accuracy: 1.0000 - val_loss: 0.7538 - val_accuracy: 0.6087\n",
      "Epoch 32/40\n",
      "1/1 [==============================] - 0s 168ms/step - loss: 0.0099 - accuracy: 1.0000 - val_loss: 0.7646 - val_accuracy: 0.6087\n",
      "Epoch 33/40\n",
      "1/1 [==============================] - 0s 162ms/step - loss: 0.0096 - accuracy: 1.0000 - val_loss: 0.7596 - val_accuracy: 0.6087\n",
      "Epoch 34/40\n",
      "1/1 [==============================] - 0s 167ms/step - loss: 0.0094 - accuracy: 1.0000 - val_loss: 0.7555 - val_accuracy: 0.6087\n",
      "Epoch 35/40\n",
      "1/1 [==============================] - 0s 169ms/step - loss: 0.0092 - accuracy: 1.0000 - val_loss: 0.7444 - val_accuracy: 0.6087\n",
      "Epoch 36/40\n",
      "1/1 [==============================] - 0s 168ms/step - loss: 0.0089 - accuracy: 1.0000 - val_loss: 0.7335 - val_accuracy: 0.6522\n",
      "Epoch 37/40\n",
      "1/1 [==============================] - 0s 173ms/step - loss: 0.0087 - accuracy: 1.0000 - val_loss: 0.7372 - val_accuracy: 0.6522\n",
      "Epoch 38/40\n",
      "1/1 [==============================] - 0s 181ms/step - loss: 0.0086 - accuracy: 1.0000 - val_loss: 0.7447 - val_accuracy: 0.6087\n",
      "Epoch 39/40\n",
      "1/1 [==============================] - 0s 169ms/step - loss: 0.0084 - accuracy: 1.0000 - val_loss: 0.7565 - val_accuracy: 0.6087\n",
      "Epoch 40/40\n",
      "1/1 [==============================] - 0s 169ms/step - loss: 0.0082 - accuracy: 1.0000 - val_loss: 0.7652 - val_accuracy: 0.6087\n"
     ]
    }
   ],
   "source": [
    "EPOCHS = 40\n",
    "\n",
    "r = model.fit(\n",
    "  data,\n",
    "  targets,\n",
    "  batch_size=BATCH_SIZE,\n",
    "  epochs=EPOCHS,\n",
    "  validation_split=VALIDATION_SPLIT\n",
    ")"
   ]
  },
  {
   "cell_type": "code",
   "execution_count": null,
   "id": "a9c3feeb-7a47-423f-9144-91699f35c999",
   "metadata": {},
   "outputs": [],
   "source": []
  },
  {
   "cell_type": "code",
   "execution_count": 40,
   "id": "acadb07f-0519-4d37-808c-08acd904ddb7",
   "metadata": {
    "tags": []
   },
   "outputs": [
    {
     "name": "stdout",
     "output_type": "stream",
     "text": [
      "4/4 [==============================] - 1s 28ms/step\n",
      "0.9777112395618416\n"
     ]
    }
   ],
   "source": [
    "p = model.predict(data)\n",
    "aucs = []\n",
    "for j in range(3):\n",
    "    auc = roc_auc_score(targets[:,j], p[:,j])\n",
    "    aucs.append(auc)\n",
    "print(np.mean(aucs))"
   ]
  },
  {
   "cell_type": "code",
   "execution_count": null,
   "id": "bf5b2acd-67a5-4cff-a706-77ceb832ef4c",
   "metadata": {},
   "outputs": [],
   "source": []
  },
  {
   "cell_type": "code",
   "execution_count": 41,
   "id": "d3a26767-96a4-4dfd-9769-89079b62db36",
   "metadata": {
    "tags": []
   },
   "outputs": [],
   "source": [
    "sentences_test = X_test['text'].fillna(\"DUMMY_VALUE\").values"
   ]
  },
  {
   "cell_type": "code",
   "execution_count": 42,
   "id": "aaabea3a-49e6-4fdb-829b-65240064ad50",
   "metadata": {
    "tags": []
   },
   "outputs": [],
   "source": [
    "# convert the sentences (strings) into integers\n",
    "tokenizer = Tokenizer(num_words=MAX_VOCAB_SIZE)\n",
    "tokenizer.fit_on_texts(sentences_test)\n",
    "sequences_test = tokenizer.texts_to_sequences(sentences_test)"
   ]
  },
  {
   "cell_type": "code",
   "execution_count": 43,
   "id": "e0dac109-eb3a-4797-810e-af294b4fdf0f",
   "metadata": {
    "tags": []
   },
   "outputs": [
    {
     "name": "stdout",
     "output_type": "stream",
     "text": [
      "Found 963 unique tokens.\n"
     ]
    }
   ],
   "source": [
    "# get word -> integer mapping\n",
    "word2idx = tokenizer.word_index\n",
    "print('Found %s unique tokens.' % len(word2idx))"
   ]
  },
  {
   "cell_type": "code",
   "execution_count": 44,
   "id": "4c4f60e7-f50f-4c4e-8a57-6c91a8d9597f",
   "metadata": {
    "tags": []
   },
   "outputs": [
    {
     "name": "stdout",
     "output_type": "stream",
     "text": [
      "Shape of data tensor: (28, 600)\n"
     ]
    }
   ],
   "source": [
    "# pad sequences so that we get a N x T matrix\n",
    "data_test = tf.keras.utils.pad_sequences(sequences_test, maxlen=MAX_SEQUENCE_LENGTH)\n",
    "print('Shape of data tensor:', data_test.shape)"
   ]
  },
  {
   "cell_type": "code",
   "execution_count": null,
   "id": "c0269718-441b-4589-b285-2bf04e20a811",
   "metadata": {},
   "outputs": [],
   "source": []
  },
  {
   "cell_type": "code",
   "execution_count": 45,
   "id": "7932f5fe-a1cb-48f2-b816-dc4d77bcd2bb",
   "metadata": {
    "tags": []
   },
   "outputs": [
    {
     "name": "stdout",
     "output_type": "stream",
     "text": [
      "1/1 [==============================] - 0s 36ms/step\n"
     ]
    }
   ],
   "source": [
    "p = model.predict(data_test)"
   ]
  },
  {
   "cell_type": "code",
   "execution_count": 46,
   "id": "ffd0378e-12c7-4397-bf69-165daf2e177d",
   "metadata": {
    "tags": []
   },
   "outputs": [],
   "source": [
    "results = np.argmax(p, axis=1)"
   ]
  },
  {
   "cell_type": "code",
   "execution_count": 47,
   "id": "b5ddef1e-cb26-4397-8421-6da04fc2cd07",
   "metadata": {
    "tags": []
   },
   "outputs": [],
   "source": [
    "label = y_test.values"
   ]
  },
  {
   "cell_type": "code",
   "execution_count": 48,
   "id": "73a6effb-fbe9-449c-97bd-e56b40a9c4a9",
   "metadata": {
    "tags": []
   },
   "outputs": [],
   "source": [
    "df = pd.DataFrame({'Label': label, 'Result': results})"
   ]
  },
  {
   "cell_type": "code",
   "execution_count": 49,
   "id": "7e78b88d-f001-422c-925a-c74b2199267d",
   "metadata": {
    "tags": []
   },
   "outputs": [
    {
     "data": {
      "text/html": [
       "<div>\n",
       "<style scoped>\n",
       "    .dataframe tbody tr th:only-of-type {\n",
       "        vertical-align: middle;\n",
       "    }\n",
       "\n",
       "    .dataframe tbody tr th {\n",
       "        vertical-align: top;\n",
       "    }\n",
       "\n",
       "    .dataframe thead th {\n",
       "        text-align: right;\n",
       "    }\n",
       "</style>\n",
       "<table border=\"1\" class=\"dataframe\">\n",
       "  <thead>\n",
       "    <tr style=\"text-align: right;\">\n",
       "      <th></th>\n",
       "      <th>Label</th>\n",
       "      <th>Result</th>\n",
       "    </tr>\n",
       "  </thead>\n",
       "  <tbody>\n",
       "    <tr>\n",
       "      <th>0</th>\n",
       "      <td>dovish</td>\n",
       "      <td>2</td>\n",
       "    </tr>\n",
       "    <tr>\n",
       "      <th>1</th>\n",
       "      <td>dovish</td>\n",
       "      <td>2</td>\n",
       "    </tr>\n",
       "    <tr>\n",
       "      <th>2</th>\n",
       "      <td>dovish</td>\n",
       "      <td>2</td>\n",
       "    </tr>\n",
       "    <tr>\n",
       "      <th>3</th>\n",
       "      <td>dovish</td>\n",
       "      <td>2</td>\n",
       "    </tr>\n",
       "    <tr>\n",
       "      <th>4</th>\n",
       "      <td>neutral</td>\n",
       "      <td>2</td>\n",
       "    </tr>\n",
       "    <tr>\n",
       "      <th>5</th>\n",
       "      <td>neutral</td>\n",
       "      <td>2</td>\n",
       "    </tr>\n",
       "    <tr>\n",
       "      <th>6</th>\n",
       "      <td>neutral</td>\n",
       "      <td>2</td>\n",
       "    </tr>\n",
       "    <tr>\n",
       "      <th>7</th>\n",
       "      <td>neutral</td>\n",
       "      <td>1</td>\n",
       "    </tr>\n",
       "    <tr>\n",
       "      <th>8</th>\n",
       "      <td>dovish</td>\n",
       "      <td>1</td>\n",
       "    </tr>\n",
       "    <tr>\n",
       "      <th>9</th>\n",
       "      <td>hawkish</td>\n",
       "      <td>0</td>\n",
       "    </tr>\n",
       "    <tr>\n",
       "      <th>10</th>\n",
       "      <td>hawkish</td>\n",
       "      <td>2</td>\n",
       "    </tr>\n",
       "    <tr>\n",
       "      <th>11</th>\n",
       "      <td>hawkish</td>\n",
       "      <td>2</td>\n",
       "    </tr>\n",
       "    <tr>\n",
       "      <th>12</th>\n",
       "      <td>hawkish</td>\n",
       "      <td>2</td>\n",
       "    </tr>\n",
       "    <tr>\n",
       "      <th>13</th>\n",
       "      <td>dovish</td>\n",
       "      <td>0</td>\n",
       "    </tr>\n",
       "    <tr>\n",
       "      <th>14</th>\n",
       "      <td>dovish</td>\n",
       "      <td>1</td>\n",
       "    </tr>\n",
       "    <tr>\n",
       "      <th>15</th>\n",
       "      <td>neutral</td>\n",
       "      <td>2</td>\n",
       "    </tr>\n",
       "    <tr>\n",
       "      <th>16</th>\n",
       "      <td>neutral</td>\n",
       "      <td>2</td>\n",
       "    </tr>\n",
       "    <tr>\n",
       "      <th>17</th>\n",
       "      <td>neutral</td>\n",
       "      <td>2</td>\n",
       "    </tr>\n",
       "    <tr>\n",
       "      <th>18</th>\n",
       "      <td>dovish</td>\n",
       "      <td>2</td>\n",
       "    </tr>\n",
       "    <tr>\n",
       "      <th>19</th>\n",
       "      <td>dovish</td>\n",
       "      <td>2</td>\n",
       "    </tr>\n",
       "    <tr>\n",
       "      <th>20</th>\n",
       "      <td>hawkish</td>\n",
       "      <td>2</td>\n",
       "    </tr>\n",
       "    <tr>\n",
       "      <th>21</th>\n",
       "      <td>dovish</td>\n",
       "      <td>0</td>\n",
       "    </tr>\n",
       "    <tr>\n",
       "      <th>22</th>\n",
       "      <td>hawkish</td>\n",
       "      <td>2</td>\n",
       "    </tr>\n",
       "    <tr>\n",
       "      <th>23</th>\n",
       "      <td>dovish</td>\n",
       "      <td>2</td>\n",
       "    </tr>\n",
       "    <tr>\n",
       "      <th>24</th>\n",
       "      <td>hawkish</td>\n",
       "      <td>2</td>\n",
       "    </tr>\n",
       "    <tr>\n",
       "      <th>25</th>\n",
       "      <td>hawkish</td>\n",
       "      <td>2</td>\n",
       "    </tr>\n",
       "    <tr>\n",
       "      <th>26</th>\n",
       "      <td>dovish</td>\n",
       "      <td>2</td>\n",
       "    </tr>\n",
       "    <tr>\n",
       "      <th>27</th>\n",
       "      <td>hawkish</td>\n",
       "      <td>2</td>\n",
       "    </tr>\n",
       "  </tbody>\n",
       "</table>\n",
       "</div>"
      ],
      "text/plain": [
       "      Label  Result\n",
       "0    dovish       2\n",
       "1    dovish       2\n",
       "2    dovish       2\n",
       "3    dovish       2\n",
       "4   neutral       2\n",
       "5   neutral       2\n",
       "6   neutral       2\n",
       "7   neutral       1\n",
       "8    dovish       1\n",
       "9   hawkish       0\n",
       "10  hawkish       2\n",
       "11  hawkish       2\n",
       "12  hawkish       2\n",
       "13   dovish       0\n",
       "14   dovish       1\n",
       "15  neutral       2\n",
       "16  neutral       2\n",
       "17  neutral       2\n",
       "18   dovish       2\n",
       "19   dovish       2\n",
       "20  hawkish       2\n",
       "21   dovish       0\n",
       "22  hawkish       2\n",
       "23   dovish       2\n",
       "24  hawkish       2\n",
       "25  hawkish       2\n",
       "26   dovish       2\n",
       "27  hawkish       2"
      ]
     },
     "execution_count": 49,
     "metadata": {},
     "output_type": "execute_result"
    }
   ],
   "source": [
    "df"
   ]
  },
  {
   "cell_type": "code",
   "execution_count": null,
   "id": "56dd19fe-5a1d-4eff-845a-29221738d119",
   "metadata": {},
   "outputs": [],
   "source": []
  }
 ],
 "metadata": {
  "kernelspec": {
   "display_name": "Python 3 (ipykernel)",
   "language": "python",
   "name": "python3"
  },
  "language_info": {
   "codemirror_mode": {
    "name": "ipython",
    "version": 3
   },
   "file_extension": ".py",
   "mimetype": "text/x-python",
   "name": "python",
   "nbconvert_exporter": "python",
   "pygments_lexer": "ipython3",
   "version": "3.11.3"
  }
 },
 "nbformat": 4,
 "nbformat_minor": 5
}

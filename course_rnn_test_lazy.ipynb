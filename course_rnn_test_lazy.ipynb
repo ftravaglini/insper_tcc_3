{
 "cells": [
  {
   "cell_type": "code",
   "execution_count": 1,
   "id": "fc675d4e-7407-411e-8467-7cd4492ef5ac",
   "metadata": {
    "tags": []
   },
   "outputs": [],
   "source": [
    "from __future__ import print_function, division\n",
    "from builtins import range, input\n",
    "# Note: you may need to update your version of future\n",
    "# sudo pip install -U future\n",
    "\n",
    "from keras.models import Model\n",
    "from keras.layers import Input, LSTM, GRU\n",
    "import numpy as np\n",
    "import matplotlib.pyplot as plt\n",
    "\n",
    "try:\n",
    "  import keras.backend as K\n",
    "  if len(K.tensorflow_backend._get_available_gpus()) > 0:\n",
    "    from keras.layers import CuDNNLSTM as LSTM\n",
    "    from keras.layers import CuDNNGRU as GRU\n",
    "except:\n",
    "  pass\n"
   ]
  },
  {
   "cell_type": "code",
   "execution_count": 2,
   "id": "fa7e3bc1-0b97-4593-8b11-6f24f31376fa",
   "metadata": {
    "tags": []
   },
   "outputs": [],
   "source": [
    "T = 8\n",
    "D = 2\n",
    "M = 3\n",
    "\n",
    "\n",
    "X = np.random.randn(1, T, D)"
   ]
  },
  {
   "cell_type": "code",
   "execution_count": 3,
   "id": "4fb47f2f-6770-49aa-b6af-c63557814885",
   "metadata": {
    "tags": []
   },
   "outputs": [],
   "source": [
    "def lstm1():\n",
    "  input_ = Input(shape=(T, D))\n",
    "  rnn = LSTM(M, return_state=True)\n",
    "  x = rnn(input_)\n",
    "\n",
    "  model = Model(inputs=input_, outputs=x)\n",
    "  o, h, c = model.predict(X)\n",
    "  print(\"o:\", o)\n",
    "  print(\"h:\", h)\n",
    "  print(\"c:\", c)"
   ]
  },
  {
   "cell_type": "code",
   "execution_count": 4,
   "id": "50d0d7d4-3bc3-4d37-bdfa-7717b327c651",
   "metadata": {
    "tags": []
   },
   "outputs": [],
   "source": [
    "def lstm2():\n",
    "  input_ = Input(shape=(T, D))\n",
    "  rnn = LSTM(M, return_state=True, return_sequences=True)\n",
    "  # rnn = GRU(M, return_state=True)\n",
    "  x = rnn(input_)\n",
    "\n",
    "  model = Model(inputs=input_, outputs=x)\n",
    "  o, h, c = model.predict(X)\n",
    "  print(\"o:\", o)\n",
    "  print(\"h:\", h)\n",
    "  print(\"c:\", c)"
   ]
  },
  {
   "cell_type": "code",
   "execution_count": 5,
   "id": "275dc2ff-4efd-4b7a-b4d7-fcb400ef86ab",
   "metadata": {
    "tags": []
   },
   "outputs": [],
   "source": [
    "def gru1():\n",
    "  input_ = Input(shape=(T, D))\n",
    "  rnn = GRU(M, return_state=True)\n",
    "  x = rnn(input_)\n",
    "\n",
    "  model = Model(inputs=input_, outputs=x)\n",
    "  o, h = model.predict(X)\n",
    "  print(\"o:\", o)\n",
    "  print(\"h:\", h)"
   ]
  },
  {
   "cell_type": "code",
   "execution_count": 6,
   "id": "ab3d54ea-4eca-4675-9a07-fdab03d9a94c",
   "metadata": {
    "tags": []
   },
   "outputs": [],
   "source": [
    "def gru2():\n",
    "  input_ = Input(shape=(T, D))\n",
    "  rnn = GRU(M, return_state=True, return_sequences=True)\n",
    "  x = rnn(input_)\n",
    "\n",
    "  model = Model(inputs=input_, outputs=x)\n",
    "  o, h = model.predict(X)\n",
    "  print(\"o:\", o)\n",
    "  print(\"h:\", h)"
   ]
  },
  {
   "cell_type": "code",
   "execution_count": 7,
   "id": "2a05fe33-7edf-49ea-b319-f466880c68ba",
   "metadata": {
    "tags": []
   },
   "outputs": [
    {
     "name": "stdout",
     "output_type": "stream",
     "text": [
      "lstm1:\n",
      "1/1 [==============================] - 0s 245ms/step\n",
      "o: [[ 0.07760885  0.02792938 -0.07908177]]\n",
      "h: [[ 0.07760885  0.02792938 -0.07908177]]\n",
      "c: [[ 0.18304186  0.08695573 -0.19221973]]\n"
     ]
    }
   ],
   "source": [
    "print(\"lstm1:\")\n",
    "lstm1()"
   ]
  },
  {
   "cell_type": "code",
   "execution_count": 8,
   "id": "8cb3fefb-6766-4c00-b05e-85e80bcb6181",
   "metadata": {
    "tags": []
   },
   "outputs": [
    {
     "name": "stdout",
     "output_type": "stream",
     "text": [
      "lstm2:\n",
      "1/1 [==============================] - 0s 215ms/step\n",
      "o: [[[-0.10336107 -0.01973436 -0.12454839]\n",
      "  [ 0.10808992  0.05220209 -0.04727697]\n",
      "  [ 0.22528596  0.13097933  0.06236428]\n",
      "  [ 0.22435117  0.08358096  0.13751243]\n",
      "  [ 0.15183663  0.08256385  0.02189532]\n",
      "  [ 0.07558171  0.03981434  0.03077252]\n",
      "  [ 0.02468212  0.04831318 -0.02101474]\n",
      "  [-0.01032168  0.02264311 -0.01807193]]]\n",
      "h: [[-0.01032168  0.02264311 -0.01807193]]\n",
      "c: [[-0.02144494  0.07316257 -0.0309162 ]]\n"
     ]
    }
   ],
   "source": [
    "print(\"lstm2:\")\n",
    "lstm2()"
   ]
  },
  {
   "cell_type": "code",
   "execution_count": 9,
   "id": "b6fd80bd-3819-4e86-9687-a1f7cd1abcb6",
   "metadata": {
    "tags": []
   },
   "outputs": [
    {
     "name": "stdout",
     "output_type": "stream",
     "text": [
      "gru1:\n",
      "1/1 [==============================] - 0s 198ms/step\n",
      "o: [[ 0.11729115  0.3249734  -0.07428721]]\n",
      "h: [[ 0.11729115  0.3249734  -0.07428721]]\n"
     ]
    }
   ],
   "source": [
    "print(\"gru1:\")\n",
    "gru1()"
   ]
  },
  {
   "cell_type": "code",
   "execution_count": 10,
   "id": "40452203-b770-47be-9723-60c4ac8b56b8",
   "metadata": {
    "tags": []
   },
   "outputs": [
    {
     "name": "stdout",
     "output_type": "stream",
     "text": [
      "gru2:\n",
      "1/1 [==============================] - 0s 194ms/step\n",
      "o: [[[ 0.4685031   0.13594067  0.21713787]\n",
      "  [ 0.16044822 -0.3604069  -0.37616616]\n",
      "  [-0.10619477 -0.36501014 -0.60127896]\n",
      "  [-0.1576477  -0.18132743 -0.20003246]\n",
      "  [ 0.06952457 -0.05984918 -0.01511856]\n",
      "  [ 0.08919337  0.08606025  0.20728847]\n",
      "  [ 0.12293881  0.01364055  0.17142412]\n",
      "  [ 0.12410717  0.1427355   0.26273575]]]\n",
      "h: [[0.12410717 0.1427355  0.26273575]]\n"
     ]
    }
   ],
   "source": [
    "print(\"gru2:\")\n",
    "gru2()"
   ]
  },
  {
   "cell_type": "code",
   "execution_count": null,
   "id": "5e0ed639-db67-4a13-a128-dfae81aebb0b",
   "metadata": {},
   "outputs": [],
   "source": []
  }
 ],
 "metadata": {
  "kernelspec": {
   "display_name": "Python 3 (ipykernel)",
   "language": "python",
   "name": "python3"
  },
  "language_info": {
   "codemirror_mode": {
    "name": "ipython",
    "version": 3
   },
   "file_extension": ".py",
   "mimetype": "text/x-python",
   "name": "python",
   "nbconvert_exporter": "python",
   "pygments_lexer": "ipython3",
   "version": "3.11.3"
  }
 },
 "nbformat": 4,
 "nbformat_minor": 5
}

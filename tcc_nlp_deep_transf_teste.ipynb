{
 "cells": [
  {
   "cell_type": "markdown",
   "id": "791f0e12-bbb6-4bcb-8a2e-1048ab03bbd2",
   "metadata": {},
   "source": [
    "# Deep"
   ]
  },
  {
   "cell_type": "code",
   "execution_count": 24,
   "id": "a31c09db-4b81-43b8-859c-144cf32e5150",
   "metadata": {},
   "outputs": [],
   "source": [
    "# !pip install transformers"
   ]
  },
  {
   "cell_type": "code",
   "execution_count": 16,
   "id": "5a418dd8-90ca-41b5-b4ea-9638598d471d",
   "metadata": {},
   "outputs": [],
   "source": [
    "import pandas as pd\n",
    "import numpy as np"
   ]
  },
  {
   "cell_type": "code",
   "execution_count": 17,
   "id": "d116ad26-12a3-487c-9b47-5f9abe2b6a14",
   "metadata": {},
   "outputs": [],
   "source": [
    "df_copom = pd.read_csv('df_copom.csv')"
   ]
  },
  {
   "cell_type": "code",
   "execution_count": 18,
   "id": "60443267-16fc-4610-9633-d96d57c5a6d3",
   "metadata": {},
   "outputs": [
    {
     "data": {
      "text/html": [
       "<div>\n",
       "<style scoped>\n",
       "    .dataframe tbody tr th:only-of-type {\n",
       "        vertical-align: middle;\n",
       "    }\n",
       "\n",
       "    .dataframe tbody tr th {\n",
       "        vertical-align: top;\n",
       "    }\n",
       "\n",
       "    .dataframe thead th {\n",
       "        text-align: right;\n",
       "    }\n",
       "</style>\n",
       "<table border=\"1\" class=\"dataframe\">\n",
       "  <thead>\n",
       "    <tr style=\"text-align: right;\">\n",
       "      <th></th>\n",
       "      <th>Date</th>\n",
       "      <th>Selic</th>\n",
       "      <th>Meeting_Number</th>\n",
       "      <th>Decision</th>\n",
       "      <th>Decision_txt</th>\n",
       "      <th>Text</th>\n",
       "      <th>Type</th>\n",
       "    </tr>\n",
       "  </thead>\n",
       "  <tbody>\n",
       "    <tr>\n",
       "      <th>0</th>\n",
       "      <td>2006/03/08</td>\n",
       "      <td>16.50</td>\n",
       "      <td>117.0</td>\n",
       "      <td>-0.75</td>\n",
       "      <td>decrease</td>\n",
       "      <td>In the March Meeting, the Banco Central do Br...</td>\n",
       "      <td>Statement</td>\n",
       "    </tr>\n",
       "    <tr>\n",
       "      <th>1</th>\n",
       "      <td>2006/04/19</td>\n",
       "      <td>15.75</td>\n",
       "      <td>118.0</td>\n",
       "      <td>-0.75</td>\n",
       "      <td>decrease</td>\n",
       "      <td>In the April Meeting, the Monetary Policy Com...</td>\n",
       "      <td>Statement</td>\n",
       "    </tr>\n",
       "    <tr>\n",
       "      <th>2</th>\n",
       "      <td>2006/05/31</td>\n",
       "      <td>15.25</td>\n",
       "      <td>119.0</td>\n",
       "      <td>-0.50</td>\n",
       "      <td>decrease</td>\n",
       "      <td>In the May Meeting, the Monetary Policy Commi...</td>\n",
       "      <td>Statement</td>\n",
       "    </tr>\n",
       "    <tr>\n",
       "      <th>3</th>\n",
       "      <td>2006/07/19</td>\n",
       "      <td>14.75</td>\n",
       "      <td>120.0</td>\n",
       "      <td>-0.50</td>\n",
       "      <td>decrease</td>\n",
       "      <td>In the July Meeting, the Copom unanimously de...</td>\n",
       "      <td>Statement</td>\n",
       "    </tr>\n",
       "    <tr>\n",
       "      <th>4</th>\n",
       "      <td>2006/08/30</td>\n",
       "      <td>14.25</td>\n",
       "      <td>121.0</td>\n",
       "      <td>-0.50</td>\n",
       "      <td>decrease</td>\n",
       "      <td>In the August Meeting, the Copom unanimously ...</td>\n",
       "      <td>Statement</td>\n",
       "    </tr>\n",
       "  </tbody>\n",
       "</table>\n",
       "</div>"
      ],
      "text/plain": [
       "         Date  Selic  Meeting_Number  Decision Decision_txt  \\\n",
       "0  2006/03/08  16.50           117.0     -0.75     decrease   \n",
       "1  2006/04/19  15.75           118.0     -0.75     decrease   \n",
       "2  2006/05/31  15.25           119.0     -0.50     decrease   \n",
       "3  2006/07/19  14.75           120.0     -0.50     decrease   \n",
       "4  2006/08/30  14.25           121.0     -0.50     decrease   \n",
       "\n",
       "                                                Text       Type  \n",
       "0   In the March Meeting, the Banco Central do Br...  Statement  \n",
       "1   In the April Meeting, the Monetary Policy Com...  Statement  \n",
       "2   In the May Meeting, the Monetary Policy Commi...  Statement  \n",
       "3   In the July Meeting, the Copom unanimously de...  Statement  \n",
       "4   In the August Meeting, the Copom unanimously ...  Statement  "
      ]
     },
     "execution_count": 18,
     "metadata": {},
     "output_type": "execute_result"
    }
   ],
   "source": [
    "df_copom.head()"
   ]
  },
  {
   "cell_type": "code",
   "execution_count": 57,
   "id": "2cac1804-1348-4574-9154-a91b7a652f5b",
   "metadata": {},
   "outputs": [
    {
     "data": {
      "text/plain": [
       "0      decrease\n",
       "1      decrease\n",
       "2      decrease\n",
       "3      decrease\n",
       "4      decrease\n",
       "         ...   \n",
       "154     mantain\n",
       "155     mantain\n",
       "156     mantain\n",
       "157     mantain\n",
       "158     mantain\n",
       "Name: Decision_txt, Length: 159, dtype: object"
      ]
     },
     "execution_count": 57,
     "metadata": {},
     "output_type": "execute_result"
    }
   ],
   "source": [
    "df_copom['Decision_txt']"
   ]
  },
  {
   "cell_type": "code",
   "execution_count": null,
   "id": "9ffcb77b-9cbd-45db-9f4d-8160d388228b",
   "metadata": {},
   "outputs": [],
   "source": []
  },
  {
   "cell_type": "code",
   "execution_count": 25,
   "id": "7ef44a03-eec9-44be-b117-dcc1e98fb5cd",
   "metadata": {},
   "outputs": [],
   "source": [
    "from transformers import BertForSequenceClassification, BertTokenizer\n",
    "\n",
    "# initialize the tokenizer for BERT models\n",
    "tokenizer = BertTokenizer.from_pretrained('ProsusAI/finbert')\n",
    "# initialize the model for sequence classification\n",
    "model = BertForSequenceClassification.from_pretrained('ProsusAI/finbert')"
   ]
  },
  {
   "cell_type": "code",
   "execution_count": 58,
   "id": "98a05251-b69d-46db-a8e3-3dfb70d3811e",
   "metadata": {},
   "outputs": [],
   "source": [
    "txt = df_copom['Text'][156]"
   ]
  },
  {
   "cell_type": "code",
   "execution_count": 59,
   "id": "b49e8c69-050c-46b4-9883-5f5bf658dea2",
   "metadata": {},
   "outputs": [
    {
     "data": {
      "text/plain": [
       "'Since its previous meeting of the Monetary Policy Committee (Copom), the global environment has dete'"
      ]
     },
     "execution_count": 59,
     "metadata": {},
     "output_type": "execute_result"
    }
   ],
   "source": [
    "txt[:100]"
   ]
  },
  {
   "cell_type": "code",
   "execution_count": 60,
   "id": "dfa5a8e1-ac46-4e54-a969-739fcc922026",
   "metadata": {},
   "outputs": [],
   "source": [
    "tokens = tokenizer.encode_plus(txt, max_length=512,\n",
    "                                truncation=True,\n",
    "                                padding='max_length',\n",
    "                                add_special_tokens=True,\n",
    "                                return_tensors='pt')"
   ]
  },
  {
   "cell_type": "code",
   "execution_count": 68,
   "id": "3c69ee07-177c-4ae4-a104-c0ab8118736f",
   "metadata": {},
   "outputs": [
    {
     "data": {
      "text/plain": [
       "{'input_ids': tensor([[  101,  2144,  2049,  3025,  3116,  1997,  1996, 12194,  3343,  2837,\n",
       "          1006,  8872,  5358,  1007,  1010,  1996,  3795,  4044,  2038, 20111,\n",
       "          1012,  1996,  4178,  5994,  5085,  1999,  1996,  2142,  2163,  1998,\n",
       "          2885,  2031,  3445,  1996, 12503,  1998,  1996,  5285, 10450, 18605,\n",
       "          1999,  6089,  1998,  5478,  8822,  1012,  2012,  1996,  2168,  2051,\n",
       "          1010,  3522,  2951,  2006,  3795,  4023,  1998, 14200,  3961, 24501,\n",
       "         18622,  4765,  1998,  1996,  2832,  1997, 12194,  3343, 18711,  1999,\n",
       "          2350, 18730,  2506,  2000,  5083,  1012,  4953,  1996,  4968, 11967,\n",
       "          1010,  1996,  3522,  2275,  1997, 20390,  1997,  4023,  4247,  2000,\n",
       "          2022,  1999,  2240,  2007,  1996, 11703, 12260,  8156,  3517,  2011,\n",
       "          8872,  5358,  1012,  7325, 14200,  2004,  2092,  2004,  1996,  2536,\n",
       "          5761,  1997, 10318, 14200,  2024,  2682,  1996,  2846, 11892,  2007,\n",
       "          3116,  1996, 14200,  4539,  1012, 14200, 10908,  2005, 16798,  2509,\n",
       "          1998, 16798,  2549,  5067,  2011,  1996,  3579,  5002,  2031,  3445,\n",
       "          1010,  1998,  2024,  2105,  1020,  1012,  1014,  1003,  1998,  1018,\n",
       "          1012,  1015,  1003,  1010,  4414,  1012,  8872,  5358,  1005,  1055,\n",
       "         14200, 21796,  1999,  1996,  4431, 11967,  1008,  2036,  3445,  1998,\n",
       "          3233,  2012,  1019,  1012,  1022,  1003,  2005, 16798,  2509,  1998,\n",
       "          1017,  1012,  1020,  1003,  2005, 16798,  2549,  1012, 14200, 21796,\n",
       "          2005,  8564,  7597,  2024,  2184,  1012,  1016,  1003,  2005, 16798,\n",
       "          2509,  1998,  1019,  1012,  1017,  1003,  2005, 16798,  2549,  1012,\n",
       "          1996,  2837,  2787,  2153,  2000, 17902,  1996,  2416,  1011,  4284,\n",
       "          1011,  3805,  9154,  1010,  2029,  5218,  2000,  1996,  2353,  4284,\n",
       "          1997, 16798,  2549,  1010,  1999,  2029,  1996,  2260,  1011,  3204,\n",
       "         14200, 13996,  4832,  2012,  1017,  1012,  1022,  1003,  1012,  1999,\n",
       "          2019,  4522, 11967,  1010,  2007,  1037,  5377,  3037,  3446,  2802,\n",
       "          1996,  7882,  9154,  1010, 14200, 21796,  3233,  2012,  1019,  1012,\n",
       "          1021,  1003,  1010,  1017,  1012,  1017,  1003,  1998,  1017,  1012,\n",
       "          1014,  1003,  2005, 16798,  2509,  1010,  1996,  2353,  4284,  1997,\n",
       "         16798,  2549,  1998,  1996,  2095, 16798,  2549,  1010,  4414,  1012,\n",
       "          1996,  2837,  6794,  2008,  1996, 12503,  1999,  2049, 17568,  1998,\n",
       "         21796,  2003,  3020,  2084,  5156,  1012,  1996,  2837, 20618,  2008,\n",
       "         10831,  2000,  2049, 16820,  3961,  1999,  2119,  7826,  1012,  2426,\n",
       "          1996, 14961, 10831,  2005,  1996, 14200,  5649, 11967,  1998, 14200,\n",
       "         10908,  1010,  2009,  2323,  2022, 13155,  1006,  1045,  1007,  1037,\n",
       "          3618, 28297,  1997,  3795, 14200,  5649, 15399,  1025,  1006,  2462,\n",
       "          1007,  1996, 12503,  2055,  1996, 10807,  7705,  1998,  2049, 14670,\n",
       "          2006,  1996,  3517,  4130,  1997,  1996,  2270,  7016,  1025,  1998,\n",
       "          1006,  3523,  1007,  1037,  3469,  2030,  2062, 14516,  4670,  9905,\n",
       "          4892,  1997,  2146,  1011,  2744, 14200, 10908,  1012,  2426,  1996,\n",
       "         12482,  5178, 10831,  1010,  2009,  2323,  2022,  3264,  1006,  1045,\n",
       "          1007,  2019,  3176,  7312,  1999,  1996,  7597,  1997,  2248, 21955,\n",
       "          7594,  1999,  2334,  9598,  1025,  1006,  2462,  1007,  1037,  3618,\n",
       "          2084, 11310, 11703, 12260,  8156,  1997,  3795,  3171,  4023,  1010,\n",
       "          3391,  2349,  2000, 15316,  3785,  1999,  1996,  3795,  3361,  2291,\n",
       "          1025,  1998,  1006,  3523,  1007,  1037,  4030,  7698,  1999,  4968,\n",
       "          4923, 16427,  3469,  2084,  2054,  2052,  2022, 11892,  2007,  1996,\n",
       "          2783, 11032,  1997, 12194,  3343,  1012,  2006,  2028,  2192,  1010,\n",
       "          1996,  3522, 19222, 12259,  3672,  1997,  4762,  7773,  2038,  4359,\n",
       "          1996, 12503,  1997,  1996, 10807,  3463,  1999,  1996,  2460,  2744,\n",
       "          1012,  2006,  1996,  2060,  2192,  1010,  1996,  2783, 11967,  1010,\n",
       "          4417,   102]]), 'token_type_ids': tensor([[0, 0, 0, 0, 0, 0, 0, 0, 0, 0, 0, 0, 0, 0, 0, 0, 0, 0, 0, 0, 0, 0, 0, 0,\n",
       "         0, 0, 0, 0, 0, 0, 0, 0, 0, 0, 0, 0, 0, 0, 0, 0, 0, 0, 0, 0, 0, 0, 0, 0,\n",
       "         0, 0, 0, 0, 0, 0, 0, 0, 0, 0, 0, 0, 0, 0, 0, 0, 0, 0, 0, 0, 0, 0, 0, 0,\n",
       "         0, 0, 0, 0, 0, 0, 0, 0, 0, 0, 0, 0, 0, 0, 0, 0, 0, 0, 0, 0, 0, 0, 0, 0,\n",
       "         0, 0, 0, 0, 0, 0, 0, 0, 0, 0, 0, 0, 0, 0, 0, 0, 0, 0, 0, 0, 0, 0, 0, 0,\n",
       "         0, 0, 0, 0, 0, 0, 0, 0, 0, 0, 0, 0, 0, 0, 0, 0, 0, 0, 0, 0, 0, 0, 0, 0,\n",
       "         0, 0, 0, 0, 0, 0, 0, 0, 0, 0, 0, 0, 0, 0, 0, 0, 0, 0, 0, 0, 0, 0, 0, 0,\n",
       "         0, 0, 0, 0, 0, 0, 0, 0, 0, 0, 0, 0, 0, 0, 0, 0, 0, 0, 0, 0, 0, 0, 0, 0,\n",
       "         0, 0, 0, 0, 0, 0, 0, 0, 0, 0, 0, 0, 0, 0, 0, 0, 0, 0, 0, 0, 0, 0, 0, 0,\n",
       "         0, 0, 0, 0, 0, 0, 0, 0, 0, 0, 0, 0, 0, 0, 0, 0, 0, 0, 0, 0, 0, 0, 0, 0,\n",
       "         0, 0, 0, 0, 0, 0, 0, 0, 0, 0, 0, 0, 0, 0, 0, 0, 0, 0, 0, 0, 0, 0, 0, 0,\n",
       "         0, 0, 0, 0, 0, 0, 0, 0, 0, 0, 0, 0, 0, 0, 0, 0, 0, 0, 0, 0, 0, 0, 0, 0,\n",
       "         0, 0, 0, 0, 0, 0, 0, 0, 0, 0, 0, 0, 0, 0, 0, 0, 0, 0, 0, 0, 0, 0, 0, 0,\n",
       "         0, 0, 0, 0, 0, 0, 0, 0, 0, 0, 0, 0, 0, 0, 0, 0, 0, 0, 0, 0, 0, 0, 0, 0,\n",
       "         0, 0, 0, 0, 0, 0, 0, 0, 0, 0, 0, 0, 0, 0, 0, 0, 0, 0, 0, 0, 0, 0, 0, 0,\n",
       "         0, 0, 0, 0, 0, 0, 0, 0, 0, 0, 0, 0, 0, 0, 0, 0, 0, 0, 0, 0, 0, 0, 0, 0,\n",
       "         0, 0, 0, 0, 0, 0, 0, 0, 0, 0, 0, 0, 0, 0, 0, 0, 0, 0, 0, 0, 0, 0, 0, 0,\n",
       "         0, 0, 0, 0, 0, 0, 0, 0, 0, 0, 0, 0, 0, 0, 0, 0, 0, 0, 0, 0, 0, 0, 0, 0,\n",
       "         0, 0, 0, 0, 0, 0, 0, 0, 0, 0, 0, 0, 0, 0, 0, 0, 0, 0, 0, 0, 0, 0, 0, 0,\n",
       "         0, 0, 0, 0, 0, 0, 0, 0, 0, 0, 0, 0, 0, 0, 0, 0, 0, 0, 0, 0, 0, 0, 0, 0,\n",
       "         0, 0, 0, 0, 0, 0, 0, 0, 0, 0, 0, 0, 0, 0, 0, 0, 0, 0, 0, 0, 0, 0, 0, 0,\n",
       "         0, 0, 0, 0, 0, 0, 0, 0]]), 'attention_mask': tensor([[1, 1, 1, 1, 1, 1, 1, 1, 1, 1, 1, 1, 1, 1, 1, 1, 1, 1, 1, 1, 1, 1, 1, 1,\n",
       "         1, 1, 1, 1, 1, 1, 1, 1, 1, 1, 1, 1, 1, 1, 1, 1, 1, 1, 1, 1, 1, 1, 1, 1,\n",
       "         1, 1, 1, 1, 1, 1, 1, 1, 1, 1, 1, 1, 1, 1, 1, 1, 1, 1, 1, 1, 1, 1, 1, 1,\n",
       "         1, 1, 1, 1, 1, 1, 1, 1, 1, 1, 1, 1, 1, 1, 1, 1, 1, 1, 1, 1, 1, 1, 1, 1,\n",
       "         1, 1, 1, 1, 1, 1, 1, 1, 1, 1, 1, 1, 1, 1, 1, 1, 1, 1, 1, 1, 1, 1, 1, 1,\n",
       "         1, 1, 1, 1, 1, 1, 1, 1, 1, 1, 1, 1, 1, 1, 1, 1, 1, 1, 1, 1, 1, 1, 1, 1,\n",
       "         1, 1, 1, 1, 1, 1, 1, 1, 1, 1, 1, 1, 1, 1, 1, 1, 1, 1, 1, 1, 1, 1, 1, 1,\n",
       "         1, 1, 1, 1, 1, 1, 1, 1, 1, 1, 1, 1, 1, 1, 1, 1, 1, 1, 1, 1, 1, 1, 1, 1,\n",
       "         1, 1, 1, 1, 1, 1, 1, 1, 1, 1, 1, 1, 1, 1, 1, 1, 1, 1, 1, 1, 1, 1, 1, 1,\n",
       "         1, 1, 1, 1, 1, 1, 1, 1, 1, 1, 1, 1, 1, 1, 1, 1, 1, 1, 1, 1, 1, 1, 1, 1,\n",
       "         1, 1, 1, 1, 1, 1, 1, 1, 1, 1, 1, 1, 1, 1, 1, 1, 1, 1, 1, 1, 1, 1, 1, 1,\n",
       "         1, 1, 1, 1, 1, 1, 1, 1, 1, 1, 1, 1, 1, 1, 1, 1, 1, 1, 1, 1, 1, 1, 1, 1,\n",
       "         1, 1, 1, 1, 1, 1, 1, 1, 1, 1, 1, 1, 1, 1, 1, 1, 1, 1, 1, 1, 1, 1, 1, 1,\n",
       "         1, 1, 1, 1, 1, 1, 1, 1, 1, 1, 1, 1, 1, 1, 1, 1, 1, 1, 1, 1, 1, 1, 1, 1,\n",
       "         1, 1, 1, 1, 1, 1, 1, 1, 1, 1, 1, 1, 1, 1, 1, 1, 1, 1, 1, 1, 1, 1, 1, 1,\n",
       "         1, 1, 1, 1, 1, 1, 1, 1, 1, 1, 1, 1, 1, 1, 1, 1, 1, 1, 1, 1, 1, 1, 1, 1,\n",
       "         1, 1, 1, 1, 1, 1, 1, 1, 1, 1, 1, 1, 1, 1, 1, 1, 1, 1, 1, 1, 1, 1, 1, 1,\n",
       "         1, 1, 1, 1, 1, 1, 1, 1, 1, 1, 1, 1, 1, 1, 1, 1, 1, 1, 1, 1, 1, 1, 1, 1,\n",
       "         1, 1, 1, 1, 1, 1, 1, 1, 1, 1, 1, 1, 1, 1, 1, 1, 1, 1, 1, 1, 1, 1, 1, 1,\n",
       "         1, 1, 1, 1, 1, 1, 1, 1, 1, 1, 1, 1, 1, 1, 1, 1, 1, 1, 1, 1, 1, 1, 1, 1,\n",
       "         1, 1, 1, 1, 1, 1, 1, 1, 1, 1, 1, 1, 1, 1, 1, 1, 1, 1, 1, 1, 1, 1, 1, 1,\n",
       "         1, 1, 1, 1, 1, 1, 1, 1]])}"
      ]
     },
     "execution_count": 68,
     "metadata": {},
     "output_type": "execute_result"
    }
   ],
   "source": [
    "tokens"
   ]
  },
  {
   "cell_type": "code",
   "execution_count": 61,
   "id": "d13d5b22-60cf-46bd-ac07-1837ee1487ee",
   "metadata": {},
   "outputs": [],
   "source": [
    "output = model(**tokens)"
   ]
  },
  {
   "cell_type": "code",
   "execution_count": 62,
   "id": "e65d95d3-87a1-453c-b6c1-ecb98f1f0d6d",
   "metadata": {},
   "outputs": [
    {
     "data": {
      "text/plain": [
       "SequenceClassifierOutput(loss=None, logits=tensor([[-0.0750, -0.0906, -0.0369]], grad_fn=<AddmmBackward0>), hidden_states=None, attentions=None)"
      ]
     },
     "execution_count": 62,
     "metadata": {},
     "output_type": "execute_result"
    }
   ],
   "source": [
    "output"
   ]
  },
  {
   "cell_type": "code",
   "execution_count": 63,
   "id": "0e54cc95-8070-49f4-907d-252e0747ef7e",
   "metadata": {},
   "outputs": [
    {
     "data": {
      "text/plain": [
       "tensor([[-0.0750, -0.0906, -0.0369]], grad_fn=<AddmmBackward0>)"
      ]
     },
     "execution_count": 63,
     "metadata": {},
     "output_type": "execute_result"
    }
   ],
   "source": [
    "output[0]"
   ]
  },
  {
   "cell_type": "code",
   "execution_count": 64,
   "id": "c1482946-5015-46a5-be80-aa9d93fa5e9b",
   "metadata": {},
   "outputs": [],
   "source": [
    "import torch.nn.functional as F"
   ]
  },
  {
   "cell_type": "code",
   "execution_count": 65,
   "id": "0ab7e691-5b1b-4849-ac4c-8d5d7c35285e",
   "metadata": {},
   "outputs": [
    {
     "data": {
      "text/plain": [
       "tensor([[0.3308, 0.3256, 0.3436]], grad_fn=<SoftmaxBackward0>)"
      ]
     },
     "execution_count": 65,
     "metadata": {},
     "output_type": "execute_result"
    }
   ],
   "source": [
    "probs = F.softmax(output[0], dim=-1)\n",
    "probs"
   ]
  },
  {
   "cell_type": "code",
   "execution_count": 66,
   "id": "98894d8e-7024-401b-a282-f6c6ddd62341",
   "metadata": {},
   "outputs": [],
   "source": [
    "import torch\n",
    "\n",
    "pred = torch.argmax(probs)"
   ]
  },
  {
   "cell_type": "code",
   "execution_count": 67,
   "id": "64746e3a-5b53-43d1-bc53-5da1e074fd7c",
   "metadata": {},
   "outputs": [
    {
     "data": {
      "text/plain": [
       "2"
      ]
     },
     "execution_count": 67,
     "metadata": {},
     "output_type": "execute_result"
    }
   ],
   "source": [
    "pred.item()"
   ]
  },
  {
   "cell_type": "code",
   "execution_count": null,
   "id": "963b5354-7e1d-44f7-8570-d48dc3a24825",
   "metadata": {},
   "outputs": [],
   "source": []
  }
 ],
 "metadata": {
  "kernelspec": {
   "display_name": "Python 3 (ipykernel)",
   "language": "python",
   "name": "python3"
  },
  "language_info": {
   "codemirror_mode": {
    "name": "ipython",
    "version": 3
   },
   "file_extension": ".py",
   "mimetype": "text/x-python",
   "name": "python",
   "nbconvert_exporter": "python",
   "pygments_lexer": "ipython3",
   "version": "3.7.3"
  }
 },
 "nbformat": 4,
 "nbformat_minor": 5
}

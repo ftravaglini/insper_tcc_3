{
 "cells": [
  {
   "cell_type": "markdown",
   "id": "791f0e12-bbb6-4bcb-8a2e-1048ab03bbd2",
   "metadata": {},
   "source": [
    "# Deep: NLP With Transformer -  Section 6 Sentimento Model"
   ]
  },
  {
   "cell_type": "code",
   "execution_count": 1,
   "id": "5a418dd8-90ca-41b5-b4ea-9638598d471d",
   "metadata": {},
   "outputs": [],
   "source": [
    "import pandas as pd\n",
    "import numpy as np\n",
    "import matplotlib.pyplot as plt"
   ]
  },
  {
   "cell_type": "code",
   "execution_count": 2,
   "id": "d116ad26-12a3-487c-9b47-5f9abe2b6a14",
   "metadata": {},
   "outputs": [],
   "source": [
    "df_copom = pd.read_csv('df_copom_label.csv')"
   ]
  },
  {
   "cell_type": "code",
   "execution_count": 3,
   "id": "60443267-16fc-4610-9633-d96d57c5a6d3",
   "metadata": {},
   "outputs": [
    {
     "data": {
      "text/html": [
       "<div>\n",
       "<style scoped>\n",
       "    .dataframe tbody tr th:only-of-type {\n",
       "        vertical-align: middle;\n",
       "    }\n",
       "\n",
       "    .dataframe tbody tr th {\n",
       "        vertical-align: top;\n",
       "    }\n",
       "\n",
       "    .dataframe thead th {\n",
       "        text-align: right;\n",
       "    }\n",
       "</style>\n",
       "<table border=\"1\" class=\"dataframe\">\n",
       "  <thead>\n",
       "    <tr style=\"text-align: right;\">\n",
       "      <th></th>\n",
       "      <th>Date</th>\n",
       "      <th>Selic</th>\n",
       "      <th>Meeting_Number</th>\n",
       "      <th>Decision</th>\n",
       "      <th>Decision_txt</th>\n",
       "      <th>label_hawk_dove</th>\n",
       "      <th>label_next_meet</th>\n",
       "      <th>Text</th>\n",
       "      <th>Type</th>\n",
       "    </tr>\n",
       "  </thead>\n",
       "  <tbody>\n",
       "    <tr>\n",
       "      <th>0</th>\n",
       "      <td>2006/03/08</td>\n",
       "      <td>16.50</td>\n",
       "      <td>117.0</td>\n",
       "      <td>-0.75</td>\n",
       "      <td>decrease</td>\n",
       "      <td>dovish</td>\n",
       "      <td>decrease</td>\n",
       "      <td>In the March Meeting, the Banco Central do Br...</td>\n",
       "      <td>Statement</td>\n",
       "    </tr>\n",
       "    <tr>\n",
       "      <th>1</th>\n",
       "      <td>2006/04/19</td>\n",
       "      <td>15.75</td>\n",
       "      <td>118.0</td>\n",
       "      <td>-0.75</td>\n",
       "      <td>decrease</td>\n",
       "      <td>dovish</td>\n",
       "      <td>decrease</td>\n",
       "      <td>In the April Meeting, the Monetary Policy Com...</td>\n",
       "      <td>Statement</td>\n",
       "    </tr>\n",
       "    <tr>\n",
       "      <th>2</th>\n",
       "      <td>2006/05/31</td>\n",
       "      <td>15.25</td>\n",
       "      <td>119.0</td>\n",
       "      <td>-0.50</td>\n",
       "      <td>decrease</td>\n",
       "      <td>dovish</td>\n",
       "      <td>decrease</td>\n",
       "      <td>In the May Meeting, the Monetary Policy Commi...</td>\n",
       "      <td>Statement</td>\n",
       "    </tr>\n",
       "    <tr>\n",
       "      <th>3</th>\n",
       "      <td>2006/07/19</td>\n",
       "      <td>14.75</td>\n",
       "      <td>120.0</td>\n",
       "      <td>-0.50</td>\n",
       "      <td>decrease</td>\n",
       "      <td>dovish</td>\n",
       "      <td>decrease</td>\n",
       "      <td>In the July Meeting, the Copom unanimously de...</td>\n",
       "      <td>Statement</td>\n",
       "    </tr>\n",
       "    <tr>\n",
       "      <th>4</th>\n",
       "      <td>2006/08/30</td>\n",
       "      <td>14.25</td>\n",
       "      <td>121.0</td>\n",
       "      <td>-0.50</td>\n",
       "      <td>decrease</td>\n",
       "      <td>dovish</td>\n",
       "      <td>decrease</td>\n",
       "      <td>In the August Meeting, the Copom unanimously ...</td>\n",
       "      <td>Statement</td>\n",
       "    </tr>\n",
       "  </tbody>\n",
       "</table>\n",
       "</div>"
      ],
      "text/plain": [
       "         Date  Selic  Meeting_Number  Decision Decision_txt label_hawk_dove  \\\n",
       "0  2006/03/08  16.50           117.0     -0.75     decrease          dovish   \n",
       "1  2006/04/19  15.75           118.0     -0.75     decrease          dovish   \n",
       "2  2006/05/31  15.25           119.0     -0.50     decrease          dovish   \n",
       "3  2006/07/19  14.75           120.0     -0.50     decrease          dovish   \n",
       "4  2006/08/30  14.25           121.0     -0.50     decrease          dovish   \n",
       "\n",
       "  label_next_meet                                               Text  \\\n",
       "0        decrease   In the March Meeting, the Banco Central do Br...   \n",
       "1        decrease   In the April Meeting, the Monetary Policy Com...   \n",
       "2        decrease   In the May Meeting, the Monetary Policy Commi...   \n",
       "3        decrease   In the July Meeting, the Copom unanimously de...   \n",
       "4        decrease   In the August Meeting, the Copom unanimously ...   \n",
       "\n",
       "        Type  \n",
       "0  Statement  \n",
       "1  Statement  \n",
       "2  Statement  \n",
       "3  Statement  \n",
       "4  Statement  "
      ]
     },
     "execution_count": 3,
     "metadata": {},
     "output_type": "execute_result"
    }
   ],
   "source": [
    "df_copom.head()"
   ]
  },
  {
   "cell_type": "code",
   "execution_count": 4,
   "id": "e594a921-8058-4fff-b65d-78f9e59b6c55",
   "metadata": {},
   "outputs": [
    {
     "data": {
      "text/plain": [
       "(159, 9)"
      ]
     },
     "execution_count": 4,
     "metadata": {},
     "output_type": "execute_result"
    }
   ],
   "source": [
    "df_copom.shape"
   ]
  },
  {
   "cell_type": "markdown",
   "id": "36c44e4b-0795-4f05-838d-c5caa6b9dcd9",
   "metadata": {},
   "source": [
    "### Split test and train"
   ]
  },
  {
   "cell_type": "code",
   "execution_count": 5,
   "id": "9783a43e-78d9-4a51-a65e-58e9ba6bf0e8",
   "metadata": {},
   "outputs": [
    {
     "name": "stderr",
     "output_type": "stream",
     "text": [
      "C:\\Users\\ftrav\\anaconda3\\envs\\pytorchenv\\lib\\site-packages\\sklearn\\utils\\validation.py:37: DeprecationWarning: distutils Version classes are deprecated. Use packaging.version instead.\n",
      "  LARGE_SPARSE_SUPPORTED = LooseVersion(scipy_version) >= '0.14.0'\n"
     ]
    }
   ],
   "source": [
    "from sklearn.model_selection import train_test_split"
   ]
  },
  {
   "cell_type": "code",
   "execution_count": 6,
   "id": "b9572834-9d66-4da3-8e55-e6fa9177a530",
   "metadata": {},
   "outputs": [],
   "source": [
    "X = df_copom.copy()\n",
    "y = df_copom['label_hawk_dove']"
   ]
  },
  {
   "cell_type": "code",
   "execution_count": 7,
   "id": "26356f49-54c3-4096-bf3d-4154aacce342",
   "metadata": {},
   "outputs": [],
   "source": [
    "#Perform train/test split\n",
    "X_train, X_test, y_train, y_test = train_test_split(X, y, test_size=0.2, random_state=42)"
   ]
  },
  {
   "cell_type": "code",
   "execution_count": 8,
   "id": "48226f65-b901-44e2-b066-bdc45a9dda50",
   "metadata": {},
   "outputs": [],
   "source": [
    "texts = X_train['Text'].tolist()\n",
    "labels = y_train.tolist()"
   ]
  },
  {
   "cell_type": "code",
   "execution_count": 69,
   "id": "505cec28-3d87-47e6-a8a5-c7acfaea9efe",
   "metadata": {},
   "outputs": [
    {
     "data": {
      "text/plain": [
       "127"
      ]
     },
     "execution_count": 69,
     "metadata": {},
     "output_type": "execute_result"
    }
   ],
   "source": [
    "len(texts)"
   ]
  },
  {
   "cell_type": "code",
   "execution_count": 9,
   "id": "beac442e-643e-4e33-a3d7-3dfaa0cd436e",
   "metadata": {},
   "outputs": [
    {
     "data": {
      "text/plain": [
       "127"
      ]
     },
     "execution_count": 9,
     "metadata": {},
     "output_type": "execute_result"
    }
   ],
   "source": [
    "len(labels)"
   ]
  },
  {
   "cell_type": "code",
   "execution_count": 10,
   "id": "c8a8b86c-9391-4baf-9aff-59221bb3faa6",
   "metadata": {},
   "outputs": [
    {
     "data": {
      "text/plain": [
       "(127, 512)"
      ]
     },
     "execution_count": 10,
     "metadata": {},
     "output_type": "execute_result"
    }
   ],
   "source": [
    "seq_len = 512 # number of the tokens tokenizer will create\n",
    "num_samples = len (texts)\n",
    "num_samples, seq_len"
   ]
  },
  {
   "cell_type": "markdown",
   "id": "281907f0-c87e-48db-af70-7e85dc15d434",
   "metadata": {},
   "source": [
    "#### Tokenizer"
   ]
  },
  {
   "cell_type": "code",
   "execution_count": 11,
   "id": "58ad6fe8-c73f-471f-a7e7-784439e93428",
   "metadata": {},
   "outputs": [],
   "source": [
    "from transformers import BertTokenizer"
   ]
  },
  {
   "cell_type": "code",
   "execution_count": 12,
   "id": "824b1a23-c62b-4e5e-a42d-7842d78591c4",
   "metadata": {},
   "outputs": [],
   "source": [
    "tokenizer = BertTokenizer.from_pretrained('bert-base-cased')"
   ]
  },
  {
   "cell_type": "code",
   "execution_count": 13,
   "id": "1dbde1dd-5c68-4b4a-843a-1cb28619b8a5",
   "metadata": {},
   "outputs": [],
   "source": [
    "tokens = tokenizer(texts, \n",
    "                   max_length=seq_len,\n",
    "                   truncation=True, \n",
    "                   padding = 'max_length', \n",
    "                   add_special_tokens=True,\n",
    "                   return_tensors='np')"
   ]
  },
  {
   "cell_type": "code",
   "execution_count": 14,
   "id": "ddd1ea5b-826d-4e3f-ba1a-d954a57a4e63",
   "metadata": {},
   "outputs": [
    {
     "data": {
      "text/plain": [
       "dict_keys(['input_ids', 'token_type_ids', 'attention_mask'])"
      ]
     },
     "execution_count": 14,
     "metadata": {},
     "output_type": "execute_result"
    }
   ],
   "source": [
    "tokens.keys()"
   ]
  },
  {
   "cell_type": "code",
   "execution_count": 15,
   "id": "4e4b2dfd-83e7-48f3-9008-f6105328d5ef",
   "metadata": {},
   "outputs": [
    {
     "data": {
      "text/plain": [
       "array([[  101,  1109,  3291, ...,     0,     0,     0],\n",
       "       [  101,  1130,  1157, ...,  1112, 17162,   102],\n",
       "       [  101,  1130,  1103, ...,     0,     0,     0],\n",
       "       ...,\n",
       "       [  101,  1249,  8830, ...,     0,     0,     0],\n",
       "       [  101,  1109,  3291, ...,  1103,  5880,   102],\n",
       "       [  101,  1109,  3291, ..., 16642,  1879,   102]])"
      ]
     },
     "execution_count": 15,
     "metadata": {},
     "output_type": "execute_result"
    }
   ],
   "source": [
    "tokens['input_ids']"
   ]
  },
  {
   "cell_type": "code",
   "execution_count": 16,
   "id": "838ac1e0-693a-4f2f-9e4a-5950b2a673a6",
   "metadata": {},
   "outputs": [
    {
     "data": {
      "text/plain": [
       "array([[1, 1, 1, ..., 0, 0, 0],\n",
       "       [1, 1, 1, ..., 1, 1, 1],\n",
       "       [1, 1, 1, ..., 0, 0, 0],\n",
       "       ...,\n",
       "       [1, 1, 1, ..., 0, 0, 0],\n",
       "       [1, 1, 1, ..., 1, 1, 1],\n",
       "       [1, 1, 1, ..., 1, 1, 1]])"
      ]
     },
     "execution_count": 16,
     "metadata": {},
     "output_type": "execute_result"
    }
   ],
   "source": [
    "tokens['attention_mask']"
   ]
  },
  {
   "cell_type": "markdown",
   "id": "91328dc5-64f5-4955-ba83-61129750c6be",
   "metadata": {},
   "source": [
    "#### Save to file"
   ]
  },
  {
   "cell_type": "code",
   "execution_count": 17,
   "id": "dbed2a5d-f046-4d71-9195-3797462c035b",
   "metadata": {},
   "outputs": [],
   "source": [
    "with open('en-text-ids.npy', 'wb') as f:\n",
    "    np.save(f, tokens['input_ids'])\n",
    "with open('en-text-masks.npy', 'wb') as f:\n",
    "    np.save(f, tokens['attention_mask'])"
   ]
  },
  {
   "cell_type": "markdown",
   "id": "96517c38-25c6-4ac2-bb0f-f460aea0bc84",
   "metadata": {},
   "source": [
    "#### Convert labels to one-hot encoded vectors"
   ]
  },
  {
   "cell_type": "code",
   "execution_count": 18,
   "id": "18c637e3-92e6-4462-b279-fadaba92865e",
   "metadata": {},
   "outputs": [],
   "source": [
    "# labels = df_copom['label_hawk_dove']"
   ]
  },
  {
   "cell_type": "code",
   "execution_count": 19,
   "id": "cce63ec0-c489-4803-bffb-f36cffaf30f2",
   "metadata": {},
   "outputs": [
    {
     "data": {
      "text/plain": [
       "(['dovish', 'neutral', 'hawkish'], 3)"
      ]
     },
     "execution_count": 19,
     "metadata": {},
     "output_type": "execute_result"
    }
   ],
   "source": [
    "label_classes = list(set(labels))\n",
    "num_classes = len(label_classes)\n",
    "label_classes, num_classes"
   ]
  },
  {
   "cell_type": "code",
   "execution_count": 20,
   "id": "c0fdf41f-03f4-4099-95aa-895832a01144",
   "metadata": {},
   "outputs": [
    {
     "data": {
      "text/plain": [
       "({'dovish': 0, 'neutral': 1, 'hawkish': 2},\n",
       " {0: 'dovish', 1: 'neutral', 2: 'hawkish'})"
      ]
     },
     "execution_count": 20,
     "metadata": {},
     "output_type": "execute_result"
    }
   ],
   "source": [
    "label_to_index = {label: index for index, label in enumerate(label_classes)}\n",
    "index_to_label = {index: label for label, index in label_to_index.items()}\n",
    "label_to_index, index_to_label"
   ]
  },
  {
   "cell_type": "code",
   "execution_count": 21,
   "id": "5dd1df99-c5b6-4e1b-b11d-9291876b4b24",
   "metadata": {},
   "outputs": [
    {
     "data": {
      "text/plain": [
       "array([[0., 1., 0.],\n",
       "       [0., 0., 1.],\n",
       "       [1., 0., 0.],\n",
       "       [1., 0., 0.],\n",
       "       [1., 0., 0.]])"
      ]
     },
     "execution_count": 21,
     "metadata": {},
     "output_type": "execute_result"
    }
   ],
   "source": [
    "labels_encoded = np.array([label_to_index[label] for label in labels])\n",
    "labels_one_hot = np.eye(num_classes)[labels_encoded]\n",
    "labels_one_hot[:5]"
   ]
  },
  {
   "cell_type": "code",
   "execution_count": 22,
   "id": "fb278905-b631-414b-936c-3a7bea40bcea",
   "metadata": {},
   "outputs": [],
   "source": [
    "with open('en-labels.npy', 'wb') as f:\n",
    "    np.save(f, labels_one_hot)"
   ]
  },
  {
   "cell_type": "markdown",
   "id": "7a6facb8-e7c7-4a3d-85ee-177b40ef555f",
   "metadata": {},
   "source": [
    "## Pipeline"
   ]
  },
  {
   "cell_type": "code",
   "execution_count": 23,
   "id": "27035a58-4f67-4685-88e8-c16dbafd114b",
   "metadata": {},
   "outputs": [],
   "source": [
    "with open('en-text-ids.npy', 'rb') as f:\n",
    "    Xids = np.load(f, allow_pickle=True)\n",
    "with open('en-text-masks.npy', 'rb') as f:\n",
    "    Xmasks = np.load(f, allow_pickle=True)\n",
    "with open('en-labels.npy', 'rb') as f:\n",
    "    labels = np.load(f, allow_pickle=True)"
   ]
  },
  {
   "cell_type": "code",
   "execution_count": 24,
   "id": "881fb19b-0955-4acb-98b7-5a026d536be9",
   "metadata": {},
   "outputs": [
    {
     "data": {
      "text/plain": [
       "(array([[  101,  1109,  3291, ...,     0,     0,     0],\n",
       "        [  101,  1130,  1157, ...,  1112, 17162,   102],\n",
       "        [  101,  1130,  1103, ...,     0,     0,     0],\n",
       "        ...,\n",
       "        [  101,  1249,  8830, ...,     0,     0,     0],\n",
       "        [  101,  1109,  3291, ...,  1103,  5880,   102],\n",
       "        [  101,  1109,  3291, ..., 16642,  1879,   102]]),\n",
       " (127, 512))"
      ]
     },
     "execution_count": 24,
     "metadata": {},
     "output_type": "execute_result"
    }
   ],
   "source": [
    "Xids, Xids.shape"
   ]
  },
  {
   "cell_type": "code",
   "execution_count": 25,
   "id": "66f035fc-c324-4cb1-bb0b-eb32d5757b02",
   "metadata": {},
   "outputs": [
    {
     "data": {
      "text/plain": [
       "(127, 3)"
      ]
     },
     "execution_count": 25,
     "metadata": {},
     "output_type": "execute_result"
    }
   ],
   "source": [
    "labels.shape"
   ]
  },
  {
   "cell_type": "markdown",
   "id": "1d53cfb7-7c16-415e-a24d-5e53feb43959",
   "metadata": {},
   "source": [
    "#### Create a TensorFlow datatype object"
   ]
  },
  {
   "cell_type": "code",
   "execution_count": 26,
   "id": "d30185bd-dafe-4127-86b9-c9f538d234d9",
   "metadata": {},
   "outputs": [
    {
     "data": {
      "text/plain": [
       "(array([[1, 1, 1, ..., 0, 0, 0],\n",
       "        [1, 1, 1, ..., 1, 1, 1],\n",
       "        [1, 1, 1, ..., 0, 0, 0],\n",
       "        ...,\n",
       "        [1, 1, 1, ..., 0, 0, 0],\n",
       "        [1, 1, 1, ..., 1, 1, 1],\n",
       "        [1, 1, 1, ..., 1, 1, 1]]),\n",
       " (127, 512))"
      ]
     },
     "execution_count": 26,
     "metadata": {},
     "output_type": "execute_result"
    }
   ],
   "source": [
    "Xmasks, Xmasks.shape"
   ]
  },
  {
   "cell_type": "code",
   "execution_count": 27,
   "id": "75f72993-3de8-4196-8a0b-85879a4966a1",
   "metadata": {},
   "outputs": [
    {
     "data": {
      "text/plain": [
       "(127, 3)"
      ]
     },
     "execution_count": 27,
     "metadata": {},
     "output_type": "execute_result"
    }
   ],
   "source": [
    "labels.shape"
   ]
  },
  {
   "cell_type": "code",
   "execution_count": 28,
   "id": "b605056a-7df0-4ab6-87d2-5b66d0987290",
   "metadata": {},
   "outputs": [],
   "source": [
    "import tensorflow as tf"
   ]
  },
  {
   "cell_type": "code",
   "execution_count": 29,
   "id": "1b6a0478-746a-401d-90ad-ef85570bd7a9",
   "metadata": {},
   "outputs": [],
   "source": [
    "dataset = tf.data.Dataset.from_tensor_slices((Xids, Xmasks, labels))"
   ]
  },
  {
   "cell_type": "code",
   "execution_count": 30,
   "id": "84641fa7-9138-4c28-af37-623a1bf01c5a",
   "metadata": {},
   "outputs": [
    {
     "data": {
      "text/plain": [
       "<TakeDataset element_spec=(TensorSpec(shape=(512,), dtype=tf.int32, name=None), TensorSpec(shape=(512,), dtype=tf.int32, name=None), TensorSpec(shape=(3,), dtype=tf.float64, name=None))>"
      ]
     },
     "execution_count": 30,
     "metadata": {},
     "output_type": "execute_result"
    }
   ],
   "source": [
    "dataset.take(1)"
   ]
  },
  {
   "cell_type": "code",
   "execution_count": 31,
   "id": "3d279ee4-0f44-4feb-b178-814d5a1ad4b5",
   "metadata": {},
   "outputs": [],
   "source": [
    "def map_func(input_ids, masks, labels):\n",
    "    return {'input_ids': input_ids,\n",
    "            'attention_mask': masks}, labels"
   ]
  },
  {
   "cell_type": "code",
   "execution_count": 32,
   "id": "77f8c9a4-044c-4e61-a4cc-81e97d39d52d",
   "metadata": {},
   "outputs": [],
   "source": [
    "dataset = dataset.map(map_func)"
   ]
  },
  {
   "cell_type": "code",
   "execution_count": 33,
   "id": "bb4cbb05-3009-4364-92c8-593bee587dde",
   "metadata": {},
   "outputs": [
    {
     "data": {
      "text/plain": [
       "<TakeDataset element_spec=({'input_ids': TensorSpec(shape=(512,), dtype=tf.int32, name=None), 'attention_mask': TensorSpec(shape=(512,), dtype=tf.int32, name=None)}, TensorSpec(shape=(3,), dtype=tf.float64, name=None))>"
      ]
     },
     "execution_count": 33,
     "metadata": {},
     "output_type": "execute_result"
    }
   ],
   "source": [
    "dataset.take(1)"
   ]
  },
  {
   "cell_type": "markdown",
   "id": "549b7d3d-d970-43ca-a470-cbd379f0c8a4",
   "metadata": {},
   "source": [
    "#### Batch size, shuffle, split"
   ]
  },
  {
   "cell_type": "code",
   "execution_count": 34,
   "id": "d196f571-ae80-4f2c-9b34-a7cfc4bcad6f",
   "metadata": {},
   "outputs": [],
   "source": [
    "batch_size = 16"
   ]
  },
  {
   "cell_type": "code",
   "execution_count": 35,
   "id": "e4fe6cb0-a685-4746-bbc1-be693f6732f8",
   "metadata": {},
   "outputs": [],
   "source": [
    "dataset = dataset.shuffle(10000).batch(batch_size, drop_remainder=True)"
   ]
  },
  {
   "cell_type": "code",
   "execution_count": 36,
   "id": "4df730ae-fe96-4d30-baf5-b62d1fb13e38",
   "metadata": {},
   "outputs": [
    {
     "data": {
      "text/plain": [
       "<TakeDataset element_spec=({'input_ids': TensorSpec(shape=(16, 512), dtype=tf.int32, name=None), 'attention_mask': TensorSpec(shape=(16, 512), dtype=tf.int32, name=None)}, TensorSpec(shape=(16, 3), dtype=tf.float64, name=None))>"
      ]
     },
     "execution_count": 36,
     "metadata": {},
     "output_type": "execute_result"
    }
   ],
   "source": [
    "dataset.take(1)"
   ]
  },
  {
   "cell_type": "code",
   "execution_count": 37,
   "id": "29390ff7-be44-44b8-9024-7fde7bd465fc",
   "metadata": {},
   "outputs": [],
   "source": [
    "split = 0.8"
   ]
  },
  {
   "cell_type": "code",
   "execution_count": 38,
   "id": "ca89f69f-9fd3-4f5e-a85a-2cfc95668263",
   "metadata": {},
   "outputs": [
    {
     "data": {
      "text/plain": [
       "6"
      ]
     },
     "execution_count": 38,
     "metadata": {},
     "output_type": "execute_result"
    }
   ],
   "source": [
    "size = int(Xids.shape[0]/batch_size * split)\n",
    "size"
   ]
  },
  {
   "cell_type": "code",
   "execution_count": 39,
   "id": "e67a3548-c29c-4126-bf8a-e488bd317c80",
   "metadata": {},
   "outputs": [],
   "source": [
    "train_ds = dataset.take(size)\n",
    "val_ds = dataset.skip(size)"
   ]
  },
  {
   "cell_type": "code",
   "execution_count": 40,
   "id": "852f160f-676f-446e-adc1-1cc73c867b20",
   "metadata": {},
   "outputs": [
    {
     "data": {
      "text/plain": [
       "(<TakeDataset element_spec=({'input_ids': TensorSpec(shape=(16, 512), dtype=tf.int32, name=None), 'attention_mask': TensorSpec(shape=(16, 512), dtype=tf.int32, name=None)}, TensorSpec(shape=(16, 3), dtype=tf.float64, name=None))>,\n",
       " <SkipDataset element_spec=({'input_ids': TensorSpec(shape=(16, 512), dtype=tf.int32, name=None), 'attention_mask': TensorSpec(shape=(16, 512), dtype=tf.int32, name=None)}, TensorSpec(shape=(16, 3), dtype=tf.float64, name=None))>)"
      ]
     },
     "execution_count": 40,
     "metadata": {},
     "output_type": "execute_result"
    }
   ],
   "source": [
    "train_ds, val_ds"
   ]
  },
  {
   "cell_type": "code",
   "execution_count": 41,
   "id": "81e2835e-cf60-488f-a786-631286db60f1",
   "metadata": {},
   "outputs": [],
   "source": [
    "tf.data.Dataset.save(train_ds, 'train')\n",
    "tf.data.Dataset.save(train_ds, 'val')"
   ]
  },
  {
   "cell_type": "code",
   "execution_count": 42,
   "id": "44850bb2-34f1-44eb-9ba7-1d946e8a36fd",
   "metadata": {},
   "outputs": [
    {
     "data": {
      "text/plain": [
       "({'input_ids': TensorSpec(shape=(16, 512), dtype=tf.int32, name=None),\n",
       "  'attention_mask': TensorSpec(shape=(16, 512), dtype=tf.int32, name=None)},\n",
       " TensorSpec(shape=(16, 3), dtype=tf.float64, name=None))"
      ]
     },
     "execution_count": 42,
     "metadata": {},
     "output_type": "execute_result"
    }
   ],
   "source": [
    "train_ds.element_spec"
   ]
  },
  {
   "cell_type": "code",
   "execution_count": 43,
   "id": "bda2d2c4-c05b-4687-a3c1-a3457bd070ba",
   "metadata": {},
   "outputs": [],
   "source": [
    "# ds = tf.data.Dataset.load('train', element_spec=train_ds.element_spec)"
   ]
  },
  {
   "cell_type": "markdown",
   "id": "e207a176-6bf8-42b0-8ba7-271e98bb9148",
   "metadata": {},
   "source": [
    "## Build"
   ]
  },
  {
   "cell_type": "code",
   "execution_count": 44,
   "id": "394b7dde-5685-498c-b26a-0f792436fe2b",
   "metadata": {},
   "outputs": [],
   "source": [
    "from transformers import TFAutoModel"
   ]
  },
  {
   "cell_type": "code",
   "execution_count": 45,
   "id": "fbf5d5b1-d14f-4008-82d2-06f35badabc1",
   "metadata": {},
   "outputs": [
    {
     "name": "stderr",
     "output_type": "stream",
     "text": [
      "Some weights of the PyTorch model were not used when initializing the TF 2.0 model TFBertModel: ['cls.predictions.transform.dense.weight', 'cls.predictions.transform.dense.bias', 'cls.seq_relationship.weight', 'cls.predictions.transform.LayerNorm.bias', 'cls.predictions.transform.LayerNorm.weight', 'cls.predictions.bias', 'cls.seq_relationship.bias']\n",
      "- This IS expected if you are initializing TFBertModel from a PyTorch model trained on another task or with another architecture (e.g. initializing a TFBertForSequenceClassification model from a BertForPreTraining model).\n",
      "- This IS NOT expected if you are initializing TFBertModel from a PyTorch model that you expect to be exactly identical (e.g. initializing a TFBertForSequenceClassification model from a BertForSequenceClassification model).\n",
      "All the weights of TFBertModel were initialized from the PyTorch model.\n",
      "If your task is similar to the task the model of the checkpoint was trained on, you can already use TFBertModel for predictions without further training.\n"
     ]
    }
   ],
   "source": [
    "bert = TFAutoModel.from_pretrained('bert-base-cased')"
   ]
  },
  {
   "cell_type": "code",
   "execution_count": 46,
   "id": "1fd38fdb-daf2-4de6-9548-4c9ed8f57544",
   "metadata": {},
   "outputs": [
    {
     "name": "stdout",
     "output_type": "stream",
     "text": [
      "Model: \"tf_bert_model\"\n",
      "_________________________________________________________________\n",
      " Layer (type)                Output Shape              Param #   \n",
      "=================================================================\n",
      " bert (TFBertMainLayer)      multiple                  108310272 \n",
      "                                                                 \n",
      "=================================================================\n",
      "Total params: 108,310,272\n",
      "Trainable params: 108,310,272\n",
      "Non-trainable params: 0\n",
      "_________________________________________________________________\n"
     ]
    }
   ],
   "source": [
    "bert.summary()"
   ]
  },
  {
   "cell_type": "code",
   "execution_count": 49,
   "id": "ecb86fd5-df25-4c7d-8066-cdd0e143257a",
   "metadata": {},
   "outputs": [],
   "source": [
    "# import tensorflow as tf"
   ]
  },
  {
   "cell_type": "code",
   "execution_count": 50,
   "id": "16b17466-8be5-49ca-8158-fe643319eecf",
   "metadata": {},
   "outputs": [],
   "source": [
    "# two imputs\n",
    "input_ids = tf.keras.layers.Input(shape=(512,),\n",
    "                                  name='input_ids', dtype='int32')\n",
    "masks = tf.keras.layers.Input(shape=(512,),\n",
    "                              name='attention_mask', dtype='int32')\n",
    "\n",
    "# transformers\n",
    "embeddings = bert.bert(input_ids, attention_mask=masks)[1]\n",
    "\n",
    "# classifier head\n",
    "x = tf.keras.layers.Dense(1024, activation='relu')(embeddings)\n",
    "y = tf.keras.layers.Dense(3, activation='softmax', name='outputs')(x)"
   ]
  },
  {
   "cell_type": "code",
   "execution_count": 51,
   "id": "99a1933b-2072-45cb-a0b2-4c1055fea3dc",
   "metadata": {},
   "outputs": [],
   "source": [
    "model = tf.keras.Model(inputs=[input_ids, masks], outputs=y)"
   ]
  },
  {
   "cell_type": "code",
   "execution_count": 52,
   "id": "8368d39e-cb1b-4f0a-a734-c21f4db1fa04",
   "metadata": {},
   "outputs": [
    {
     "name": "stdout",
     "output_type": "stream",
     "text": [
      "Model: \"model\"\n",
      "__________________________________________________________________________________________________\n",
      " Layer (type)                   Output Shape         Param #     Connected to                     \n",
      "==================================================================================================\n",
      " input_ids (InputLayer)         [(None, 512)]        0           []                               \n",
      "                                                                                                  \n",
      " attention_mask (InputLayer)    [(None, 512)]        0           []                               \n",
      "                                                                                                  \n",
      " bert (TFBertMainLayer)         TFBaseModelOutputWi  108310272   ['input_ids[0][0]',              \n",
      "                                thPoolingAndCrossAt               'attention_mask[0][0]']         \n",
      "                                tentions(last_hidde                                               \n",
      "                                n_state=(None, 512,                                               \n",
      "                                 768),                                                            \n",
      "                                 pooler_output=(Non                                               \n",
      "                                e, 768),                                                          \n",
      "                                 past_key_values=No                                               \n",
      "                                ne, hidden_states=N                                               \n",
      "                                one, attentions=Non                                               \n",
      "                                e, cross_attentions                                               \n",
      "                                =None)                                                            \n",
      "                                                                                                  \n",
      " dense_1 (Dense)                (None, 1024)         787456      ['bert[1][1]']                   \n",
      "                                                                                                  \n",
      " outputs (Dense)                (None, 3)            3075        ['dense_1[0][0]']                \n",
      "                                                                                                  \n",
      "==================================================================================================\n",
      "Total params: 109,100,803\n",
      "Trainable params: 109,100,803\n",
      "Non-trainable params: 0\n",
      "__________________________________________________________________________________________________\n"
     ]
    }
   ],
   "source": [
    "model.summary()"
   ]
  },
  {
   "cell_type": "code",
   "execution_count": 53,
   "id": "26c757ca-9b5b-4e02-98cc-5e28eb5345ce",
   "metadata": {},
   "outputs": [],
   "source": [
    "# freeze bert layer\n",
    "model.layers[2].trainable = False"
   ]
  },
  {
   "cell_type": "code",
   "execution_count": 54,
   "id": "c63658ba-ab38-4ee9-8876-d431ef5cedb2",
   "metadata": {},
   "outputs": [
    {
     "name": "stdout",
     "output_type": "stream",
     "text": [
      "Model: \"model\"\n",
      "__________________________________________________________________________________________________\n",
      " Layer (type)                   Output Shape         Param #     Connected to                     \n",
      "==================================================================================================\n",
      " input_ids (InputLayer)         [(None, 512)]        0           []                               \n",
      "                                                                                                  \n",
      " attention_mask (InputLayer)    [(None, 512)]        0           []                               \n",
      "                                                                                                  \n",
      " bert (TFBertMainLayer)         TFBaseModelOutputWi  108310272   ['input_ids[0][0]',              \n",
      "                                thPoolingAndCrossAt               'attention_mask[0][0]']         \n",
      "                                tentions(last_hidde                                               \n",
      "                                n_state=(None, 512,                                               \n",
      "                                 768),                                                            \n",
      "                                 pooler_output=(Non                                               \n",
      "                                e, 768),                                                          \n",
      "                                 past_key_values=No                                               \n",
      "                                ne, hidden_states=N                                               \n",
      "                                one, attentions=Non                                               \n",
      "                                e, cross_attentions                                               \n",
      "                                =None)                                                            \n",
      "                                                                                                  \n",
      " dense_1 (Dense)                (None, 1024)         787456      ['bert[1][1]']                   \n",
      "                                                                                                  \n",
      " outputs (Dense)                (None, 3)            3075        ['dense_1[0][0]']                \n",
      "                                                                                                  \n",
      "==================================================================================================\n",
      "Total params: 109,100,803\n",
      "Trainable params: 790,531\n",
      "Non-trainable params: 108,310,272\n",
      "__________________________________________________________________________________________________\n"
     ]
    }
   ],
   "source": [
    "model.summary()"
   ]
  },
  {
   "cell_type": "code",
   "execution_count": 55,
   "id": "0c242473-55aa-4367-9589-72008bba3f62",
   "metadata": {},
   "outputs": [],
   "source": [
    "optimizer = tf.keras.optimizers.Adam(learning_rate=5e-5)\n",
    "loss = tf.keras.losses.CategoricalCrossentropy()\n",
    "acc = tf.keras.metrics.CategoricalAccuracy('accuracy')\n",
    "\n",
    "model.compile(optimizer=optimizer, loss=loss, metrics=[acc])"
   ]
  },
  {
   "cell_type": "code",
   "execution_count": 56,
   "id": "bcf5cace-35a4-4a9a-b7d0-fa9e2c76d20e",
   "metadata": {},
   "outputs": [],
   "source": [
    "element_spec = ({'input_ids': tf.TensorSpec(shape=(16, 512), dtype=tf.int32, name=None),\n",
    "                 'attention_mask': tf.TensorSpec(shape=(16, 512), dtype=tf.int32, name=None)},\n",
    "                 tf.TensorSpec(shape=(16, 3), dtype=tf.float64, name=None))"
   ]
  },
  {
   "cell_type": "code",
   "execution_count": 57,
   "id": "dc898718-fed4-4a66-be91-d30db015196f",
   "metadata": {},
   "outputs": [],
   "source": [
    "train_ds = tf.data.Dataset.load('train', element_spec=element_spec)\n",
    "val_ds = tf.data.Dataset.load('val', element_spec=element_spec)"
   ]
  },
  {
   "cell_type": "code",
   "execution_count": 58,
   "id": "8b4699f0-4b27-48b0-913f-97397bdd0868",
   "metadata": {},
   "outputs": [
    {
     "data": {
      "text/plain": [
       "<TakeDataset element_spec=({'input_ids': TensorSpec(shape=(16, 512), dtype=tf.int32, name=None), 'attention_mask': TensorSpec(shape=(16, 512), dtype=tf.int32, name=None)}, TensorSpec(shape=(16, 3), dtype=tf.float64, name=None))>"
      ]
     },
     "execution_count": 58,
     "metadata": {},
     "output_type": "execute_result"
    }
   ],
   "source": [
    "train_ds.take(1)"
   ]
  },
  {
   "cell_type": "code",
   "execution_count": 59,
   "id": "b4b7f0a9-0ca0-467e-94ec-cdeaf651ac78",
   "metadata": {},
   "outputs": [
    {
     "name": "stdout",
     "output_type": "stream",
     "text": [
      "Epoch 1/3\n",
      "6/6 [==============================] - 148s 26s/step - loss: 1.2065 - accuracy: 0.2812 - val_loss: 1.1495 - val_accuracy: 0.3958\n",
      "Epoch 2/3\n",
      "6/6 [==============================] - 156s 28s/step - loss: 1.0653 - accuracy: 0.4271 - val_loss: 1.0558 - val_accuracy: 0.4583\n",
      "Epoch 3/3\n",
      "6/6 [==============================] - 163s 30s/step - loss: 1.0901 - accuracy: 0.3750 - val_loss: 1.0409 - val_accuracy: 0.4688\n"
     ]
    }
   ],
   "source": [
    "history = model.fit(\n",
    "    train_ds,\n",
    "    validation_data=val_ds,\n",
    "    epochs=3\n",
    ")"
   ]
  },
  {
   "cell_type": "code",
   "execution_count": 60,
   "id": "20d5e4b7-4a0f-4a82-a431-42679bb0b781",
   "metadata": {},
   "outputs": [
    {
     "name": "stderr",
     "output_type": "stream",
     "text": [
      "WARNING:absl:Found untraced functions such as _update_step_xla, embeddings_layer_call_fn, embeddings_layer_call_and_return_conditional_losses, encoder_layer_call_fn, encoder_layer_call_and_return_conditional_losses while saving (showing 5 of 421). These functions will not be directly callable after loading.\n"
     ]
    },
    {
     "name": "stdout",
     "output_type": "stream",
     "text": [
      "INFO:tensorflow:Assets written to: en_sentiment_model\\assets\n"
     ]
    },
    {
     "name": "stderr",
     "output_type": "stream",
     "text": [
      "INFO:tensorflow:Assets written to: en_sentiment_model\\assets\n"
     ]
    }
   ],
   "source": [
    "model.save('en_sentiment_model')"
   ]
  },
  {
   "cell_type": "markdown",
   "id": "a143c9e9-7cfd-41b1-9d94-0bd15a3cc786",
   "metadata": {},
   "source": [
    "# Load and predictions"
   ]
  },
  {
   "cell_type": "code",
   "execution_count": null,
   "id": "6caedf32-56f6-4f26-8ec9-b8a82c380669",
   "metadata": {},
   "outputs": [],
   "source": [
    "model = tf.keras.models.load_model('en_sentiment_model/')"
   ]
  },
  {
   "cell_type": "code",
   "execution_count": 61,
   "id": "ca554576-ae94-4691-871b-5db3f6f2ecef",
   "metadata": {},
   "outputs": [],
   "source": [
    "from transformers import BertTokenizer"
   ]
  },
  {
   "cell_type": "code",
   "execution_count": 62,
   "id": "fb8129c3-9249-4d3e-88bd-89f6b01d72b0",
   "metadata": {},
   "outputs": [],
   "source": [
    "tokenizer = BertTokenizer.from_pretrained('bert-base-cased')"
   ]
  },
  {
   "cell_type": "code",
   "execution_count": 63,
   "id": "1d925e88-fc6b-4ab0-b499-81885654dbb7",
   "metadata": {},
   "outputs": [],
   "source": [
    "def prep_data(text):\n",
    "    tokens = tokenizer(text, max_length=512, truncation=True,\n",
    "                       padding='max_length', add_special_tokens=True,\n",
    "                       return_tensors='tf')\n",
    "    return {'input_ids': tokens['input_ids'],\n",
    "            'attention_mask': tokens['attention_mask']}"
   ]
  },
  {
   "cell_type": "code",
   "execution_count": 64,
   "id": "50972c2f-d234-4d96-ac41-8288cbce5318",
   "metadata": {},
   "outputs": [
    {
     "name": "stdout",
     "output_type": "stream",
     "text": [
      "1/1 [==============================] - 2s 2s/step\n"
     ]
    },
    {
     "data": {
      "text/plain": [
       "array([0.38154268, 0.26313284, 0.35532445], dtype=float32)"
      ]
     },
     "execution_count": 64,
     "metadata": {},
     "output_type": "execute_result"
    }
   ],
   "source": [
    "probs = model.predict(prep_data('The Brazil Central Bank decided to increase the Selic interest rate by 0.5 percentage point, to 14%'))[0]\n",
    "probs"
   ]
  },
  {
   "cell_type": "code",
   "execution_count": 65,
   "id": "a913a4dc-065c-40e2-90b1-1e71c1bb99fe",
   "metadata": {},
   "outputs": [
    {
     "data": {
      "text/plain": [
       "0"
      ]
     },
     "execution_count": 65,
     "metadata": {},
     "output_type": "execute_result"
    }
   ],
   "source": [
    "np.argmax(probs)"
   ]
  },
  {
   "cell_type": "code",
   "execution_count": 66,
   "id": "1aa7a60d-478e-41e3-bf51-3f9f61698f31",
   "metadata": {},
   "outputs": [
    {
     "name": "stderr",
     "output_type": "stream",
     "text": [
      "C:\\Users\\ftrav\\anaconda3\\envs\\pytorchenv\\lib\\site-packages\\ipykernel_launcher.py:1: SettingWithCopyWarning: \n",
      "A value is trying to be set on a copy of a slice from a DataFrame.\n",
      "Try using .loc[row_indexer,col_indexer] = value instead\n",
      "\n",
      "See the caveats in the documentation: http://pandas.pydata.org/pandas-docs/stable/indexing.html#indexing-view-versus-copy\n",
      "  \"\"\"Entry point for launching an IPython kernel.\n"
     ]
    }
   ],
   "source": [
    "X_test['Sentiment'] = None"
   ]
  },
  {
   "cell_type": "code",
   "execution_count": 67,
   "id": "57e8a345-6098-4c5d-9b3e-96e96d71854c",
   "metadata": {},
   "outputs": [
    {
     "name": "stdout",
     "output_type": "stream",
     "text": [
      "1/1 [==============================] - 1s 868ms/step\n",
      "1/1 [==============================] - 1s 938ms/step\n",
      "1/1 [==============================] - 1s 964ms/step\n",
      "1/1 [==============================] - 1s 864ms/step\n",
      "1/1 [==============================] - 1s 860ms/step\n",
      "1/1 [==============================] - 1s 934ms/step\n",
      "1/1 [==============================] - 1s 919ms/step\n",
      "1/1 [==============================] - 1s 863ms/step\n",
      "1/1 [==============================] - 1s 851ms/step\n",
      "1/1 [==============================] - 1s 855ms/step\n",
      "1/1 [==============================] - 1s 870ms/step\n",
      "1/1 [==============================] - 1s 870ms/step\n",
      "1/1 [==============================] - 1s 866ms/step\n",
      "1/1 [==============================] - 1s 865ms/step\n",
      "1/1 [==============================] - 1s 978ms/step\n",
      "1/1 [==============================] - 1s 928ms/step\n",
      "1/1 [==============================] - 1s 913ms/step\n",
      "1/1 [==============================] - 1s 896ms/step\n",
      "1/1 [==============================] - 1s 890ms/step\n",
      "1/1 [==============================] - 1s 859ms/step\n",
      "1/1 [==============================] - 1s 858ms/step\n",
      "1/1 [==============================] - 1s 882ms/step\n",
      "1/1 [==============================] - 1s 828ms/step\n",
      "1/1 [==============================] - 1s 823ms/step\n",
      "1/1 [==============================] - 1s 853ms/step\n",
      "1/1 [==============================] - 1s 863ms/step\n",
      "1/1 [==============================] - 1s 840ms/step\n",
      "1/1 [==============================] - 1s 850ms/step\n",
      "1/1 [==============================] - 1s 857ms/step\n",
      "1/1 [==============================] - 1s 890ms/step\n",
      "1/1 [==============================] - 1s 838ms/step\n",
      "1/1 [==============================] - 1s 837ms/step\n"
     ]
    }
   ],
   "source": [
    "for i, row in X_test.iterrows():\n",
    "    tokens = prep_data(row['Text'])\n",
    "    probs = model.predict(tokens)\n",
    "    pred = np.argmax(probs)\n",
    "    X_test.at[i, 'Sentiment'] = pred"
   ]
  },
  {
   "cell_type": "code",
   "execution_count": 68,
   "id": "cea74a67-b98a-437e-87e6-cba173012530",
   "metadata": {},
   "outputs": [
    {
     "data": {
      "text/html": [
       "<div>\n",
       "<style scoped>\n",
       "    .dataframe tbody tr th:only-of-type {\n",
       "        vertical-align: middle;\n",
       "    }\n",
       "\n",
       "    .dataframe tbody tr th {\n",
       "        vertical-align: top;\n",
       "    }\n",
       "\n",
       "    .dataframe thead th {\n",
       "        text-align: right;\n",
       "    }\n",
       "</style>\n",
       "<table border=\"1\" class=\"dataframe\">\n",
       "  <thead>\n",
       "    <tr style=\"text-align: right;\">\n",
       "      <th></th>\n",
       "      <th>Date</th>\n",
       "      <th>Selic</th>\n",
       "      <th>Meeting_Number</th>\n",
       "      <th>Decision</th>\n",
       "      <th>Decision_txt</th>\n",
       "      <th>label_hawk_dove</th>\n",
       "      <th>label_next_meet</th>\n",
       "      <th>Text</th>\n",
       "      <th>Type</th>\n",
       "      <th>Sentiment</th>\n",
       "    </tr>\n",
       "  </thead>\n",
       "  <tbody>\n",
       "    <tr>\n",
       "      <th>78</th>\n",
       "      <td>2016/03/02</td>\n",
       "      <td>14.25</td>\n",
       "      <td>197.0</td>\n",
       "      <td>0.00</td>\n",
       "      <td>mantain</td>\n",
       "      <td>neutral</td>\n",
       "      <td>mantain</td>\n",
       "      <td>The Copom released the following note to the ...</td>\n",
       "      <td>Statement</td>\n",
       "      <td>2</td>\n",
       "    </tr>\n",
       "    <tr>\n",
       "      <th>155</th>\n",
       "      <td>2023/03/22</td>\n",
       "      <td>13.75</td>\n",
       "      <td>253.0</td>\n",
       "      <td>0.00</td>\n",
       "      <td>mantain</td>\n",
       "      <td>neutral</td>\n",
       "      <td>mantain</td>\n",
       "      <td>A) Update of economic outlook and Copom’s scen...</td>\n",
       "      <td>Minutes</td>\n",
       "      <td>2</td>\n",
       "    </tr>\n",
       "    <tr>\n",
       "      <th>128</th>\n",
       "      <td>2021/06/16</td>\n",
       "      <td>4.25</td>\n",
       "      <td>239.0</td>\n",
       "      <td>0.75</td>\n",
       "      <td>increase</td>\n",
       "      <td>hawkish</td>\n",
       "      <td>increase</td>\n",
       "      <td>A) Update of economic outlook and Copom’s base...</td>\n",
       "      <td>Minutes</td>\n",
       "      <td>0</td>\n",
       "    </tr>\n",
       "    <tr>\n",
       "      <th>55</th>\n",
       "      <td>2013/04/17</td>\n",
       "      <td>7.50</td>\n",
       "      <td>174.0</td>\n",
       "      <td>0.25</td>\n",
       "      <td>increase</td>\n",
       "      <td>hawkish</td>\n",
       "      <td>increase</td>\n",
       "      <td>The Copom released the following note to the ...</td>\n",
       "      <td>Statement</td>\n",
       "      <td>2</td>\n",
       "    </tr>\n",
       "    <tr>\n",
       "      <th>94</th>\n",
       "      <td>2018/03/21</td>\n",
       "      <td>6.50</td>\n",
       "      <td>213.0</td>\n",
       "      <td>-0.25</td>\n",
       "      <td>decrease</td>\n",
       "      <td>dovish</td>\n",
       "      <td>mantain</td>\n",
       "      <td>The Copom unanimously decided to reduce the Se...</td>\n",
       "      <td>Statement</td>\n",
       "      <td>0</td>\n",
       "    </tr>\n",
       "  </tbody>\n",
       "</table>\n",
       "</div>"
      ],
      "text/plain": [
       "           Date  Selic  Meeting_Number  Decision Decision_txt label_hawk_dove  \\\n",
       "78   2016/03/02  14.25           197.0      0.00      mantain         neutral   \n",
       "155  2023/03/22  13.75           253.0      0.00      mantain         neutral   \n",
       "128  2021/06/16   4.25           239.0      0.75     increase         hawkish   \n",
       "55   2013/04/17   7.50           174.0      0.25     increase         hawkish   \n",
       "94   2018/03/21   6.50           213.0     -0.25     decrease          dovish   \n",
       "\n",
       "    label_next_meet                                               Text  \\\n",
       "78          mantain   The Copom released the following note to the ...   \n",
       "155         mantain  A) Update of economic outlook and Copom’s scen...   \n",
       "128        increase  A) Update of economic outlook and Copom’s base...   \n",
       "55         increase   The Copom released the following note to the ...   \n",
       "94          mantain  The Copom unanimously decided to reduce the Se...   \n",
       "\n",
       "          Type Sentiment  \n",
       "78   Statement         2  \n",
       "155    Minutes         2  \n",
       "128    Minutes         0  \n",
       "55   Statement         2  \n",
       "94   Statement         0  "
      ]
     },
     "execution_count": 68,
     "metadata": {},
     "output_type": "execute_result"
    }
   ],
   "source": [
    "X_test.head()"
   ]
  },
  {
   "cell_type": "code",
   "execution_count": null,
   "id": "10e30ddd-2fa1-4837-9fe0-f197aa345311",
   "metadata": {},
   "outputs": [],
   "source": []
  }
 ],
 "metadata": {
  "kernelspec": {
   "display_name": "Python 3 (ipykernel)",
   "language": "python",
   "name": "python3"
  },
  "language_info": {
   "codemirror_mode": {
    "name": "ipython",
    "version": 3
   },
   "file_extension": ".py",
   "mimetype": "text/x-python",
   "name": "python",
   "nbconvert_exporter": "python",
   "pygments_lexer": "ipython3",
   "version": "3.11.3"
  }
 },
 "nbformat": 4,
 "nbformat_minor": 5
}

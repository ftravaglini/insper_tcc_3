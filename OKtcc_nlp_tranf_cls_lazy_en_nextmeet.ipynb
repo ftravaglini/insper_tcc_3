{
 "cells": [
  {
   "cell_type": "markdown",
   "id": "791f0e12-bbb6-4bcb-8a2e-1048ab03bbd2",
   "metadata": {},
   "source": [
    "# NLP"
   ]
  },
  {
   "cell_type": "code",
   "execution_count": 1,
   "id": "5a418dd8-90ca-41b5-b4ea-9638598d471d",
   "metadata": {},
   "outputs": [],
   "source": [
    "import numpy as np\n",
    "import pandas as pd\n",
    "import seaborn as sn\n",
    "import matplotlib.pyplot as plt\n",
    "import re\n",
    "\n",
    "import torch\n",
    "\n",
    "from sklearn.metrics import f1_score, accuracy_score, confusion_matrix\n",
    "from sklearn.model_selection import train_test_split"
   ]
  },
  {
   "cell_type": "code",
   "execution_count": 2,
   "id": "d116ad26-12a3-487c-9b47-5f9abe2b6a14",
   "metadata": {},
   "outputs": [],
   "source": [
    "df_copom = pd.read_csv('df_copom_label_en.csv')"
   ]
  },
  {
   "cell_type": "code",
   "execution_count": 3,
   "id": "60443267-16fc-4610-9633-d96d57c5a6d3",
   "metadata": {},
   "outputs": [
    {
     "data": {
      "text/html": [
       "<div>\n",
       "<style scoped>\n",
       "    .dataframe tbody tr th:only-of-type {\n",
       "        vertical-align: middle;\n",
       "    }\n",
       "\n",
       "    .dataframe tbody tr th {\n",
       "        vertical-align: top;\n",
       "    }\n",
       "\n",
       "    .dataframe thead th {\n",
       "        text-align: right;\n",
       "    }\n",
       "</style>\n",
       "<table border=\"1\" class=\"dataframe\">\n",
       "  <thead>\n",
       "    <tr style=\"text-align: right;\">\n",
       "      <th></th>\n",
       "      <th>Unnamed: 0</th>\n",
       "      <th>meeting_number</th>\n",
       "      <th>date_x</th>\n",
       "      <th>date_y</th>\n",
       "      <th>selic</th>\n",
       "      <th>decision</th>\n",
       "      <th>decision_txt</th>\n",
       "      <th>type</th>\n",
       "      <th>text</th>\n",
       "      <th>num_words</th>\n",
       "      <th>text_raw</th>\n",
       "      <th>num_words_raw</th>\n",
       "      <th>label_hawk_dove</th>\n",
       "      <th>label_next_meet</th>\n",
       "    </tr>\n",
       "  </thead>\n",
       "  <tbody>\n",
       "    <tr>\n",
       "      <th>0</th>\n",
       "      <td>0</td>\n",
       "      <td>117</td>\n",
       "      <td>2006/03/08</td>\n",
       "      <td>2006/03/08</td>\n",
       "      <td>16.5</td>\n",
       "      <td>-0.75</td>\n",
       "      <td>decrease</td>\n",
       "      <td>statement</td>\n",
       "      <td>march meeting , banco central brasil 's moneta...</td>\n",
       "      <td>55.0</td>\n",
       "      <td>In the March Meeting, the Banco Central do Br...</td>\n",
       "      <td>67.0</td>\n",
       "      <td>dovish</td>\n",
       "      <td>decrease</td>\n",
       "    </tr>\n",
       "  </tbody>\n",
       "</table>\n",
       "</div>"
      ],
      "text/plain": [
       "   Unnamed: 0  meeting_number      date_x      date_y  selic  decision  \\\n",
       "0           0             117  2006/03/08  2006/03/08   16.5     -0.75   \n",
       "\n",
       "  decision_txt       type                                               text  \\\n",
       "0     decrease  statement  march meeting , banco central brasil 's moneta...   \n",
       "\n",
       "   num_words                                           text_raw  \\\n",
       "0       55.0   In the March Meeting, the Banco Central do Br...   \n",
       "\n",
       "   num_words_raw label_hawk_dove label_next_meet  \n",
       "0           67.0          dovish        decrease  "
      ]
     },
     "execution_count": 3,
     "metadata": {},
     "output_type": "execute_result"
    }
   ],
   "source": [
    "df_copom.head(1)"
   ]
  },
  {
   "cell_type": "code",
   "execution_count": 4,
   "id": "6d382963-1e0d-46d5-814e-0ebf35898778",
   "metadata": {
    "tags": []
   },
   "outputs": [],
   "source": [
    "df_ = df_copom[(df_copom['type'] == 'statement')]"
   ]
  },
  {
   "cell_type": "code",
   "execution_count": 5,
   "id": "c84c4022-78cd-4e0e-aa03-61e3ef9a1bb0",
   "metadata": {},
   "outputs": [
    {
     "data": {
      "text/plain": [
       "(140, 14)"
      ]
     },
     "execution_count": 5,
     "metadata": {},
     "output_type": "execute_result"
    }
   ],
   "source": [
    "df_.shape"
   ]
  },
  {
   "cell_type": "code",
   "execution_count": 6,
   "id": "16f271df-2468-4004-b1db-62fbf73f010e",
   "metadata": {
    "tags": []
   },
   "outputs": [],
   "source": [
    "def count_words_ponct(text):\n",
    "    return len(re.findall(r'[^\\w\\s]|\\w+', text))"
   ]
  },
  {
   "cell_type": "code",
   "execution_count": 7,
   "id": "06462a79-971c-453c-a3f1-07bee3e74f0c",
   "metadata": {
    "tags": []
   },
   "outputs": [
    {
     "data": {
      "text/plain": [
       "528.0"
      ]
     },
     "execution_count": 7,
     "metadata": {},
     "output_type": "execute_result"
    }
   ],
   "source": [
    "df_.loc[100,('num_words')]"
   ]
  },
  {
   "cell_type": "code",
   "execution_count": 8,
   "id": "cca48ca6-0cc7-4aa2-8df0-61eff4ed7f41",
   "metadata": {
    "tags": []
   },
   "outputs": [
    {
     "data": {
      "text/plain": [
       "610"
      ]
     },
     "execution_count": 8,
     "metadata": {},
     "output_type": "execute_result"
    }
   ],
   "source": [
    "count_words_ponct(df_.loc[100,('text')])"
   ]
  },
  {
   "cell_type": "code",
   "execution_count": 9,
   "id": "c186003a-4d08-4902-a352-40f82b2785f0",
   "metadata": {
    "tags": []
   },
   "outputs": [
    {
     "data": {
      "text/plain": [
       "0      march meeting , banco central brasil 's moneta...\n",
       "1      april meeting , monetary policy committee ( co...\n",
       "2      may meeting , monetary policy committee ( copo...\n",
       "3      july meeting , copom unanimously decided reduc...\n",
       "4      august meeting , copom unanimously decided red...\n",
       "                             ...                        \n",
       "154    250th meeting , copom decided maintain selic r...\n",
       "155    251st meeting , copom decided maintain selic r...\n",
       "158    252nd meeting , copom decided maintain selic r...\n",
       "160    since previous meeting monetary policy committ...\n",
       "162    global environment remains challenging . episo...\n",
       "Name: text, Length: 140, dtype: object"
      ]
     },
     "execution_count": 9,
     "metadata": {},
     "output_type": "execute_result"
    }
   ],
   "source": [
    "df_['text']"
   ]
  },
  {
   "cell_type": "code",
   "execution_count": 10,
   "id": "5b4be71a-8cdd-4d45-aba4-3826481264dc",
   "metadata": {
    "tags": []
   },
   "outputs": [
    {
     "name": "stderr",
     "output_type": "stream",
     "text": [
      "C:\\Users\\ftrav\\AppData\\Local\\Temp\\ipykernel_33220\\2047394345.py:1: SettingWithCopyWarning: \n",
      "A value is trying to be set on a copy of a slice from a DataFrame.\n",
      "Try using .loc[row_indexer,col_indexer] = value instead\n",
      "\n",
      "See the caveats in the documentation: https://pandas.pydata.org/pandas-docs/stable/user_guide/indexing.html#returning-a-view-versus-a-copy\n",
      "  df_['num_words_ponct'] = df_['text'].apply(count_words_ponct)\n"
     ]
    }
   ],
   "source": [
    "df_['num_words_ponct'] = df_['text'].apply(count_words_ponct)"
   ]
  },
  {
   "cell_type": "code",
   "execution_count": 11,
   "id": "b93b77fa-034d-4f0c-a740-3cdf53112df7",
   "metadata": {
    "tags": []
   },
   "outputs": [
    {
     "data": {
      "text/plain": [
       "0       58\n",
       "1       37\n",
       "2       37\n",
       "3       32\n",
       "4       38\n",
       "      ... \n",
       "154    565\n",
       "155    581\n",
       "158    541\n",
       "160    494\n",
       "162    474\n",
       "Name: num_words_ponct, Length: 140, dtype: int64"
      ]
     },
     "execution_count": 11,
     "metadata": {},
     "output_type": "execute_result"
    }
   ],
   "source": [
    "df_['num_words_ponct']"
   ]
  },
  {
   "cell_type": "code",
   "execution_count": 12,
   "id": "ae69da5f-51b0-43ac-b976-f08eb1fa40fe",
   "metadata": {
    "tags": []
   },
   "outputs": [
    {
     "data": {
      "text/plain": [
       "array([ 58,  37,  32,  38,  33,  52,  80,  35,  56,  69,  68,  41,  39,\n",
       "        54,  55,  64,  42,  50,  74,  81,  72,  27,  79,  66,  85,  90,\n",
       "        65,  45,  46,  59,  96,  34,  88, 234,  57,  47,  73, 121, 125,\n",
       "       154,  61,  48, 162,  53,  36,  60,  40, 113, 123, 122, 256, 440,\n",
       "       521, 444, 477, 385, 438, 384, 398, 475, 466, 499, 463, 458, 531,\n",
       "       610, 616, 565, 618, 518, 530, 538, 557, 501, 515, 546, 579, 536,\n",
       "       485, 508, 609, 578, 602, 663, 657, 715, 576, 664, 552, 612, 240,\n",
       "       667, 511, 527, 525, 623, 690, 550, 581, 541, 494, 474], dtype=int64)"
      ]
     },
     "execution_count": 12,
     "metadata": {},
     "output_type": "execute_result"
    }
   ],
   "source": [
    "df_['num_words_ponct'].unique()"
   ]
  },
  {
   "cell_type": "code",
   "execution_count": 13,
   "id": "d8e853d8-e066-46f9-bac5-f3686a143845",
   "metadata": {},
   "outputs": [],
   "source": [
    "# df_ = df_[(df_['num_words_ponct'] <= 510)].copy()"
   ]
  },
  {
   "cell_type": "code",
   "execution_count": 14,
   "id": "28236cd9-58ad-4823-9eb0-78268227c7a5",
   "metadata": {
    "tags": []
   },
   "outputs": [
    {
     "data": {
      "text/plain": [
       "(140, 15)"
      ]
     },
     "execution_count": 14,
     "metadata": {},
     "output_type": "execute_result"
    }
   ],
   "source": [
    "df_.shape"
   ]
  },
  {
   "cell_type": "code",
   "execution_count": 15,
   "id": "4207fd03-91db-4c89-bacf-92cdbef7fc69",
   "metadata": {
    "tags": []
   },
   "outputs": [
    {
     "data": {
      "text/plain": [
       "<Axes: >"
      ]
     },
     "execution_count": 15,
     "metadata": {},
     "output_type": "execute_result"
    },
    {
     "data": {
      "image/png": "[encoded data removed]",
      "text/plain": [
       "<Figure size 640x480 with 1 Axes>"
      ]
     },
     "metadata": {},
     "output_type": "display_data"
    }
   ],
   "source": [
    "df_['label_next_meet'].value_counts().plot(kind='bar')"
   ]
  },
  {
   "cell_type": "code",
   "execution_count": 16,
   "id": "d3297e63-b26b-4cdc-8d8f-9cdfc2fb852e",
   "metadata": {
    "tags": []
   },
   "outputs": [
    {
     "data": {
      "text/plain": [
       "0      decrease\n",
       "1      decrease\n",
       "2      decrease\n",
       "3      decrease\n",
       "4      decrease\n",
       "         ...   \n",
       "154     mantain\n",
       "155     mantain\n",
       "158     mantain\n",
       "160     mantain\n",
       "162         NaN\n",
       "Name: label_next_meet, Length: 140, dtype: object"
      ]
     },
     "execution_count": 16,
     "metadata": {},
     "output_type": "execute_result"
    }
   ],
   "source": [
    "df_['label_next_meet']"
   ]
  },
  {
   "cell_type": "code",
   "execution_count": 17,
   "id": "84e19871-b405-48bf-a136-441609657027",
   "metadata": {
    "tags": []
   },
   "outputs": [
    {
     "name": "stderr",
     "output_type": "stream",
     "text": [
      "C:\\Users\\ftrav\\AppData\\Local\\Temp\\ipykernel_33220\\1265814318.py:2: SettingWithCopyWarning: \n",
      "A value is trying to be set on a copy of a slice from a DataFrame.\n",
      "Try using .loc[row_indexer,col_indexer] = value instead\n",
      "\n",
      "See the caveats in the documentation: https://pandas.pydata.org/pandas-docs/stable/user_guide/indexing.html#returning-a-view-versus-a-copy\n",
      "  df_['target'] = df_['label_next_meet'].map(target_map)\n"
     ]
    }
   ],
   "source": [
    "target_map = {'decrease': 0, 'increase': 1, 'mantain': 2}\n",
    "df_['target'] = df_['label_next_meet'].map(target_map)"
   ]
  },
  {
   "cell_type": "code",
   "execution_count": 18,
   "id": "e4eca18a-3e10-49b9-83c4-bb65cff671a4",
   "metadata": {
    "tags": []
   },
   "outputs": [],
   "source": [
    "df_ = df_[df_['target'].notna()]"
   ]
  },
  {
   "cell_type": "code",
   "execution_count": 19,
   "id": "b7900f11-59a3-4c9a-aae4-6b03255cf7fc",
   "metadata": {
    "tags": []
   },
   "outputs": [],
   "source": [
    "df_['target'] = df_['target'].astype(int)"
   ]
  },
  {
   "cell_type": "code",
   "execution_count": 20,
   "id": "f8074f75-ed79-455b-ab5b-cdba2f5c4f2f",
   "metadata": {
    "tags": []
   },
   "outputs": [
    {
     "data": {
      "text/plain": [
       "array([0, 2, 1])"
      ]
     },
     "execution_count": 20,
     "metadata": {},
     "output_type": "execute_result"
    }
   ],
   "source": [
    "df_['target'].unique()"
   ]
  },
  {
   "cell_type": "code",
   "execution_count": 21,
   "id": "e8869383-6d9e-43fc-9b6c-fffcb62eb2e7",
   "metadata": {
    "tags": []
   },
   "outputs": [],
   "source": [
    "df = df_[['text', 'target']]\n",
    "df.columns = ['sentence', 'label']"
   ]
  },
  {
   "cell_type": "code",
   "execution_count": 22,
   "id": "b0ed66f4-e083-4527-8909-7a82316c0685",
   "metadata": {
    "tags": []
   },
   "outputs": [
    {
     "data": {
      "text/html": [
       "<div>\n",
       "<style scoped>\n",
       "    .dataframe tbody tr th:only-of-type {\n",
       "        vertical-align: middle;\n",
       "    }\n",
       "\n",
       "    .dataframe tbody tr th {\n",
       "        vertical-align: top;\n",
       "    }\n",
       "\n",
       "    .dataframe thead th {\n",
       "        text-align: right;\n",
       "    }\n",
       "</style>\n",
       "<table border=\"1\" class=\"dataframe\">\n",
       "  <thead>\n",
       "    <tr style=\"text-align: right;\">\n",
       "      <th></th>\n",
       "      <th>sentence</th>\n",
       "      <th>label</th>\n",
       "    </tr>\n",
       "  </thead>\n",
       "  <tbody>\n",
       "    <tr>\n",
       "      <th>0</th>\n",
       "      <td>march meeting , banco central brasil 's moneta...</td>\n",
       "      <td>0</td>\n",
       "    </tr>\n",
       "    <tr>\n",
       "      <th>1</th>\n",
       "      <td>april meeting , monetary policy committee ( co...</td>\n",
       "      <td>0</td>\n",
       "    </tr>\n",
       "    <tr>\n",
       "      <th>2</th>\n",
       "      <td>may meeting , monetary policy committee ( copo...</td>\n",
       "      <td>0</td>\n",
       "    </tr>\n",
       "    <tr>\n",
       "      <th>3</th>\n",
       "      <td>july meeting , copom unanimously decided reduc...</td>\n",
       "      <td>0</td>\n",
       "    </tr>\n",
       "    <tr>\n",
       "      <th>4</th>\n",
       "      <td>august meeting , copom unanimously decided red...</td>\n",
       "      <td>0</td>\n",
       "    </tr>\n",
       "  </tbody>\n",
       "</table>\n",
       "</div>"
      ],
      "text/plain": [
       "                                            sentence  label\n",
       "0  march meeting , banco central brasil 's moneta...      0\n",
       "1  april meeting , monetary policy committee ( co...      0\n",
       "2  may meeting , monetary policy committee ( copo...      0\n",
       "3  july meeting , copom unanimously decided reduc...      0\n",
       "4  august meeting , copom unanimously decided red...      0"
      ]
     },
     "execution_count": 22,
     "metadata": {},
     "output_type": "execute_result"
    }
   ],
   "source": [
    "df.head()"
   ]
  },
  {
   "cell_type": "code",
   "execution_count": 23,
   "id": "e0d2a3d6-ee93-439c-a618-efc6cc3f3cbc",
   "metadata": {
    "tags": []
   },
   "outputs": [],
   "source": [
    "df.to_csv('data_copom_transf_en_nextmeet.csv', index=None)"
   ]
  },
  {
   "cell_type": "markdown",
   "id": "90657d76-9557-498d-8653-ac7c404c7086",
   "metadata": {},
   "source": [
    "#### Convert to dataset"
   ]
  },
  {
   "cell_type": "code",
   "execution_count": 24,
   "id": "01d14340-a2e5-4f38-a2d3-dbbac8911a64",
   "metadata": {
    "tags": []
   },
   "outputs": [
    {
     "name": "stderr",
     "output_type": "stream",
     "text": [
      "C:\\Users\\ftrav\\anaconda3\\envs\\tcc_gpu2\\Lib\\site-packages\\tqdm\\auto.py:21: TqdmWarning: IProgress not found. Please update jupyter and ipywidgets. See https://ipywidgets.readthedocs.io/en/stable/user_install.html\n",
      "  from .autonotebook import tqdm as notebook_tqdm\n"
     ]
    },
    {
     "name": "stdout",
     "output_type": "stream",
     "text": [
      "Downloading and preparing dataset csv/default to C:/Users/ftrav/.cache/huggingface/datasets/csv/default-46f670a7236ae878/0.0.0/eea64c71ca8b46dd3f537ed218fc9bf495d5707789152eb2764f5c78fa66d59d...\n"
     ]
    },
    {
     "name": "stderr",
     "output_type": "stream",
     "text": [
      "Downloading data files: 100%|████████████████████████████████████████████████████████████████████| 1/1 [00:00<?, ?it/s]\n",
      "Extracting data files: 100%|████████████████████████████████████████████████████████████| 1/1 [00:00<00:00, 166.66it/s]\n",
      "                                                        \r"
     ]
    },
    {
     "name": "stdout",
     "output_type": "stream",
     "text": [
      "Dataset csv downloaded and prepared to C:/Users/ftrav/.cache/huggingface/datasets/csv/default-46f670a7236ae878/0.0.0/eea64c71ca8b46dd3f537ed218fc9bf495d5707789152eb2764f5c78fa66d59d. Subsequent calls will reuse this data.\n"
     ]
    },
    {
     "name": "stderr",
     "output_type": "stream",
     "text": [
      "100%|███████████████████████████████████████████████████████████████████████████████████| 1/1 [00:00<00:00, 111.12it/s]\n"
     ]
    }
   ],
   "source": [
    "from datasets import load_dataset\n",
    "\n",
    "raw_dataset = load_dataset('csv', data_files='data_copom_transf_en_nextmeet.csv')"
   ]
  },
  {
   "cell_type": "code",
   "execution_count": 25,
   "id": "516ab7be-ef65-4b11-a61c-4186da0bd307",
   "metadata": {
    "tags": []
   },
   "outputs": [
    {
     "data": {
      "text/plain": [
       "DatasetDict({\n",
       "    train: Dataset({\n",
       "        features: ['sentence', 'label'],\n",
       "        num_rows: 139\n",
       "    })\n",
       "})"
      ]
     },
     "execution_count": 25,
     "metadata": {},
     "output_type": "execute_result"
    }
   ],
   "source": [
    "raw_dataset"
   ]
  },
  {
   "cell_type": "markdown",
   "id": "36c44e4b-0795-4f05-838d-c5caa6b9dcd9",
   "metadata": {},
   "source": [
    "#### Split test and train"
   ]
  },
  {
   "cell_type": "code",
   "execution_count": 26,
   "id": "095e63a6-deb5-46d1-ac39-885c86bfe228",
   "metadata": {
    "tags": []
   },
   "outputs": [],
   "source": [
    "split = raw_dataset['train'].train_test_split(test_size=0.3, seed=2015)"
   ]
  },
  {
   "cell_type": "code",
   "execution_count": 27,
   "id": "e2e58e4a-1f38-42f5-9ee4-ab40562b5c71",
   "metadata": {
    "tags": []
   },
   "outputs": [
    {
     "data": {
      "text/plain": [
       "DatasetDict({\n",
       "    train: Dataset({\n",
       "        features: ['sentence', 'label'],\n",
       "        num_rows: 97\n",
       "    })\n",
       "    test: Dataset({\n",
       "        features: ['sentence', 'label'],\n",
       "        num_rows: 42\n",
       "    })\n",
       "})"
      ]
     },
     "execution_count": 27,
     "metadata": {},
     "output_type": "execute_result"
    }
   ],
   "source": [
    "split"
   ]
  },
  {
   "cell_type": "markdown",
   "id": "41ff51f9-f286-4f63-b42e-1ee6dc4ae8ca",
   "metadata": {},
   "source": [
    "## Model"
   ]
  },
  {
   "cell_type": "code",
   "execution_count": 28,
   "id": "9e2ac12f-92d4-4663-b0d8-fd758eb718fc",
   "metadata": {
    "tags": []
   },
   "outputs": [],
   "source": [
    "# from transformers import AutoTokenizer, AutoModelForSequenceClassification\n",
    "\n",
    "# tokenizer = AutoTokenizer.from_pretrained(\"gtfintechlab/FOMC-RoBERTa\")\n",
    "\n",
    "# model = AutoModelForSequenceClassification.from_pretrained(\"gtfintechlab/FOMC-RoBERTa\")"
   ]
  },
  {
   "cell_type": "markdown",
   "id": "36ef2e55-00e0-4da5-9504-0024bfa0fc1a",
   "metadata": {},
   "source": [
    "@article{shah2023trillion, \n",
    "  title={Trillion Dollar Words: A New Financial Dataset, Task & Market Analysis},\n",
    "  author={Shah, Agam and Paturi, Suvan and Chava, Sudheer},\n",
    "  journal={Available at SSRN 4447632},\n",
    "  year={2023}\n",
    "}\n",
    "\n",
    "https://huggingface.co/gtfintechlab/FOMC-RoBERTa?text=Such+a+directive+would+imply+that+any+tightening+should+be+implemented+promptly+if+developments+were+perceived+as+pointing+to+rising+inflation."
   ]
  },
  {
   "cell_type": "code",
   "execution_count": 29,
   "id": "dd9153e5-deaa-414d-95d0-fe5fbe925dd4",
   "metadata": {},
   "outputs": [],
   "source": [
    "checkpoint = 'gtfintechlab/FOMC-RoBERTa'"
   ]
  },
  {
   "cell_type": "markdown",
   "id": "be909174-068b-4879-89d1-2e1cd23d37b9",
   "metadata": {},
   "source": [
    "#### Tokenizer"
   ]
  },
  {
   "cell_type": "code",
   "execution_count": 30,
   "id": "708d931c-f000-4bd0-a7d0-fd4745e1dc33",
   "metadata": {
    "tags": []
   },
   "outputs": [],
   "source": [
    "from transformers import AutoTokenizer"
   ]
  },
  {
   "cell_type": "code",
   "execution_count": 31,
   "id": "abe79af4-de28-4046-b5c6-795283421950",
   "metadata": {
    "tags": []
   },
   "outputs": [],
   "source": [
    "tokenizer = AutoTokenizer.from_pretrained(checkpoint, do_lower_case=True, truncation='longest_first') #, do_basic_tokenize=True)"
   ]
  },
  {
   "cell_type": "code",
   "execution_count": 32,
   "id": "3ffaf227-5f80-4f04-b016-ad0edf67e123",
   "metadata": {
    "tags": []
   },
   "outputs": [],
   "source": [
    "# truncation=\"only_first\" ensure that the beginning of the sentence is preserved\n",
    "# \"only_second\" keeps the end of the text\n",
    "# \"longest_first\" preserves as much text as possible from both ends\n",
    "\n",
    "def tokenize_fn(batch):\n",
    "    return tokenizer(batch['sentence'], truncation='longest_first') "
   ]
  },
  {
   "cell_type": "code",
   "execution_count": 33,
   "id": "ef275b04-2bdc-42b6-b977-232d93e56c0e",
   "metadata": {
    "tags": []
   },
   "outputs": [
    {
     "name": "stderr",
     "output_type": "stream",
     "text": [
      "                                                                                                                       \r"
     ]
    }
   ],
   "source": [
    "tokenized_datasets = split.map(tokenize_fn, batched=True)"
   ]
  },
  {
   "cell_type": "markdown",
   "id": "241abab3-3614-4325-925b-021aeafd7055",
   "metadata": {
    "tags": []
   },
   "source": [
    "#### Training"
   ]
  },
  {
   "cell_type": "code",
   "execution_count": 34,
   "id": "01320179-b486-4077-8a9f-16a1bd03f8a0",
   "metadata": {
    "tags": []
   },
   "outputs": [],
   "source": [
    "from transformers import AutoModelForSequenceClassification, Trainer, TrainingArguments"
   ]
  },
  {
   "cell_type": "code",
   "execution_count": 35,
   "id": "87f4ac5c-9ffe-4533-a89e-4a4d5b92f203",
   "metadata": {
    "tags": []
   },
   "outputs": [],
   "source": [
    "model = AutoModelForSequenceClassification.from_pretrained(checkpoint, num_labels=3)"
   ]
  },
  {
   "cell_type": "code",
   "execution_count": 36,
   "id": "2e8488a3-a365-4db5-a400-e0a0699f0ab7",
   "metadata": {
    "tags": []
   },
   "outputs": [],
   "source": [
    "from torchinfo import summary"
   ]
  },
  {
   "cell_type": "code",
   "execution_count": 37,
   "id": "c06e7fac-7f9f-4c23-8cbc-ddb6eec92651",
   "metadata": {
    "tags": []
   },
   "outputs": [
    {
     "data": {
      "text/plain": [
       "=====================================================================================\n",
       "Layer (type:depth-idx)                                       Param #\n",
       "=====================================================================================\n",
       "RobertaForSequenceClassification                             --\n",
       "├─RobertaModel: 1-1                                          --\n",
       "│    └─RobertaEmbeddings: 2-1                                --\n",
       "│    │    └─Embedding: 3-1                                   51,471,360\n",
       "│    │    └─Embedding: 3-2                                   526,336\n",
       "│    │    └─Embedding: 3-3                                   1,024\n",
       "│    │    └─LayerNorm: 3-4                                   2,048\n",
       "│    │    └─Dropout: 3-5                                     --\n",
       "│    └─RobertaEncoder: 2-2                                   --\n",
       "│    │    └─ModuleList: 3-6                                  302,309,376\n",
       "├─RobertaClassificationHead: 1-2                             --\n",
       "│    └─Linear: 2-3                                           1,049,600\n",
       "│    └─Dropout: 2-4                                          --\n",
       "│    └─Linear: 2-5                                           3,075\n",
       "=====================================================================================\n",
       "Total params: 355,362,819\n",
       "Trainable params: 355,362,819\n",
       "Non-trainable params: 0\n",
       "====================================================================================="
      ]
     },
     "execution_count": 37,
     "metadata": {},
     "output_type": "execute_result"
    }
   ],
   "source": [
    "summary(model)"
   ]
  },
  {
   "cell_type": "code",
   "execution_count": 38,
   "id": "3a0e98ae-ab04-42f9-aca1-5a49ad56e424",
   "metadata": {
    "tags": []
   },
   "outputs": [],
   "source": [
    "def compute_metrics(logits_and_labels):\n",
    "    logits, labels = logits_and_labels\n",
    "    predictions = np.argmax(logits, axis=-1)\n",
    "    acc = np.mean(predictions == labels)\n",
    "    f1 = f1_score(labels, predictions, average='macro')\n",
    "    return {'accuracy': acc, 'f1': f1}"
   ]
  },
  {
   "cell_type": "code",
   "execution_count": 39,
   "id": "66ddafee-eacd-4637-a7b9-1304d9208585",
   "metadata": {
    "tags": []
   },
   "outputs": [],
   "source": [
    "training_args = TrainingArguments(\n",
    "    output_dir='training_dir/en/nextmeet',\n",
    "    evaluation_strategy='epoch',\n",
    "    save_strategy='epoch',\n",
    "    num_train_epochs=5,\n",
    "    per_device_train_batch_size=16,\n",
    "    per_device_eval_batch_size=64\n",
    ")"
   ]
  },
  {
   "cell_type": "code",
   "execution_count": 40,
   "id": "5c8a57c4-f80f-4347-a2b6-c87d433eb048",
   "metadata": {
    "tags": []
   },
   "outputs": [],
   "source": [
    "trainer = Trainer(\n",
    "    model,\n",
    "    training_args,\n",
    "    train_dataset=tokenized_datasets['train'],\n",
    "    eval_dataset=tokenized_datasets['test'],\n",
    "    tokenizer=tokenizer,\n",
    "    compute_metrics=compute_metrics\n",
    ")"
   ]
  },
  {
   "cell_type": "code",
   "execution_count": 41,
   "id": "39888059-a41b-41dc-b9ce-38c67d93ac56",
   "metadata": {
    "tags": []
   },
   "outputs": [
    {
     "name": "stderr",
     "output_type": "stream",
     "text": [
      "C:\\Users\\ftrav\\anaconda3\\envs\\tcc_gpu2\\Lib\\site-packages\\transformers\\optimization.py:411: FutureWarning: This implementation of AdamW is deprecated and will be removed in a future version. Use the PyTorch implementation torch.optim.AdamW instead, or set `no_deprecation_warning=True` to disable this warning\n",
      "  warnings.warn(\n",
      "You're using a RobertaTokenizerFast tokenizer. Please note that with a fast tokenizer, using the `__call__` method is faster than using a method to encode the text followed by a call to the `pad` method to get a padded encoding.\n"
     ]
    },
    {
     "data": {
      "text/html": [
       "\n",
       "    <div>\n",
       "      \n",
       "      <progress value='35' max='35' style='width:300px; height:20px; vertical-align: middle;'></progress>\n",
       "      [35/35 27:20, Epoch 5/5]\n",
       "    </div>\n",
       "    <table border=\"1\" class=\"dataframe\">\n",
       "  <thead>\n",
       " <tr style=\"text-align: left;\">\n",
       "      <th>Epoch</th>\n",
       "      <th>Training Loss</th>\n",
       "      <th>Validation Loss</th>\n",
       "      <th>Accuracy</th>\n",
       "      <th>F1</th>\n",
       "    </tr>\n",
       "  </thead>\n",
       "  <tbody>\n",
       "    <tr>\n",
       "      <td>1</td>\n",
       "      <td>No log</td>\n",
       "      <td>0.895094</td>\n",
       "      <td>0.523810</td>\n",
       "      <td>0.432099</td>\n",
       "    </tr>\n",
       "    <tr>\n",
       "      <td>2</td>\n",
       "      <td>No log</td>\n",
       "      <td>0.785292</td>\n",
       "      <td>0.761905</td>\n",
       "      <td>0.765898</td>\n",
       "    </tr>\n",
       "    <tr>\n",
       "      <td>3</td>\n",
       "      <td>No log</td>\n",
       "      <td>0.690022</td>\n",
       "      <td>0.785714</td>\n",
       "      <td>0.791014</td>\n",
       "    </tr>\n",
       "    <tr>\n",
       "      <td>4</td>\n",
       "      <td>No log</td>\n",
       "      <td>0.888811</td>\n",
       "      <td>0.738095</td>\n",
       "      <td>0.740916</td>\n",
       "    </tr>\n",
       "    <tr>\n",
       "      <td>5</td>\n",
       "      <td>No log</td>\n",
       "      <td>0.726370</td>\n",
       "      <td>0.809524</td>\n",
       "      <td>0.816478</td>\n",
       "    </tr>\n",
       "  </tbody>\n",
       "</table><p>"
      ],
      "text/plain": [
       "<IPython.core.display.HTML object>"
      ]
     },
     "metadata": {},
     "output_type": "display_data"
    },
    {
     "data": {
      "text/plain": [
       "TrainOutput(global_step=35, training_loss=0.8021868569510323, metrics={'train_runtime': 1692.2595, 'train_samples_per_second': 0.287, 'train_steps_per_second': 0.021, 'total_flos': 449492765303706.0, 'train_loss': 0.8021868569510323, 'epoch': 5.0})"
      ]
     },
     "execution_count": 41,
     "metadata": {},
     "output_type": "execute_result"
    }
   ],
   "source": [
    "trainer.train()"
   ]
  },
  {
   "cell_type": "code",
   "execution_count": 42,
   "id": "e5c96c66-718f-4d6b-8b3d-6d81f8bb1a1d",
   "metadata": {
    "tags": []
   },
   "outputs": [
    {
     "name": "stdout",
     "output_type": "stream",
     "text": [
      " Volume in drive C has no label.\n",
      " Volume Serial Number is 5AAA-7C2A\n",
      "\n",
      " Directory of C:\\Users\\ftrav\\Documents\\Insper_tcc\\training_dir\\en\\nextmeet\n",
      "\n",
      "07/02/2023  04:31 PM    <DIR>          .\n",
      "07/02/2023  03:51 PM    <DIR>          ..\n",
      "07/02/2023  04:15 PM    <DIR>          checkpoint-14\n",
      "07/02/2023  04:20 PM    <DIR>          checkpoint-21\n",
      "07/02/2023  04:26 PM    <DIR>          checkpoint-28\n",
      "07/02/2023  04:31 PM    <DIR>          checkpoint-35\n",
      "07/02/2023  04:09 PM    <DIR>          checkpoint-7\n",
      "07/02/2023  04:03 PM    <DIR>          runs\n",
      "               0 File(s)              0 bytes\n",
      "               8 Dir(s)  10,208,567,296 bytes free\n"
     ]
    }
   ],
   "source": [
    "!dir training_dir\\en\\nextmeet"
   ]
  },
  {
   "cell_type": "markdown",
   "id": "a4e4a910-72b5-447c-b440-6bfc9cbad6c7",
   "metadata": {
    "tags": []
   },
   "source": [
    "#### Test"
   ]
  },
  {
   "cell_type": "code",
   "execution_count": 41,
   "id": "e08da70f-72ae-436c-b0f3-041e326e2bfe",
   "metadata": {
    "tags": []
   },
   "outputs": [],
   "source": [
    "from transformers import pipeline, AutoConfig"
   ]
  },
  {
   "cell_type": "code",
   "execution_count": 42,
   "id": "b68fad42-6f57-4eb5-aa31-9a36e0043199",
   "metadata": {
    "tags": []
   },
   "outputs": [],
   "source": [
    "config = AutoConfig.from_pretrained(checkpoint)"
   ]
  },
  {
   "cell_type": "code",
   "execution_count": 43,
   "id": "13f0bba8-b8e8-434a-a772-67cceef51075",
   "metadata": {
    "tags": []
   },
   "outputs": [
    {
     "name": "stderr",
     "output_type": "stream",
     "text": [
      "Xformers is not installed correctly. If you want to use memory_efficient_attention to accelerate training use the following command to install Xformers\n",
      "pip install xformers.\n"
     ]
    }
   ],
   "source": [
    "savedmodel = pipeline('text-classification',\n",
    "                      model='training_dir/en/nextmeet/checkpoint-35/',\n",
    "                      tokenizer=tokenizer, \n",
    "                      config=config,\n",
    "                      device=0,\n",
    "                      framework=\"pt\")"
   ]
  },
  {
   "cell_type": "code",
   "execution_count": 44,
   "id": "715754d4-cd7d-4d61-975d-92ad49e71b9b",
   "metadata": {
    "tags": []
   },
   "outputs": [
    {
     "data": {
      "text/plain": [
       "Dataset({\n",
       "    features: ['sentence', 'label'],\n",
       "    num_rows: 42\n",
       "})"
      ]
     },
     "execution_count": 44,
     "metadata": {},
     "output_type": "execute_result"
    }
   ],
   "source": [
    "split['test']"
   ]
  },
  {
   "cell_type": "code",
   "execution_count": 45,
   "id": "003d484e-3062-48b2-b087-83196fae7d20",
   "metadata": {
    "tags": []
   },
   "outputs": [],
   "source": [
    "# count_words_ponct(split['test']['sentence'][2])"
   ]
  },
  {
   "cell_type": "code",
   "execution_count": 46,
   "id": "134f8d15-6fe6-427b-a95d-0315be003fe0",
   "metadata": {
    "tags": []
   },
   "outputs": [],
   "source": [
    "test_pred = savedmodel(split['test']['sentence'],\n",
    "                       batch_size=128, \n",
    "                       truncation=\"longest_first\")"
   ]
  },
  {
   "cell_type": "code",
   "execution_count": 47,
   "id": "2606dfa0-d709-4879-8217-709ca8e19a45",
   "metadata": {
    "tags": []
   },
   "outputs": [
    {
     "name": "stdout",
     "output_type": "stream",
     "text": [
      "0 {'label': 'LABEL_0', 'score': 0.9693303108215332}\n",
      "1 {'label': 'LABEL_1', 'score': 0.9635208249092102}\n",
      "1 {'label': 'LABEL_1', 'score': 0.9776259064674377}\n",
      "2 {'label': 'LABEL_2', 'score': 0.8861514925956726}\n",
      "0 {'label': 'LABEL_0', 'score': 0.9770317673683167}\n",
      "2 {'label': 'LABEL_2', 'score': 0.855776846408844}\n",
      "0 {'label': 'LABEL_0', 'score': 0.9617831110954285}\n",
      "2 {'label': 'LABEL_0', 'score': 0.940017819404602}\n",
      "2 {'label': 'LABEL_2', 'score': 0.8980669379234314}\n",
      "2 {'label': 'LABEL_2', 'score': 0.888187050819397}\n",
      "2 {'label': 'LABEL_2', 'score': 0.9201415777206421}\n",
      "2 {'label': 'LABEL_1', 'score': 0.974736213684082}\n",
      "0 {'label': 'LABEL_0', 'score': 0.9711549282073975}\n",
      "1 {'label': 'LABEL_1', 'score': 0.9658896923065186}\n",
      "2 {'label': 'LABEL_2', 'score': 0.8988454341888428}\n",
      "0 {'label': 'LABEL_2', 'score': 0.8975802063941956}\n",
      "2 {'label': 'LABEL_2', 'score': 0.8657019734382629}\n",
      "2 {'label': 'LABEL_2', 'score': 0.9160677194595337}\n",
      "2 {'label': 'LABEL_0', 'score': 0.9740203619003296}\n",
      "0 {'label': 'LABEL_0', 'score': 0.9643503427505493}\n",
      "2 {'label': 'LABEL_2', 'score': 0.6852542757987976}\n",
      "1 {'label': 'LABEL_2', 'score': 0.9090529680252075}\n",
      "0 {'label': 'LABEL_0', 'score': 0.9356871247291565}\n",
      "2 {'label': 'LABEL_2', 'score': 0.8899772763252258}\n",
      "1 {'label': 'LABEL_1', 'score': 0.9388722777366638}\n",
      "0 {'label': 'LABEL_0', 'score': 0.9796105623245239}\n",
      "1 {'label': 'LABEL_1', 'score': 0.9403766989707947}\n",
      "1 {'label': 'LABEL_1', 'score': 0.9745348691940308}\n",
      "1 {'label': 'LABEL_1', 'score': 0.9474992752075195}\n",
      "0 {'label': 'LABEL_0', 'score': 0.913514256477356}\n",
      "0 {'label': 'LABEL_2', 'score': 0.9189977645874023}\n",
      "0 {'label': 'LABEL_0', 'score': 0.958623468875885}\n",
      "2 {'label': 'LABEL_0', 'score': 0.977776288986206}\n",
      "0 {'label': 'LABEL_0', 'score': 0.96773362159729}\n",
      "1 {'label': 'LABEL_1', 'score': 0.9577462077140808}\n",
      "1 {'label': 'LABEL_1', 'score': 0.9738187193870544}\n",
      "2 {'label': 'LABEL_2', 'score': 0.9031078815460205}\n",
      "2 {'label': 'LABEL_2', 'score': 0.7527261972427368}\n",
      "0 {'label': 'LABEL_0', 'score': 0.9632701277732849}\n",
      "0 {'label': 'LABEL_0', 'score': 0.9526796340942383}\n",
      "2 {'label': 'LABEL_2', 'score': 0.9045352339744568}\n",
      "2 {'label': 'LABEL_1', 'score': 0.9402874708175659}\n"
     ]
    }
   ],
   "source": [
    "for i in range(len(split['test']['label'])):\n",
    "    print (split['test']['label'][i], test_pred[i])"
   ]
  },
  {
   "cell_type": "code",
   "execution_count": 48,
   "id": "bddaa43f-06fb-46bf-9c9e-6f95d5cf785b",
   "metadata": {
    "tags": []
   },
   "outputs": [],
   "source": [
    "def get_label(d):\n",
    "    return int(d['label'].split('_')[1])\n",
    "\n",
    "test_pred = [get_label(d) for d in test_pred]"
   ]
  },
  {
   "cell_type": "code",
   "execution_count": 49,
   "id": "2d8a50c0-69e6-440f-a849-f1cf91f032c2",
   "metadata": {
    "tags": []
   },
   "outputs": [
    {
     "name": "stdout",
     "output_type": "stream",
     "text": [
      "acc: 0.8095238095238095\n"
     ]
    }
   ],
   "source": [
    "print(\"acc:\", accuracy_score(split['test']['label'], test_pred))"
   ]
  },
  {
   "cell_type": "code",
   "execution_count": 50,
   "id": "d4447305-0e85-4267-a2ce-87867711658f",
   "metadata": {
    "tags": []
   },
   "outputs": [
    {
     "name": "stdout",
     "output_type": "stream",
     "text": [
      "f1: 0.8164783154641168\n"
     ]
    }
   ],
   "source": [
    "print(\"f1:\", f1_score(split['test']['label'], test_pred, average='macro'))"
   ]
  },
  {
   "cell_type": "code",
   "execution_count": 52,
   "id": "316c866b-ebf0-4da1-8fb7-4a652442c72b",
   "metadata": {
    "jupyter": {
     "source_hidden": true
    },
    "tags": []
   },
   "outputs": [
    {
     "data": {
      "image/png": "[encoded data removed]",
      "text/plain": [
       "<Figure size 640x480 with 2 Axes>"
      ]
     },
     "metadata": {},
     "output_type": "display_data"
    }
   ],
   "source": [
    "# Scikit-Learn is transitioning to V1 but it's not available on Colab\n",
    "# The changes modify how confusion matrices are plotted\n",
    "def plot_cm(cm):\n",
    "    classes = ['cortar', 'elevar', 'manter']\n",
    "    df_cm = pd.DataFrame(cm, index=classes, columns=classes)\n",
    "    ax = sn.heatmap(df_cm, annot=True, fmt='g')\n",
    "    ax.set_xlabel(\"Predicted\")\n",
    "    ax.set_ylabel(\"Target\")\n",
    "\n",
    "cm = confusion_matrix(split['test']['label'], test_pred, normalize='true')\n",
    "plot_cm(cm)"
   ]
  },
  {
   "cell_type": "code",
   "execution_count": 54,
   "id": "a3a645fc-0661-40d7-ae7b-0f9f04bc8286",
   "metadata": {},
   "outputs": [],
   "source": [
    "new_text = 'Considering the assessed scenarios, the balance of risks, and the broad array of available information, Copom decided to maintain the Selic rate at 13.75% p.a. and judges that this decision is consistent with the strategy for inflation convergence to a level around its target throughout the relevant horizon for monetary policy, which includes the year of 2024. Without compromising its fundamental objective of ensuring price stability, this decision also implies smoothing economic fluctuations and fostering full employment. The current context, characterized by a stage in which the disinflationary process tends to be slower and in an environment of deanchored inflation expectations continues to require caution and parcimony. Copom reaffirms its commitment to set monetary policy to meet the targets and judges that the strategy of maintaining the Selic rate for a long period has been adequate to ensure the convergence of inflation. The Committee emphasizes that it will persist until the disinflationary process consolidates and inflation expectations anchor around its targets. The Committee judges that the current scenario demands patience and serenity in the conduct of monetary policy and reminds that the future steps of monetary policy will depend on the inflationary dynamics, especially the components that are more sensitive to monetary policy and economic activity, on inflation expectations, in particular the longer-term ones, on its inflation projections, on the output gap, and on the balance of risks.'"
   ]
  },
  {
   "cell_type": "code",
   "execution_count": 55,
   "id": "564482aa-eb0e-47cb-be85-1ddedc0eeeaa",
   "metadata": {
    "tags": []
   },
   "outputs": [],
   "source": [
    "new_test_pred = savedmodel(new_text,\n",
    "                           batch_size=128,\n",
    "                           truncation=\"longest_first\")"
   ]
  },
  {
   "cell_type": "code",
   "execution_count": 56,
   "id": "dae7fdab-30ad-45fa-bd27-c9927f46c345",
   "metadata": {
    "tags": []
   },
   "outputs": [
    {
     "data": {
      "text/plain": [
       "[{'label': 'LABEL_2', 'score': 0.913582444190979}]"
      ]
     },
     "execution_count": 56,
     "metadata": {},
     "output_type": "execute_result"
    }
   ],
   "source": [
    "new_test_pred"
   ]
  },
  {
   "cell_type": "code",
   "execution_count": 57,
   "id": "8ec9a267-f507-42d6-a32d-694f4f715348",
   "metadata": {
    "tags": []
   },
   "outputs": [
    {
     "data": {
      "text/plain": [
       "{'decrease': 0, 'increase': 1, 'mantain': 2}"
      ]
     },
     "execution_count": 57,
     "metadata": {},
     "output_type": "execute_result"
    }
   ],
   "source": [
    "target_map"
   ]
  },
  {
   "cell_type": "markdown",
   "id": "fa5334d4-7c04-4fdd-bea6-e1930d956aba",
   "metadata": {},
   "source": [
    "## gtfintechlab/FOMC-RoBERTa"
   ]
  },
  {
   "cell_type": "code",
   "execution_count": 58,
   "id": "3173d8c7-0170-4f2f-a313-e3beff921beb",
   "metadata": {},
   "outputs": [],
   "source": [
    "from transformers import pipeline\n",
    "from transformers import AutoTokenizer, AutoModelForSequenceClassification, AutoConfig\n",
    "\n",
    "tokenizer_raw = AutoTokenizer.from_pretrained(\"gtfintechlab/FOMC-RoBERTa\", do_lower_case=True, do_basic_tokenize=True)\n",
    "model_raw = AutoModelForSequenceClassification.from_pretrained(\"gtfintechlab/FOMC-RoBERTa\", num_labels=3)\n",
    "config_raw = AutoConfig.from_pretrained(\"gtfintechlab/FOMC-RoBERTa\")\n",
    "\n",
    "classifier_raw = pipeline('text-classification', \n",
    "                          model=model_raw, \n",
    "                          tokenizer=tokenizer_raw, \n",
    "                          config=config_raw, \n",
    "                          device=0, \n",
    "                          framework=\"pt\")"
   ]
  },
  {
   "cell_type": "code",
   "execution_count": 59,
   "id": "141513e0-dc82-43fe-91fa-0cc55b6b2021",
   "metadata": {
    "tags": []
   },
   "outputs": [],
   "source": [
    "new_text_raw = 'Considering the assessed scenarios, the balance of risks, and the broad array of available information, Copom decided to maintain the Selic rate at 13.75% p.a. and judges that this decision is consistent with the strategy for inflation convergence to a level around its target throughout the relevant horizon for monetary policy, which includes the year of 2024. Without compromising its fundamental objective of ensuring price stability, this decision also implies smoothing economic fluctuations and fostering full employment. The current context, characterized by a stage in which the disinflationary process tends to be slower and in an environment of deanchored inflation expectations continues to require caution and parcimony. Copom reaffirms its commitment to set monetary policy to meet the targets and judges that the strategy of maintaining the Selic rate for a long period has been adequate to ensure the convergence of inflation. The Committee emphasizes that it will persist until the disinflationary process consolidates and inflation expectations anchor around its targets. The Committee judges that the current scenario demands patience and serenity in the conduct of monetary policy and reminds that the future steps of monetary policy will depend on the inflationary dynamics, especially the components that are more sensitive to monetary policy and economic activity, on inflation expectations, in particular the longer-term ones, on its inflation projections, on the output gap, and on the balance of risks.'"
   ]
  },
  {
   "cell_type": "code",
   "execution_count": 60,
   "id": "a11aecab-5b3a-450d-bddd-2390572a1f57",
   "metadata": {},
   "outputs": [
    {
     "name": "stdout",
     "output_type": "stream",
     "text": [
      "[{'label': 'LABEL_1', 'score': 0.9165489673614502}]\n"
     ]
    }
   ],
   "source": [
    "results = classifier_raw([new_text_raw], \n",
    "                      batch_size=128, truncation=\"only_first\")\n",
    "\n",
    "print(results)"
   ]
  },
  {
   "cell_type": "code",
   "execution_count": 61,
   "id": "40c57d64-b7fd-4a92-8b8c-d431310ddd7f",
   "metadata": {},
   "outputs": [
    {
     "data": {
      "text/plain": [
       "{'decrease': 0, 'increase': 1, 'mantain': 2}"
      ]
     },
     "execution_count": 61,
     "metadata": {},
     "output_type": "execute_result"
    }
   ],
   "source": [
    "target_map"
   ]
  },
  {
   "cell_type": "code",
   "execution_count": null,
   "id": "13dc2822-40fc-4f5e-957c-06b27a41a654",
   "metadata": {},
   "outputs": [],
   "source": []
  },
  {
   "cell_type": "code",
   "execution_count": null,
   "id": "c6e0e8aa-58cf-4a6c-8b40-9bd907f525e9",
   "metadata": {},
   "outputs": [],
   "source": []
  },
  {
   "cell_type": "code",
   "execution_count": null,
   "id": "f129932c-1a6e-47fb-807a-122411962648",
   "metadata": {},
   "outputs": [],
   "source": []
  }
 ],
 "metadata": {
  "kernelspec": {
   "display_name": "Python 3 (ipykernel)",
   "language": "python",
   "name": "python3"
  },
  "language_info": {
   "codemirror_mode": {
    "name": "ipython",
    "version": 3
   },
   "file_extension": ".py",
   "mimetype": "text/x-python",
   "name": "python",
   "nbconvert_exporter": "python",
   "pygments_lexer": "ipython3",
   "version": "3.11.3"
  }
 },
 "nbformat": 4,
 "nbformat_minor": 5
}

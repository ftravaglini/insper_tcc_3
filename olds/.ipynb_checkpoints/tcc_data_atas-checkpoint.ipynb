{
 "cells": [
  {
   "cell_type": "markdown",
   "id": "0be5e8ee-9b71-4a32-85a5-06fd872202e1",
   "metadata": {},
   "source": [
    "# Tratamento de dados"
   ]
  },
  {
   "cell_type": "code",
   "execution_count": 1,
   "id": "1a8c7a6a-4bed-4912-a47f-5fa2294965bb",
   "metadata": {},
   "outputs": [],
   "source": [
    "import os\n",
    "import glob\n",
    "import re\n",
    "import numpy as np\n",
    "import pandas as pd\n",
    "import json\n",
    "from datetime import datetime"
   ]
  },
  {
   "cell_type": "code",
   "execution_count": 2,
   "id": "50d847a1-47a6-4a94-880f-e1aa67fefe5c",
   "metadata": {},
   "outputs": [],
   "source": [
    "df_statements = pd.DataFrame()"
   ]
  },
  {
   "cell_type": "code",
   "execution_count": 3,
   "id": "223a9cd0-695d-42aa-bc77-189ddb9c3d63",
   "metadata": {},
   "outputs": [
    {
     "data": {
      "text/html": [
       "<div>\n",
       "<style scoped>\n",
       "    .dataframe tbody tr th:only-of-type {\n",
       "        vertical-align: middle;\n",
       "    }\n",
       "\n",
       "    .dataframe tbody tr th {\n",
       "        vertical-align: top;\n",
       "    }\n",
       "\n",
       "    .dataframe thead th {\n",
       "        text-align: right;\n",
       "    }\n",
       "</style>\n",
       "<table border=\"1\" class=\"dataframe\">\n",
       "  <thead>\n",
       "    <tr style=\"text-align: right;\">\n",
       "      <th></th>\n",
       "    </tr>\n",
       "  </thead>\n",
       "  <tbody>\n",
       "  </tbody>\n",
       "</table>\n",
       "</div>"
      ],
      "text/plain": [
       "Empty DataFrame\n",
       "Columns: []\n",
       "Index: []"
      ]
     },
     "execution_count": 3,
     "metadata": {},
     "output_type": "execute_result"
    }
   ],
   "source": [
    "df_statements"
   ]
  },
  {
   "cell_type": "code",
   "execution_count": 4,
   "id": "b0a34879-af6a-4de6-9315-31d8d32fc4de",
   "metadata": {},
   "outputs": [],
   "source": [
    "for file in glob.glob(\"comunicados/comun_en/*.json\"):\n",
    "    with open(file, 'r') as f:\n",
    "        try:\n",
    "            a = json.load(f)\n",
    "            df_statements = df_statements.append(a[0], ignore_index=True)\n",
    "        except:\n",
    "            pass"
   ]
  },
  {
   "cell_type": "code",
   "execution_count": 5,
   "id": "8cbb4134-eb4a-4b68-b8b6-cbba2e28f69a",
   "metadata": {},
   "outputs": [
    {
     "data": {
      "text/html": [
       "<div>\n",
       "<style scoped>\n",
       "    .dataframe tbody tr th:only-of-type {\n",
       "        vertical-align: middle;\n",
       "    }\n",
       "\n",
       "    .dataframe tbody tr th {\n",
       "        vertical-align: top;\n",
       "    }\n",
       "\n",
       "    .dataframe thead th {\n",
       "        text-align: right;\n",
       "    }\n",
       "</style>\n",
       "<table border=\"1\" class=\"dataframe\">\n",
       "  <thead>\n",
       "    <tr style=\"text-align: right;\">\n",
       "      <th></th>\n",
       "      <th>Conteudo</th>\n",
       "      <th>Data</th>\n",
       "      <th>DataAtualizacao</th>\n",
       "      <th>Id</th>\n",
       "      <th>Titulo</th>\n",
       "      <th>mostrarCabecalho</th>\n",
       "      <th>mostrarRodape</th>\n",
       "      <th>Type</th>\n",
       "    </tr>\n",
       "  </thead>\n",
       "  <tbody>\n",
       "    <tr>\n",
       "      <th>71</th>\n",
       "      <td>​In its 234th meeting, the Copom unanimously d...</td>\n",
       "      <td>2020-10-28T21:15:09Z</td>\n",
       "      <td>None</td>\n",
       "      <td>2358</td>\n",
       "      <td>Copom maintains Selic rate at 2.00% p.a.</td>\n",
       "      <td>0.0</td>\n",
       "      <td>0.0</td>\n",
       "      <td>Statement</td>\n",
       "    </tr>\n",
       "    <tr>\n",
       "      <th>72</th>\n",
       "      <td>In its 235th meeting, the Copom unanimously de...</td>\n",
       "      <td>2020-12-09T21:40:56Z</td>\n",
       "      <td>None</td>\n",
       "      <td>2364</td>\n",
       "      <td>Copom maintains Selic rate at 2.00% p.a.</td>\n",
       "      <td>0.0</td>\n",
       "      <td>0.0</td>\n",
       "      <td>Statement</td>\n",
       "    </tr>\n",
       "    <tr>\n",
       "      <th>73</th>\n",
       "      <td>In its 236th meeting, the Copom unanimously de...</td>\n",
       "      <td>2021-01-20T21:42:10Z</td>\n",
       "      <td>None</td>\n",
       "      <td>2374</td>\n",
       "      <td>Copom maintains Selic rate at 2.00% p.a.</td>\n",
       "      <td>0.0</td>\n",
       "      <td>0.0</td>\n",
       "      <td>Statement</td>\n",
       "    </tr>\n",
       "    <tr>\n",
       "      <th>74</th>\n",
       "      <td>​In its 237th meeting, the Copom unanimously d...</td>\n",
       "      <td>2021-03-17T21:49:00Z</td>\n",
       "      <td>None</td>\n",
       "      <td>2381</td>\n",
       "      <td>Copom increases the Selic rate to 2.75% p.a.</td>\n",
       "      <td>0.0</td>\n",
       "      <td>0.0</td>\n",
       "      <td>Statement</td>\n",
       "    </tr>\n",
       "    <tr>\n",
       "      <th>75</th>\n",
       "      <td>In its 238th meeting, the Copom unanimously de...</td>\n",
       "      <td>2021-05-05T21:41:19Z</td>\n",
       "      <td>None</td>\n",
       "      <td>2392</td>\n",
       "      <td>Copom increases the Selic rate to 3.50% p.a.</td>\n",
       "      <td>0.0</td>\n",
       "      <td>0.0</td>\n",
       "      <td>Statement</td>\n",
       "    </tr>\n",
       "  </tbody>\n",
       "</table>\n",
       "</div>"
      ],
      "text/plain": [
       "                                             Conteudo                  Data  \\\n",
       "71  ​In its 234th meeting, the Copom unanimously d...  2020-10-28T21:15:09Z   \n",
       "72  In its 235th meeting, the Copom unanimously de...  2020-12-09T21:40:56Z   \n",
       "73  In its 236th meeting, the Copom unanimously de...  2021-01-20T21:42:10Z   \n",
       "74  ​In its 237th meeting, the Copom unanimously d...  2021-03-17T21:49:00Z   \n",
       "75  In its 238th meeting, the Copom unanimously de...  2021-05-05T21:41:19Z   \n",
       "\n",
       "   DataAtualizacao    Id                                        Titulo  \\\n",
       "71            None  2358      Copom maintains Selic rate at 2.00% p.a.   \n",
       "72            None  2364      Copom maintains Selic rate at 2.00% p.a.   \n",
       "73            None  2374      Copom maintains Selic rate at 2.00% p.a.   \n",
       "74            None  2381  Copom increases the Selic rate to 2.75% p.a.   \n",
       "75            None  2392  Copom increases the Selic rate to 3.50% p.a.   \n",
       "\n",
       "    mostrarCabecalho  mostrarRodape       Type  \n",
       "71               0.0            0.0  Statement  \n",
       "72               0.0            0.0  Statement  \n",
       "73               0.0            0.0  Statement  \n",
       "74               0.0            0.0  Statement  \n",
       "75               0.0            0.0  Statement  "
      ]
     },
     "execution_count": 5,
     "metadata": {},
     "output_type": "execute_result"
    }
   ],
   "source": [
    "df_statements['Type'] = 'Statement'\n",
    "df_statements['Id'] = df_statements['Id'].astype('int')\n",
    "df_statements.sort_values('Data', inplace=True)\n",
    "df_statements.reset_index(drop=True, inplace=True)\n",
    "df_statements.tail()"
   ]
  },
  {
   "cell_type": "code",
   "execution_count": 6,
   "id": "d1482a1e-704d-4f81-b08f-9d6b8567fdab",
   "metadata": {},
   "outputs": [
    {
     "data": {
      "text/plain": [
       "\"In its 238th meeting, the Copom unanimously decided to increase the Selic rate to 3.50% p.a.The following observations provide an update of the Copom's baseline scenario:·\\xa0\\xa0\\xa0\\xa0\\xa0\\xa0Regarding the global outlook, new fiscal stimuli in some developed countries and the advancement of the COVID-19 immunization programs should promote a more robust economic recovery throughout the year. Economic slack and central bank communication from major economies suggest monetary stimuli will last long. However, market discussion regarding inflationary risks in these economies could result in a more challenging environment for emerging economies;·\\xa0\\xa0\\xa0\\xa0\\xa0\\xa0Turning to the Brazilian economy, recent indicators are evolving better than expected in spite of the second wave of the pandemic being more intense than anticipated. Prospectively, uncertainty about economic growth still remains larger than usual, but should gradually return to its normal level;·\\xa0\\xa0\\xa0\\xa0\\xa0\\xa0With the exception of oil, commodity prices continued to increase, impacting food and industrial price forecasts. Additionally, the transition to higher energy prices should keep inflation under pressure in the short run. The Committee maintains the diagnosis that the current shocks are temporary, but continues to closely monitor its evolution;·\\xa0\\xa0\\xa0\\xa0\\xa0\\xa0The various measures of underlying inflation are at the top of the range compatible with meeting the inflation target; ·\\xa0\\xa0\\xa0\\xa0\\xa0\\xa0Inflation expectations for 2021, 2022, and 2023 collected by the Focus survey are around 5.0%, 3.6%, and 3.25%, respectively; and·\\xa0\\xa0\\xa0\\xa0\\xa0\\xa0The Copom's inflation projections in its baseline scenario, with interest rate path extracted from the Focus survey and exchange rate starting at R$5.40/US$* and evolving according to the purchase power parity (PPP), stand around 5.1% for 2021 and 3.4% for 2022. This scenario assumes a path for the Selic rate that ends 2021 at 5.50% p.a. and rises to 6.25% p.a. in 2022. In this scenario, inflation projections for administered prices are 8.4% for 2021 and 5.0% for 2022.The Committee emphasizes that risks to its baseline scenario remain in both directions.On the one hand, economic recovery from the pandemic can be slower than estimated, producing a lower-than-expected prospective inflation trajectory.On the other hand, further extensions of fiscal policy responses to the pandemic that aggravate the fiscal path, or a frustration with the continuation of the reform agenda, may add pressure to the country's risk premium. The elevated fiscal risk creates an upward asymmetry in the balance of risks, i.e., in the direction of higher-than-expected paths for inflation over the relevant horizon for monetary policy.The Committee reiterates that persevering in the process of reforms and necessary adjustments in the Brazilian economy is essential for a sustainable economic recovery. The Copom also stresses that uncertainty regarding the continuation of the reform agenda and permanent changes to the fiscal consolidation process could result in an increase in the structural interest rate.Taking into account the baseline scenario, the balance of risks, and the broad array of available information, the Copom unanimously decided to increase the Selic rate by 0.75 p.p. to 3.50% p.a. The Committee judges that this decision reflects its baseline scenario for prospective inflation, a higher-than-usual variance in the balance of risks, and it is consistent with the convergence of inflation to its target over the relevant horizon for monetary policy, which includes 2022. Without compromising its fundamental objective of price stability, this decision also implies smoothing of economic fluctuations and fosters full employment.At this moment, the Copom's baseline scenario indicates that a partial normalization of the policy rate remains appropriate to keep some degree of monetary stimulus during the economic recovery. However, the Committee emphasizes that there is no commitment with this plan, and that future steps of monetary policy could be adjusted to assure the achievement of the inflation target.For the next meeting the Committee foresees the continuation of the partial normalization process with another adjustment of the same magnitude in the degree of monetary stimulus. The Copom emphasizes that its view will continue to depend on the evolution of economic activity, the balance of risks, and inflation projections and expectations.The following members of the Committee voted for this decision: Roberto Oliveira Campos Neto (Governor), Bruno Serra Fernandes, Carolina de Assis Barros, Fabio Kanczuk, Fernanda Feitosa Nechio, João Manoel Pinho de Mello, Maurício Costa de Moura, Otávio Ribeiro Damaso, and Paulo Sérgio Neves de Souza.\\xa0*Value obtained according to the usual procedure of rounding the average R$/US$ exchange rate observed on the five business days ending on the last day of the week before the Copom meeting.Note: This press release represents the Copom's best effort to provide an English version of its policy statement. In case of any inconsistency, the original version in Portuguese prevails.\""
      ]
     },
     "execution_count": 6,
     "metadata": {},
     "output_type": "execute_result"
    }
   ],
   "source": [
    "df_statements['Conteudo'][75]"
   ]
  },
  {
   "cell_type": "code",
   "execution_count": 7,
   "id": "37fd9976-d1d5-4ef7-8bab-2fa58d9af5c0",
   "metadata": {},
   "outputs": [],
   "source": [
    "df_statements['Decision'] = df_statements['Conteudo'].apply(\n",
    "    lambda x: re.findall(r\"(decided.*?Selic)\", str(x))).apply(\n",
    "    lambda x: re.findall(r\"(\\bincreas(e|es|ed|ing)\\b|\\brais(e|es|ed|ing)\\b|\\breduc(e|es|ed|ing)\\b|\\blower(|s|ed|ing)\\b|\\bmaintain(|s|ed|ing)\\b)\", str(x)\n",
    "                       )[0][0]\n",
    ")"
   ]
  },
  {
   "cell_type": "code",
   "execution_count": 9,
   "id": "cfe3db36-624d-40bc-ba19-e77ee5af46f1",
   "metadata": {},
   "outputs": [
    {
     "data": {
      "text/html": [
       "<div>\n",
       "<style scoped>\n",
       "    .dataframe tbody tr th:only-of-type {\n",
       "        vertical-align: middle;\n",
       "    }\n",
       "\n",
       "    .dataframe tbody tr th {\n",
       "        vertical-align: top;\n",
       "    }\n",
       "\n",
       "    .dataframe thead th {\n",
       "        text-align: right;\n",
       "    }\n",
       "</style>\n",
       "<table border=\"1\" class=\"dataframe\">\n",
       "  <thead>\n",
       "    <tr style=\"text-align: right;\">\n",
       "      <th></th>\n",
       "      <th>Conteudo</th>\n",
       "      <th>Data</th>\n",
       "      <th>DataAtualizacao</th>\n",
       "      <th>Id</th>\n",
       "      <th>Titulo</th>\n",
       "      <th>mostrarCabecalho</th>\n",
       "      <th>mostrarRodape</th>\n",
       "      <th>Type</th>\n",
       "      <th>Decision</th>\n",
       "    </tr>\n",
       "  </thead>\n",
       "  <tbody>\n",
       "    <tr>\n",
       "      <th>0</th>\n",
       "      <td>In the March Meeting, the Banco Central do Br...</td>\n",
       "      <td>2006-03-08T03:00:00Z</td>\n",
       "      <td>None</td>\n",
       "      <td>2116</td>\n",
       "      <td>117th Meeting</td>\n",
       "      <td>0.0</td>\n",
       "      <td>0.0</td>\n",
       "      <td>Statement</td>\n",
       "      <td>reduce</td>\n",
       "    </tr>\n",
       "    <tr>\n",
       "      <th>1</th>\n",
       "      <td>In the April Meeting, the Monetary Policy Com...</td>\n",
       "      <td>2006-04-19T03:00:00Z</td>\n",
       "      <td>None</td>\n",
       "      <td>2117</td>\n",
       "      <td>118th Meeting</td>\n",
       "      <td>0.0</td>\n",
       "      <td>0.0</td>\n",
       "      <td>Statement</td>\n",
       "      <td>reduce</td>\n",
       "    </tr>\n",
       "    <tr>\n",
       "      <th>2</th>\n",
       "      <td>In the May Meeting, the Monetary Policy Commi...</td>\n",
       "      <td>2006-05-31T03:00:00Z</td>\n",
       "      <td>None</td>\n",
       "      <td>2118</td>\n",
       "      <td>119th Meeting</td>\n",
       "      <td>0.0</td>\n",
       "      <td>0.0</td>\n",
       "      <td>Statement</td>\n",
       "      <td>reduce</td>\n",
       "    </tr>\n",
       "    <tr>\n",
       "      <th>3</th>\n",
       "      <td>In the July Meeting, the Copom unanimously de...</td>\n",
       "      <td>2006-07-19T03:00:00Z</td>\n",
       "      <td>None</td>\n",
       "      <td>2119</td>\n",
       "      <td>120th Meeting</td>\n",
       "      <td>0.0</td>\n",
       "      <td>0.0</td>\n",
       "      <td>Statement</td>\n",
       "      <td>reduce</td>\n",
       "    </tr>\n",
       "    <tr>\n",
       "      <th>4</th>\n",
       "      <td>In the August Meeting, the Copom unanimously ...</td>\n",
       "      <td>2006-08-30T03:00:00Z</td>\n",
       "      <td>None</td>\n",
       "      <td>2120</td>\n",
       "      <td>121st Meeting</td>\n",
       "      <td>0.0</td>\n",
       "      <td>0.0</td>\n",
       "      <td>Statement</td>\n",
       "      <td>reduce</td>\n",
       "    </tr>\n",
       "  </tbody>\n",
       "</table>\n",
       "</div>"
      ],
      "text/plain": [
       "                                            Conteudo                  Data  \\\n",
       "0   In the March Meeting, the Banco Central do Br...  2006-03-08T03:00:00Z   \n",
       "1   In the April Meeting, the Monetary Policy Com...  2006-04-19T03:00:00Z   \n",
       "2   In the May Meeting, the Monetary Policy Commi...  2006-05-31T03:00:00Z   \n",
       "3   In the July Meeting, the Copom unanimously de...  2006-07-19T03:00:00Z   \n",
       "4   In the August Meeting, the Copom unanimously ...  2006-08-30T03:00:00Z   \n",
       "\n",
       "  DataAtualizacao    Id         Titulo  mostrarCabecalho  mostrarRodape  \\\n",
       "0            None  2116  117th Meeting               0.0            0.0   \n",
       "1            None  2117  118th Meeting               0.0            0.0   \n",
       "2            None  2118  119th Meeting               0.0            0.0   \n",
       "3            None  2119  120th Meeting               0.0            0.0   \n",
       "4            None  2120  121st Meeting               0.0            0.0   \n",
       "\n",
       "        Type Decision  \n",
       "0  Statement   reduce  \n",
       "1  Statement   reduce  \n",
       "2  Statement   reduce  \n",
       "3  Statement   reduce  \n",
       "4  Statement   reduce  "
      ]
     },
     "execution_count": 9,
     "metadata": {},
     "output_type": "execute_result"
    }
   ],
   "source": [
    "df_statements.head()"
   ]
  },
  {
   "cell_type": "code",
   "execution_count": null,
   "id": "84b7ff5c-9f31-44a0-88f6-776d16104781",
   "metadata": {},
   "outputs": [],
   "source": [
    "# df_statements['Decision'] =  df['Conteudo'].apply(lambda x: re.search(r\"\\breduc(e|es|ed|ing)\\b\", str(x)))\n",
    "# df_statements['Decision'] = df['Conteudo'].apply(lambda x: re.search(r\"\\bmaintain(|e|es|ed|ing)\\b\", str(x)))\n",
    "# df_statements['Decision'] = df['Conteudo'].apply(lambda x: re.search(r\"\\bincreas(e|es|ed|ing)\\b\", str(x)))\n",
    "# df['Conteudo'].apply(lambda x: re.search(r\"(\\bincreas(e|es|ed|ing)\\b|\\breduc(e|es|ed|ing)\\b|\\bmaintain(|s|ed|ing)\\b)\", str(x)))"
   ]
  },
  {
   "cell_type": "code",
   "execution_count": null,
   "id": "08186f5f-1de2-4004-bf58-196b21fdf63a",
   "metadata": {},
   "outputs": [],
   "source": []
  },
  {
   "cell_type": "code",
   "execution_count": null,
   "id": "2f076b15-4799-45c1-9fe8-4add43db2a4e",
   "metadata": {},
   "outputs": [],
   "source": [
    "df_minutes = pd.DataFrame()"
   ]
  },
  {
   "cell_type": "code",
   "execution_count": null,
   "id": "97c686c2-4105-4e6b-8034-56947b407e3e",
   "metadata": {},
   "outputs": [],
   "source": [
    "df_minutes"
   ]
  },
  {
   "cell_type": "code",
   "execution_count": null,
   "id": "a99ddb59-4b18-4740-af8f-e8f310054d62",
   "metadata": {},
   "outputs": [],
   "source": [
    "for file in glob.glob(\"atas/atas_en/*.json\"):\n",
    "    with open(file, 'r') as f:\n",
    "        a = json.load(f)\n",
    "\n",
    "        try:\n",
    "            df_minutes = df_minutes.append(a[0], ignore_index=True)\n",
    "        except:\n",
    "            pass"
   ]
  },
  {
   "cell_type": "code",
   "execution_count": null,
   "id": "865d9933-5740-47ba-8f6b-7e408015cd30",
   "metadata": {},
   "outputs": [],
   "source": [
    "df_minutes['Type'] = 'Minutes'\n",
    "df_minutes['Id'] = df_minutes['Id'].astype('int')\n",
    "df_minutes.sort_values('Id', inplace=True)\n",
    "df_minutes.reset_index(drop=True, inplace=True)\n",
    "df_minutes.tail()"
   ]
  },
  {
   "cell_type": "code",
   "execution_count": null,
   "id": "e06a22d7-b221-4eb4-a3f2-5e307dcc2975",
   "metadata": {},
   "outputs": [],
   "source": [
    "count = df_minutes['OutrasInformacoes'].str.split().str.len()\n",
    "count"
   ]
  },
  {
   "cell_type": "code",
   "execution_count": null,
   "id": "b8489fc4-2777-4009-aad6-56462e8818e5",
   "metadata": {},
   "outputs": [],
   "source": []
  }
 ],
 "metadata": {
  "kernelspec": {
   "display_name": "Python 3 (ipykernel)",
   "language": "python",
   "name": "python3"
  },
  "language_info": {
   "codemirror_mode": {
    "name": "ipython",
    "version": 3
   },
   "file_extension": ".py",
   "mimetype": "text/x-python",
   "name": "python",
   "nbconvert_exporter": "python",
   "pygments_lexer": "ipython3",
   "version": "3.7.3"
  }
 },
 "nbformat": 4,
 "nbformat_minor": 5
}

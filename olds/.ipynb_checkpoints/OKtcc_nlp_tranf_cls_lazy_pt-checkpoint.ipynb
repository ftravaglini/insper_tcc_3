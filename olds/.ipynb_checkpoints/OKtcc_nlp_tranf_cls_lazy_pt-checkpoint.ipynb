{
 "cells": [
  {
   "cell_type": "markdown",
   "id": "791f0e12-bbb6-4bcb-8a2e-1048ab03bbd2",
   "metadata": {},
   "source": [
    "# NLP"
   ]
  },
  {
   "cell_type": "code",
   "execution_count": 1,
   "id": "5a418dd8-90ca-41b5-b4ea-9638598d471d",
   "metadata": {},
   "outputs": [],
   "source": [
    "import numpy as np\n",
    "import pandas as pd\n",
    "import seaborn as sn\n",
    "import matplotlib.pyplot as plt\n",
    "\n",
    "import torch\n",
    "\n",
    "from sklearn.metrics import f1_score, accuracy_score, confusion_matrix\n",
    "from sklearn.model_selection import train_test_split"
   ]
  },
  {
   "cell_type": "code",
   "execution_count": 2,
   "id": "d116ad26-12a3-487c-9b47-5f9abe2b6a14",
   "metadata": {},
   "outputs": [],
   "source": [
    "df_copom = pd.read_csv('df_copom_label_en.csv')"
   ]
  },
  {
   "cell_type": "code",
   "execution_count": 3,
   "id": "60443267-16fc-4610-9633-d96d57c5a6d3",
   "metadata": {},
   "outputs": [
    {
     "data": {
      "text/html": [
       "<div>\n",
       "<style scoped>\n",
       "    .dataframe tbody tr th:only-of-type {\n",
       "        vertical-align: middle;\n",
       "    }\n",
       "\n",
       "    .dataframe tbody tr th {\n",
       "        vertical-align: top;\n",
       "    }\n",
       "\n",
       "    .dataframe thead th {\n",
       "        text-align: right;\n",
       "    }\n",
       "</style>\n",
       "<table border=\"1\" class=\"dataframe\">\n",
       "  <thead>\n",
       "    <tr style=\"text-align: right;\">\n",
       "      <th></th>\n",
       "      <th>Unnamed: 0</th>\n",
       "      <th>meeting_number</th>\n",
       "      <th>date_x</th>\n",
       "      <th>date_y</th>\n",
       "      <th>selic</th>\n",
       "      <th>decision</th>\n",
       "      <th>decision_txt</th>\n",
       "      <th>type</th>\n",
       "      <th>text</th>\n",
       "      <th>num_words</th>\n",
       "      <th>text_raw</th>\n",
       "      <th>num_words_raw</th>\n",
       "      <th>label_hawk_dove</th>\n",
       "      <th>label_next_meet</th>\n",
       "    </tr>\n",
       "  </thead>\n",
       "  <tbody>\n",
       "    <tr>\n",
       "      <th>0</th>\n",
       "      <td>0</td>\n",
       "      <td>117</td>\n",
       "      <td>2006/03/08</td>\n",
       "      <td>2006/03/08</td>\n",
       "      <td>16.5</td>\n",
       "      <td>-0.75</td>\n",
       "      <td>decrease</td>\n",
       "      <td>statement</td>\n",
       "      <td>march meeting , banco central brasil 's moneta...</td>\n",
       "      <td>55.0</td>\n",
       "      <td>In the March Meeting, the Banco Central do Br...</td>\n",
       "      <td>67.0</td>\n",
       "      <td>dovish</td>\n",
       "      <td>decrease</td>\n",
       "    </tr>\n",
       "  </tbody>\n",
       "</table>\n",
       "</div>"
      ],
      "text/plain": [
       "   Unnamed: 0  meeting_number      date_x      date_y  selic  decision  \\\n",
       "0           0             117  2006/03/08  2006/03/08   16.5     -0.75   \n",
       "\n",
       "  decision_txt       type                                               text  \\\n",
       "0     decrease  statement  march meeting , banco central brasil 's moneta...   \n",
       "\n",
       "   num_words                                           text_raw  \\\n",
       "0       55.0   In the March Meeting, the Banco Central do Br...   \n",
       "\n",
       "   num_words_raw label_hawk_dove label_next_meet  \n",
       "0           67.0          dovish        decrease  "
      ]
     },
     "execution_count": 3,
     "metadata": {},
     "output_type": "execute_result"
    }
   ],
   "source": [
    "df_copom.head(1)"
   ]
  },
  {
   "cell_type": "code",
   "execution_count": 4,
   "id": "d8e853d8-e066-46f9-bac5-f3686a143845",
   "metadata": {},
   "outputs": [],
   "source": [
    "df_ = df_copom[(df_copom['type'] == 'statement') & (df_copom['num_words'] <= 410)].copy()"
   ]
  },
  {
   "cell_type": "code",
   "execution_count": 5,
   "id": "c0403aab-6e78-44c6-ba1d-cd2324d077f7",
   "metadata": {},
   "outputs": [
    {
     "data": {
      "text/html": [
       "<div>\n",
       "<style scoped>\n",
       "    .dataframe tbody tr th:only-of-type {\n",
       "        vertical-align: middle;\n",
       "    }\n",
       "\n",
       "    .dataframe tbody tr th {\n",
       "        vertical-align: top;\n",
       "    }\n",
       "\n",
       "    .dataframe thead th {\n",
       "        text-align: right;\n",
       "    }\n",
       "</style>\n",
       "<table border=\"1\" class=\"dataframe\">\n",
       "  <thead>\n",
       "    <tr style=\"text-align: right;\">\n",
       "      <th></th>\n",
       "      <th>Unnamed: 0</th>\n",
       "      <th>meeting_number</th>\n",
       "      <th>date_x</th>\n",
       "      <th>date_y</th>\n",
       "      <th>selic</th>\n",
       "      <th>decision</th>\n",
       "      <th>decision_txt</th>\n",
       "      <th>type</th>\n",
       "      <th>text</th>\n",
       "      <th>num_words</th>\n",
       "      <th>text_raw</th>\n",
       "      <th>num_words_raw</th>\n",
       "      <th>label_hawk_dove</th>\n",
       "      <th>label_next_meet</th>\n",
       "    </tr>\n",
       "  </thead>\n",
       "  <tbody>\n",
       "    <tr>\n",
       "      <th>134</th>\n",
       "      <td>134</td>\n",
       "      <td>240</td>\n",
       "      <td>2021/08/04</td>\n",
       "      <td>2021/08/04</td>\n",
       "      <td>5.25</td>\n",
       "      <td>1.0</td>\n",
       "      <td>increase</td>\n",
       "      <td>statement</td>\n",
       "      <td>i.e. , direction higher-than-expected paths in...</td>\n",
       "      <td>208.0</td>\n",
       "      <td>​In its 240th meeting, the Copom unanimously d...</td>\n",
       "      <td>850.0</td>\n",
       "      <td>hawkish</td>\n",
       "      <td>increase</td>\n",
       "    </tr>\n",
       "  </tbody>\n",
       "</table>\n",
       "</div>"
      ],
      "text/plain": [
       "     Unnamed: 0  meeting_number      date_x      date_y  selic  decision  \\\n",
       "134         134             240  2021/08/04  2021/08/04   5.25       1.0   \n",
       "\n",
       "    decision_txt       type  \\\n",
       "134     increase  statement   \n",
       "\n",
       "                                                  text  num_words  \\\n",
       "134  i.e. , direction higher-than-expected paths in...      208.0   \n",
       "\n",
       "                                              text_raw  num_words_raw  \\\n",
       "134  ​In its 240th meeting, the Copom unanimously d...          850.0   \n",
       "\n",
       "    label_hawk_dove label_next_meet  \n",
       "134         hawkish        increase  "
      ]
     },
     "execution_count": 5,
     "metadata": {},
     "output_type": "execute_result"
    }
   ],
   "source": [
    "df_.tail(1)"
   ]
  },
  {
   "cell_type": "code",
   "execution_count": 6,
   "id": "0eb2b82d-e34c-4f81-aec7-b7a8987d10d6",
   "metadata": {
    "tags": []
   },
   "outputs": [
    {
     "data": {
      "text/plain": [
       "array([ 55.,  35.,  30.,  34.,  29.,  48.,  76.,  31.,  52.,  64.,  61.,\n",
       "        32.,  47.,  57.,  37.,  53.,  40.,  66.,  71.,  62.,  24.,  73.,\n",
       "        70.,  81.,  86.,  46.,  41.,  90.,  84.,  68., 224.,  51.,  43.,\n",
       "        65., 106., 110., 132.,  58., 142.,  33.,  36.,  28.,  49.,  50.,\n",
       "       103., 113., 112.,  56., 244., 360., 404., 353., 363., 410., 208.])"
      ]
     },
     "execution_count": 6,
     "metadata": {},
     "output_type": "execute_result"
    }
   ],
   "source": [
    "df_['num_words'].unique()"
   ]
  },
  {
   "cell_type": "code",
   "execution_count": 7,
   "id": "c84c4022-78cd-4e0e-aa03-61e3ef9a1bb0",
   "metadata": {},
   "outputs": [
    {
     "data": {
      "text/plain": [
       "(92, 14)"
      ]
     },
     "execution_count": 7,
     "metadata": {},
     "output_type": "execute_result"
    }
   ],
   "source": [
    "df_.shape"
   ]
  },
  {
   "cell_type": "code",
   "execution_count": 8,
   "id": "4207fd03-91db-4c89-bacf-92cdbef7fc69",
   "metadata": {
    "tags": []
   },
   "outputs": [
    {
     "data": {
      "text/plain": [
       "<Axes: >"
      ]
     },
     "execution_count": 8,
     "metadata": {},
     "output_type": "execute_result"
    },
    {
     "data": {
      "image/png": "[encoded data removed]",
      "text/plain": [
       "<Figure size 640x480 with 1 Axes>"
      ]
     },
     "metadata": {},
     "output_type": "display_data"
    }
   ],
   "source": [
    "df_['label_hawk_dove'].value_counts().plot(kind='bar')"
   ]
  },
  {
   "cell_type": "code",
   "execution_count": 9,
   "id": "84e19871-b405-48bf-a136-441609657027",
   "metadata": {
    "tags": []
   },
   "outputs": [],
   "source": [
    "target_map = {'dovish': 0, 'neutral': 1, 'hawkish': 2}\n",
    "df_['target'] = df_['label_hawk_dove'].map(target_map)"
   ]
  },
  {
   "cell_type": "code",
   "execution_count": 10,
   "id": "e8869383-6d9e-43fc-9b6c-fffcb62eb2e7",
   "metadata": {
    "tags": []
   },
   "outputs": [],
   "source": [
    "df = df_[['text', 'target']]\n",
    "df.columns = ['sentence', 'label']\n",
    "df.to_csv('data_copom_transf_en.csv', index=None)"
   ]
  },
  {
   "cell_type": "markdown",
   "id": "90657d76-9557-498d-8653-ac7c404c7086",
   "metadata": {},
   "source": [
    "#### Convert to dataset"
   ]
  },
  {
   "cell_type": "code",
   "execution_count": 11,
   "id": "01d14340-a2e5-4f38-a2d3-dbbac8911a64",
   "metadata": {
    "tags": []
   },
   "outputs": [
    {
     "name": "stderr",
     "output_type": "stream",
     "text": [
      "C:\\Users\\ftrav\\anaconda3\\envs\\tcc_gpu2\\Lib\\site-packages\\tqdm\\auto.py:21: TqdmWarning: IProgress not found. Please update jupyter and ipywidgets. See https://ipywidgets.readthedocs.io/en/stable/user_install.html\n",
      "  from .autonotebook import tqdm as notebook_tqdm\n"
     ]
    },
    {
     "name": "stdout",
     "output_type": "stream",
     "text": [
      "Downloading and preparing dataset csv/default to C:/Users/ftrav/.cache/huggingface/datasets/csv/default-6c80b6cb15067418/0.0.0/eea64c71ca8b46dd3f537ed218fc9bf495d5707789152eb2764f5c78fa66d59d...\n"
     ]
    },
    {
     "name": "stderr",
     "output_type": "stream",
     "text": [
      "Downloading data files: 100%|████████████████████████████████████████████████████████████████████| 1/1 [00:00<?, ?it/s]\n",
      "Extracting data files: 100%|████████████████████████████████████████████████████████████| 1/1 [00:00<00:00, 199.92it/s]\n",
      "                                                        \r"
     ]
    },
    {
     "name": "stdout",
     "output_type": "stream",
     "text": [
      "Dataset csv downloaded and prepared to C:/Users/ftrav/.cache/huggingface/datasets/csv/default-6c80b6cb15067418/0.0.0/eea64c71ca8b46dd3f537ed218fc9bf495d5707789152eb2764f5c78fa66d59d. Subsequent calls will reuse this data.\n"
     ]
    },
    {
     "name": "stderr",
     "output_type": "stream",
     "text": [
      "100%|███████████████████████████████████████████████████████████████████████████████████| 1/1 [00:00<00:00, 111.09it/s]\n"
     ]
    }
   ],
   "source": [
    "from datasets import load_dataset\n",
    "\n",
    "raw_dataset = load_dataset('csv', data_files='data_copom_transf_en.csv')"
   ]
  },
  {
   "cell_type": "code",
   "execution_count": 12,
   "id": "516ab7be-ef65-4b11-a61c-4186da0bd307",
   "metadata": {
    "tags": []
   },
   "outputs": [
    {
     "data": {
      "text/plain": [
       "DatasetDict({\n",
       "    train: Dataset({\n",
       "        features: ['sentence', 'label'],\n",
       "        num_rows: 92\n",
       "    })\n",
       "})"
      ]
     },
     "execution_count": 12,
     "metadata": {},
     "output_type": "execute_result"
    }
   ],
   "source": [
    "raw_dataset"
   ]
  },
  {
   "cell_type": "markdown",
   "id": "36c44e4b-0795-4f05-838d-c5caa6b9dcd9",
   "metadata": {},
   "source": [
    "#### Split test and train"
   ]
  },
  {
   "cell_type": "code",
   "execution_count": 13,
   "id": "095e63a6-deb5-46d1-ac39-885c86bfe228",
   "metadata": {
    "tags": []
   },
   "outputs": [],
   "source": [
    "split = raw_dataset['train'].train_test_split(test_size=0.2, seed=2015)"
   ]
  },
  {
   "cell_type": "code",
   "execution_count": 14,
   "id": "e2e58e4a-1f38-42f5-9ee4-ab40562b5c71",
   "metadata": {
    "tags": []
   },
   "outputs": [
    {
     "data": {
      "text/plain": [
       "DatasetDict({\n",
       "    train: Dataset({\n",
       "        features: ['sentence', 'label'],\n",
       "        num_rows: 73\n",
       "    })\n",
       "    test: Dataset({\n",
       "        features: ['sentence', 'label'],\n",
       "        num_rows: 19\n",
       "    })\n",
       "})"
      ]
     },
     "execution_count": 14,
     "metadata": {},
     "output_type": "execute_result"
    }
   ],
   "source": [
    "split"
   ]
  },
  {
   "cell_type": "markdown",
   "id": "41ff51f9-f286-4f63-b42e-1ee6dc4ae8ca",
   "metadata": {},
   "source": [
    "## Model"
   ]
  },
  {
   "cell_type": "code",
   "execution_count": 15,
   "id": "9e2ac12f-92d4-4663-b0d8-fd758eb718fc",
   "metadata": {
    "tags": []
   },
   "outputs": [],
   "source": [
    "# from transformers import AutoTokenizer, AutoModelForSequenceClassification\n",
    "\n",
    "# tokenizer = AutoTokenizer.from_pretrained(\"gtfintechlab/FOMC-RoBERTa\")\n",
    "\n",
    "# model = AutoModelForSequenceClassification.from_pretrained(\"gtfintechlab/FOMC-RoBERTa\")"
   ]
  },
  {
   "cell_type": "code",
   "execution_count": 16,
   "id": "dd9153e5-deaa-414d-95d0-fe5fbe925dd4",
   "metadata": {},
   "outputs": [],
   "source": [
    "checkpoint = 'gtfintechlab/FOMC-RoBERTa'"
   ]
  },
  {
   "cell_type": "markdown",
   "id": "be909174-068b-4879-89d1-2e1cd23d37b9",
   "metadata": {},
   "source": [
    "#### Tokenizer"
   ]
  },
  {
   "cell_type": "code",
   "execution_count": 17,
   "id": "708d931c-f000-4bd0-a7d0-fd4745e1dc33",
   "metadata": {
    "tags": []
   },
   "outputs": [],
   "source": [
    "from transformers import AutoTokenizer"
   ]
  },
  {
   "cell_type": "code",
   "execution_count": 18,
   "id": "abe79af4-de28-4046-b5c6-795283421950",
   "metadata": {
    "tags": []
   },
   "outputs": [],
   "source": [
    "tokenizer = AutoTokenizer.from_pretrained(checkpoint)"
   ]
  },
  {
   "cell_type": "code",
   "execution_count": 19,
   "id": "3ffaf227-5f80-4f04-b016-ad0edf67e123",
   "metadata": {
    "tags": []
   },
   "outputs": [],
   "source": [
    "def tokenize_fn(batch):\n",
    "    return tokenizer(batch['sentence'], truncation=True)"
   ]
  },
  {
   "cell_type": "code",
   "execution_count": 20,
   "id": "ef275b04-2bdc-42b6-b977-232d93e56c0e",
   "metadata": {
    "tags": []
   },
   "outputs": [
    {
     "name": "stderr",
     "output_type": "stream",
     "text": [
      "                                                                                                                       \r"
     ]
    }
   ],
   "source": [
    "tokenized_datasets = split.map(tokenize_fn, batched=True)"
   ]
  },
  {
   "cell_type": "markdown",
   "id": "241abab3-3614-4325-925b-021aeafd7055",
   "metadata": {
    "tags": []
   },
   "source": [
    "#### Training"
   ]
  },
  {
   "cell_type": "code",
   "execution_count": 21,
   "id": "01320179-b486-4077-8a9f-16a1bd03f8a0",
   "metadata": {
    "tags": []
   },
   "outputs": [],
   "source": [
    "from transformers import AutoModelForSequenceClassification,  Trainer, TrainingArguments"
   ]
  },
  {
   "cell_type": "code",
   "execution_count": 22,
   "id": "87f4ac5c-9ffe-4533-a89e-4a4d5b92f203",
   "metadata": {
    "tags": []
   },
   "outputs": [],
   "source": [
    "model = AutoModelForSequenceClassification.from_pretrained(checkpoint)"
   ]
  },
  {
   "cell_type": "code",
   "execution_count": 23,
   "id": "2e8488a3-a365-4db5-a400-e0a0699f0ab7",
   "metadata": {
    "tags": []
   },
   "outputs": [],
   "source": [
    "from torchinfo import summary"
   ]
  },
  {
   "cell_type": "code",
   "execution_count": 24,
   "id": "c06e7fac-7f9f-4c23-8cbc-ddb6eec92651",
   "metadata": {
    "tags": []
   },
   "outputs": [
    {
     "data": {
      "text/plain": [
       "=====================================================================================\n",
       "Layer (type:depth-idx)                                       Param #\n",
       "=====================================================================================\n",
       "RobertaForSequenceClassification                             --\n",
       "├─RobertaModel: 1-1                                          --\n",
       "│    └─RobertaEmbeddings: 2-1                                --\n",
       "│    │    └─Embedding: 3-1                                   51,471,360\n",
       "│    │    └─Embedding: 3-2                                   526,336\n",
       "│    │    └─Embedding: 3-3                                   1,024\n",
       "│    │    └─LayerNorm: 3-4                                   2,048\n",
       "│    │    └─Dropout: 3-5                                     --\n",
       "│    └─RobertaEncoder: 2-2                                   --\n",
       "│    │    └─ModuleList: 3-6                                  302,309,376\n",
       "├─RobertaClassificationHead: 1-2                             --\n",
       "│    └─Linear: 2-3                                           1,049,600\n",
       "│    └─Dropout: 2-4                                          --\n",
       "│    └─Linear: 2-5                                           3,075\n",
       "=====================================================================================\n",
       "Total params: 355,362,819\n",
       "Trainable params: 355,362,819\n",
       "Non-trainable params: 0\n",
       "====================================================================================="
      ]
     },
     "execution_count": 24,
     "metadata": {},
     "output_type": "execute_result"
    }
   ],
   "source": [
    "summary(model)"
   ]
  },
  {
   "cell_type": "code",
   "execution_count": 25,
   "id": "66ddafee-eacd-4637-a7b9-1304d9208585",
   "metadata": {
    "tags": []
   },
   "outputs": [],
   "source": [
    "training_args = TrainingArguments(\n",
    "    output_dir='training_dir',\n",
    "    evaluation_strategy='epoch',\n",
    "    save_strategy='epoch',\n",
    "    num_train_epochs=3,\n",
    "    per_device_train_batch_size=16,\n",
    "    per_device_eval_batch_size= 64\n",
    ")"
   ]
  },
  {
   "cell_type": "code",
   "execution_count": 26,
   "id": "3a0e98ae-ab04-42f9-aca1-5a49ad56e424",
   "metadata": {
    "tags": []
   },
   "outputs": [],
   "source": [
    "def compute_metrics(logits_and_labels):\n",
    "    logits, labels = logits_and_labels\n",
    "    predictions = np.argmax(logits, axis=-1)\n",
    "    acc = np.mean(predictions == labels)\n",
    "    f1 = f1_score(labels, predictions, average='macro')\n",
    "    return {'accuracy': acc, 'f1': f1}"
   ]
  },
  {
   "cell_type": "code",
   "execution_count": 27,
   "id": "5c8a57c4-f80f-4347-a2b6-c87d433eb048",
   "metadata": {
    "tags": []
   },
   "outputs": [],
   "source": [
    "trainer = Trainer(\n",
    "    model,\n",
    "    training_args,\n",
    "    train_dataset=tokenized_datasets['train'],\n",
    "    eval_dataset=tokenized_datasets['test'],\n",
    "    tokenizer=tokenizer,\n",
    "    compute_metrics=compute_metrics\n",
    ")"
   ]
  },
  {
   "cell_type": "code",
   "execution_count": 28,
   "id": "39888059-a41b-41dc-b9ce-38c67d93ac56",
   "metadata": {
    "tags": []
   },
   "outputs": [
    {
     "name": "stderr",
     "output_type": "stream",
     "text": [
      "C:\\Users\\ftrav\\anaconda3\\envs\\tcc_gpu2\\Lib\\site-packages\\transformers\\optimization.py:411: FutureWarning: This implementation of AdamW is deprecated and will be removed in a future version. Use the PyTorch implementation torch.optim.AdamW instead, or set `no_deprecation_warning=True` to disable this warning\n",
      "  warnings.warn(\n",
      "You're using a RobertaTokenizerFast tokenizer. Please note that with a fast tokenizer, using the `__call__` method is faster than using a method to encode the text followed by a call to the `pad` method to get a padded encoding.\n"
     ]
    },
    {
     "data": {
      "text/html": [
       "\n",
       "    <div>\n",
       "      \n",
       "      <progress value='15' max='15' style='width:300px; height:20px; vertical-align: middle;'></progress>\n",
       "      [15/15 07:57, Epoch 3/3]\n",
       "    </div>\n",
       "    <table border=\"1\" class=\"dataframe\">\n",
       "  <thead>\n",
       " <tr style=\"text-align: left;\">\n",
       "      <th>Epoch</th>\n",
       "      <th>Training Loss</th>\n",
       "      <th>Validation Loss</th>\n",
       "      <th>Accuracy</th>\n",
       "      <th>F1</th>\n",
       "    </tr>\n",
       "  </thead>\n",
       "  <tbody>\n",
       "    <tr>\n",
       "      <td>1</td>\n",
       "      <td>No log</td>\n",
       "      <td>1.082176</td>\n",
       "      <td>0.421053</td>\n",
       "      <td>0.197531</td>\n",
       "    </tr>\n",
       "    <tr>\n",
       "      <td>2</td>\n",
       "      <td>No log</td>\n",
       "      <td>1.071827</td>\n",
       "      <td>0.421053</td>\n",
       "      <td>0.197531</td>\n",
       "    </tr>\n",
       "    <tr>\n",
       "      <td>3</td>\n",
       "      <td>No log</td>\n",
       "      <td>1.068282</td>\n",
       "      <td>0.421053</td>\n",
       "      <td>0.197531</td>\n",
       "    </tr>\n",
       "  </tbody>\n",
       "</table><p>"
      ],
      "text/plain": [
       "<IPython.core.display.HTML object>"
      ]
     },
     "metadata": {},
     "output_type": "display_data"
    },
    {
     "data": {
      "text/plain": [
       "TrainOutput(global_step=15, training_loss=1.2343800862630208, metrics={'train_runtime': 498.4581, 'train_samples_per_second': 0.439, 'train_steps_per_second': 0.03, 'total_flos': 135217873119072.0, 'train_loss': 1.2343800862630208, 'epoch': 3.0})"
      ]
     },
     "execution_count": 28,
     "metadata": {},
     "output_type": "execute_result"
    }
   ],
   "source": [
    "trainer.train()"
   ]
  },
  {
   "cell_type": "code",
   "execution_count": 29,
   "id": "e5c96c66-718f-4d6b-8b3d-6d81f8bb1a1d",
   "metadata": {
    "tags": []
   },
   "outputs": [
    {
     "name": "stdout",
     "output_type": "stream",
     "text": [
      " Volume in drive C has no label.\n",
      " Volume Serial Number is 5AAA-7C2A\n",
      "\n",
      " Directory of C:\\Users\\ftrav\\Documents\\Insper_tcc\\training_dir\n",
      "\n",
      "07/01/2023  08:45 PM    <DIR>          .\n",
      "07/01/2023  09:03 PM    <DIR>          ..\n",
      "06/23/2023  10:10 PM    <DIR>          checkpoint-10\n",
      "06/23/2023  09:09 PM    <DIR>          checkpoint-14\n",
      "06/23/2023  10:15 PM    <DIR>          checkpoint-15\n",
      "07/01/2023  08:33 PM    <DIR>          checkpoint-20\n",
      "06/23/2023  09:15 PM    <DIR>          checkpoint-21\n",
      "07/01/2023  08:35 PM    <DIR>          checkpoint-25\n",
      "07/01/2023  08:37 PM    <DIR>          checkpoint-30\n",
      "07/01/2023  08:39 PM    <DIR>          checkpoint-35\n",
      "07/01/2023  08:41 PM    <DIR>          checkpoint-40\n",
      "07/01/2023  08:43 PM    <DIR>          checkpoint-45\n",
      "06/23/2023  10:07 PM    <DIR>          checkpoint-5\n",
      "07/01/2023  08:45 PM    <DIR>          checkpoint-50\n",
      "06/23/2023  09:02 PM    <DIR>          checkpoint-7\n",
      "07/01/2023  08:56 PM    <DIR>          runs\n",
      "               0 File(s)              0 bytes\n",
      "              16 Dir(s)  98,106,789,888 bytes free\n"
     ]
    }
   ],
   "source": [
    "!dir training_dir"
   ]
  },
  {
   "cell_type": "code",
   "execution_count": 30,
   "id": "178e54b8-52ac-4da7-a694-d341e2e3d9b1",
   "metadata": {
    "tags": []
   },
   "outputs": [],
   "source": [
    "from transformers import pipeline"
   ]
  },
  {
   "cell_type": "code",
   "execution_count": 31,
   "id": "e08da70f-72ae-436c-b0f3-041e326e2bfe",
   "metadata": {
    "tags": []
   },
   "outputs": [
    {
     "name": "stderr",
     "output_type": "stream",
     "text": [
      "Xformers is not installed correctly. If you want to use memory_efficient_attention to accelerate training use the following command to install Xformers\n",
      "pip install xformers.\n"
     ]
    }
   ],
   "source": [
    "savedmodel = pipeline('text-classification',\n",
    "                      model='training_dir/checkpoint-50',\n",
    "                      device=0)"
   ]
  },
  {
   "cell_type": "code",
   "execution_count": 32,
   "id": "715754d4-cd7d-4d61-975d-92ad49e71b9b",
   "metadata": {
    "tags": []
   },
   "outputs": [
    {
     "data": {
      "text/plain": [
       "Dataset({\n",
       "    features: ['sentence', 'label'],\n",
       "    num_rows: 19\n",
       "})"
      ]
     },
     "execution_count": 32,
     "metadata": {},
     "output_type": "execute_result"
    }
   ],
   "source": [
    "split['test']"
   ]
  },
  {
   "cell_type": "code",
   "execution_count": 33,
   "id": "134f8d15-6fe6-427b-a95d-0315be003fe0",
   "metadata": {
    "tags": []
   },
   "outputs": [],
   "source": [
    "test_pred = savedmodel(split['test']['sentence'])"
   ]
  },
  {
   "cell_type": "code",
   "execution_count": 34,
   "id": "2606dfa0-d709-4879-8217-709ca8e19a45",
   "metadata": {
    "tags": []
   },
   "outputs": [
    {
     "data": {
      "text/plain": [
       "[{'label': 'LABEL_2', 'score': 0.812612771987915},\n",
       " {'label': 'LABEL_2', 'score': 0.6484885215759277},\n",
       " {'label': 'LABEL_2', 'score': 0.6450284123420715},\n",
       " {'label': 'LABEL_2', 'score': 0.752745509147644},\n",
       " {'label': 'LABEL_2', 'score': 0.4326176643371582},\n",
       " {'label': 'LABEL_2', 'score': 0.6426319479942322},\n",
       " {'label': 'LABEL_0', 'score': 0.8166301846504211},\n",
       " {'label': 'LABEL_2', 'score': 0.6261155009269714},\n",
       " {'label': 'LABEL_0', 'score': 0.9050634503364563},\n",
       " {'label': 'LABEL_2', 'score': 0.561466634273529},\n",
       " {'label': 'LABEL_2', 'score': 0.6111353039741516},\n",
       " {'label': 'LABEL_2', 'score': 0.7975402474403381},\n",
       " {'label': 'LABEL_2', 'score': 0.6322651505470276},\n",
       " {'label': 'LABEL_2', 'score': 0.6438484191894531},\n",
       " {'label': 'LABEL_0', 'score': 0.9086065292358398},\n",
       " {'label': 'LABEL_2', 'score': 0.6338533759117126},\n",
       " {'label': 'LABEL_0', 'score': 0.9166004061698914},\n",
       " {'label': 'LABEL_0', 'score': 0.9647155404090881},\n",
       " {'label': 'LABEL_0', 'score': 0.9728854894638062}]"
      ]
     },
     "execution_count": 34,
     "metadata": {},
     "output_type": "execute_result"
    }
   ],
   "source": [
    "test_pred"
   ]
  },
  {
   "cell_type": "code",
   "execution_count": 35,
   "id": "fe8537ea-5009-4a31-9467-123026384990",
   "metadata": {
    "tags": []
   },
   "outputs": [
    {
     "data": {
      "text/plain": [
       "[2, 2, 2, 0, 2, 1, 0, 0, 0, 1, 2, 1, 2, 1, 0, 1, 0, 0, 0]"
      ]
     },
     "execution_count": 35,
     "metadata": {},
     "output_type": "execute_result"
    }
   ],
   "source": [
    "split['test']['label']"
   ]
  },
  {
   "cell_type": "code",
   "execution_count": 36,
   "id": "bddaa43f-06fb-46bf-9c9e-6f95d5cf785b",
   "metadata": {
    "tags": []
   },
   "outputs": [],
   "source": [
    "def get_label(d):\n",
    "    return int(d['label'].split('_')[1])\n",
    "\n",
    "test_pred = [get_label(d) for d in test_pred]"
   ]
  },
  {
   "cell_type": "code",
   "execution_count": 37,
   "id": "2d8a50c0-69e6-440f-a849-f1cf91f032c2",
   "metadata": {
    "tags": []
   },
   "outputs": [
    {
     "name": "stdout",
     "output_type": "stream",
     "text": [
      "acc: 0.631578947368421\n"
     ]
    }
   ],
   "source": [
    "print(\"acc:\", accuracy_score(split['test']['label'], test_pred))"
   ]
  },
  {
   "cell_type": "code",
   "execution_count": 38,
   "id": "d4447305-0e85-4267-a2ce-87867711658f",
   "metadata": {
    "tags": []
   },
   "outputs": [
    {
     "name": "stdout",
     "output_type": "stream",
     "text": [
      "f1: 0.4962406015037593\n"
     ]
    }
   ],
   "source": [
    "print(\"f1:\", f1_score(split['test']['label'], test_pred, average='macro'))"
   ]
  },
  {
   "cell_type": "code",
   "execution_count": 39,
   "id": "316c866b-ebf0-4da1-8fb7-4a652442c72b",
   "metadata": {
    "tags": []
   },
   "outputs": [
    {
     "data": {
      "image/png": "[encoded data removed]",
      "text/plain": [
       "<Figure size 640x480 with 2 Axes>"
      ]
     },
     "metadata": {},
     "output_type": "display_data"
    }
   ],
   "source": [
    "# Scikit-Learn is transitioning to V1 but it's not available on Colab\n",
    "# The changes modify how confusion matrices are plotted\n",
    "def plot_cm(cm):\n",
    "    classes = ['dovish', 'neutral', 'hawkish']\n",
    "    df_cm = pd.DataFrame(cm, index=classes, columns=classes)\n",
    "    ax = sn.heatmap(df_cm, annot=True, fmt='g')\n",
    "    ax.set_xlabel(\"Predicted\")\n",
    "    ax.set_ylabel(\"Target\")\n",
    "\n",
    "cm = confusion_matrix(split['test']['label'], test_pred, normalize='true')\n",
    "plot_cm(cm)"
   ]
  },
  {
   "cell_type": "code",
   "execution_count": null,
   "id": "a3a645fc-0661-40d7-ae7b-0f9f04bc8286",
   "metadata": {},
   "outputs": [],
   "source": []
  },
  {
   "cell_type": "code",
   "execution_count": null,
   "id": "03768b35-c4a3-44be-b00e-8f9fce9fc737",
   "metadata": {},
   "outputs": [],
   "source": []
  },
  {
   "cell_type": "code",
   "execution_count": null,
   "id": "3173d8c7-0170-4f2f-a313-e3beff921beb",
   "metadata": {},
   "outputs": [],
   "source": []
  },
  {
   "cell_type": "code",
   "execution_count": null,
   "id": "a11aecab-5b3a-450d-bddd-2390572a1f57",
   "metadata": {},
   "outputs": [],
   "source": []
  },
  {
   "cell_type": "code",
   "execution_count": null,
   "id": "40c57d64-b7fd-4a92-8b8c-d431310ddd7f",
   "metadata": {},
   "outputs": [],
   "source": []
  },
  {
   "cell_type": "code",
   "execution_count": null,
   "id": "13dc2822-40fc-4f5e-957c-06b27a41a654",
   "metadata": {},
   "outputs": [],
   "source": []
  },
  {
   "cell_type": "code",
   "execution_count": null,
   "id": "c6e0e8aa-58cf-4a6c-8b40-9bd907f525e9",
   "metadata": {},
   "outputs": [],
   "source": []
  },
  {
   "cell_type": "code",
   "execution_count": null,
   "id": "f129932c-1a6e-47fb-807a-122411962648",
   "metadata": {},
   "outputs": [],
   "source": []
  }
 ],
 "metadata": {
  "kernelspec": {
   "display_name": "Python 3 (ipykernel)",
   "language": "python",
   "name": "python3"
  },
  "language_info": {
   "codemirror_mode": {
    "name": "ipython",
    "version": 3
   },
   "file_extension": ".py",
   "mimetype": "text/x-python",
   "name": "python",
   "nbconvert_exporter": "python",
   "pygments_lexer": "ipython3",
   "version": "3.11.3"
  }
 },
 "nbformat": 4,
 "nbformat_minor": 5
}

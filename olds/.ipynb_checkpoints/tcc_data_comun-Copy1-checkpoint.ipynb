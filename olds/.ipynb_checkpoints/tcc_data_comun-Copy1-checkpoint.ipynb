{
 "cells": [
  {
   "cell_type": "markdown",
   "id": "0be5e8ee-9b71-4a32-85a5-06fd872202e1",
   "metadata": {},
   "source": [
    "# Tratamento de dados"
   ]
  },
  {
   "cell_type": "code",
   "execution_count": 36,
   "id": "1a8c7a6a-4bed-4912-a47f-5fa2294965bb",
   "metadata": {},
   "outputs": [],
   "source": [
    "import os\n",
    "import re\n",
    "import numpy as np\n",
    "import pandas as pd\n",
    "from bs4 import BeautifulSoup\n",
    "from datetime import datetime"
   ]
  },
  {
   "cell_type": "code",
   "execution_count": 27,
   "id": "50d847a1-47a6-4a94-880f-e1aa67fefe5c",
   "metadata": {},
   "outputs": [],
   "source": [
    "df_statements = pd.read_csv('statements.csv')"
   ]
  },
  {
   "cell_type": "code",
   "execution_count": 28,
   "id": "8cbb4134-eb4a-4b68-b8b6-cbba2e28f69a",
   "metadata": {},
   "outputs": [],
   "source": [
    "df_statements['Type'] = 'Statement'\n",
    "df_statements['Id'] = df_statements['Id'].astype('int')\n",
    "df_statements[\"Data\"] = df_statements[\"Data\"].apply(pd.to_datetime, format='%Y-%m-%d %H:%M:%S.%f')\n",
    "df_statements.drop(['DataAtualizacao', 'mostrarCabecalho', 'mostrarRodape'], axis=1, inplace=True)\n",
    "df_statements.sort_values('Data', inplace=True)\n",
    "df_statements.reset_index(drop=True, inplace=True)"
   ]
  },
  {
   "cell_type": "code",
   "execution_count": 43,
   "id": "cee3ef06-d029-4106-9b69-ffd88a597028",
   "metadata": {},
   "outputs": [],
   "source": [
    "df_statements['Conteudo'] = df_statements['Conteudo'].apply(lambda x: BeautifulSoup(x, features=\"html.parser\").get_text())"
   ]
  },
  {
   "cell_type": "code",
   "execution_count": 44,
   "id": "37fd9976-d1d5-4ef7-8bab-2fa58d9af5c0",
   "metadata": {},
   "outputs": [],
   "source": [
    "df_statements[\"Decision\"] = df_statements['Conteudo'].apply(\n",
    "    lambda x: re.findall(r\"(decided.*?Selic)\", str(x))).apply( \n",
    "    lambda x: re.findall(r\"(\\bincreas(e|es|ed|ing)\\b|\\brais(e|es|ed|ing)\\b|\\breduc(e|es|ed|ing)\\b|\\blower(|s|ed|ing)\\b|\\bmaintain(|s|ed|ing)\\b)\", str(x)\n",
    "                        )\n",
    ")"
   ]
  },
  {
   "cell_type": "code",
   "execution_count": 45,
   "id": "b1555044-b384-454f-8759-3e909bd7908c",
   "metadata": {},
   "outputs": [
    {
     "data": {
      "text/html": [
       "<div>\n",
       "<style scoped>\n",
       "    .dataframe tbody tr th:only-of-type {\n",
       "        vertical-align: middle;\n",
       "    }\n",
       "\n",
       "    .dataframe tbody tr th {\n",
       "        vertical-align: top;\n",
       "    }\n",
       "\n",
       "    .dataframe thead th {\n",
       "        text-align: right;\n",
       "    }\n",
       "</style>\n",
       "<table border=\"1\" class=\"dataframe\">\n",
       "  <thead>\n",
       "    <tr style=\"text-align: right;\">\n",
       "      <th></th>\n",
       "      <th>Conteudo</th>\n",
       "      <th>Data</th>\n",
       "      <th>Id</th>\n",
       "      <th>Titulo</th>\n",
       "      <th>Type</th>\n",
       "      <th>Decision</th>\n",
       "    </tr>\n",
       "  </thead>\n",
       "  <tbody>\n",
       "    <tr>\n",
       "      <th>0</th>\n",
       "      <td>In the March Meeting, the Banco Central do Br...</td>\n",
       "      <td>2006-03-08 03:00:00+00:00</td>\n",
       "      <td>2116</td>\n",
       "      <td>117th Meeting</td>\n",
       "      <td>Statement</td>\n",
       "      <td>[(reduce, , , e, , )]</td>\n",
       "    </tr>\n",
       "    <tr>\n",
       "      <th>1</th>\n",
       "      <td>In the April Meeting, the Monetary Policy Com...</td>\n",
       "      <td>2006-04-19 03:00:00+00:00</td>\n",
       "      <td>2117</td>\n",
       "      <td>118th Meeting</td>\n",
       "      <td>Statement</td>\n",
       "      <td>[(reduce, , , e, , )]</td>\n",
       "    </tr>\n",
       "    <tr>\n",
       "      <th>2</th>\n",
       "      <td>In the May Meeting, the Monetary Policy Commi...</td>\n",
       "      <td>2006-05-31 03:00:00+00:00</td>\n",
       "      <td>2118</td>\n",
       "      <td>119th Meeting</td>\n",
       "      <td>Statement</td>\n",
       "      <td>[(reduce, , , e, , )]</td>\n",
       "    </tr>\n",
       "    <tr>\n",
       "      <th>3</th>\n",
       "      <td>In the July Meeting, the Copom unanimously de...</td>\n",
       "      <td>2006-07-19 03:00:00+00:00</td>\n",
       "      <td>2119</td>\n",
       "      <td>120th Meeting</td>\n",
       "      <td>Statement</td>\n",
       "      <td>[(reduce, , , e, , )]</td>\n",
       "    </tr>\n",
       "    <tr>\n",
       "      <th>4</th>\n",
       "      <td>In the August Meeting, the Copom unanimously ...</td>\n",
       "      <td>2006-08-30 03:00:00+00:00</td>\n",
       "      <td>2120</td>\n",
       "      <td>121st Meeting</td>\n",
       "      <td>Statement</td>\n",
       "      <td>[(reduce, , , e, , )]</td>\n",
       "    </tr>\n",
       "  </tbody>\n",
       "</table>\n",
       "</div>"
      ],
      "text/plain": [
       "                                            Conteudo  \\\n",
       "0   In the March Meeting, the Banco Central do Br...   \n",
       "1   In the April Meeting, the Monetary Policy Com...   \n",
       "2   In the May Meeting, the Monetary Policy Commi...   \n",
       "3   In the July Meeting, the Copom unanimously de...   \n",
       "4   In the August Meeting, the Copom unanimously ...   \n",
       "\n",
       "                       Data    Id         Titulo       Type  \\\n",
       "0 2006-03-08 03:00:00+00:00  2116  117th Meeting  Statement   \n",
       "1 2006-04-19 03:00:00+00:00  2117  118th Meeting  Statement   \n",
       "2 2006-05-31 03:00:00+00:00  2118  119th Meeting  Statement   \n",
       "3 2006-07-19 03:00:00+00:00  2119  120th Meeting  Statement   \n",
       "4 2006-08-30 03:00:00+00:00  2120  121st Meeting  Statement   \n",
       "\n",
       "                Decision  \n",
       "0  [(reduce, , , e, , )]  \n",
       "1  [(reduce, , , e, , )]  \n",
       "2  [(reduce, , , e, , )]  \n",
       "3  [(reduce, , , e, , )]  \n",
       "4  [(reduce, , , e, , )]  "
      ]
     },
     "execution_count": 45,
     "metadata": {},
     "output_type": "execute_result"
    }
   ],
   "source": [
    "df_statements.head()"
   ]
  },
  {
   "cell_type": "code",
   "execution_count": null,
   "id": "84b7ff5c-9f31-44a0-88f6-776d16104781",
   "metadata": {},
   "outputs": [],
   "source": [
    "# df_statements['Decision'] =  df['Conteudo'].apply(lambda x: re.search(r\"\\breduc(e|es|ed|ing)\\b\", str(x)))\n",
    "# df_statements['Decision'] = df['Conteudo'].apply(lambda x: re.search(r\"\\bmaintain(|e|es|ed|ing)\\b\", str(x)))\n",
    "# df_statements['Decision'] = df['Conteudo'].apply(lambda x: re.search(r\"\\bincreas(e|es|ed|ing)\\b\", str(x)))\n",
    "# df['Conteudo'].apply(lambda x: re.search(r\"(\\bincreas(e|es|ed|ing)\\b|\\breduc(e|es|ed|ing)\\b|\\bmaintain(|s|ed|ing)\\b)\", str(x)))"
   ]
  },
  {
   "cell_type": "code",
   "execution_count": 31,
   "id": "08186f5f-1de2-4004-bf58-196b21fdf63a",
   "metadata": {},
   "outputs": [
    {
     "data": {
      "text/plain": [
       "'<div> <p>In the August Meeting, the Copom unanimously decided to reduce the Selic target by 50 basis points to 14.25 percent, without bias.</p><p>Due to the Independence Holiday on September 7, the Portuguese version of the August Copom Minutes will be released next Friday, September 8.</p> </div>'"
      ]
     },
     "execution_count": 31,
     "metadata": {},
     "output_type": "execute_result"
    }
   ],
   "source": [
    "df_statements['Conteudo'][4]"
   ]
  },
  {
   "cell_type": "code",
   "execution_count": 40,
   "id": "b8489fc4-2777-4009-aad6-56462e8818e5",
   "metadata": {},
   "outputs": [
    {
     "data": {
      "text/plain": [
       "0       In the March Meeting, the Banco Central do Br...\n",
       "1       In the April Meeting, the Monetary Policy Com...\n",
       "2       In the May Meeting, the Monetary Policy Commi...\n",
       "3       In the July Meeting, the Copom unanimously de...\n",
       "4       In the August Meeting, the Copom unanimously ...\n",
       "5       In light of the macroeconomic scenario and in...\n",
       "6       In light of the macroeconomic scenario and in...\n",
       "7       Continuing the monetary easing cycle, the Cop...\n",
       "8       Continuing the monetary easing cycle started ...\n",
       "9       In light of the macroeconomic scenario and in...\n",
       "10      In light of the macroeconomic scenario and in...\n",
       "11      In light of inflation prospects, the Copom de...\n",
       "12      The Copom assessed the macroeconomic outlook ...\n",
       "13      Assessing the macroeconomic scenario, the Cop...\n",
       "14      Assessing the macroeconomic outlook and the p...\n",
       "15      Assessing the macroeconomic outlook and the p...\n",
       "16      Assessing the macroeconomic outlook and the p...\n",
       "17      Assessing the macroeconomic outlook and the p...\n",
       "18      Brasília - Continuing the adjustment process ...\n",
       "19       \\t\"Brasília - Assessing the macroeconomic ou...\n",
       "20       \\t\"Brasília - Assessing the macroeconomic ou...\n",
       "21        \\t\"Brasília - Assessing the forward-looking...\n",
       "22      Brasília - Having the majority of the members...\n",
       "23       \\t\"Brasília - Evaluating the inflation prosp...\n",
       "24        \\t\"Brasília - Assessing the macroeconomic o...\n",
       "25        \\t\"Brasília - Assessing the macroeconomic s...\n",
       "26      Brasília - In light of inflation prospects fo...\n",
       "27      Brasília - In light of inflation prospects fo...\n",
       "28       \\tBrasília - In light of inflation prospects...\n",
       "29        \\tBrasília - In light of inflation prospect...\n",
       "                             ...                        \n",
       "110    In its 225th meeting, the Copom unanimously de...\n",
       "111    ​In its 226th meeting, the Copom unanimously d...\n",
       "112    In its 227th meeting, the Copom unanimously de...\n",
       "113    In its 228th meeting, the Copom unanimously de...\n",
       "114    In its 229th meeting, the Copom unanimously de...\n",
       "115    In its 230th meeting, the Copom unanimously de...\n",
       "116    In its 231st meeting, the Copom unanimously de...\n",
       "117    In its 232nd meeting, the Copom unanimously de...\n",
       "118    ​In its 233rd meeting, the Copom unanimously d...\n",
       "119    ​In its 234th meeting, the Copom unanimously d...\n",
       "120    In its 235th meeting, the Copom unanimously de...\n",
       "121    In its 236th meeting, the Copom unanimously de...\n",
       "122    ​In its 237th meeting, the Copom unanimously d...\n",
       "123    In its 238th meeting, the Copom unanimously de...\n",
       "124    ​In its 239th meeting, the Copom unanimously d...\n",
       "125    ​In its 240th meeting, the Copom unanimously d...\n",
       "126    ​In its 241st meeting, the Copom unanimously d...\n",
       "127    In its 242nd meeting, the Copom unanimously de...\n",
       "128    In its 243rd meeting, the Copom unanimously de...\n",
       "129    ​In its 244th meeting, the Copom unanimously d...\n",
       "130    ​In its 245th meeting, the Copom unanimously d...\n",
       "131    ​In its 246th meeting, the Copom unanimously d...\n",
       "132    In its 247th meeting, the Copom unanimously de...\n",
       "133    In its 248th meeting, the Copom unanimously de...\n",
       "134    In its 249th meeting, the Copom decided to mai...\n",
       "135    In its 250th meeting, the Copom decided to mai...\n",
       "136    In its 251st meeting, Copom decided to maintai...\n",
       "137    In its 252nd meeting, Copom decided to maintai...\n",
       "138    Since its previous meeting of the Monetary Pol...\n",
       "139    The global environment remains challenging. Th...\n",
       "Name: Conteudo, Length: 140, dtype: object"
      ]
     },
     "execution_count": 40,
     "metadata": {},
     "output_type": "execute_result"
    }
   ],
   "source": []
  },
  {
   "cell_type": "code",
   "execution_count": null,
   "id": "d495083a-fcea-4240-9354-1c778bd73581",
   "metadata": {},
   "outputs": [],
   "source": []
  }
 ],
 "metadata": {
  "kernelspec": {
   "display_name": "Python 3 (ipykernel)",
   "language": "python",
   "name": "python3"
  },
  "language_info": {
   "codemirror_mode": {
    "name": "ipython",
    "version": 3
   },
   "file_extension": ".py",
   "mimetype": "text/x-python",
   "name": "python",
   "nbconvert_exporter": "python",
   "pygments_lexer": "ipython3",
   "version": "3.7.3"
  }
 },
 "nbformat": 4,
 "nbformat_minor": 5
}

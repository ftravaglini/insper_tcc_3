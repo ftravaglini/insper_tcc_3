{
 "cells": [
  {
   "cell_type": "markdown",
   "id": "791f0e12-bbb6-4bcb-8a2e-1048ab03bbd2",
   "metadata": {},
   "source": [
    "# Deep: NLP With Transformer -  GPT"
   ]
  },
  {
   "cell_type": "code",
   "execution_count": 63,
   "id": "5a418dd8-90ca-41b5-b4ea-9638598d471d",
   "metadata": {},
   "outputs": [],
   "source": [
    "import pandas as pd\n",
    "import numpy as np\n",
    "import matplotlib.pyplot as plt"
   ]
  },
  {
   "cell_type": "code",
   "execution_count": 64,
   "id": "d116ad26-12a3-487c-9b47-5f9abe2b6a14",
   "metadata": {},
   "outputs": [],
   "source": [
    "df_copom = pd.read_csv('df_copom_label.csv')"
   ]
  },
  {
   "cell_type": "code",
   "execution_count": 65,
   "id": "60443267-16fc-4610-9633-d96d57c5a6d3",
   "metadata": {},
   "outputs": [
    {
     "data": {
      "text/html": [
       "<div>\n",
       "<style scoped>\n",
       "    .dataframe tbody tr th:only-of-type {\n",
       "        vertical-align: middle;\n",
       "    }\n",
       "\n",
       "    .dataframe tbody tr th {\n",
       "        vertical-align: top;\n",
       "    }\n",
       "\n",
       "    .dataframe thead th {\n",
       "        text-align: right;\n",
       "    }\n",
       "</style>\n",
       "<table border=\"1\" class=\"dataframe\">\n",
       "  <thead>\n",
       "    <tr style=\"text-align: right;\">\n",
       "      <th></th>\n",
       "      <th>Date</th>\n",
       "      <th>Selic</th>\n",
       "      <th>Meeting_Number</th>\n",
       "      <th>Decision</th>\n",
       "      <th>Decision_txt</th>\n",
       "      <th>label_hawk_dove</th>\n",
       "      <th>label_next_meet</th>\n",
       "      <th>Text</th>\n",
       "      <th>Type</th>\n",
       "    </tr>\n",
       "  </thead>\n",
       "  <tbody>\n",
       "    <tr>\n",
       "      <th>0</th>\n",
       "      <td>2006/03/08</td>\n",
       "      <td>16.50</td>\n",
       "      <td>117.0</td>\n",
       "      <td>-0.75</td>\n",
       "      <td>decrease</td>\n",
       "      <td>dovish</td>\n",
       "      <td>decrease</td>\n",
       "      <td>In the March Meeting, the Banco Central do Br...</td>\n",
       "      <td>Statement</td>\n",
       "    </tr>\n",
       "    <tr>\n",
       "      <th>1</th>\n",
       "      <td>2006/04/19</td>\n",
       "      <td>15.75</td>\n",
       "      <td>118.0</td>\n",
       "      <td>-0.75</td>\n",
       "      <td>decrease</td>\n",
       "      <td>dovish</td>\n",
       "      <td>decrease</td>\n",
       "      <td>In the April Meeting, the Monetary Policy Com...</td>\n",
       "      <td>Statement</td>\n",
       "    </tr>\n",
       "    <tr>\n",
       "      <th>2</th>\n",
       "      <td>2006/05/31</td>\n",
       "      <td>15.25</td>\n",
       "      <td>119.0</td>\n",
       "      <td>-0.50</td>\n",
       "      <td>decrease</td>\n",
       "      <td>dovish</td>\n",
       "      <td>decrease</td>\n",
       "      <td>In the May Meeting, the Monetary Policy Commi...</td>\n",
       "      <td>Statement</td>\n",
       "    </tr>\n",
       "    <tr>\n",
       "      <th>3</th>\n",
       "      <td>2006/07/19</td>\n",
       "      <td>14.75</td>\n",
       "      <td>120.0</td>\n",
       "      <td>-0.50</td>\n",
       "      <td>decrease</td>\n",
       "      <td>dovish</td>\n",
       "      <td>decrease</td>\n",
       "      <td>In the July Meeting, the Copom unanimously de...</td>\n",
       "      <td>Statement</td>\n",
       "    </tr>\n",
       "    <tr>\n",
       "      <th>4</th>\n",
       "      <td>2006/08/30</td>\n",
       "      <td>14.25</td>\n",
       "      <td>121.0</td>\n",
       "      <td>-0.50</td>\n",
       "      <td>decrease</td>\n",
       "      <td>dovish</td>\n",
       "      <td>decrease</td>\n",
       "      <td>In the August Meeting, the Copom unanimously ...</td>\n",
       "      <td>Statement</td>\n",
       "    </tr>\n",
       "  </tbody>\n",
       "</table>\n",
       "</div>"
      ],
      "text/plain": [
       "         Date  Selic  Meeting_Number  Decision Decision_txt label_hawk_dove  \\\n",
       "0  2006/03/08  16.50           117.0     -0.75     decrease          dovish   \n",
       "1  2006/04/19  15.75           118.0     -0.75     decrease          dovish   \n",
       "2  2006/05/31  15.25           119.0     -0.50     decrease          dovish   \n",
       "3  2006/07/19  14.75           120.0     -0.50     decrease          dovish   \n",
       "4  2006/08/30  14.25           121.0     -0.50     decrease          dovish   \n",
       "\n",
       "  label_next_meet                                               Text  \\\n",
       "0        decrease   In the March Meeting, the Banco Central do Br...   \n",
       "1        decrease   In the April Meeting, the Monetary Policy Com...   \n",
       "2        decrease   In the May Meeting, the Monetary Policy Commi...   \n",
       "3        decrease   In the July Meeting, the Copom unanimously de...   \n",
       "4        decrease   In the August Meeting, the Copom unanimously ...   \n",
       "\n",
       "        Type  \n",
       "0  Statement  \n",
       "1  Statement  \n",
       "2  Statement  \n",
       "3  Statement  \n",
       "4  Statement  "
      ]
     },
     "execution_count": 65,
     "metadata": {},
     "output_type": "execute_result"
    }
   ],
   "source": [
    "df_copom.head()"
   ]
  },
  {
   "cell_type": "code",
   "execution_count": 66,
   "id": "ac0fc1c1-4d8e-4c01-9497-21f92b78583e",
   "metadata": {},
   "outputs": [
    {
     "data": {
      "text/plain": [
       "Date                                                      2009/10/21\n",
       "Selic                                                           8.75\n",
       "Meeting_Number                                                   146\n",
       "Decision                                                           0\n",
       "Decision_txt                                                 mantain\n",
       "label_hawk_dove                                              neutral\n",
       "label_next_meet                                              mantain\n",
       "Text                  \\tBrasília - In light of inflation prospect...\n",
       "Type                                                       Statement\n",
       "Name: 29, dtype: object"
      ]
     },
     "execution_count": 66,
     "metadata": {},
     "output_type": "execute_result"
    }
   ],
   "source": [
    "df_copom.iloc[29]"
   ]
  },
  {
   "cell_type": "code",
   "execution_count": 67,
   "id": "e594a921-8058-4fff-b65d-78f9e59b6c55",
   "metadata": {},
   "outputs": [
    {
     "data": {
      "text/plain": [
       "(159, 9)"
      ]
     },
     "execution_count": 67,
     "metadata": {},
     "output_type": "execute_result"
    }
   ],
   "source": [
    "df_copom.shape"
   ]
  },
  {
   "cell_type": "markdown",
   "id": "36c44e4b-0795-4f05-838d-c5caa6b9dcd9",
   "metadata": {},
   "source": [
    "### Split test and train"
   ]
  },
  {
   "cell_type": "code",
   "execution_count": 68,
   "id": "9783a43e-78d9-4a51-a65e-58e9ba6bf0e8",
   "metadata": {},
   "outputs": [],
   "source": [
    "from sklearn.model_selection import train_test_split"
   ]
  },
  {
   "cell_type": "code",
   "execution_count": 69,
   "id": "b9572834-9d66-4da3-8e55-e6fa9177a530",
   "metadata": {},
   "outputs": [],
   "source": [
    "X = df_copom.copy()\n",
    "y = df_copom['label_hawk_dove']"
   ]
  },
  {
   "cell_type": "code",
   "execution_count": 70,
   "id": "26356f49-54c3-4096-bf3d-4154aacce342",
   "metadata": {},
   "outputs": [],
   "source": [
    "#Perform train/test split\n",
    "X_train, X_test, y_train, y_test = train_test_split(X, y, test_size=0.1, random_state=42)"
   ]
  },
  {
   "cell_type": "code",
   "execution_count": 71,
   "id": "48226f65-b901-44e2-b066-bdc45a9dda50",
   "metadata": {},
   "outputs": [],
   "source": [
    "texts = X_train['Text'].tolist()\n",
    "labels = y_train.tolist()"
   ]
  },
  {
   "cell_type": "code",
   "execution_count": 72,
   "id": "505cec28-3d87-47e6-a8a5-c7acfaea9efe",
   "metadata": {},
   "outputs": [
    {
     "data": {
      "text/plain": [
       "143"
      ]
     },
     "execution_count": 72,
     "metadata": {},
     "output_type": "execute_result"
    }
   ],
   "source": [
    "len(texts)"
   ]
  },
  {
   "cell_type": "code",
   "execution_count": 73,
   "id": "beac442e-643e-4e33-a3d7-3dfaa0cd436e",
   "metadata": {},
   "outputs": [
    {
     "data": {
      "text/plain": [
       "143"
      ]
     },
     "execution_count": 73,
     "metadata": {},
     "output_type": "execute_result"
    }
   ],
   "source": [
    "len(labels)"
   ]
  },
  {
   "cell_type": "code",
   "execution_count": 74,
   "id": "c8a8b86c-9391-4baf-9aff-59221bb3faa6",
   "metadata": {},
   "outputs": [
    {
     "data": {
      "text/plain": [
       "(143, 512)"
      ]
     },
     "execution_count": 74,
     "metadata": {},
     "output_type": "execute_result"
    }
   ],
   "source": [
    "seq_len = 512 # number of the tokens tokenizer will create\n",
    "num_samples = len (texts)\n",
    "num_samples, seq_len"
   ]
  },
  {
   "cell_type": "markdown",
   "id": "7029bbf4-2632-4984-8d0a-42bdc2382cdd",
   "metadata": {},
   "source": [
    "#### Convert labels to one-hot encoded vectors"
   ]
  },
  {
   "cell_type": "code",
   "execution_count": 75,
   "id": "4b0e070e-a8ae-43f6-b8b1-504ec31b12c6",
   "metadata": {},
   "outputs": [
    {
     "data": {
      "text/plain": [
       "array([[1., 0., 0.],\n",
       "       [0., 0., 1.],\n",
       "       [0., 0., 1.],\n",
       "       [0., 0., 1.],\n",
       "       [0., 0., 1.]])"
      ]
     },
     "execution_count": 75,
     "metadata": {},
     "output_type": "execute_result"
    }
   ],
   "source": [
    "label_classes = list(set(labels))\n",
    "num_classes = len(label_classes)\n",
    "\n",
    "label_to_index = {label: index for index, label in enumerate(label_classes)}\n",
    "index_to_label = {index: label for label, index in label_to_index.items()}\n",
    "\n",
    "labels_encoded = np.array([label_to_index[label] for label in labels])\n",
    "labels = np.eye(num_classes)[labels_encoded]\n",
    "labels[:5]"
   ]
  },
  {
   "cell_type": "code",
   "execution_count": 76,
   "id": "c1721ff2-87dd-43b3-b557-f8676830f4e1",
   "metadata": {},
   "outputs": [
    {
     "data": {
      "text/plain": [
       "143"
      ]
     },
     "execution_count": 76,
     "metadata": {},
     "output_type": "execute_result"
    }
   ],
   "source": [
    "len(labels)"
   ]
  },
  {
   "cell_type": "markdown",
   "id": "41ff51f9-f286-4f63-b42e-1ee6dc4ae8ca",
   "metadata": {},
   "source": [
    "## ChatCPG"
   ]
  },
  {
   "cell_type": "code",
   "execution_count": null,
   "id": "7d528a9c-0978-448c-8dd8-466e20ce23c0",
   "metadata": {},
   "outputs": [],
   "source": []
  }
 ],
 "metadata": {
  "kernelspec": {
   "display_name": "Python 3 (ipykernel)",
   "language": "python",
   "name": "python3"
  },
  "language_info": {
   "codemirror_mode": {
    "name": "ipython",
    "version": 3
   },
   "file_extension": ".py",
   "mimetype": "text/x-python",
   "name": "python",
   "nbconvert_exporter": "python",
   "pygments_lexer": "ipython3",
   "version": "3.7.16"
  }
 },
 "nbformat": 4,
 "nbformat_minor": 5
}

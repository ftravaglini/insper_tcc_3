{
 "cells": [
  {
   "cell_type": "markdown",
   "id": "791f0e12-bbb6-4bcb-8a2e-1048ab03bbd2",
   "metadata": {},
   "source": [
    "# Deep ChatGPT"
   ]
  },
  {
   "cell_type": "code",
   "execution_count": 1,
   "id": "5a418dd8-90ca-41b5-b4ea-9638598d471d",
   "metadata": {},
   "outputs": [],
   "source": [
    "import pandas as pd\n",
    "import numpy as np"
   ]
  },
  {
   "cell_type": "code",
   "execution_count": 2,
   "id": "d116ad26-12a3-487c-9b47-5f9abe2b6a14",
   "metadata": {},
   "outputs": [],
   "source": [
    "df_copom = pd.read_csv('df_copom.csv')"
   ]
  },
  {
   "cell_type": "code",
   "execution_count": 3,
   "id": "60443267-16fc-4610-9633-d96d57c5a6d3",
   "metadata": {},
   "outputs": [
    {
     "data": {
      "text/html": [
       "<div>\n",
       "<style scoped>\n",
       "    .dataframe tbody tr th:only-of-type {\n",
       "        vertical-align: middle;\n",
       "    }\n",
       "\n",
       "    .dataframe tbody tr th {\n",
       "        vertical-align: top;\n",
       "    }\n",
       "\n",
       "    .dataframe thead th {\n",
       "        text-align: right;\n",
       "    }\n",
       "</style>\n",
       "<table border=\"1\" class=\"dataframe\">\n",
       "  <thead>\n",
       "    <tr style=\"text-align: right;\">\n",
       "      <th></th>\n",
       "      <th>Date</th>\n",
       "      <th>Selic</th>\n",
       "      <th>Meeting_Number</th>\n",
       "      <th>Decision</th>\n",
       "      <th>Decision_txt</th>\n",
       "      <th>Text</th>\n",
       "      <th>Type</th>\n",
       "    </tr>\n",
       "  </thead>\n",
       "  <tbody>\n",
       "    <tr>\n",
       "      <th>0</th>\n",
       "      <td>2006/03/08</td>\n",
       "      <td>16.50</td>\n",
       "      <td>117.0</td>\n",
       "      <td>-0.75</td>\n",
       "      <td>decrease</td>\n",
       "      <td>In the March Meeting, the Banco Central do Br...</td>\n",
       "      <td>Statement</td>\n",
       "    </tr>\n",
       "    <tr>\n",
       "      <th>1</th>\n",
       "      <td>2006/04/19</td>\n",
       "      <td>15.75</td>\n",
       "      <td>118.0</td>\n",
       "      <td>-0.75</td>\n",
       "      <td>decrease</td>\n",
       "      <td>In the April Meeting, the Monetary Policy Com...</td>\n",
       "      <td>Statement</td>\n",
       "    </tr>\n",
       "    <tr>\n",
       "      <th>2</th>\n",
       "      <td>2006/05/31</td>\n",
       "      <td>15.25</td>\n",
       "      <td>119.0</td>\n",
       "      <td>-0.50</td>\n",
       "      <td>decrease</td>\n",
       "      <td>In the May Meeting, the Monetary Policy Commi...</td>\n",
       "      <td>Statement</td>\n",
       "    </tr>\n",
       "    <tr>\n",
       "      <th>3</th>\n",
       "      <td>2006/07/19</td>\n",
       "      <td>14.75</td>\n",
       "      <td>120.0</td>\n",
       "      <td>-0.50</td>\n",
       "      <td>decrease</td>\n",
       "      <td>In the July Meeting, the Copom unanimously de...</td>\n",
       "      <td>Statement</td>\n",
       "    </tr>\n",
       "    <tr>\n",
       "      <th>4</th>\n",
       "      <td>2006/08/30</td>\n",
       "      <td>14.25</td>\n",
       "      <td>121.0</td>\n",
       "      <td>-0.50</td>\n",
       "      <td>decrease</td>\n",
       "      <td>In the August Meeting, the Copom unanimously ...</td>\n",
       "      <td>Statement</td>\n",
       "    </tr>\n",
       "  </tbody>\n",
       "</table>\n",
       "</div>"
      ],
      "text/plain": [
       "         Date  Selic  Meeting_Number  Decision Decision_txt  \\\n",
       "0  2006/03/08  16.50           117.0     -0.75     decrease   \n",
       "1  2006/04/19  15.75           118.0     -0.75     decrease   \n",
       "2  2006/05/31  15.25           119.0     -0.50     decrease   \n",
       "3  2006/07/19  14.75           120.0     -0.50     decrease   \n",
       "4  2006/08/30  14.25           121.0     -0.50     decrease   \n",
       "\n",
       "                                                Text       Type  \n",
       "0   In the March Meeting, the Banco Central do Br...  Statement  \n",
       "1   In the April Meeting, the Monetary Policy Com...  Statement  \n",
       "2   In the May Meeting, the Monetary Policy Commi...  Statement  \n",
       "3   In the July Meeting, the Copom unanimously de...  Statement  \n",
       "4   In the August Meeting, the Copom unanimously ...  Statement  "
      ]
     },
     "execution_count": 3,
     "metadata": {},
     "output_type": "execute_result"
    }
   ],
   "source": [
    "df_copom.head()"
   ]
  },
  {
   "cell_type": "code",
   "execution_count": 14,
   "id": "c7c1afde-507b-421e-b7dd-7fa72df37922",
   "metadata": {},
   "outputs": [],
   "source": [
    "texts = df_copom['Text'].tolist()\n",
    "labels = df_copom['Decision_txt'].tolist()"
   ]
  },
  {
   "cell_type": "code",
   "execution_count": 31,
   "id": "f2dedafe-708e-4058-874c-66430b2eaee8",
   "metadata": {
    "tags": []
   },
   "outputs": [],
   "source": [
    "from keras.models import Sequential\n",
    "from keras.layers import Dense, Embedding, LSTM\n",
    "from keras.preprocessing.text import Tokenizer\n",
    "from keras.preprocessing.sequence import pad_sequences\n",
    "from sklearn.model_selection import train_test_split\n",
    "\n",
    "\n",
    "# Tokenize the text\n",
    "tokenizer = Tokenizer()\n",
    "tokenizer.fit_on_texts(texts)\n",
    "vocab_size = len(tokenizer.word_index) + 1\n",
    "\n",
    "# Convert text to sequences\n",
    "sequences = tokenizer.texts_to_sequences(texts)\n",
    "\n",
    "# Pad sequences to have the same length\n",
    "max_seq_length = max([len(seq) for seq in sequences])\n",
    "padded_sequences = pad_sequences(sequences, maxlen=max_seq_length)\n",
    "\n",
    "# Convert labels to one-hot encoded vectors\n",
    "label_classes = list(set(labels))\n",
    "num_classes = len(label_classes)\n",
    "\n",
    "label_to_index = {label: index for index, label in enumerate(label_classes)}\n",
    "index_to_label = {index: label for label, index in label_to_index.items()}\n",
    "\n",
    "labels_encoded = np.array([label_to_index[label] for label in labels])\n",
    "labels_one_hot = np.eye(num_classes)[labels_encoded]\n",
    "\n",
    "# Split the data into training and testing sets\n",
    "X_train, X_test, y_train, y_test = train_test_split(padded_sequences, labels_one_hot, test_size=0.2)\n",
    "\n",
    "# Build the model\n",
    "model = Sequential()\n",
    "model.add(Embedding(vocab_size, 100, input_length=max_seq_length))\n",
    "model.add(LSTM(100))\n",
    "model.add(Dense(num_classes, activation='softmax'))\n",
    "\n",
    "# Compile the model\n",
    "model.compile(loss='categorical_crossentropy', optimizer='adam', metrics=['accuracy'])\n",
    "\n"
   ]
  },
  {
   "cell_type": "code",
   "execution_count": 32,
   "id": "d337ee98-d95b-4cdb-a9df-c7d64d45371b",
   "metadata": {},
   "outputs": [
    {
     "name": "stdout",
     "output_type": "stream",
     "text": [
      "Train on 127 samples, validate on 32 samples\n",
      "Epoch 1/40\n",
      "127/127 [==============================] - 11s 83ms/step - loss: 1.0993 - accuracy: 0.2992 - val_loss: 1.0930 - val_accuracy: 0.3750\n",
      "Epoch 2/40\n",
      "127/127 [==============================] - 10s 81ms/step - loss: 1.0872 - accuracy: 0.3937 - val_loss: 1.0899 - val_accuracy: 0.3438\n",
      "Epoch 3/40\n",
      "127/127 [==============================] - 10s 81ms/step - loss: 1.0734 - accuracy: 0.3780 - val_loss: 1.0707 - val_accuracy: 0.3438\n",
      "Epoch 4/40\n",
      "127/127 [==============================] - 10s 79ms/step - loss: 1.0528 - accuracy: 0.4252 - val_loss: 0.9589 - val_accuracy: 0.5312\n",
      "Epoch 5/40\n",
      "127/127 [==============================] - 10s 79ms/step - loss: 0.9842 - accuracy: 0.5354 - val_loss: 0.9856 - val_accuracy: 0.4688\n",
      "Epoch 6/40\n",
      "127/127 [==============================] - 10s 79ms/step - loss: 0.9322 - accuracy: 0.5354 - val_loss: 0.8551 - val_accuracy: 0.5938\n",
      "Epoch 7/40\n",
      "127/127 [==============================] - 10s 79ms/step - loss: 0.8706 - accuracy: 0.5512 - val_loss: 0.9097 - val_accuracy: 0.6250\n",
      "Epoch 8/40\n",
      "127/127 [==============================] - 10s 80ms/step - loss: 1.0798 - accuracy: 0.4724 - val_loss: 1.1677 - val_accuracy: 0.3438\n",
      "Epoch 9/40\n",
      "127/127 [==============================] - 10s 79ms/step - loss: 1.1446 - accuracy: 0.4016 - val_loss: 1.2755 - val_accuracy: 0.4688\n",
      "Epoch 10/40\n",
      "127/127 [==============================] - 10s 81ms/step - loss: 1.1727 - accuracy: 0.3937 - val_loss: 1.0567 - val_accuracy: 0.4688\n",
      "Epoch 11/40\n",
      "127/127 [==============================] - 10s 80ms/step - loss: 0.9962 - accuracy: 0.5512 - val_loss: 1.5751 - val_accuracy: 0.1875\n",
      "Epoch 12/40\n",
      "127/127 [==============================] - 10s 78ms/step - loss: 1.1620 - accuracy: 0.4094 - val_loss: 1.0428 - val_accuracy: 0.3750\n",
      "Epoch 13/40\n",
      "127/127 [==============================] - 10s 79ms/step - loss: 1.0641 - accuracy: 0.4882 - val_loss: 1.3390 - val_accuracy: 0.4062\n",
      "Epoch 14/40\n",
      "127/127 [==============================] - 10s 79ms/step - loss: 1.0159 - accuracy: 0.4803 - val_loss: 1.0727 - val_accuracy: 0.3438\n",
      "Epoch 15/40\n",
      "127/127 [==============================] - 10s 78ms/step - loss: 1.0772 - accuracy: 0.4094 - val_loss: 1.0590 - val_accuracy: 0.3125\n",
      "Epoch 16/40\n",
      "127/127 [==============================] - 10s 80ms/step - loss: 0.9971 - accuracy: 0.4724 - val_loss: 1.0205 - val_accuracy: 0.5312\n",
      "Epoch 17/40\n",
      "127/127 [==============================] - 10s 80ms/step - loss: 0.9879 - accuracy: 0.4961 - val_loss: 1.1546 - val_accuracy: 0.2500\n",
      "Epoch 18/40\n",
      "127/127 [==============================] - 10s 79ms/step - loss: 0.9449 - accuracy: 0.5669 - val_loss: 1.0694 - val_accuracy: 0.4688\n",
      "Epoch 19/40\n",
      "127/127 [==============================] - 10s 79ms/step - loss: 0.9362 - accuracy: 0.5984 - val_loss: 1.0581 - val_accuracy: 0.4062\n",
      "Epoch 20/40\n",
      "127/127 [==============================] - 10s 78ms/step - loss: 0.9079 - accuracy: 0.5827 - val_loss: 0.9266 - val_accuracy: 0.5625\n",
      "Epoch 21/40\n",
      "127/127 [==============================] - 10s 78ms/step - loss: 0.9258 - accuracy: 0.5669 - val_loss: 0.9066 - val_accuracy: 0.5000\n",
      "Epoch 22/40\n",
      "127/127 [==============================] - 10s 79ms/step - loss: 0.9277 - accuracy: 0.5354 - val_loss: 1.0198 - val_accuracy: 0.3438\n",
      "Epoch 23/40\n",
      "127/127 [==============================] - 10s 78ms/step - loss: 0.9662 - accuracy: 0.5591 - val_loss: 1.0773 - val_accuracy: 0.3438\n",
      "Epoch 24/40\n",
      "127/127 [==============================] - 10s 79ms/step - loss: 1.0594 - accuracy: 0.4724 - val_loss: 1.1202 - val_accuracy: 0.3125\n",
      "Epoch 25/40\n",
      "127/127 [==============================] - 10s 78ms/step - loss: 0.9829 - accuracy: 0.4961 - val_loss: 1.1320 - val_accuracy: 0.4375\n",
      "Epoch 26/40\n",
      "127/127 [==============================] - 10s 78ms/step - loss: 0.9362 - accuracy: 0.6299 - val_loss: 1.0650 - val_accuracy: 0.4375\n",
      "Epoch 27/40\n",
      "127/127 [==============================] - 10s 80ms/step - loss: 0.9989 - accuracy: 0.4567 - val_loss: 1.1300 - val_accuracy: 0.3125\n",
      "Epoch 28/40\n",
      "127/127 [==============================] - 10s 78ms/step - loss: 1.0225 - accuracy: 0.4173 - val_loss: 1.1227 - val_accuracy: 0.3125\n",
      "Epoch 29/40\n",
      "127/127 [==============================] - 10s 79ms/step - loss: 0.9814 - accuracy: 0.5748 - val_loss: 1.0801 - val_accuracy: 0.3125\n",
      "Epoch 30/40\n",
      "127/127 [==============================] - 10s 80ms/step - loss: 0.9449 - accuracy: 0.6535 - val_loss: 1.0660 - val_accuracy: 0.4688\n",
      "Epoch 31/40\n",
      "127/127 [==============================] - 10s 79ms/step - loss: 0.9368 - accuracy: 0.6299 - val_loss: 1.0519 - val_accuracy: 0.3750\n",
      "Epoch 32/40\n",
      "127/127 [==============================] - 10s 77ms/step - loss: 0.9250 - accuracy: 0.6063 - val_loss: 1.0404 - val_accuracy: 0.4062\n",
      "Epoch 33/40\n",
      "127/127 [==============================] - 10s 78ms/step - loss: 0.9135 - accuracy: 0.6457 - val_loss: 1.0320 - val_accuracy: 0.4062\n",
      "Epoch 34/40\n",
      "127/127 [==============================] - 10s 79ms/step - loss: 0.9032 - accuracy: 0.6535 - val_loss: 1.0260 - val_accuracy: 0.4375\n",
      "Epoch 35/40\n",
      "127/127 [==============================] - 10s 77ms/step - loss: 0.8928 - accuracy: 0.6693 - val_loss: 1.0203 - val_accuracy: 0.4688\n",
      "Epoch 36/40\n",
      "127/127 [==============================] - 10s 78ms/step - loss: 0.8823 - accuracy: 0.6693 - val_loss: 1.0165 - val_accuracy: 0.4062\n",
      "Epoch 37/40\n",
      "127/127 [==============================] - 10s 78ms/step - loss: 0.8711 - accuracy: 0.6457 - val_loss: 1.0089 - val_accuracy: 0.4688\n",
      "Epoch 38/40\n",
      "127/127 [==============================] - 10s 79ms/step - loss: 0.8595 - accuracy: 0.6220 - val_loss: 1.0039 - val_accuracy: 0.4688\n",
      "Epoch 39/40\n",
      "127/127 [==============================] - 10s 79ms/step - loss: 0.8484 - accuracy: 0.5906 - val_loss: 0.9992 - val_accuracy: 0.4375\n",
      "Epoch 40/40\n",
      "127/127 [==============================] - 10s 79ms/step - loss: 0.8367 - accuracy: 0.5984 - val_loss: 0.9947 - val_accuracy: 0.4688\n"
     ]
    }
   ],
   "source": [
    "# Train the model\n",
    "# model.fit(X_train, y_train, epochs=40, batch_size=16)\n",
    "history = model.fit(X_train, y_train, epochs=40, batch_size=16, validation_data=(X_test, y_test))"
   ]
  },
  {
   "cell_type": "code",
   "execution_count": 28,
   "id": "be8b3a72-11c0-4515-a487-c098a051eef9",
   "metadata": {},
   "outputs": [
    {
     "name": "stdout",
     "output_type": "stream",
     "text": [
      "32/32 [==============================] - 3s 81ms/step\n",
      "Test loss: 2.467297077178955\n",
      "Test accuracy: 0.53125\n"
     ]
    }
   ],
   "source": [
    "# Evaluate the model\n",
    "loss, accuracy = model.evaluate(X_test, y_test)\n",
    "print('Test loss:', loss)\n",
    "print('Test accuracy:', accuracy)"
   ]
  },
  {
   "cell_type": "code",
   "execution_count": 30,
   "id": "45a6ae6a-1f62-47da-82d3-0bff11fafda4",
   "metadata": {},
   "outputs": [
    {
     "data": {
      "image/png": "[encoded data removed]",
      "text/plain": [
       "<Figure size 640x480 with 1 Axes>"
      ]
     },
     "metadata": {},
     "output_type": "display_data"
    }
   ],
   "source": [
    "import matplotlib.pyplot as plt\n",
    "\n",
    "# # Train the model\n",
    "# history = model.fit(X_train, y_train, epochs=100, batch_size=16, validation_data=(X_test, y_test))\n",
    "\n",
    "# Extract loss values from the training history\n",
    "train_loss = history.history['loss']\n",
    "val_loss = history.history['val_loss']\n",
    "\n",
    "# Plot the loss values\n",
    "epochs = range(1, len(train_loss) + 1)\n",
    "plt.plot(epochs, train_loss, 'b', label='Training Loss')\n",
    "plt.plot(epochs, val_loss, 'r', label='Validation Loss')\n",
    "plt.title('Training and Validation Loss')\n",
    "plt.xlabel('Epochs')\n",
    "plt.ylabel('Loss')\n",
    "plt.legend()\n",
    "\n",
    "plt.show()"
   ]
  },
  {
   "cell_type": "code",
   "execution_count": null,
   "id": "cd115759-3ae8-4c29-9b15-908da8358cae",
   "metadata": {},
   "outputs": [],
   "source": []
  },
  {
   "cell_type": "code",
   "execution_count": null,
   "id": "3be1c218-96d2-4aa4-a081-8fe2f183bbcb",
   "metadata": {},
   "outputs": [],
   "source": []
  },
  {
   "cell_type": "code",
   "execution_count": 16,
   "id": "fd5a5a23-1719-476c-8daf-73d70ebeb248",
   "metadata": {},
   "outputs": [
    {
     "name": "stdout",
     "output_type": "stream",
     "text": [
      "New Texts Predictions: ['decrease', 'decrease']\n"
     ]
    }
   ],
   "source": [
    "# Predict on new central bank texts\n",
    "new_texts = ['The central bank announced a change in interest rates.',\n",
    "             'The monetary policy committee held its monthly meeting.']\n",
    "\n",
    "new_sequences = tokenizer.texts_to_sequences(new_texts)\n",
    "new_padded_sequences = pad_sequences(new_sequences, maxlen=max_seq_length)\n",
    "\n",
    "predictions = model.predict(new_padded_sequences)\n",
    "predicted_labels = [index_to_label[np.argmax(pred)] for pred in predictions]\n",
    "\n",
    "print('New Texts Predictions:', predicted_labels)"
   ]
  },
  {
   "cell_type": "code",
   "execution_count": null,
   "id": "037d0f4e-5b42-41b4-b32b-3c40d9fca79e",
   "metadata": {},
   "outputs": [],
   "source": []
  }
 ],
 "metadata": {
  "kernelspec": {
   "display_name": "Python 3 (ipykernel)",
   "language": "python",
   "name": "python3"
  },
  "language_info": {
   "codemirror_mode": {
    "name": "ipython",
    "version": 3
   },
   "file_extension": ".py",
   "mimetype": "text/x-python",
   "name": "python",
   "nbconvert_exporter": "python",
   "pygments_lexer": "ipython3",
   "version": "3.7.3"
  }
 },
 "nbformat": 4,
 "nbformat_minor": 5
}

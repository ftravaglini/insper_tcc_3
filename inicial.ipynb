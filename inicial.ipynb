{
 "cells": [
  {
   "cell_type": "markdown",
   "id": "3a8a0bb3-123b-4b6d-8511-6a24eeeedec9",
   "metadata": {},
   "source": [
    "# Análise de sentimento de documentos do Banco Central\n",
    "\n",
    "## Projeto de conclusão do curso de pós-graduação \"Programa Avançado em Data Science e Decisão\" do Insper\n",
    "\n",
    "Objetivo  do trabalho é avaliar utilizando modelos de *Machine Learning* as **Atas do Copom**, documentos publicados pelo Banco Central após as reuniões que definem periodicamente a taxa básica de juros Selic do Brasil. As atas do Copom são documentos públicos, divulgados no site do Banco Central. As atas do Copom servem de referência para o \"Sistema de Metas de Inflação\", adotado pelo país desde 1999. As atas justificam a decisão de juros da diretoria do Banco Central no \"Comitê de Política Monetária - Copom\" a cada 45 dias. As atas, ao lado da taxa de juros em si, são o principal instrumento para o BC trazer a inflação para dentro da \"Meta de Inflação\", definida pelo Conselho Monetário Nacional.\n",
    "\n",
    "A ideia do trabalho é avaliar esses textos a partir de modelos de inteligência artificial para entender se as mensagens passadas pelo BC estão de acordo com a interpretação dada pelo mercado financeiro. Para isso, serão utilizados modelos de **Deep Learning** e **Natural Language Processing (NLP)**, em linguagem de programação **Python**, para extrair o \"sentimento\" de cada ata. Por sentimento pode-se entender uma linguagem e/ou sinalização mais \"dura\", indicando mais elevações da Selic, ou mais \"suave\", sinalizando corte de juros, entre outros elementos tradicionamente usados pelos bancos centrais. A partir daí, será possível comparar a análise via NLP com a leitura feita pelo mercado financeiro, seja via reação dos ativos domésticos, como dólar e taxa futura de juros, seja via comparação com relatórios de analistas sobre as decisões.\n",
    "\n",
    "O corpus do trabalho, ou seja, o material a ser analisado, são as atas do Copom, disponíveis de forma pública no site do Banco Central do Brasil. Para os ativos financeiros, serão utilizado as taxas de juros extraídas dos contratos de DI futuro da B3, também disponíveis publicamente no site da B3.\n",
    "\n",
    "A análise de sentimento usando Deep Learning e NLP já é bastante difundida na academia e entre as empresas. O desafio será adaptar os modelos de NLP para a lingua portuguesa, algo ainda em desenvolvimento. Será possível ainda comparar a análise feita com a mesma análise a ser feita com as Atas do Copom em inglês, também disponibilizada pelo Banco Central no site.\n",
    "\n",
    "Do ponto de vista jornalistico, a análise de dados têm crescido em importância em todo o mundo. Particulamente, a Bloomberg tem investido e treinado seus jornalistas para desenvolver cada vez produtos usando essas ferramentas, seja para produção de material jornalístico, seja para automação dos processos de trabalho da redação."
   ]
  },
  {
   "cell_type": "markdown",
   "id": "9b74f548-39e8-47ab-9b71-145dd4dfb71e",
   "metadata": {},
   "source": [
    "# Sentiment analysis of Brazil Central Bank's Minutes using NLP and Deep Learning models\n",
    "\n",
    "## Completion of postgraduate course work from \"Advanced Program in Data Science and Decision\" at Insper University in Brazil\n",
    "\n",
    "The objective is to do a sentiment analysis of the Brazil Central Bank's official documents using Machine Learning models to evaluate those using artificial intelligence models to understand whether the messages sent by the Central Bank are in accordance with the interpretation given by the financial market. The corpus of the analysis will be the minutes of the Central Bank's Monetary Policy Committee, so-called Copom, publicly available on the website of the Central Bank of Brazil.\n",
    "\n",
    "It will be used Deep Learning and Natural Language Processing (“NLP”), one of the  State-of-the-art machine learning models in Python, to extract the \"sentiment\" of each minute. By sentiment, one can understand more \"hard\" language indicating more Selic (Brazil’s base interest rate) increases, or more \"soft\" language signaling interest rate cuts, among other elements traditionally used by central banks.\n",
    "\n",
    "Sentiment analysis using Deep Learning and NLP is already widespread. The challenge will be adapting the NLP models to the Portuguese language, which is still under development. It will also be possible to compare the analysis made with the same analysis to be made with the Minutes of the Copom in English, also made available by the Central Bank on the website.\n",
    "\n",
    "From a journalistic point of view, data analysis has grown in importance all over the world. Particularly, Bloomberg has invested and trained its journalists to increasingly develop products using these tools, whether to produce journalistic material or for the automation of newsroom work processes."
   ]
  },
  {
   "cell_type": "code",
   "execution_count": null,
   "id": "9b775bcc-bd91-406f-b9cf-e9f610106999",
   "metadata": {},
   "outputs": [],
   "source": []
  }
 ],
 "metadata": {
  "kernelspec": {
   "display_name": "Python 3 (ipykernel)",
   "language": "python",
   "name": "python3"
  },
  "language_info": {
   "codemirror_mode": {
    "name": "ipython",
    "version": 3
   },
   "file_extension": ".py",
   "mimetype": "text/x-python",
   "name": "python",
   "nbconvert_exporter": "python",
   "pygments_lexer": "ipython3",
   "version": "3.7.3"
  }
 },
 "nbformat": 4,
 "nbformat_minor": 5
}

{
 "cells": [
  {
   "cell_type": "markdown",
   "id": "791f0e12-bbb6-4bcb-8a2e-1048ab03bbd2",
   "metadata": {},
   "source": [
    "# Deep: "
   ]
  },
  {
   "cell_type": "code",
   "execution_count": 1,
   "id": "5a418dd8-90ca-41b5-b4ea-9638598d471d",
   "metadata": {},
   "outputs": [],
   "source": [
    "import pandas as pd\n",
    "import numpy as np\n",
    "import matplotlib.pyplot as plt"
   ]
  },
  {
   "cell_type": "code",
   "execution_count": 2,
   "id": "d116ad26-12a3-487c-9b47-5f9abe2b6a14",
   "metadata": {},
   "outputs": [],
   "source": [
    "df_copom = pd.read_csv('df_copom_label.csv')"
   ]
  },
  {
   "cell_type": "code",
   "execution_count": 3,
   "id": "60443267-16fc-4610-9633-d96d57c5a6d3",
   "metadata": {},
   "outputs": [
    {
     "data": {
      "text/html": [
       "<div>\n",
       "<style scoped>\n",
       "    .dataframe tbody tr th:only-of-type {\n",
       "        vertical-align: middle;\n",
       "    }\n",
       "\n",
       "    .dataframe tbody tr th {\n",
       "        vertical-align: top;\n",
       "    }\n",
       "\n",
       "    .dataframe thead th {\n",
       "        text-align: right;\n",
       "    }\n",
       "</style>\n",
       "<table border=\"1\" class=\"dataframe\">\n",
       "  <thead>\n",
       "    <tr style=\"text-align: right;\">\n",
       "      <th></th>\n",
       "      <th>Date</th>\n",
       "      <th>Selic</th>\n",
       "      <th>Meeting_Number</th>\n",
       "      <th>Decision</th>\n",
       "      <th>Decision_txt</th>\n",
       "      <th>label_hawk_dove</th>\n",
       "      <th>label_next_meet</th>\n",
       "      <th>Text</th>\n",
       "      <th>Type</th>\n",
       "    </tr>\n",
       "  </thead>\n",
       "  <tbody>\n",
       "    <tr>\n",
       "      <th>0</th>\n",
       "      <td>2006/03/08</td>\n",
       "      <td>16.50</td>\n",
       "      <td>117.0</td>\n",
       "      <td>-0.75</td>\n",
       "      <td>decrease</td>\n",
       "      <td>dovish</td>\n",
       "      <td>decrease</td>\n",
       "      <td>In the March Meeting, the Banco Central do Br...</td>\n",
       "      <td>Statement</td>\n",
       "    </tr>\n",
       "    <tr>\n",
       "      <th>1</th>\n",
       "      <td>2006/04/19</td>\n",
       "      <td>15.75</td>\n",
       "      <td>118.0</td>\n",
       "      <td>-0.75</td>\n",
       "      <td>decrease</td>\n",
       "      <td>dovish</td>\n",
       "      <td>decrease</td>\n",
       "      <td>In the April Meeting, the Monetary Policy Com...</td>\n",
       "      <td>Statement</td>\n",
       "    </tr>\n",
       "    <tr>\n",
       "      <th>2</th>\n",
       "      <td>2006/05/31</td>\n",
       "      <td>15.25</td>\n",
       "      <td>119.0</td>\n",
       "      <td>-0.50</td>\n",
       "      <td>decrease</td>\n",
       "      <td>dovish</td>\n",
       "      <td>decrease</td>\n",
       "      <td>In the May Meeting, the Monetary Policy Commi...</td>\n",
       "      <td>Statement</td>\n",
       "    </tr>\n",
       "    <tr>\n",
       "      <th>3</th>\n",
       "      <td>2006/07/19</td>\n",
       "      <td>14.75</td>\n",
       "      <td>120.0</td>\n",
       "      <td>-0.50</td>\n",
       "      <td>decrease</td>\n",
       "      <td>dovish</td>\n",
       "      <td>decrease</td>\n",
       "      <td>In the July Meeting, the Copom unanimously de...</td>\n",
       "      <td>Statement</td>\n",
       "    </tr>\n",
       "    <tr>\n",
       "      <th>4</th>\n",
       "      <td>2006/08/30</td>\n",
       "      <td>14.25</td>\n",
       "      <td>121.0</td>\n",
       "      <td>-0.50</td>\n",
       "      <td>decrease</td>\n",
       "      <td>dovish</td>\n",
       "      <td>decrease</td>\n",
       "      <td>In the August Meeting, the Copom unanimously ...</td>\n",
       "      <td>Statement</td>\n",
       "    </tr>\n",
       "  </tbody>\n",
       "</table>\n",
       "</div>"
      ],
      "text/plain": [
       "         Date  Selic  Meeting_Number  Decision Decision_txt label_hawk_dove  \\\n",
       "0  2006/03/08  16.50           117.0     -0.75     decrease          dovish   \n",
       "1  2006/04/19  15.75           118.0     -0.75     decrease          dovish   \n",
       "2  2006/05/31  15.25           119.0     -0.50     decrease          dovish   \n",
       "3  2006/07/19  14.75           120.0     -0.50     decrease          dovish   \n",
       "4  2006/08/30  14.25           121.0     -0.50     decrease          dovish   \n",
       "\n",
       "  label_next_meet                                               Text  \\\n",
       "0        decrease   In the March Meeting, the Banco Central do Br...   \n",
       "1        decrease   In the April Meeting, the Monetary Policy Com...   \n",
       "2        decrease   In the May Meeting, the Monetary Policy Commi...   \n",
       "3        decrease   In the July Meeting, the Copom unanimously de...   \n",
       "4        decrease   In the August Meeting, the Copom unanimously ...   \n",
       "\n",
       "        Type  \n",
       "0  Statement  \n",
       "1  Statement  \n",
       "2  Statement  \n",
       "3  Statement  \n",
       "4  Statement  "
      ]
     },
     "execution_count": 3,
     "metadata": {},
     "output_type": "execute_result"
    }
   ],
   "source": [
    "df_copom.head()"
   ]
  },
  {
   "cell_type": "code",
   "execution_count": 4,
   "id": "ac0fc1c1-4d8e-4c01-9497-21f92b78583e",
   "metadata": {},
   "outputs": [
    {
     "data": {
      "text/plain": [
       "Date                                                      2009/10/21\n",
       "Selic                                                           8.75\n",
       "Meeting_Number                                                   146\n",
       "Decision                                                           0\n",
       "Decision_txt                                                 mantain\n",
       "label_hawk_dove                                              neutral\n",
       "label_next_meet                                              mantain\n",
       "Text                  \\tBrasília - In light of inflation prospect...\n",
       "Type                                                       Statement\n",
       "Name: 29, dtype: object"
      ]
     },
     "execution_count": 4,
     "metadata": {},
     "output_type": "execute_result"
    }
   ],
   "source": [
    "df_copom.iloc[29]"
   ]
  },
  {
   "cell_type": "code",
   "execution_count": 5,
   "id": "e594a921-8058-4fff-b65d-78f9e59b6c55",
   "metadata": {},
   "outputs": [
    {
     "data": {
      "text/plain": [
       "(159, 9)"
      ]
     },
     "execution_count": 5,
     "metadata": {},
     "output_type": "execute_result"
    }
   ],
   "source": [
    "df_copom.shape"
   ]
  },
  {
   "cell_type": "markdown",
   "id": "36c44e4b-0795-4f05-838d-c5caa6b9dcd9",
   "metadata": {},
   "source": [
    "### Split test and train"
   ]
  },
  {
   "cell_type": "code",
   "execution_count": 6,
   "id": "9783a43e-78d9-4a51-a65e-58e9ba6bf0e8",
   "metadata": {},
   "outputs": [
    {
     "name": "stderr",
     "output_type": "stream",
     "text": [
      "C:\\Users\\ftrav\\anaconda3\\envs\\pytorchenv\\lib\\site-packages\\sklearn\\utils\\validation.py:37: DeprecationWarning: distutils Version classes are deprecated. Use packaging.version instead.\n",
      "  LARGE_SPARSE_SUPPORTED = LooseVersion(scipy_version) >= '0.14.0'\n"
     ]
    }
   ],
   "source": [
    "from sklearn.model_selection import train_test_split"
   ]
  },
  {
   "cell_type": "code",
   "execution_count": 7,
   "id": "b9572834-9d66-4da3-8e55-e6fa9177a530",
   "metadata": {},
   "outputs": [],
   "source": [
    "X = df_copom.copy()\n",
    "y = df_copom['label_hawk_dove']"
   ]
  },
  {
   "cell_type": "code",
   "execution_count": 8,
   "id": "26356f49-54c3-4096-bf3d-4154aacce342",
   "metadata": {},
   "outputs": [],
   "source": [
    "#Perform train/test split\n",
    "X_train, X_test, y_train, y_test = train_test_split(X, y, test_size=0.1, random_state=42)"
   ]
  },
  {
   "cell_type": "code",
   "execution_count": 9,
   "id": "48226f65-b901-44e2-b066-bdc45a9dda50",
   "metadata": {},
   "outputs": [],
   "source": [
    "texts = X_train['Text'].tolist()\n",
    "labels = y_train.tolist()"
   ]
  },
  {
   "cell_type": "code",
   "execution_count": 10,
   "id": "505cec28-3d87-47e6-a8a5-c7acfaea9efe",
   "metadata": {},
   "outputs": [
    {
     "data": {
      "text/plain": [
       "143"
      ]
     },
     "execution_count": 10,
     "metadata": {},
     "output_type": "execute_result"
    }
   ],
   "source": [
    "len(texts)"
   ]
  },
  {
   "cell_type": "code",
   "execution_count": 11,
   "id": "beac442e-643e-4e33-a3d7-3dfaa0cd436e",
   "metadata": {},
   "outputs": [
    {
     "data": {
      "text/plain": [
       "143"
      ]
     },
     "execution_count": 11,
     "metadata": {},
     "output_type": "execute_result"
    }
   ],
   "source": [
    "len(labels)"
   ]
  },
  {
   "cell_type": "code",
   "execution_count": 12,
   "id": "c8a8b86c-9391-4baf-9aff-59221bb3faa6",
   "metadata": {},
   "outputs": [
    {
     "data": {
      "text/plain": [
       "(143, 512)"
      ]
     },
     "execution_count": 12,
     "metadata": {},
     "output_type": "execute_result"
    }
   ],
   "source": [
    "seq_len = 512 # number of the tokens tokenizer will create\n",
    "num_samples = len (texts)\n",
    "num_samples, seq_len"
   ]
  },
  {
   "cell_type": "markdown",
   "id": "7029bbf4-2632-4984-8d0a-42bdc2382cdd",
   "metadata": {},
   "source": [
    "#### Convert labels to one-hot encoded vectors"
   ]
  },
  {
   "cell_type": "code",
   "execution_count": 13,
   "id": "4b0e070e-a8ae-43f6-b8b1-504ec31b12c6",
   "metadata": {},
   "outputs": [
    {
     "data": {
      "text/plain": [
       "array([[1., 0., 0.],\n",
       "       [0., 0., 1.],\n",
       "       [0., 0., 1.],\n",
       "       [0., 0., 1.],\n",
       "       [0., 0., 1.]])"
      ]
     },
     "execution_count": 13,
     "metadata": {},
     "output_type": "execute_result"
    }
   ],
   "source": [
    "label_classes = list(set(labels))\n",
    "num_classes = len(label_classes)\n",
    "\n",
    "label_to_index = {label: index for index, label in enumerate(label_classes)}\n",
    "index_to_label = {index: label for label, index in label_to_index.items()}\n",
    "\n",
    "labels_encoded = np.array([label_to_index[label] for label in labels])\n",
    "labels = np.eye(num_classes)[labels_encoded]\n",
    "labels[:5]"
   ]
  },
  {
   "cell_type": "code",
   "execution_count": 14,
   "id": "c1721ff2-87dd-43b3-b557-f8676830f4e1",
   "metadata": {},
   "outputs": [
    {
     "data": {
      "text/plain": [
       "143"
      ]
     },
     "execution_count": 14,
     "metadata": {},
     "output_type": "execute_result"
    }
   ],
   "source": [
    "len(labels)"
   ]
  },
  {
   "cell_type": "markdown",
   "id": "41ff51f9-f286-4f63-b42e-1ee6dc4ae8ca",
   "metadata": {},
   "source": [
    "## ChatCPG"
   ]
  },
  {
   "cell_type": "code",
   "execution_count": 15,
   "id": "7d528a9c-0978-448c-8dd8-466e20ce23c0",
   "metadata": {},
   "outputs": [],
   "source": [
    "import numpy as np\n",
    "from keras.models import Sequential\n",
    "from keras.layers import LSTM, Dense, Embedding\n",
    "from keras.preprocessing.text import Tokenizer\n",
    "from tensorflow.keras.preprocessing.sequence import pad_sequences\n",
    "from sklearn.model_selection import train_test_split\n",
    "\n",
    "# Tokenize the text documents\n",
    "tokenizer = Tokenizer()\n",
    "tokenizer.fit_on_texts(texts)\n",
    "sequences = tokenizer.texts_to_sequences(texts)\n",
    "\n",
    "# Pad sequences to have the same length\n",
    "max_sequence_length = max(len(seq) for seq in sequences)\n",
    "padded_sequences = pad_sequences(sequences, maxlen=max_sequence_length)\n",
    "\n",
    "# Convert labels to numpy array\n",
    "numerical_labels = np.array(labels)\n",
    "\n",
    "# Split the data into training and testing sets\n",
    "X_train, X_val, y_train, y_val = train_test_split(padded_sequences, numerical_labels, test_size=0.2, random_state=42)\n",
    "\n",
    "# Build the LSTM model\n",
    "model = Sequential()\n",
    "model.add(Embedding(len(tokenizer.word_index) + 1, 128, input_length=max_sequence_length))\n",
    "model.add(LSTM(128, dropout=0.2, recurrent_dropout=0.2))\n",
    "model.add(Dense(3, activation='softmax'))\n",
    "\n",
    "model.compile(loss='categorical_crossentropy', optimizer='adam', metrics=['accuracy'])"
   ]
  },
  {
   "cell_type": "code",
   "execution_count": 16,
   "id": "aad1cc8e-3e0f-49f3-8425-188c4049e215",
   "metadata": {},
   "outputs": [
    {
     "name": "stdout",
     "output_type": "stream",
     "text": [
      "Epoch 1/20\n",
      "4/4 [==============================] - 70s 18s/step - loss: 1.0975 - accuracy: 0.3860 - val_loss: 1.0910 - val_accuracy: 0.4483\n",
      "Epoch 2/20\n",
      "4/4 [==============================] - 70s 18s/step - loss: 1.0875 - accuracy: 0.4474 - val_loss: 1.0824 - val_accuracy: 0.4483\n",
      "Epoch 3/20\n",
      "4/4 [==============================] - 72s 19s/step - loss: 1.0800 - accuracy: 0.4912 - val_loss: 1.0739 - val_accuracy: 0.6207\n",
      "Epoch 4/20\n",
      "4/4 [==============================] - 71s 18s/step - loss: 1.0624 - accuracy: 0.5175 - val_loss: 1.0589 - val_accuracy: 0.6552\n",
      "Epoch 5/20\n",
      "4/4 [==============================] - 73s 19s/step - loss: 1.0352 - accuracy: 0.5000 - val_loss: 1.0295 - val_accuracy: 0.4828\n",
      "Epoch 6/20\n",
      "4/4 [==============================] - 71s 18s/step - loss: 1.0275 - accuracy: 0.4825 - val_loss: 0.9913 - val_accuracy: 0.5172\n",
      "Epoch 7/20\n",
      "4/4 [==============================] - 74s 19s/step - loss: 0.9944 - accuracy: 0.5263 - val_loss: 0.9372 - val_accuracy: 0.5862\n",
      "Epoch 8/20\n",
      "4/4 [==============================] - 73s 19s/step - loss: 0.9578 - accuracy: 0.5175 - val_loss: 0.8490 - val_accuracy: 0.5862\n",
      "Epoch 9/20\n",
      "4/4 [==============================] - 73s 19s/step - loss: 0.9489 - accuracy: 0.5000 - val_loss: 0.8519 - val_accuracy: 0.6897\n",
      "Epoch 10/20\n",
      "4/4 [==============================] - 72s 19s/step - loss: 0.8918 - accuracy: 0.5263 - val_loss: 0.7851 - val_accuracy: 0.6552\n",
      "Epoch 11/20\n",
      "4/4 [==============================] - 72s 19s/step - loss: 0.8437 - accuracy: 0.5965 - val_loss: 0.8357 - val_accuracy: 0.5862\n",
      "Epoch 12/20\n",
      "4/4 [==============================] - 72s 19s/step - loss: 1.1030 - accuracy: 0.5526 - val_loss: 0.9357 - val_accuracy: 0.4828\n",
      "Epoch 13/20\n",
      "4/4 [==============================] - 73s 19s/step - loss: 0.9168 - accuracy: 0.6053 - val_loss: 1.0326 - val_accuracy: 0.5172\n",
      "Epoch 14/20\n",
      "4/4 [==============================] - 73s 19s/step - loss: 0.9673 - accuracy: 0.6053 - val_loss: 1.0406 - val_accuracy: 0.4483\n",
      "Epoch 15/20\n",
      "4/4 [==============================] - 73s 19s/step - loss: 0.9534 - accuracy: 0.6228 - val_loss: 1.0288 - val_accuracy: 0.4483\n",
      "Epoch 16/20\n",
      "4/4 [==============================] - 72s 18s/step - loss: 0.9200 - accuracy: 0.6053 - val_loss: 1.0414 - val_accuracy: 0.5172\n",
      "Epoch 17/20\n",
      "4/4 [==============================] - 75s 19s/step - loss: 0.8690 - accuracy: 0.6228 - val_loss: 1.0015 - val_accuracy: 0.4138\n",
      "Epoch 18/20\n",
      "4/4 [==============================] - 74s 19s/step - loss: 0.8857 - accuracy: 0.6228 - val_loss: 0.9870 - val_accuracy: 0.4138\n",
      "Epoch 19/20\n",
      "4/4 [==============================] - 74s 19s/step - loss: 0.8477 - accuracy: 0.6053 - val_loss: 2.2344 - val_accuracy: 0.4138\n",
      "Epoch 20/20\n",
      "4/4 [==============================] - 80s 20s/step - loss: 1.0463 - accuracy: 0.6579 - val_loss: 0.9634 - val_accuracy: 0.4483\n"
     ]
    }
   ],
   "source": [
    "# Train the model\n",
    "history = model.fit(X_train, y_train, validation_data=(X_val, y_val), epochs=20, batch_size=32)"
   ]
  },
  {
   "cell_type": "code",
   "execution_count": 17,
   "id": "e440b92a-883e-4fe5-b9e0-9a198be4542e",
   "metadata": {},
   "outputs": [
    {
     "name": "stdout",
     "output_type": "stream",
     "text": [
      "1/1 [==============================] - 1s 826ms/step - loss: 0.9634 - accuracy: 0.4483\n",
      "Test loss: 0.96344393491745\n",
      "Test accuracy: 0.4482758641242981\n"
     ]
    }
   ],
   "source": [
    "# Evaluate the model on test data\n",
    "loss, accuracy = model.evaluate(X_val, y_val)\n",
    "print(f'Test loss: {loss}')\n",
    "print(f'Test accuracy: {accuracy}')"
   ]
  },
  {
   "cell_type": "code",
   "execution_count": 18,
   "id": "db5a4e27-4c14-44cd-8b5b-9491615abaa7",
   "metadata": {},
   "outputs": [
    {
     "data": {
      "image/png": "[encoded data removed]",
      "text/plain": [
       "<Figure size 640x480 with 1 Axes>"
      ]
     },
     "metadata": {},
     "output_type": "display_data"
    }
   ],
   "source": [
    "# Extract loss values from the training history\n",
    "train_loss = history.history['loss']\n",
    "val_loss = history.history['val_loss']\n",
    "\n",
    "# Plot the loss values\n",
    "epochs = range(1, len(train_loss) + 1)\n",
    "plt.plot(epochs, train_loss, 'b', label='Training Loss')\n",
    "plt.plot(epochs, val_loss, 'r', label='Validation Loss')\n",
    "plt.title('Training and Validation Loss')\n",
    "plt.xlabel('Epochs')\n",
    "plt.ylabel('Loss')\n",
    "plt.legend()\n",
    "\n",
    "plt.show()"
   ]
  },
  {
   "cell_type": "code",
   "execution_count": 19,
   "id": "bac4565e-035b-45c4-98fc-10515a5553f0",
   "metadata": {},
   "outputs": [],
   "source": [
    "new_texts = X_test['Text'].to_list()"
   ]
  },
  {
   "cell_type": "code",
   "execution_count": 20,
   "id": "b6716a58-5ee1-4264-9d58-4a09e8e04437",
   "metadata": {},
   "outputs": [],
   "source": [
    "new_sequences = tokenizer.texts_to_sequences(new_texts)\n",
    "new_padded_sequences = pad_sequences(new_sequences, maxlen=max_sequence_length)"
   ]
  },
  {
   "cell_type": "code",
   "execution_count": 21,
   "id": "06531e6e-6200-48ab-9df9-04048e8fee40",
   "metadata": {},
   "outputs": [
    {
     "name": "stdout",
     "output_type": "stream",
     "text": [
      "1/1 [==============================] - 1s 854ms/step\n"
     ]
    }
   ],
   "source": [
    "predictions = model.predict(new_padded_sequences)"
   ]
  },
  {
   "cell_type": "code",
   "execution_count": 22,
   "id": "7adf0918-a917-466b-a259-9aa4e0711b92",
   "metadata": {},
   "outputs": [
    {
     "name": "stderr",
     "output_type": "stream",
     "text": [
      "C:\\Users\\ftrav\\anaconda3\\envs\\pytorchenv\\lib\\site-packages\\ipykernel_launcher.py:1: SettingWithCopyWarning: \n",
      "A value is trying to be set on a copy of a slice from a DataFrame.\n",
      "Try using .loc[row_indexer,col_indexer] = value instead\n",
      "\n",
      "See the caveats in the documentation: http://pandas.pydata.org/pandas-docs/stable/indexing.html#indexing-view-versus-copy\n",
      "  \"\"\"Entry point for launching an IPython kernel.\n"
     ]
    }
   ],
   "source": [
    "X_test['Sentiment'] = np.argmax(predictions, axis=1)"
   ]
  },
  {
   "cell_type": "code",
   "execution_count": 23,
   "id": "c2d52cc9-ec14-4974-943c-7d90b2745ad6",
   "metadata": {},
   "outputs": [
    {
     "data": {
      "text/html": [
       "<div>\n",
       "<style scoped>\n",
       "    .dataframe tbody tr th:only-of-type {\n",
       "        vertical-align: middle;\n",
       "    }\n",
       "\n",
       "    .dataframe tbody tr th {\n",
       "        vertical-align: top;\n",
       "    }\n",
       "\n",
       "    .dataframe thead th {\n",
       "        text-align: right;\n",
       "    }\n",
       "</style>\n",
       "<table border=\"1\" class=\"dataframe\">\n",
       "  <thead>\n",
       "    <tr style=\"text-align: right;\">\n",
       "      <th></th>\n",
       "      <th>Date</th>\n",
       "      <th>Selic</th>\n",
       "      <th>Meeting_Number</th>\n",
       "      <th>Decision</th>\n",
       "      <th>Decision_txt</th>\n",
       "      <th>label_hawk_dove</th>\n",
       "      <th>label_next_meet</th>\n",
       "      <th>Text</th>\n",
       "      <th>Type</th>\n",
       "      <th>Sentiment</th>\n",
       "    </tr>\n",
       "  </thead>\n",
       "  <tbody>\n",
       "    <tr>\n",
       "      <th>78</th>\n",
       "      <td>2016/03/02</td>\n",
       "      <td>14.25</td>\n",
       "      <td>197.0</td>\n",
       "      <td>0.00</td>\n",
       "      <td>mantain</td>\n",
       "      <td>neutral</td>\n",
       "      <td>mantain</td>\n",
       "      <td>The Copom released the following note to the ...</td>\n",
       "      <td>Statement</td>\n",
       "      <td>0</td>\n",
       "    </tr>\n",
       "    <tr>\n",
       "      <th>155</th>\n",
       "      <td>2023/03/22</td>\n",
       "      <td>13.75</td>\n",
       "      <td>253.0</td>\n",
       "      <td>0.00</td>\n",
       "      <td>mantain</td>\n",
       "      <td>neutral</td>\n",
       "      <td>mantain</td>\n",
       "      <td>A) Update of economic outlook and Copom’s scen...</td>\n",
       "      <td>Minutes</td>\n",
       "      <td>2</td>\n",
       "    </tr>\n",
       "    <tr>\n",
       "      <th>128</th>\n",
       "      <td>2021/06/16</td>\n",
       "      <td>4.25</td>\n",
       "      <td>239.0</td>\n",
       "      <td>0.75</td>\n",
       "      <td>increase</td>\n",
       "      <td>hawkish</td>\n",
       "      <td>increase</td>\n",
       "      <td>A) Update of economic outlook and Copom’s base...</td>\n",
       "      <td>Minutes</td>\n",
       "      <td>2</td>\n",
       "    </tr>\n",
       "    <tr>\n",
       "      <th>55</th>\n",
       "      <td>2013/04/17</td>\n",
       "      <td>7.50</td>\n",
       "      <td>174.0</td>\n",
       "      <td>0.25</td>\n",
       "      <td>increase</td>\n",
       "      <td>hawkish</td>\n",
       "      <td>increase</td>\n",
       "      <td>The Copom released the following note to the ...</td>\n",
       "      <td>Statement</td>\n",
       "      <td>0</td>\n",
       "    </tr>\n",
       "    <tr>\n",
       "      <th>94</th>\n",
       "      <td>2018/03/21</td>\n",
       "      <td>6.50</td>\n",
       "      <td>213.0</td>\n",
       "      <td>-0.25</td>\n",
       "      <td>decrease</td>\n",
       "      <td>dovish</td>\n",
       "      <td>mantain</td>\n",
       "      <td>The Copom unanimously decided to reduce the Se...</td>\n",
       "      <td>Statement</td>\n",
       "      <td>1</td>\n",
       "    </tr>\n",
       "    <tr>\n",
       "      <th>29</th>\n",
       "      <td>2009/10/21</td>\n",
       "      <td>8.75</td>\n",
       "      <td>146.0</td>\n",
       "      <td>0.00</td>\n",
       "      <td>mantain</td>\n",
       "      <td>neutral</td>\n",
       "      <td>mantain</td>\n",
       "      <td>\\tBrasília - In light of inflation prospect...</td>\n",
       "      <td>Statement</td>\n",
       "      <td>0</td>\n",
       "    </tr>\n",
       "    <tr>\n",
       "      <th>147</th>\n",
       "      <td>2022/09/21</td>\n",
       "      <td>13.75</td>\n",
       "      <td>249.0</td>\n",
       "      <td>0.00</td>\n",
       "      <td>mantain</td>\n",
       "      <td>dovish</td>\n",
       "      <td>mantain</td>\n",
       "      <td>A) Update of economic outlook and Copom’s scen...</td>\n",
       "      <td>Minutes</td>\n",
       "      <td>2</td>\n",
       "    </tr>\n",
       "    <tr>\n",
       "      <th>51</th>\n",
       "      <td>2012/10/10</td>\n",
       "      <td>7.25</td>\n",
       "      <td>170.0</td>\n",
       "      <td>-0.25</td>\n",
       "      <td>decrease</td>\n",
       "      <td>dovish</td>\n",
       "      <td>mantain</td>\n",
       "      <td>The Copom released the following note to the ...</td>\n",
       "      <td>Statement</td>\n",
       "      <td>0</td>\n",
       "    </tr>\n",
       "    <tr>\n",
       "      <th>98</th>\n",
       "      <td>2018/09/19</td>\n",
       "      <td>6.50</td>\n",
       "      <td>217.0</td>\n",
       "      <td>0.00</td>\n",
       "      <td>mantain</td>\n",
       "      <td>neutral</td>\n",
       "      <td>mantain</td>\n",
       "      <td>​The Copom unanimously decided to maintain the...</td>\n",
       "      <td>Statement</td>\n",
       "      <td>2</td>\n",
       "    </tr>\n",
       "    <tr>\n",
       "      <th>141</th>\n",
       "      <td>2022/05/04</td>\n",
       "      <td>12.75</td>\n",
       "      <td>246.0</td>\n",
       "      <td>1.00</td>\n",
       "      <td>increase</td>\n",
       "      <td>hawkish</td>\n",
       "      <td>increase</td>\n",
       "      <td>​In its 246th meeting, the Copom unanimously d...</td>\n",
       "      <td>Statement</td>\n",
       "      <td>0</td>\n",
       "    </tr>\n",
       "    <tr>\n",
       "      <th>19</th>\n",
       "      <td>2008/07/23</td>\n",
       "      <td>13.00</td>\n",
       "      <td>136.0</td>\n",
       "      <td>0.75</td>\n",
       "      <td>increase</td>\n",
       "      <td>hawkish</td>\n",
       "      <td>increase</td>\n",
       "      <td>\\t\"Brasília - Assessing the macroeconomic ou...</td>\n",
       "      <td>Statement</td>\n",
       "      <td>1</td>\n",
       "    </tr>\n",
       "    <tr>\n",
       "      <th>60</th>\n",
       "      <td>2013/11/27</td>\n",
       "      <td>10.00</td>\n",
       "      <td>179.0</td>\n",
       "      <td>0.50</td>\n",
       "      <td>increase</td>\n",
       "      <td>hawkish</td>\n",
       "      <td>increase</td>\n",
       "      <td>The Copom released the following note to the ...</td>\n",
       "      <td>Statement</td>\n",
       "      <td>1</td>\n",
       "    </tr>\n",
       "    <tr>\n",
       "      <th>15</th>\n",
       "      <td>2008/01/23</td>\n",
       "      <td>11.25</td>\n",
       "      <td>132.0</td>\n",
       "      <td>0.00</td>\n",
       "      <td>mantain</td>\n",
       "      <td>neutral</td>\n",
       "      <td>mantain</td>\n",
       "      <td>Assessing the macroeconomic outlook and the p...</td>\n",
       "      <td>Statement</td>\n",
       "      <td>2</td>\n",
       "    </tr>\n",
       "    <tr>\n",
       "      <th>65</th>\n",
       "      <td>2014/07/16</td>\n",
       "      <td>11.00</td>\n",
       "      <td>184.0</td>\n",
       "      <td>0.00</td>\n",
       "      <td>mantain</td>\n",
       "      <td>neutral</td>\n",
       "      <td>mantain</td>\n",
       "      <td>The Copom released the following note to the ...</td>\n",
       "      <td>Statement</td>\n",
       "      <td>0</td>\n",
       "    </tr>\n",
       "    <tr>\n",
       "      <th>24</th>\n",
       "      <td>2009/03/11</td>\n",
       "      <td>11.25</td>\n",
       "      <td>141.0</td>\n",
       "      <td>-1.50</td>\n",
       "      <td>decrease</td>\n",
       "      <td>dovish</td>\n",
       "      <td>decrease</td>\n",
       "      <td>\\t\"Brasília - Assessing the macroeconomic o...</td>\n",
       "      <td>Statement</td>\n",
       "      <td>0</td>\n",
       "    </tr>\n",
       "    <tr>\n",
       "      <th>30</th>\n",
       "      <td>2009/12/09</td>\n",
       "      <td>8.75</td>\n",
       "      <td>147.0</td>\n",
       "      <td>0.00</td>\n",
       "      <td>mantain</td>\n",
       "      <td>neutral</td>\n",
       "      <td>mantain</td>\n",
       "      <td>\\tBrasília - In light of inflation prospects...</td>\n",
       "      <td>Statement</td>\n",
       "      <td>0</td>\n",
       "    </tr>\n",
       "  </tbody>\n",
       "</table>\n",
       "</div>"
      ],
      "text/plain": [
       "           Date  Selic  Meeting_Number  Decision Decision_txt label_hawk_dove  \\\n",
       "78   2016/03/02  14.25           197.0      0.00      mantain         neutral   \n",
       "155  2023/03/22  13.75           253.0      0.00      mantain         neutral   \n",
       "128  2021/06/16   4.25           239.0      0.75     increase         hawkish   \n",
       "55   2013/04/17   7.50           174.0      0.25     increase         hawkish   \n",
       "94   2018/03/21   6.50           213.0     -0.25     decrease          dovish   \n",
       "29   2009/10/21   8.75           146.0      0.00      mantain         neutral   \n",
       "147  2022/09/21  13.75           249.0      0.00      mantain          dovish   \n",
       "51   2012/10/10   7.25           170.0     -0.25     decrease          dovish   \n",
       "98   2018/09/19   6.50           217.0      0.00      mantain         neutral   \n",
       "141  2022/05/04  12.75           246.0      1.00     increase         hawkish   \n",
       "19   2008/07/23  13.00           136.0      0.75     increase         hawkish   \n",
       "60   2013/11/27  10.00           179.0      0.50     increase         hawkish   \n",
       "15   2008/01/23  11.25           132.0      0.00      mantain         neutral   \n",
       "65   2014/07/16  11.00           184.0      0.00      mantain         neutral   \n",
       "24   2009/03/11  11.25           141.0     -1.50     decrease          dovish   \n",
       "30   2009/12/09   8.75           147.0      0.00      mantain         neutral   \n",
       "\n",
       "    label_next_meet                                               Text  \\\n",
       "78          mantain   The Copom released the following note to the ...   \n",
       "155         mantain  A) Update of economic outlook and Copom’s scen...   \n",
       "128        increase  A) Update of economic outlook and Copom’s base...   \n",
       "55         increase   The Copom released the following note to the ...   \n",
       "94          mantain  The Copom unanimously decided to reduce the Se...   \n",
       "29          mantain     \\tBrasília - In light of inflation prospect...   \n",
       "147         mantain  A) Update of economic outlook and Copom’s scen...   \n",
       "51          mantain   The Copom released the following note to the ...   \n",
       "98          mantain  ​The Copom unanimously decided to maintain the...   \n",
       "141        increase  ​In its 246th meeting, the Copom unanimously d...   \n",
       "19         increase    \\t\"Brasília - Assessing the macroeconomic ou...   \n",
       "60         increase   The Copom released the following note to the ...   \n",
       "15          mantain   Assessing the macroeconomic outlook and the p...   \n",
       "65          mantain   The Copom released the following note to the ...   \n",
       "24         decrease     \\t\"Brasília - Assessing the macroeconomic o...   \n",
       "30          mantain    \\tBrasília - In light of inflation prospects...   \n",
       "\n",
       "          Type  Sentiment  \n",
       "78   Statement          0  \n",
       "155    Minutes          2  \n",
       "128    Minutes          2  \n",
       "55   Statement          0  \n",
       "94   Statement          1  \n",
       "29   Statement          0  \n",
       "147    Minutes          2  \n",
       "51   Statement          0  \n",
       "98   Statement          2  \n",
       "141  Statement          0  \n",
       "19   Statement          1  \n",
       "60   Statement          1  \n",
       "15   Statement          2  \n",
       "65   Statement          0  \n",
       "24   Statement          0  \n",
       "30   Statement          0  "
      ]
     },
     "execution_count": 23,
     "metadata": {},
     "output_type": "execute_result"
    }
   ],
   "source": [
    "X_test"
   ]
  },
  {
   "cell_type": "code",
   "execution_count": null,
   "id": "cefd67cf-adfb-4d98-8b9b-780799bce7fa",
   "metadata": {},
   "outputs": [],
   "source": []
  }
 ],
 "metadata": {
  "kernelspec": {
   "display_name": "Python 3 (ipykernel)",
   "language": "python",
   "name": "python3"
  },
  "language_info": {
   "codemirror_mode": {
    "name": "ipython",
    "version": 3
   },
   "file_extension": ".py",
   "mimetype": "text/x-python",
   "name": "python",
   "nbconvert_exporter": "python",
   "pygments_lexer": "ipython3",
   "version": "3.7.16"
  }
 },
 "nbformat": 4,
 "nbformat_minor": 5
}

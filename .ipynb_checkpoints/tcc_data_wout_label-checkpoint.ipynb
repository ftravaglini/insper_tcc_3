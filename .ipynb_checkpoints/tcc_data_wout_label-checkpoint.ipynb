{
 "cells": [
  {
   "cell_type": "markdown",
   "id": "0be5e8ee-9b71-4a32-85a5-06fd872202e1",
   "metadata": {},
   "source": [
    "# Tratamento de dados"
   ]
  },
  {
   "cell_type": "code",
   "execution_count": 1,
   "id": "1a8c7a6a-4bed-4912-a47f-5fa2294965bb",
   "metadata": {},
   "outputs": [],
   "source": [
    "import os\n",
    "import re\n",
    "import numpy as np\n",
    "import pandas as pd\n",
    "from bs4 import BeautifulSoup\n",
    "from datetime import datetime"
   ]
  },
  {
   "cell_type": "markdown",
   "id": "3b433c6e-1f16-4840-8a7f-f5c524aafde4",
   "metadata": {},
   "source": [
    "### Statements"
   ]
  },
  {
   "cell_type": "code",
   "execution_count": 2,
   "id": "50d847a1-47a6-4a94-880f-e1aa67fefe5c",
   "metadata": {},
   "outputs": [],
   "source": [
    "df_statements = pd.read_csv('statements.csv')"
   ]
  },
  {
   "cell_type": "code",
   "execution_count": 3,
   "id": "8cbb4134-eb4a-4b68-b8b6-cbba2e28f69a",
   "metadata": {},
   "outputs": [],
   "source": [
    "df_statements['Type'] = 'Statement'\n",
    "df_statements[\"Date\"] = df_statements[\"Data\"].apply(pd.to_datetime, format='%Y-%m-%d %H:%M:%S.%f').dt.strftime('%Y/%m/%d')\n",
    "df_statements.drop(['Data', 'Id', 'Titulo', 'DataAtualizacao', 'mostrarCabecalho', 'mostrarRodape'], axis=1, inplace=True)"
   ]
  },
  {
   "cell_type": "code",
   "execution_count": 4,
   "id": "e35a2fa6-958a-4300-8805-c3f2db94aa0b",
   "metadata": {},
   "outputs": [],
   "source": [
    "df_statements.rename(columns={'Conteudo': 'Text'}, inplace=True)\n",
    "df_statements.sort_values('Date', inplace=True)\n",
    "df_statements.set_index('Date', inplace=True)"
   ]
  },
  {
   "cell_type": "code",
   "execution_count": 5,
   "id": "cee3ef06-d029-4106-9b69-ffd88a597028",
   "metadata": {},
   "outputs": [],
   "source": [
    "df_statements['Text'] = df_statements['Text'].apply(lambda x: BeautifulSoup(x, features=\"html.parser\").get_text())"
   ]
  },
  {
   "cell_type": "code",
   "execution_count": 6,
   "id": "6156d086-df51-4575-a6b9-64990d52a1ba",
   "metadata": {},
   "outputs": [
    {
     "data": {
      "text/html": [
       "<div>\n",
       "<style scoped>\n",
       "    .dataframe tbody tr th:only-of-type {\n",
       "        vertical-align: middle;\n",
       "    }\n",
       "\n",
       "    .dataframe tbody tr th {\n",
       "        vertical-align: top;\n",
       "    }\n",
       "\n",
       "    .dataframe thead th {\n",
       "        text-align: right;\n",
       "    }\n",
       "</style>\n",
       "<table border=\"1\" class=\"dataframe\">\n",
       "  <thead>\n",
       "    <tr style=\"text-align: right;\">\n",
       "      <th></th>\n",
       "      <th>Text</th>\n",
       "      <th>Type</th>\n",
       "    </tr>\n",
       "    <tr>\n",
       "      <th>Date</th>\n",
       "      <th></th>\n",
       "      <th></th>\n",
       "    </tr>\n",
       "  </thead>\n",
       "  <tbody>\n",
       "    <tr>\n",
       "      <th>2006/03/08</th>\n",
       "      <td>In the March Meeting, the Banco Central do Br...</td>\n",
       "      <td>Statement</td>\n",
       "    </tr>\n",
       "    <tr>\n",
       "      <th>2006/04/19</th>\n",
       "      <td>In the April Meeting, the Monetary Policy Com...</td>\n",
       "      <td>Statement</td>\n",
       "    </tr>\n",
       "    <tr>\n",
       "      <th>2006/05/31</th>\n",
       "      <td>In the May Meeting, the Monetary Policy Commi...</td>\n",
       "      <td>Statement</td>\n",
       "    </tr>\n",
       "    <tr>\n",
       "      <th>2006/07/19</th>\n",
       "      <td>In the July Meeting, the Copom unanimously de...</td>\n",
       "      <td>Statement</td>\n",
       "    </tr>\n",
       "    <tr>\n",
       "      <th>2006/08/30</th>\n",
       "      <td>In the August Meeting, the Copom unanimously ...</td>\n",
       "      <td>Statement</td>\n",
       "    </tr>\n",
       "  </tbody>\n",
       "</table>\n",
       "</div>"
      ],
      "text/plain": [
       "                                                         Text       Type\n",
       "Date                                                                    \n",
       "2006/03/08   In the March Meeting, the Banco Central do Br...  Statement\n",
       "2006/04/19   In the April Meeting, the Monetary Policy Com...  Statement\n",
       "2006/05/31   In the May Meeting, the Monetary Policy Commi...  Statement\n",
       "2006/07/19   In the July Meeting, the Copom unanimously de...  Statement\n",
       "2006/08/30   In the August Meeting, the Copom unanimously ...  Statement"
      ]
     },
     "execution_count": 6,
     "metadata": {},
     "output_type": "execute_result"
    }
   ],
   "source": [
    "df_statements.head(5)"
   ]
  },
  {
   "cell_type": "markdown",
   "id": "54370f15-cb36-45fb-b5e1-de1d85eea8a1",
   "metadata": {},
   "source": [
    "### Minutes"
   ]
  },
  {
   "cell_type": "code",
   "execution_count": 7,
   "id": "87cbc3c4-bb14-4bcb-b009-16b5ac68c659",
   "metadata": {},
   "outputs": [],
   "source": [
    "df_minutes = pd.read_csv('minutes.csv')"
   ]
  },
  {
   "cell_type": "code",
   "execution_count": 8,
   "id": "05b7581a-0a86-4a28-9567-88ce4c8385b9",
   "metadata": {},
   "outputs": [],
   "source": [
    "df_minutes['Type'] = 'Minutes'\n",
    "df_minutes[\"Minutes_Date\"] = df_minutes[\"data\"].apply(pd.to_datetime).dt.strftime('%Y/%m/%d')\n",
    "df_minutes[\"Date\"] = df_minutes[\"DataReferencia\"].apply(pd.to_datetime).dt.strftime('%Y/%m/%d')"
   ]
  },
  {
   "cell_type": "code",
   "execution_count": 9,
   "id": "08dbaf1e-90c6-415f-95b9-99e8f19e3fb1",
   "metadata": {},
   "outputs": [],
   "source": [
    "df_minutes.drop(['data', 'DataReferencia', 'BoxDestaque', 'Edicao', 'EsconderCapa', \n",
    "                 'EsconderDataReferencia', 'Grafico', 'Id', \n",
    "                 'ImagemCapa', 'ImagemCapa', 'LinkPagina', 'Url',\n",
    "                 'Volume', 'Volume', 'Introducao', 'conteudo', 'Titulo'], axis=1, inplace=True)"
   ]
  },
  {
   "cell_type": "code",
   "execution_count": 10,
   "id": "49a987ba-ea8d-4ccb-a0ee-5afbb12f9514",
   "metadata": {},
   "outputs": [],
   "source": [
    "df_minutes.drop(['Minutes_Date'], axis=1, inplace=True)"
   ]
  },
  {
   "cell_type": "code",
   "execution_count": 11,
   "id": "5f4ce9b1-1045-4544-8fd4-bd8b88f0e4ef",
   "metadata": {},
   "outputs": [],
   "source": [
    "df_minutes.rename(columns={'data': 'Date', 'DataReferencia': 'Meeting_Date', 'OutrasInformacoes': 'Text'}, inplace=True)\n",
    "df_minutes.sort_values('Date', inplace=True)\n",
    "df_minutes.set_index('Date', inplace=True)"
   ]
  },
  {
   "cell_type": "code",
   "execution_count": 12,
   "id": "21e55b3c-5b62-47c2-875c-4cb3410d526b",
   "metadata": {},
   "outputs": [],
   "source": [
    "df_minutes = df_minutes[df_minutes['Text'].notna()]"
   ]
  },
  {
   "cell_type": "code",
   "execution_count": 13,
   "id": "3a2d1298-b907-400a-a662-8192ce8ddad3",
   "metadata": {},
   "outputs": [],
   "source": [
    "df_minutes['Text'] = df_minutes['Text'].apply(lambda x: BeautifulSoup(x, features=\"html.parser\").get_text())"
   ]
  },
  {
   "cell_type": "code",
   "execution_count": 14,
   "id": "817aef6b-f40f-45e1-8c9c-6f13e731874c",
   "metadata": {},
   "outputs": [
    {
     "data": {
      "text/html": [
       "<div>\n",
       "<style scoped>\n",
       "    .dataframe tbody tr th:only-of-type {\n",
       "        vertical-align: middle;\n",
       "    }\n",
       "\n",
       "    .dataframe tbody tr th {\n",
       "        vertical-align: top;\n",
       "    }\n",
       "\n",
       "    .dataframe thead th {\n",
       "        text-align: right;\n",
       "    }\n",
       "</style>\n",
       "<table border=\"1\" class=\"dataframe\">\n",
       "  <thead>\n",
       "    <tr style=\"text-align: right;\">\n",
       "      <th></th>\n",
       "      <th>Text</th>\n",
       "      <th>Type</th>\n",
       "    </tr>\n",
       "    <tr>\n",
       "      <th>Date</th>\n",
       "      <th></th>\n",
       "      <th></th>\n",
       "    </tr>\n",
       "  </thead>\n",
       "  <tbody>\n",
       "    <tr>\n",
       "      <th>2020/08/05</th>\n",
       "      <td>1. Regarding the global outlook, the Covid-19 ...</td>\n",
       "      <td>Minutes</td>\n",
       "    </tr>\n",
       "    <tr>\n",
       "      <th>2020/09/16</th>\n",
       "      <td>A) Update of economic outlook and Copom’s base...</td>\n",
       "      <td>Minutes</td>\n",
       "    </tr>\n",
       "    <tr>\n",
       "      <th>2020/10/28</th>\n",
       "      <td>A) Update of economic outlook and Copom’s base...</td>\n",
       "      <td>Minutes</td>\n",
       "    </tr>\n",
       "    <tr>\n",
       "      <th>2020/12/09</th>\n",
       "      <td>A) Update of economic outlook and Copom’s base...</td>\n",
       "      <td>Minutes</td>\n",
       "    </tr>\n",
       "    <tr>\n",
       "      <th>2021/01/20</th>\n",
       "      <td>A) Update of economic outlook and Copom’s base...</td>\n",
       "      <td>Minutes</td>\n",
       "    </tr>\n",
       "  </tbody>\n",
       "</table>\n",
       "</div>"
      ],
      "text/plain": [
       "                                                         Text     Type\n",
       "Date                                                                  \n",
       "2020/08/05  1. Regarding the global outlook, the Covid-19 ...  Minutes\n",
       "2020/09/16  A) Update of economic outlook and Copom’s base...  Minutes\n",
       "2020/10/28  A) Update of economic outlook and Copom’s base...  Minutes\n",
       "2020/12/09  A) Update of economic outlook and Copom’s base...  Minutes\n",
       "2021/01/20  A) Update of economic outlook and Copom’s base...  Minutes"
      ]
     },
     "execution_count": 14,
     "metadata": {},
     "output_type": "execute_result"
    }
   ],
   "source": [
    "df_minutes.head(5)"
   ]
  },
  {
   "cell_type": "markdown",
   "id": "cb9a6448-c5a7-4cd7-a45e-2268f47acd43",
   "metadata": {},
   "source": [
    "### Decisions"
   ]
  },
  {
   "cell_type": "code",
   "execution_count": 15,
   "id": "68086b54-b883-42ce-94aa-cc683d74efcc",
   "metadata": {},
   "outputs": [],
   "source": [
    "df_decisions = pd.read_csv('decisions.csv')"
   ]
  },
  {
   "cell_type": "code",
   "execution_count": 16,
   "id": "7cf1b59f-708d-4416-8b25-6bc390d80cc3",
   "metadata": {
    "tags": []
   },
   "outputs": [],
   "source": [
    "df_decisions.drop(['DataFimVigencia', 'DataInicioVigencia', 'TaxaSelicEfetivaAnualizada',\n",
    "                 'TaxaSelicEfetivaVigencia', 'TaxaTban', 'UsoMetaSelic', 'ReuniaoExtraordinaria',\n",
    "                 'Vies'], axis=1, inplace=True)"
   ]
  },
  {
   "cell_type": "code",
   "execution_count": 17,
   "id": "058bd11a-6a9b-4ce2-97ac-82bcef70c582",
   "metadata": {},
   "outputs": [],
   "source": [
    "df_decisions[\"DataReuniaoCopom\"] = df_decisions[\"DataReuniaoCopom\"].apply(pd.to_datetime).dt.strftime('%Y/%m/%d')"
   ]
  },
  {
   "cell_type": "code",
   "execution_count": 18,
   "id": "5c857bf3-38f4-4cbb-a33f-9d6c0e8e1356",
   "metadata": {},
   "outputs": [],
   "source": [
    "df_decisions.rename(columns={'DataReuniaoCopom': 'Date', \n",
    "                             'MetaSelic': 'Selic', \n",
    "                             'NumeroReuniaoCopom': 'Meeting_Number'\n",
    "                            }, inplace=True)"
   ]
  },
  {
   "cell_type": "code",
   "execution_count": 19,
   "id": "9995bbdf-4638-4d10-9272-e50eb32f96ab",
   "metadata": {},
   "outputs": [],
   "source": [
    "df_decisions = df_decisions[df_decisions['Date'] != 'NaT']"
   ]
  },
  {
   "cell_type": "code",
   "execution_count": 20,
   "id": "f0aae92a-20f1-438f-b6c6-a4ebe5e7e77f",
   "metadata": {},
   "outputs": [],
   "source": [
    "df_decisions.sort_values('Date', inplace=True)\n",
    "df_decisions.set_index('Date', inplace=True)"
   ]
  },
  {
   "cell_type": "code",
   "execution_count": 21,
   "id": "728ca4b1-0afa-48fe-9598-e233ddd5c133",
   "metadata": {},
   "outputs": [],
   "source": [
    "i = 0\n",
    "df_decisions['Decision'] = np.nan\n",
    "df_decisions['Decision_txt'] = ''"
   ]
  },
  {
   "cell_type": "code",
   "execution_count": 22,
   "id": "57d08d87-2e29-40c6-b67f-61c0c9dcadde",
   "metadata": {},
   "outputs": [
    {
     "name": "stderr",
     "output_type": "stream",
     "text": [
      "C:\\Users\\ftrav\\anaconda3\\envs\\pytorchenv\\lib\\site-packages\\pandas\\core\\indexing.py:190: SettingWithCopyWarning: \n",
      "A value is trying to be set on a copy of a slice from a DataFrame\n",
      "\n",
      "See the caveats in the documentation: http://pandas.pydata.org/pandas-docs/stable/indexing.html#indexing-view-versus-copy\n",
      "  self._setitem_with_indexer(indexer, value)\n"
     ]
    }
   ],
   "source": [
    "for i in range(len(df_decisions)-1):\n",
    "    df_decisions['Decision'].iloc[i+1] = df_decisions['Selic'].iloc[i+1]-df_decisions['Selic'].iloc[i]"
   ]
  },
  {
   "cell_type": "code",
   "execution_count": 23,
   "id": "cd83f6b1-dc8f-4cb1-a956-ecf717090dd2",
   "metadata": {},
   "outputs": [],
   "source": [
    "def decision_txt(num):\n",
    "    if num == 0:\n",
    "        return 'mantain'\n",
    "    elif num >= 0:\n",
    "        return 'increase'\n",
    "    elif num <= 0:\n",
    "        return 'decrease'\n",
    "    else:\n",
    "        return ''"
   ]
  },
  {
   "cell_type": "code",
   "execution_count": 24,
   "id": "94d90b00-90bc-4367-8236-f8f607e693a6",
   "metadata": {},
   "outputs": [],
   "source": [
    "for i in range(len(df_decisions)-1):\n",
    "    df_decisions['Decision_txt'].iloc[i+1] = decision_txt(df_decisions['Decision'].iloc[i+1])"
   ]
  },
  {
   "cell_type": "markdown",
   "id": "209d119e-b3d4-4834-8e8a-4e0ec30e7135",
   "metadata": {},
   "source": [
    "### Merge columns"
   ]
  },
  {
   "cell_type": "code",
   "execution_count": 26,
   "id": "a9f5c038-959b-4c41-9ff4-de3c6021c567",
   "metadata": {},
   "outputs": [],
   "source": [
    "df1 = pd.merge(df_statements, df_minutes, how=\"outer\", on=['Date', 'Text', 'Type'])"
   ]
  },
  {
   "cell_type": "code",
   "execution_count": 27,
   "id": "02a9ad1f-1eea-4ba7-9315-921baee20805",
   "metadata": {},
   "outputs": [],
   "source": [
    "df1.sort_values('Date', inplace=True)"
   ]
  },
  {
   "cell_type": "code",
   "execution_count": 29,
   "id": "4b0c7abd-dda7-4403-9ed0-634b74b7567a",
   "metadata": {},
   "outputs": [],
   "source": [
    "df = pd.merge(df_decisions, df1, how=\"outer\", on=['Date'])"
   ]
  },
  {
   "cell_type": "code",
   "execution_count": 32,
   "id": "b91127fb-009a-4dce-8833-f02e2ecc3d67",
   "metadata": {},
   "outputs": [],
   "source": [
    "df = df[df['Selic'].notna()]"
   ]
  },
  {
   "cell_type": "code",
   "execution_count": 33,
   "id": "3eee5f88-5a4c-4579-8c64-c34c308a58ef",
   "metadata": {},
   "outputs": [],
   "source": [
    "df = df[df['Text'].notna()]"
   ]
  },
  {
   "cell_type": "code",
   "execution_count": 35,
   "id": "81baadcd-6a7f-48c0-bdf9-34d084e8d042",
   "metadata": {},
   "outputs": [
    {
     "data": {
      "text/html": [
       "<div>\n",
       "<style scoped>\n",
       "    .dataframe tbody tr th:only-of-type {\n",
       "        vertical-align: middle;\n",
       "    }\n",
       "\n",
       "    .dataframe tbody tr th {\n",
       "        vertical-align: top;\n",
       "    }\n",
       "\n",
       "    .dataframe thead th {\n",
       "        text-align: right;\n",
       "    }\n",
       "</style>\n",
       "<table border=\"1\" class=\"dataframe\">\n",
       "  <thead>\n",
       "    <tr style=\"text-align: right;\">\n",
       "      <th></th>\n",
       "      <th>Selic</th>\n",
       "      <th>Meeting_Number</th>\n",
       "      <th>Decision</th>\n",
       "      <th>Decision_txt</th>\n",
       "      <th>Text</th>\n",
       "      <th>Type</th>\n",
       "    </tr>\n",
       "    <tr>\n",
       "      <th>Date</th>\n",
       "      <th></th>\n",
       "      <th></th>\n",
       "      <th></th>\n",
       "      <th></th>\n",
       "      <th></th>\n",
       "      <th></th>\n",
       "    </tr>\n",
       "  </thead>\n",
       "  <tbody>\n",
       "    <tr>\n",
       "      <th>2006/03/08</th>\n",
       "      <td>16.50</td>\n",
       "      <td>117.0</td>\n",
       "      <td>-0.75</td>\n",
       "      <td>decrease</td>\n",
       "      <td>In the March Meeting, the Banco Central do Br...</td>\n",
       "      <td>Statement</td>\n",
       "    </tr>\n",
       "    <tr>\n",
       "      <th>2006/04/19</th>\n",
       "      <td>15.75</td>\n",
       "      <td>118.0</td>\n",
       "      <td>-0.75</td>\n",
       "      <td>decrease</td>\n",
       "      <td>In the April Meeting, the Monetary Policy Com...</td>\n",
       "      <td>Statement</td>\n",
       "    </tr>\n",
       "    <tr>\n",
       "      <th>2006/05/31</th>\n",
       "      <td>15.25</td>\n",
       "      <td>119.0</td>\n",
       "      <td>-0.50</td>\n",
       "      <td>decrease</td>\n",
       "      <td>In the May Meeting, the Monetary Policy Commi...</td>\n",
       "      <td>Statement</td>\n",
       "    </tr>\n",
       "    <tr>\n",
       "      <th>2006/07/19</th>\n",
       "      <td>14.75</td>\n",
       "      <td>120.0</td>\n",
       "      <td>-0.50</td>\n",
       "      <td>decrease</td>\n",
       "      <td>In the July Meeting, the Copom unanimously de...</td>\n",
       "      <td>Statement</td>\n",
       "    </tr>\n",
       "    <tr>\n",
       "      <th>2006/08/30</th>\n",
       "      <td>14.25</td>\n",
       "      <td>121.0</td>\n",
       "      <td>-0.50</td>\n",
       "      <td>decrease</td>\n",
       "      <td>In the August Meeting, the Copom unanimously ...</td>\n",
       "      <td>Statement</td>\n",
       "    </tr>\n",
       "  </tbody>\n",
       "</table>\n",
       "</div>"
      ],
      "text/plain": [
       "            Selic  Meeting_Number  Decision Decision_txt  \\\n",
       "Date                                                       \n",
       "2006/03/08  16.50           117.0     -0.75     decrease   \n",
       "2006/04/19  15.75           118.0     -0.75     decrease   \n",
       "2006/05/31  15.25           119.0     -0.50     decrease   \n",
       "2006/07/19  14.75           120.0     -0.50     decrease   \n",
       "2006/08/30  14.25           121.0     -0.50     decrease   \n",
       "\n",
       "                                                         Text       Type  \n",
       "Date                                                                      \n",
       "2006/03/08   In the March Meeting, the Banco Central do Br...  Statement  \n",
       "2006/04/19   In the April Meeting, the Monetary Policy Com...  Statement  \n",
       "2006/05/31   In the May Meeting, the Monetary Policy Commi...  Statement  \n",
       "2006/07/19   In the July Meeting, the Copom unanimously de...  Statement  \n",
       "2006/08/30   In the August Meeting, the Copom unanimously ...  Statement  "
      ]
     },
     "execution_count": 35,
     "metadata": {},
     "output_type": "execute_result"
    }
   ],
   "source": [
    "df.head()"
   ]
  },
  {
   "cell_type": "code",
   "execution_count": 36,
   "id": "65383dca-081c-4923-a6a7-783c96b524a8",
   "metadata": {},
   "outputs": [],
   "source": [
    "df.to_csv('df_copom.csv', index=True)"
   ]
  },
  {
   "cell_type": "code",
   "execution_count": null,
   "id": "6514ad47-9339-480f-ab46-c8547ebf8ee4",
   "metadata": {},
   "outputs": [],
   "source": []
  }
 ],
 "metadata": {
  "kernelspec": {
   "display_name": "Python 3 (ipykernel)",
   "language": "python",
   "name": "python3"
  },
  "language_info": {
   "codemirror_mode": {
    "name": "ipython",
    "version": 3
   },
   "file_extension": ".py",
   "mimetype": "text/x-python",
   "name": "python",
   "nbconvert_exporter": "python",
   "pygments_lexer": "ipython3",
   "version": "3.7.3"
  }
 },
 "nbformat": 4,
 "nbformat_minor": 5
}

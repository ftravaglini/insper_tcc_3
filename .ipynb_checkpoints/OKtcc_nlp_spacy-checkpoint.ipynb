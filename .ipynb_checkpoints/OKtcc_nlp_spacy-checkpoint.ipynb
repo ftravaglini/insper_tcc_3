{
 "cells": [
  {
   "cell_type": "markdown",
   "id": "0be5e8ee-9b71-4a32-85a5-06fd872202e1",
   "metadata": {},
   "source": [
    "# NPL dados - Word2vec w/ Spacy"
   ]
  },
  {
   "cell_type": "code",
   "execution_count": 3,
   "id": "1a8c7a6a-4bed-4912-a47f-5fa2294965bb",
   "metadata": {},
   "outputs": [],
   "source": [
    "import numpy as np\n",
    "import pandas as pd"
   ]
  },
  {
   "cell_type": "markdown",
   "id": "3b433c6e-1f16-4840-8a7f-f5c524aafde4",
   "metadata": {},
   "source": [
    "### NLP"
   ]
  },
  {
   "cell_type": "code",
   "execution_count": 4,
   "id": "50d847a1-47a6-4a94-880f-e1aa67fefe5c",
   "metadata": {},
   "outputs": [],
   "source": [
    "df_copom = pd.read_csv('df_copom.csv')"
   ]
  },
  {
   "cell_type": "code",
   "execution_count": 5,
   "id": "6156d086-df51-4575-a6b9-64990d52a1ba",
   "metadata": {},
   "outputs": [
    {
     "data": {
      "text/html": [
       "<div>\n",
       "<style scoped>\n",
       "    .dataframe tbody tr th:only-of-type {\n",
       "        vertical-align: middle;\n",
       "    }\n",
       "\n",
       "    .dataframe tbody tr th {\n",
       "        vertical-align: top;\n",
       "    }\n",
       "\n",
       "    .dataframe thead th {\n",
       "        text-align: right;\n",
       "    }\n",
       "</style>\n",
       "<table border=\"1\" class=\"dataframe\">\n",
       "  <thead>\n",
       "    <tr style=\"text-align: right;\">\n",
       "      <th></th>\n",
       "      <th>Date</th>\n",
       "      <th>Selic</th>\n",
       "      <th>Meeting_Number</th>\n",
       "      <th>Decision</th>\n",
       "      <th>Decision_txt</th>\n",
       "      <th>Text</th>\n",
       "      <th>Type</th>\n",
       "    </tr>\n",
       "  </thead>\n",
       "  <tbody>\n",
       "    <tr>\n",
       "      <th>0</th>\n",
       "      <td>2006/03/08</td>\n",
       "      <td>16.50</td>\n",
       "      <td>117.0</td>\n",
       "      <td>-0.75</td>\n",
       "      <td>decrease</td>\n",
       "      <td>In the March Meeting, the Banco Central do Br...</td>\n",
       "      <td>Statement</td>\n",
       "    </tr>\n",
       "    <tr>\n",
       "      <th>1</th>\n",
       "      <td>2006/04/19</td>\n",
       "      <td>15.75</td>\n",
       "      <td>118.0</td>\n",
       "      <td>-0.75</td>\n",
       "      <td>decrease</td>\n",
       "      <td>In the April Meeting, the Monetary Policy Com...</td>\n",
       "      <td>Statement</td>\n",
       "    </tr>\n",
       "    <tr>\n",
       "      <th>2</th>\n",
       "      <td>2006/05/31</td>\n",
       "      <td>15.25</td>\n",
       "      <td>119.0</td>\n",
       "      <td>-0.50</td>\n",
       "      <td>decrease</td>\n",
       "      <td>In the May Meeting, the Monetary Policy Commi...</td>\n",
       "      <td>Statement</td>\n",
       "    </tr>\n",
       "    <tr>\n",
       "      <th>3</th>\n",
       "      <td>2006/07/19</td>\n",
       "      <td>14.75</td>\n",
       "      <td>120.0</td>\n",
       "      <td>-0.50</td>\n",
       "      <td>decrease</td>\n",
       "      <td>In the July Meeting, the Copom unanimously de...</td>\n",
       "      <td>Statement</td>\n",
       "    </tr>\n",
       "    <tr>\n",
       "      <th>4</th>\n",
       "      <td>2006/08/30</td>\n",
       "      <td>14.25</td>\n",
       "      <td>121.0</td>\n",
       "      <td>-0.50</td>\n",
       "      <td>decrease</td>\n",
       "      <td>In the August Meeting, the Copom unanimously ...</td>\n",
       "      <td>Statement</td>\n",
       "    </tr>\n",
       "  </tbody>\n",
       "</table>\n",
       "</div>"
      ],
      "text/plain": [
       "         Date  Selic  Meeting_Number  Decision Decision_txt  \\\n",
       "0  2006/03/08  16.50           117.0     -0.75     decrease   \n",
       "1  2006/04/19  15.75           118.0     -0.75     decrease   \n",
       "2  2006/05/31  15.25           119.0     -0.50     decrease   \n",
       "3  2006/07/19  14.75           120.0     -0.50     decrease   \n",
       "4  2006/08/30  14.25           121.0     -0.50     decrease   \n",
       "\n",
       "                                                Text       Type  \n",
       "0   In the March Meeting, the Banco Central do Br...  Statement  \n",
       "1   In the April Meeting, the Monetary Policy Com...  Statement  \n",
       "2   In the May Meeting, the Monetary Policy Commi...  Statement  \n",
       "3   In the July Meeting, the Copom unanimously de...  Statement  \n",
       "4   In the August Meeting, the Copom unanimously ...  Statement  "
      ]
     },
     "execution_count": 5,
     "metadata": {},
     "output_type": "execute_result"
    }
   ],
   "source": [
    "df_copom.head(5)"
   ]
  },
  {
   "cell_type": "code",
   "execution_count": 6,
   "id": "ea23dc46-d645-4dde-bebb-29804c21a48a",
   "metadata": {},
   "outputs": [
    {
     "data": {
      "text/plain": [
       "(159, 7)"
      ]
     },
     "execution_count": 6,
     "metadata": {},
     "output_type": "execute_result"
    }
   ],
   "source": [
    "df_copom.shape"
   ]
  },
  {
   "cell_type": "markdown",
   "id": "76534c89-6b89-4888-b27b-3554e7aabcf9",
   "metadata": {},
   "source": [
    "# Spacy"
   ]
  },
  {
   "cell_type": "code",
   "execution_count": 7,
   "id": "9e5ba9f6-ad19-4086-a6f8-8fa24b5acb64",
   "metadata": {},
   "outputs": [],
   "source": [
    "import spacy\n",
    "nlp = spacy.load('en_core_web_lg')"
   ]
  },
  {
   "cell_type": "code",
   "execution_count": 8,
   "id": "4975384f-3212-4641-8dcb-be1ab46b8f62",
   "metadata": {},
   "outputs": [
    {
     "data": {
      "text/plain": [
       "(684831, 300)"
      ]
     },
     "execution_count": 8,
     "metadata": {},
     "output_type": "execute_result"
    }
   ],
   "source": [
    "nlp.vocab.vectors.shape"
   ]
  },
  {
   "cell_type": "code",
   "execution_count": 9,
   "id": "5a293877-3604-48d3-91ee-5139d1478367",
   "metadata": {},
   "outputs": [],
   "source": [
    "doc = nlp(u'Fomc Fed Copom Selic Banco Central do Brasil')"
   ]
  },
  {
   "cell_type": "code",
   "execution_count": 10,
   "id": "5107c58d-717f-40e1-873f-8218667a2c43",
   "metadata": {},
   "outputs": [
    {
     "name": "stdout",
     "output_type": "stream",
     "text": [
      "Fomc True False\n",
      "Fed True False\n",
      "Copom False True\n",
      "Selic False True\n",
      "Banco True False\n",
      "Central True False\n",
      "do True False\n",
      "Brasil True False\n"
     ]
    }
   ],
   "source": [
    "for token in doc:\n",
    "    print(token.text, token.has_vector, token.is_oov)"
   ]
  },
  {
   "cell_type": "code",
   "execution_count": 11,
   "id": "bdfa9e17-18c8-4c0b-950d-5f5a3f65a017",
   "metadata": {},
   "outputs": [
    {
     "name": "stdout",
     "output_type": "stream",
     "text": [
      "Fomc       PROPN    NNP    noun, proper singular\n",
      "Fed        PROPN    NNP    noun, proper singular\n",
      "Copom      PROPN    NNP    noun, proper singular\n",
      "Selic      PROPN    NNP    noun, proper singular\n",
      "Banco      PROPN    NNP    noun, proper singular\n",
      "Central    PROPN    NNP    noun, proper singular\n",
      "do         VERB     VBP    verb, non-3rd person singular present\n",
      "Brasil     PROPN    NNP    noun, proper singular\n"
     ]
    }
   ],
   "source": [
    "for token in doc:\n",
    "    print(f'{token.text:{10}} {token.pos_:{8}} {token.tag_:{6}} {spacy.explain(token.tag_)}')"
   ]
  },
  {
   "cell_type": "markdown",
   "id": "52fe0f7c-2220-4c30-a27e-b87f86578821",
   "metadata": {},
   "source": [
    "#### NER Spacy"
   ]
  },
  {
   "cell_type": "code",
   "execution_count": 12,
   "id": "01a70e72-98b0-4f99-94d3-d7a5d5b73d8a",
   "metadata": {},
   "outputs": [],
   "source": [
    "# Write a function to display basic entity info:\n",
    "def show_ents(doc):\n",
    "    if doc.ents:\n",
    "        for ent in doc.ents:\n",
    "            print(ent.text+' - '+ent.label_+' - '+str(spacy.explain(ent.label_)))\n",
    "    else:\n",
    "        print('No named entities found.')"
   ]
  },
  {
   "cell_type": "code",
   "execution_count": 13,
   "id": "566c557e-91f8-4200-b99a-06aa61fd80dc",
   "metadata": {},
   "outputs": [
    {
     "name": "stdout",
     "output_type": "stream",
     "text": [
      "Fomc Fed Copom Selic Banco Central - ORG - Companies, agencies, institutions, etc.\n",
      "Brasil - GPE - Countries, cities, states\n"
     ]
    }
   ],
   "source": [
    "show_ents(doc)"
   ]
  },
  {
   "cell_type": "markdown",
   "id": "591c5c9c-1742-476e-801d-c9f54e64700a",
   "metadata": {},
   "source": [
    "#### Adding a Named Entity to a Span"
   ]
  },
  {
   "cell_type": "code",
   "execution_count": 14,
   "id": "1c6ab228-5918-4034-a4eb-ae47401469fc",
   "metadata": {},
   "outputs": [],
   "source": [
    "# Import PhraseMatcher and create a matcher object:\n",
    "from spacy.matcher import PhraseMatcher\n",
    "matcher = PhraseMatcher(nlp.vocab)"
   ]
  },
  {
   "cell_type": "code",
   "execution_count": 15,
   "id": "b4b3ee79-9b4e-4d83-9e59-af0e7e7f2c8e",
   "metadata": {},
   "outputs": [],
   "source": [
    "doc1 = nlp(u'Banco Central do Brasil Banco Central BCB BC Bacen')"
   ]
  },
  {
   "cell_type": "code",
   "execution_count": 16,
   "id": "db6783a3-b345-4e60-a6d6-f3d1f9426c20",
   "metadata": {},
   "outputs": [],
   "source": [
    "# Create the desired phrase patterns:\n",
    "phrase_list = ['Banco Central do Brasil', 'Banco Central', 'BCB', 'Bacen', 'BC']\n",
    "phrase_patterns = [nlp(text) for text in phrase_list]"
   ]
  },
  {
   "cell_type": "code",
   "execution_count": 17,
   "id": "028afeed-fe94-45ee-9213-b2d199cd464d",
   "metadata": {},
   "outputs": [
    {
     "data": {
      "text/plain": [
       "[(10883615756311934199, 0, 2),\n",
       " (10883615756311934199, 0, 4),\n",
       " (10883615756311934199, 4, 6),\n",
       " (10883615756311934199, 6, 7),\n",
       " (10883615756311934199, 7, 8)]"
      ]
     },
     "execution_count": 17,
     "metadata": {},
     "output_type": "execute_result"
    }
   ],
   "source": [
    "# Apply the patterns to our matcher object:\n",
    "matcher.add('Banco Central do Brasil', None, *phrase_patterns)\n",
    "\n",
    "# Apply the matcher to our Doc object:\n",
    "matches = matcher(doc1)\n",
    "\n",
    "# See what matches occur:\n",
    "matches"
   ]
  },
  {
   "cell_type": "code",
   "execution_count": 18,
   "id": "b4069706-686e-47f7-b2c0-69f312f6c41f",
   "metadata": {},
   "outputs": [],
   "source": [
    "# Here we create Spans from each match, and create named entities from them:\n",
    "from spacy.tokens import Span\n",
    "\n",
    "ORG = doc.vocab.strings[u'ORG']"
   ]
  },
  {
   "cell_type": "code",
   "execution_count": 19,
   "id": "d22a376d-261e-4efe-b125-bd80c308b55d",
   "metadata": {},
   "outputs": [],
   "source": [
    "new_ents = [Span(doc1, match[1],match[2],label=ORG) for match in matches]\n",
    "doc1.ents = list(doc1.ents) + new_ents"
   ]
  },
  {
   "cell_type": "code",
   "execution_count": 20,
   "id": "d05b774d-a613-466c-8ff4-b08c86bfae2c",
   "metadata": {},
   "outputs": [
    {
     "name": "stdout",
     "output_type": "stream",
     "text": [
      "Banco Central do Brasil - ORG - Companies, agencies, institutions, etc.\n",
      "Banco Central - ORG - Companies, agencies, institutions, etc.\n",
      "BCB - ORG - Companies, agencies, institutions, etc.\n",
      "BC - ORG - Companies, agencies, institutions, etc.\n"
     ]
    }
   ],
   "source": [
    "show_ents(doc1)"
   ]
  },
  {
   "cell_type": "markdown",
   "id": "c072b70b-33ec-499b-92b5-c7108dbfae68",
   "metadata": {},
   "source": [
    "### Creating patterns"
   ]
  },
  {
   "cell_type": "code",
   "execution_count": 21,
   "id": "b4fbbc04-876c-48f0-8a05-4829c86c4bdf",
   "metadata": {},
   "outputs": [],
   "source": [
    "# Import the Matcher library\n",
    "from spacy.matcher import Matcher\n",
    "matcher = Matcher(nlp.vocab)"
   ]
  },
  {
   "cell_type": "code",
   "execution_count": 22,
   "id": "0e2a06d4-96f5-4774-a35b-236a5d7213ce",
   "metadata": {},
   "outputs": [],
   "source": [
    "pattern1 = [{'LOWER': 'banco central do brasil'}]\n",
    "pattern2 = [{'LOWER': 'banco central'}]\n",
    "pattern3 = [{'LOWER': 'bcb'}]\n",
    "pattern4 = [{'LOWER': 'bc'}]\n",
    "pattern5 = [{'LOWER': 'bacen'}]\n",
    "\n",
    "matcher.add('Banco Central do Brasil', None, pattern1,  pattern2, pattern3, pattern4, pattern5)"
   ]
  },
  {
   "cell_type": "code",
   "execution_count": 23,
   "id": "093790cf-aff1-47e3-826c-d07c3a653c43",
   "metadata": {},
   "outputs": [
    {
     "name": "stdout",
     "output_type": "stream",
     "text": [
      "[(10883615756311934199, 6, 7), (10883615756311934199, 7, 8), (10883615756311934199, 8, 9)]\n"
     ]
    }
   ],
   "source": [
    "found_matches = matcher(doc1)\n",
    "print(found_matches)"
   ]
  },
  {
   "cell_type": "code",
   "execution_count": 24,
   "id": "abec0c7b-ce01-451d-8c0c-4ff2eb13d6d9",
   "metadata": {},
   "outputs": [
    {
     "name": "stdout",
     "output_type": "stream",
     "text": [
      "10883615756311934199 Banco Central do Brasil 6 7 BCB\n",
      "10883615756311934199 Banco Central do Brasil 7 8 BC\n",
      "10883615756311934199 Banco Central do Brasil 8 9 Bacen\n"
     ]
    }
   ],
   "source": [
    "for match_id, start, end in found_matches:\n",
    "    string_id = nlp.vocab.strings[match_id]  # get string representation\n",
    "    span = doc1[start:end]                    # get the matched span\n",
    "    print(match_id, string_id, start, end, span.text)"
   ]
  },
  {
   "cell_type": "markdown",
   "id": "319e4d73-1013-4c04-ae4c-3b8879fe4b8e",
   "metadata": {},
   "source": [
    "## Vader sentiment analysis"
   ]
  },
  {
   "cell_type": "code",
   "execution_count": 66,
   "id": "4f9bc31a-9339-4a40-95ff-8ab60103bcd5",
   "metadata": {},
   "outputs": [
    {
     "name": "stdout",
     "output_type": "stream",
     "text": [
      "[nltk_data] Downloading package vader_lexicon to\n",
      "[nltk_data]     C:\\Users\\ftrav\\AppData\\Roaming\\nltk_data...\n",
      "[nltk_data]   Package vader_lexicon is already up-to-date!\n"
     ]
    },
    {
     "data": {
      "text/plain": [
       "True"
      ]
     },
     "execution_count": 66,
     "metadata": {},
     "output_type": "execute_result"
    }
   ],
   "source": [
    "import nltk\n",
    "nltk.download('vader_lexicon')"
   ]
  },
  {
   "cell_type": "code",
   "execution_count": 26,
   "id": "81b6ea0f-13f2-48b9-8ede-66d2b245f06d",
   "metadata": {},
   "outputs": [
    {
     "name": "stderr",
     "output_type": "stream",
     "text": [
      "C:\\Users\\ftrav\\anaconda3\\envs\\nlp_course\\lib\\site-packages\\nltk\\twitter\\__init__.py:20: UserWarning: The twython library has not been installed. Some functionality from the twitter package will not be available.\n",
      "  warnings.warn(\"The twython library has not been installed. \"\n"
     ]
    }
   ],
   "source": [
    "from nltk.sentiment.vader import SentimentIntensityAnalyzer\n",
    "\n",
    "sid = SentimentIntensityAnalyzer()"
   ]
  },
  {
   "cell_type": "code",
   "execution_count": 27,
   "id": "af5ddd6a-4ef9-490e-9ece-8a92a305111f",
   "metadata": {},
   "outputs": [
    {
     "data": {
      "text/plain": [
       "{'neg': 0.0, 'neu': 0.508, 'pos': 0.492, 'compound': 0.4404}"
      ]
     },
     "execution_count": 27,
     "metadata": {},
     "output_type": "execute_result"
    }
   ],
   "source": [
    "a = 'This was a good movie.'\n",
    "sid.polarity_scores(a)"
   ]
  },
  {
   "cell_type": "code",
   "execution_count": 28,
   "id": "85e9bc3a-7a5f-4113-93d8-b0143e66b782",
   "metadata": {},
   "outputs": [
    {
     "data": {
      "text/plain": [
       "'A) Update of economic outlook and Copom’s baseline scenario11. Regarding the global outlook, the pan'"
      ]
     },
     "execution_count": 28,
     "metadata": {},
     "output_type": "execute_result"
    }
   ],
   "source": [
    "a = df_copom['Text'].iloc[120]\n",
    "a[:100]"
   ]
  },
  {
   "cell_type": "code",
   "execution_count": 29,
   "id": "32af1d34-72f0-469e-bbcb-ee3ada81021b",
   "metadata": {},
   "outputs": [
    {
     "data": {
      "text/plain": [
       "{'neg': 0.043, 'neu': 0.891, 'pos': 0.066, 'compound': 0.9943}"
      ]
     },
     "execution_count": 29,
     "metadata": {},
     "output_type": "execute_result"
    }
   ],
   "source": [
    "sid.polarity_scores(a)"
   ]
  },
  {
   "cell_type": "code",
   "execution_count": 30,
   "id": "ad97b592-6bc4-4851-8a70-64aba69d7151",
   "metadata": {},
   "outputs": [],
   "source": [
    "df_copom['Sent_Vader'] = df_copom['Text'].apply(lambda sent: sid.polarity_scores(sent))"
   ]
  },
  {
   "cell_type": "code",
   "execution_count": 31,
   "id": "af986e80-0671-4977-b5ca-56d1cc0b7e66",
   "metadata": {},
   "outputs": [],
   "source": [
    "df_copom['Sent_Comp'] = df_copom['Sent_Vader'].apply(lambda d:d['compound'])"
   ]
  },
  {
   "cell_type": "code",
   "execution_count": 56,
   "id": "7921bff7-ea62-4a68-90a6-a655847e0415",
   "metadata": {},
   "outputs": [
    {
     "data": {
      "text/html": [
       "<div>\n",
       "<style scoped>\n",
       "    .dataframe tbody tr th:only-of-type {\n",
       "        vertical-align: middle;\n",
       "    }\n",
       "\n",
       "    .dataframe tbody tr th {\n",
       "        vertical-align: top;\n",
       "    }\n",
       "\n",
       "    .dataframe thead th {\n",
       "        text-align: right;\n",
       "    }\n",
       "</style>\n",
       "<table border=\"1\" class=\"dataframe\">\n",
       "  <thead>\n",
       "    <tr style=\"text-align: right;\">\n",
       "      <th></th>\n",
       "      <th>Date</th>\n",
       "      <th>Selic</th>\n",
       "      <th>Meeting_Number</th>\n",
       "      <th>Decision</th>\n",
       "      <th>Decision_txt</th>\n",
       "      <th>Text</th>\n",
       "      <th>Type</th>\n",
       "      <th>Sent_Vader</th>\n",
       "      <th>Sent_Comp</th>\n",
       "      <th>comp_score</th>\n",
       "    </tr>\n",
       "  </thead>\n",
       "  <tbody>\n",
       "    <tr>\n",
       "      <th>0</th>\n",
       "      <td>2006/03/08</td>\n",
       "      <td>16.50</td>\n",
       "      <td>117.0</td>\n",
       "      <td>-0.75</td>\n",
       "      <td>decrease</td>\n",
       "      <td>In the March Meeting, the Banco Central do Br...</td>\n",
       "      <td>Statement</td>\n",
       "      <td>{'neg': 0.0, 'neu': 0.942, 'pos': 0.058, 'comp...</td>\n",
       "      <td>0.4581</td>\n",
       "      <td>decrease</td>\n",
       "    </tr>\n",
       "    <tr>\n",
       "      <th>1</th>\n",
       "      <td>2006/04/19</td>\n",
       "      <td>15.75</td>\n",
       "      <td>118.0</td>\n",
       "      <td>-0.75</td>\n",
       "      <td>decrease</td>\n",
       "      <td>In the April Meeting, the Monetary Policy Com...</td>\n",
       "      <td>Statement</td>\n",
       "      <td>{'neg': 0.0, 'neu': 0.968, 'pos': 0.032, 'comp...</td>\n",
       "      <td>0.0762</td>\n",
       "      <td>decrease</td>\n",
       "    </tr>\n",
       "    <tr>\n",
       "      <th>2</th>\n",
       "      <td>2006/05/31</td>\n",
       "      <td>15.25</td>\n",
       "      <td>119.0</td>\n",
       "      <td>-0.50</td>\n",
       "      <td>decrease</td>\n",
       "      <td>In the May Meeting, the Monetary Policy Commi...</td>\n",
       "      <td>Statement</td>\n",
       "      <td>{'neg': 0.0, 'neu': 0.968, 'pos': 0.032, 'comp...</td>\n",
       "      <td>0.0762</td>\n",
       "      <td>decrease</td>\n",
       "    </tr>\n",
       "    <tr>\n",
       "      <th>3</th>\n",
       "      <td>2006/07/19</td>\n",
       "      <td>14.75</td>\n",
       "      <td>120.0</td>\n",
       "      <td>-0.50</td>\n",
       "      <td>decrease</td>\n",
       "      <td>In the July Meeting, the Copom unanimously de...</td>\n",
       "      <td>Statement</td>\n",
       "      <td>{'neg': 0.0, 'neu': 0.965, 'pos': 0.035, 'comp...</td>\n",
       "      <td>0.0762</td>\n",
       "      <td>decrease</td>\n",
       "    </tr>\n",
       "    <tr>\n",
       "      <th>4</th>\n",
       "      <td>2006/08/30</td>\n",
       "      <td>14.25</td>\n",
       "      <td>121.0</td>\n",
       "      <td>-0.50</td>\n",
       "      <td>decrease</td>\n",
       "      <td>In the August Meeting, the Copom unanimously ...</td>\n",
       "      <td>Statement</td>\n",
       "      <td>{'neg': 0.0, 'neu': 0.941, 'pos': 0.059, 'comp...</td>\n",
       "      <td>0.4019</td>\n",
       "      <td>decrease</td>\n",
       "    </tr>\n",
       "  </tbody>\n",
       "</table>\n",
       "</div>"
      ],
      "text/plain": [
       "         Date  Selic  Meeting_Number  Decision Decision_txt  \\\n",
       "0  2006/03/08  16.50           117.0     -0.75     decrease   \n",
       "1  2006/04/19  15.75           118.0     -0.75     decrease   \n",
       "2  2006/05/31  15.25           119.0     -0.50     decrease   \n",
       "3  2006/07/19  14.75           120.0     -0.50     decrease   \n",
       "4  2006/08/30  14.25           121.0     -0.50     decrease   \n",
       "\n",
       "                                                Text       Type  \\\n",
       "0   In the March Meeting, the Banco Central do Br...  Statement   \n",
       "1   In the April Meeting, the Monetary Policy Com...  Statement   \n",
       "2   In the May Meeting, the Monetary Policy Commi...  Statement   \n",
       "3   In the July Meeting, the Copom unanimously de...  Statement   \n",
       "4   In the August Meeting, the Copom unanimously ...  Statement   \n",
       "\n",
       "                                          Sent_Vader  Sent_Comp comp_score  \n",
       "0  {'neg': 0.0, 'neu': 0.942, 'pos': 0.058, 'comp...     0.4581   decrease  \n",
       "1  {'neg': 0.0, 'neu': 0.968, 'pos': 0.032, 'comp...     0.0762   decrease  \n",
       "2  {'neg': 0.0, 'neu': 0.968, 'pos': 0.032, 'comp...     0.0762   decrease  \n",
       "3  {'neg': 0.0, 'neu': 0.965, 'pos': 0.035, 'comp...     0.0762   decrease  \n",
       "4  {'neg': 0.0, 'neu': 0.941, 'pos': 0.059, 'comp...     0.4019   decrease  "
      ]
     },
     "execution_count": 56,
     "metadata": {},
     "output_type": "execute_result"
    }
   ],
   "source": [
    "df_copom['comp_score'] = df_copom['Sent_Comp'].apply(lambda c: 'decrease' if c >=0 else 'increase')\n",
    "\n",
    "df_copom.head()"
   ]
  },
  {
   "cell_type": "code",
   "execution_count": 57,
   "id": "b3f912ab-76f2-42b1-8227-4fb25d751f59",
   "metadata": {},
   "outputs": [],
   "source": [
    "import seaborn as sns\n",
    "import matplotlib.pyplot as plt"
   ]
  },
  {
   "cell_type": "code",
   "execution_count": 58,
   "id": "e8cf0996-dced-40db-99e7-4c4cae358ea2",
   "metadata": {},
   "outputs": [
    {
     "data": {
      "image/png": "[encoded data removed]",
      "text/plain": [
       "<Figure size 640x480 with 1 Axes>"
      ]
     },
     "metadata": {},
     "output_type": "display_data"
    }
   ],
   "source": [
    "ax = df.plot.bar(rot=0)"
   ]
  },
  {
   "cell_type": "code",
   "execution_count": 59,
   "id": "856ca104-7b50-4fee-b800-8520e9ea3df7",
   "metadata": {},
   "outputs": [],
   "source": [
    "from sklearn.metrics import accuracy_score,classification_report,confusion_matrix"
   ]
  },
  {
   "cell_type": "code",
   "execution_count": 60,
   "id": "59d6c7b0-b01a-4319-acaf-3dbd1c4df66d",
   "metadata": {},
   "outputs": [
    {
     "data": {
      "text/plain": [
       "0.29559748427672955"
      ]
     },
     "execution_count": 60,
     "metadata": {},
     "output_type": "execute_result"
    }
   ],
   "source": [
    "accuracy_score(df_copom['Decision_txt'],df_copom['comp_score'])"
   ]
  },
  {
   "cell_type": "code",
   "execution_count": 63,
   "id": "fce68914-e4d5-4a00-b00f-a784ee614b3c",
   "metadata": {},
   "outputs": [
    {
     "name": "stdout",
     "output_type": "stream",
     "text": [
      "              precision    recall  f1-score   support\n",
      "\n",
      "    decrease       0.30      0.94      0.45        48\n",
      "    increase       0.22      0.04      0.07        52\n",
      "     mantain       0.00      0.00      0.00        59\n",
      "\n",
      "   micro avg       0.30      0.30      0.30       159\n",
      "   macro avg       0.17      0.33      0.17       159\n",
      "weighted avg       0.16      0.30      0.16       159\n",
      "\n"
     ]
    },
    {
     "name": "stderr",
     "output_type": "stream",
     "text": [
      "C:\\Users\\ftrav\\anaconda3\\envs\\nlp_course\\lib\\site-packages\\sklearn\\metrics\\classification.py:1143: UndefinedMetricWarning: Precision and F-score are ill-defined and being set to 0.0 in labels with no predicted samples.\n",
      "  'precision', 'predicted', average, warn_for)\n"
     ]
    }
   ],
   "source": [
    "print(classification_report(df_copom['Decision_txt'],df_copom['comp_score']))"
   ]
  },
  {
   "cell_type": "code",
   "execution_count": 65,
   "id": "f9c284ad-c827-4ac3-a5d7-4a49b8112fe2",
   "metadata": {},
   "outputs": [
    {
     "name": "stdout",
     "output_type": "stream",
     "text": [
      "[[45  3  0]\n",
      " [50  2  0]\n",
      " [55  4  0]]\n"
     ]
    }
   ],
   "source": [
    "print(confusion_matrix(df_copom['Decision_txt'],df_copom['comp_score']))"
   ]
  },
  {
   "cell_type": "code",
   "execution_count": null,
   "id": "9a3d427b-794d-421b-bc9d-2475112f8435",
   "metadata": {},
   "outputs": [],
   "source": []
  }
 ],
 "metadata": {
  "kernelspec": {
   "display_name": "Python 3 (ipykernel)",
   "language": "python",
   "name": "python3"
  },
  "language_info": {
   "codemirror_mode": {
    "name": "ipython",
    "version": 3
   },
   "file_extension": ".py",
   "mimetype": "text/x-python",
   "name": "python",
   "nbconvert_exporter": "python",
   "pygments_lexer": "ipython3",
   "version": "3.7.16"
  }
 },
 "nbformat": 4,
 "nbformat_minor": 5
}

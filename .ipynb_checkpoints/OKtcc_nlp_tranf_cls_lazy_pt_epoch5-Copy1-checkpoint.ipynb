{
 "cells": [
  {
   "cell_type": "markdown",
   "id": "791f0e12-bbb6-4bcb-8a2e-1048ab03bbd2",
   "metadata": {},
   "source": [
    "# NLP"
   ]
  },
  {
   "cell_type": "code",
   "execution_count": 1,
   "id": "5a418dd8-90ca-41b5-b4ea-9638598d471d",
   "metadata": {},
   "outputs": [],
   "source": [
    "import numpy as np\n",
    "import pandas as pd\n",
    "import seaborn as sn\n",
    "import matplotlib.pyplot as plt\n",
    "\n",
    "import torch\n",
    "\n",
    "from sklearn.metrics import f1_score, accuracy_score, confusion_matrix\n",
    "from sklearn.model_selection import train_test_split"
   ]
  },
  {
   "cell_type": "code",
   "execution_count": 2,
   "id": "d116ad26-12a3-487c-9b47-5f9abe2b6a14",
   "metadata": {},
   "outputs": [],
   "source": [
    "df_copom = pd.read_csv('df_copom_label_pt.csv')"
   ]
  },
  {
   "cell_type": "code",
   "execution_count": 3,
   "id": "60443267-16fc-4610-9633-d96d57c5a6d3",
   "metadata": {},
   "outputs": [
    {
     "data": {
      "text/html": [
       "<div>\n",
       "<style scoped>\n",
       "    .dataframe tbody tr th:only-of-type {\n",
       "        vertical-align: middle;\n",
       "    }\n",
       "\n",
       "    .dataframe tbody tr th {\n",
       "        vertical-align: top;\n",
       "    }\n",
       "\n",
       "    .dataframe thead th {\n",
       "        text-align: right;\n",
       "    }\n",
       "</style>\n",
       "<table border=\"1\" class=\"dataframe\">\n",
       "  <thead>\n",
       "    <tr style=\"text-align: right;\">\n",
       "      <th></th>\n",
       "      <th>meeting_number</th>\n",
       "      <th>date_x</th>\n",
       "      <th>date_y</th>\n",
       "      <th>selic</th>\n",
       "      <th>decision</th>\n",
       "      <th>decision_txt</th>\n",
       "      <th>type</th>\n",
       "      <th>text</th>\n",
       "      <th>num_words</th>\n",
       "      <th>text_raw</th>\n",
       "      <th>num_words_raw</th>\n",
       "      <th>label_hawk_dove</th>\n",
       "      <th>label_next_meet</th>\n",
       "    </tr>\n",
       "  </thead>\n",
       "  <tbody>\n",
       "    <tr>\n",
       "      <th>0</th>\n",
       "      <td>21</td>\n",
       "      <td>1998/01/28</td>\n",
       "      <td>1998/01/28</td>\n",
       "      <td>34.5</td>\n",
       "      <td>-3.5</td>\n",
       "      <td>cortar</td>\n",
       "      <td>minutes</td>\n",
       "      <td>sumáriopreços nível atividade agregados monetá...</td>\n",
       "      <td>3926.0</td>\n",
       "      <td>\\nSumárioPreços e Nível de Atividade\\nAgregado...</td>\n",
       "      <td>5066.0</td>\n",
       "      <td>dovish</td>\n",
       "      <td>cortar</td>\n",
       "    </tr>\n",
       "  </tbody>\n",
       "</table>\n",
       "</div>"
      ],
      "text/plain": [
       "   meeting_number      date_x      date_y  selic  decision decision_txt  \\\n",
       "0              21  1998/01/28  1998/01/28   34.5      -3.5       cortar   \n",
       "\n",
       "      type                                               text  num_words  \\\n",
       "0  minutes  sumáriopreços nível atividade agregados monetá...     3926.0   \n",
       "\n",
       "                                            text_raw  num_words_raw  \\\n",
       "0  \\nSumárioPreços e Nível de Atividade\\nAgregado...         5066.0   \n",
       "\n",
       "  label_hawk_dove label_next_meet  \n",
       "0          dovish          cortar  "
      ]
     },
     "execution_count": 3,
     "metadata": {},
     "output_type": "execute_result"
    }
   ],
   "source": [
    "df_copom.head(1)"
   ]
  },
  {
   "cell_type": "code",
   "execution_count": 4,
   "id": "393fe97a-8e9b-40f6-9eb0-a25263caa054",
   "metadata": {
    "tags": []
   },
   "outputs": [
    {
     "data": {
      "text/plain": [
       "(411, 13)"
      ]
     },
     "execution_count": 4,
     "metadata": {},
     "output_type": "execute_result"
    }
   ],
   "source": [
    "df_copom.shape"
   ]
  },
  {
   "cell_type": "code",
   "execution_count": 5,
   "id": "d8e853d8-e066-46f9-bac5-f3686a143845",
   "metadata": {},
   "outputs": [],
   "source": [
    "df_ = df_copom[(df_copom['type'] == 'statement')].copy()"
   ]
  },
  {
   "cell_type": "code",
   "execution_count": 6,
   "id": "63883e84-3114-45b2-a2e4-0faf897fb811",
   "metadata": {
    "tags": []
   },
   "outputs": [
    {
     "data": {
      "text/plain": [
       "(209, 13)"
      ]
     },
     "execution_count": 6,
     "metadata": {},
     "output_type": "execute_result"
    }
   ],
   "source": [
    "df_.shape"
   ]
  },
  {
   "cell_type": "code",
   "execution_count": 7,
   "id": "65e1b3f3-fb82-44bb-8730-bfa5ee271093",
   "metadata": {
    "tags": []
   },
   "outputs": [],
   "source": [
    "# df_ = df_[(df_['num_words'] <= 250)].copy()"
   ]
  },
  {
   "cell_type": "code",
   "execution_count": 8,
   "id": "e3b50288-2d11-4007-9774-98a3220d624f",
   "metadata": {
    "tags": []
   },
   "outputs": [],
   "source": [
    "# df_.shape"
   ]
  },
  {
   "cell_type": "code",
   "execution_count": 9,
   "id": "0eb2b82d-e34c-4f81-aec7-b7a8987d10d6",
   "metadata": {
    "tags": []
   },
   "outputs": [
    {
     "data": {
      "text/plain": [
       "array([ 51.,  15.,  29.,  23.,  17.,   2.,  12.,  19.,  21.,  18.,  28.,\n",
       "        22.,  55.,  25.,  26.,  14.,  16.,  20.,  34.,  44.,  42.,  31.,\n",
       "        24.,  33.,  45.,  35.,  38.,  27.,  30.,  61.,  80.,  53.,  46.,\n",
       "        60.,  58.,  40.,  43.,  52.,  36.,  69.,  73.,  78.,  49.,  32.,\n",
       "        47.,  66.,  90.,  37.,  70., 218.,  57.,  41., 102., 109., 103.,\n",
       "       122., 126., 125.,  48.,  86.,  99.,  98., 260., 405., 483., 450.,\n",
       "       476., 350., 466., 416., 414., 481., 467., 499., 473., 540., 609.,\n",
       "       620., 553., 602., 497., 528., 557., 508., 524., 549., 581., 522.,\n",
       "       503., 458., 583., 550., 621., 701., 669., 733., 703., 596., 627.,\n",
       "       653., 690., 533., 665., 643., 634., 518., 532., 520., 606., 469.])"
      ]
     },
     "execution_count": 9,
     "metadata": {},
     "output_type": "execute_result"
    }
   ],
   "source": [
    "df_['num_words'].unique()"
   ]
  },
  {
   "cell_type": "code",
   "execution_count": 10,
   "id": "4207fd03-91db-4c89-bacf-92cdbef7fc69",
   "metadata": {
    "tags": []
   },
   "outputs": [
    {
     "data": {
      "text/plain": [
       "<Axes: >"
      ]
     },
     "execution_count": 10,
     "metadata": {},
     "output_type": "execute_result"
    },
    {
     "data": {
      "image/png": "[encoded data removed]",
      "text/plain": [
       "<Figure size 640x480 with 1 Axes>"
      ]
     },
     "metadata": {},
     "output_type": "display_data"
    }
   ],
   "source": [
    "df_['label_hawk_dove'].value_counts().plot(kind='bar')"
   ]
  },
  {
   "cell_type": "code",
   "execution_count": 11,
   "id": "84e19871-b405-48bf-a136-441609657027",
   "metadata": {
    "tags": []
   },
   "outputs": [],
   "source": [
    "target_map = {'dovish': 0, 'hawkish': 1, 'neutral': 2}\n",
    "df_['target'] = df_['label_hawk_dove'].map(target_map)"
   ]
  },
  {
   "cell_type": "code",
   "execution_count": 12,
   "id": "e8869383-6d9e-43fc-9b6c-fffcb62eb2e7",
   "metadata": {
    "tags": []
   },
   "outputs": [],
   "source": [
    "df = df_[['text', 'target']]\n",
    "df.columns = ['sentence', 'label']"
   ]
  },
  {
   "cell_type": "code",
   "execution_count": 13,
   "id": "9b7013f2-00a1-4151-9b9b-f0de50f64501",
   "metadata": {
    "tags": []
   },
   "outputs": [
    {
     "data": {
      "text/plain": [
       "sentence    0\n",
       "label       1\n",
       "dtype: int64"
      ]
     },
     "execution_count": 13,
     "metadata": {},
     "output_type": "execute_result"
    }
   ],
   "source": [
    "df.isnull().sum()"
   ]
  },
  {
   "cell_type": "code",
   "execution_count": 14,
   "id": "6a82ded3-7013-4a5c-8557-3d27ceea013b",
   "metadata": {
    "tags": []
   },
   "outputs": [
    {
     "data": {
      "text/plain": [
       "(208, 2)"
      ]
     },
     "execution_count": 14,
     "metadata": {},
     "output_type": "execute_result"
    }
   ],
   "source": [
    "df = df.dropna().copy()\n",
    "df.shape"
   ]
  },
  {
   "cell_type": "code",
   "execution_count": 15,
   "id": "1a6a724e-5fee-4ed1-9d46-8eb2829bafcc",
   "metadata": {
    "tags": []
   },
   "outputs": [],
   "source": [
    "df['label'] = df['label'].astype(int)"
   ]
  },
  {
   "cell_type": "code",
   "execution_count": 16,
   "id": "41000784-c26e-4b72-b1ef-396ddca2aa95",
   "metadata": {
    "tags": []
   },
   "outputs": [
    {
     "data": {
      "text/html": [
       "<div>\n",
       "<style scoped>\n",
       "    .dataframe tbody tr th:only-of-type {\n",
       "        vertical-align: middle;\n",
       "    }\n",
       "\n",
       "    .dataframe tbody tr th {\n",
       "        vertical-align: top;\n",
       "    }\n",
       "\n",
       "    .dataframe thead th {\n",
       "        text-align: right;\n",
       "    }\n",
       "</style>\n",
       "<table border=\"1\" class=\"dataframe\">\n",
       "  <thead>\n",
       "    <tr style=\"text-align: right;\">\n",
       "      <th></th>\n",
       "      <th>sentence</th>\n",
       "      <th>label</th>\n",
       "    </tr>\n",
       "  </thead>\n",
       "  <tbody>\n",
       "    <tr>\n",
       "      <th>25</th>\n",
       "      <td>pese recentes trajetórias favoráveis taxas inf...</td>\n",
       "      <td>1</td>\n",
       "    </tr>\n",
       "    <tr>\n",
       "      <th>27</th>\n",
       "      <td>copom analisando eventos recentes prospectivos...</td>\n",
       "      <td>0</td>\n",
       "    </tr>\n",
       "    <tr>\n",
       "      <th>29</th>\n",
       "      <td>resultados recentes inflação mudaram significa...</td>\n",
       "      <td>0</td>\n",
       "    </tr>\n",
       "    <tr>\n",
       "      <th>31</th>\n",
       "      <td>copom decidiu alterar meta taxa selic 17,0 % 1...</td>\n",
       "      <td>1</td>\n",
       "    </tr>\n",
       "    <tr>\n",
       "      <th>33</th>\n",
       "      <td>copom decidiu manter meta taxa selic 16,50 % e...</td>\n",
       "      <td>2</td>\n",
       "    </tr>\n",
       "  </tbody>\n",
       "</table>\n",
       "</div>"
      ],
      "text/plain": [
       "                                             sentence  label\n",
       "25  pese recentes trajetórias favoráveis taxas inf...      1\n",
       "27  copom analisando eventos recentes prospectivos...      0\n",
       "29  resultados recentes inflação mudaram significa...      0\n",
       "31  copom decidiu alterar meta taxa selic 17,0 % 1...      1\n",
       "33  copom decidiu manter meta taxa selic 16,50 % e...      2"
      ]
     },
     "execution_count": 16,
     "metadata": {},
     "output_type": "execute_result"
    }
   ],
   "source": [
    "df.head()"
   ]
  },
  {
   "cell_type": "code",
   "execution_count": 17,
   "id": "88538e91-d6af-46cc-9962-750bb8b585a7",
   "metadata": {
    "tags": []
   },
   "outputs": [],
   "source": [
    "df.to_csv('data_copom_transf_pt.csv', index=None)"
   ]
  },
  {
   "cell_type": "markdown",
   "id": "90657d76-9557-498d-8653-ac7c404c7086",
   "metadata": {},
   "source": [
    "#### Convert to dataset"
   ]
  },
  {
   "cell_type": "code",
   "execution_count": 18,
   "id": "01d14340-a2e5-4f38-a2d3-dbbac8911a64",
   "metadata": {
    "tags": []
   },
   "outputs": [
    {
     "name": "stderr",
     "output_type": "stream",
     "text": [
      "C:\\Users\\ftrav\\anaconda3\\envs\\tcc_gpu2\\Lib\\site-packages\\tqdm\\auto.py:21: TqdmWarning: IProgress not found. Please update jupyter and ipywidgets. See https://ipywidgets.readthedocs.io/en/stable/user_install.html\n",
      "  from .autonotebook import tqdm as notebook_tqdm\n"
     ]
    },
    {
     "name": "stdout",
     "output_type": "stream",
     "text": [
      "Downloading and preparing dataset csv/default to C:/Users/ftrav/.cache/huggingface/datasets/csv/default-5bf5fd7a6565d796/0.0.0/eea64c71ca8b46dd3f537ed218fc9bf495d5707789152eb2764f5c78fa66d59d...\n"
     ]
    },
    {
     "name": "stderr",
     "output_type": "stream",
     "text": [
      "Downloading data files: 100%|████████████████████████████████████████████████████████████████████| 1/1 [00:00<?, ?it/s]\n",
      "Extracting data files: 100%|████████████████████████████████████████████████████████████| 1/1 [00:00<00:00, 166.67it/s]\n",
      "                                                        \r"
     ]
    },
    {
     "name": "stdout",
     "output_type": "stream",
     "text": [
      "Dataset csv downloaded and prepared to C:/Users/ftrav/.cache/huggingface/datasets/csv/default-5bf5fd7a6565d796/0.0.0/eea64c71ca8b46dd3f537ed218fc9bf495d5707789152eb2764f5c78fa66d59d. Subsequent calls will reuse this data.\n"
     ]
    },
    {
     "name": "stderr",
     "output_type": "stream",
     "text": [
      "100%|███████████████████████████████████████████████████████████████████████████████████| 1/1 [00:00<00:00, 111.07it/s]\n"
     ]
    }
   ],
   "source": [
    "from datasets import load_dataset\n",
    "\n",
    "raw_dataset = load_dataset('csv', data_files='data_copom_transf_pt.csv')"
   ]
  },
  {
   "cell_type": "code",
   "execution_count": 19,
   "id": "516ab7be-ef65-4b11-a61c-4186da0bd307",
   "metadata": {
    "tags": []
   },
   "outputs": [
    {
     "data": {
      "text/plain": [
       "DatasetDict({\n",
       "    train: Dataset({\n",
       "        features: ['sentence', 'label'],\n",
       "        num_rows: 208\n",
       "    })\n",
       "})"
      ]
     },
     "execution_count": 19,
     "metadata": {},
     "output_type": "execute_result"
    }
   ],
   "source": [
    "raw_dataset"
   ]
  },
  {
   "cell_type": "markdown",
   "id": "36c44e4b-0795-4f05-838d-c5caa6b9dcd9",
   "metadata": {},
   "source": [
    "#### Split test and train"
   ]
  },
  {
   "cell_type": "code",
   "execution_count": 20,
   "id": "095e63a6-deb5-46d1-ac39-885c86bfe228",
   "metadata": {
    "tags": []
   },
   "outputs": [],
   "source": [
    "split = raw_dataset['train'].train_test_split(test_size=0.3, seed=2015)"
   ]
  },
  {
   "cell_type": "code",
   "execution_count": 21,
   "id": "e2e58e4a-1f38-42f5-9ee4-ab40562b5c71",
   "metadata": {
    "tags": []
   },
   "outputs": [
    {
     "data": {
      "text/plain": [
       "DatasetDict({\n",
       "    train: Dataset({\n",
       "        features: ['sentence', 'label'],\n",
       "        num_rows: 145\n",
       "    })\n",
       "    test: Dataset({\n",
       "        features: ['sentence', 'label'],\n",
       "        num_rows: 63\n",
       "    })\n",
       "})"
      ]
     },
     "execution_count": 21,
     "metadata": {},
     "output_type": "execute_result"
    }
   ],
   "source": [
    "split"
   ]
  },
  {
   "cell_type": "markdown",
   "id": "41ff51f9-f286-4f63-b42e-1ee6dc4ae8ca",
   "metadata": {},
   "source": [
    "## Model"
   ]
  },
  {
   "cell_type": "code",
   "execution_count": 22,
   "id": "399a4c76-1441-4960-ae7b-cc15a84d44aa",
   "metadata": {
    "tags": []
   },
   "outputs": [],
   "source": [
    "# from transformers import AutoTokenizer, AutoModelForSequenceClassification¶\n",
    "# tokenizer = AutoTokenizer.from_pretrained(\"TiagoSanti/bert-base-portuguese-cased-02\")\n",
    "# model = AutoModelForSequenceClassification.from_pretrained(\"TiagoSanti/bert-base-portuguese-cased-02\")"
   ]
  },
  {
   "cell_type": "markdown",
   "id": "8c660e32-8b6c-4c62-9c28-bb7486c107f4",
   "metadata": {},
   "source": [
    "https://huggingface.co/TiagoSanti/bert-base-portuguese-cased-02"
   ]
  },
  {
   "cell_type": "code",
   "execution_count": 23,
   "id": "dd9153e5-deaa-414d-95d0-fe5fbe925dd4",
   "metadata": {},
   "outputs": [],
   "source": [
    "checkpoint = 'TiagoSanti/bert-base-portuguese-cased-02'"
   ]
  },
  {
   "cell_type": "markdown",
   "id": "be909174-068b-4879-89d1-2e1cd23d37b9",
   "metadata": {},
   "source": [
    "#### Tokenizer"
   ]
  },
  {
   "cell_type": "code",
   "execution_count": 87,
   "id": "708d931c-f000-4bd0-a7d0-fd4745e1dc33",
   "metadata": {
    "tags": []
   },
   "outputs": [],
   "source": [
    "from transformers import AutoTokenizer"
   ]
  },
  {
   "cell_type": "code",
   "execution_count": 96,
   "id": "5aa4bcda-7a8c-4db9-8c89-03dea9094df6",
   "metadata": {
    "tags": []
   },
   "outputs": [],
   "source": [
    "max_length=512"
   ]
  },
  {
   "cell_type": "code",
   "execution_count": 97,
   "id": "abe79af4-de28-4046-b5c6-795283421950",
   "metadata": {
    "tags": []
   },
   "outputs": [],
   "source": [
    "tokenizer = AutoTokenizer.from_pretrained(checkpoint, do_lower_case=True, max_length=max_length, truncation='longest_first')"
   ]
  },
  {
   "cell_type": "code",
   "execution_count": 98,
   "id": "3ffaf227-5f80-4f04-b016-ad0edf67e123",
   "metadata": {
    "tags": []
   },
   "outputs": [],
   "source": [
    "def tokenize_fn(batch):\n",
    "    return tokenizer(batch['sentence'], truncation='longest_first', padding=True)"
   ]
  },
  {
   "cell_type": "code",
   "execution_count": 99,
   "id": "ef275b04-2bdc-42b6-b977-232d93e56c0e",
   "metadata": {
    "tags": []
   },
   "outputs": [
    {
     "name": "stderr",
     "output_type": "stream",
     "text": [
      "Map:   0%|                                                                         | 0/145 [00:00<?, ? examples/s]Asking to truncate to max_length but no maximum length is provided and the model has no predefined maximum length. Default to no truncation.\n",
      "                                                                                                                  \r"
     ]
    }
   ],
   "source": [
    "tokenized_datasets = split.map(tokenize_fn, batched=True)"
   ]
  },
  {
   "cell_type": "code",
   "execution_count": 100,
   "id": "0256550c-49e0-4c70-8728-c9a5bc3fafe1",
   "metadata": {
    "tags": []
   },
   "outputs": [
    {
     "data": {
      "text/plain": [
       "DatasetDict({\n",
       "    train: Dataset({\n",
       "        features: ['sentence', 'label', 'input_ids', 'token_type_ids', 'attention_mask'],\n",
       "        num_rows: 145\n",
       "    })\n",
       "    test: Dataset({\n",
       "        features: ['sentence', 'label', 'input_ids', 'token_type_ids', 'attention_mask'],\n",
       "        num_rows: 63\n",
       "    })\n",
       "})"
      ]
     },
     "execution_count": 100,
     "metadata": {},
     "output_type": "execute_result"
    }
   ],
   "source": [
    "tokenized_datasets"
   ]
  },
  {
   "cell_type": "markdown",
   "id": "241abab3-3614-4325-925b-021aeafd7055",
   "metadata": {
    "tags": []
   },
   "source": [
    "#### Training"
   ]
  },
  {
   "cell_type": "code",
   "execution_count": 29,
   "id": "01320179-b486-4077-8a9f-16a1bd03f8a0",
   "metadata": {
    "tags": []
   },
   "outputs": [],
   "source": [
    "from transformers import AutoModelForSequenceClassification, Trainer, TrainingArguments"
   ]
  },
  {
   "cell_type": "code",
   "execution_count": 74,
   "id": "87f4ac5c-9ffe-4533-a89e-4a4d5b92f203",
   "metadata": {
    "tags": []
   },
   "outputs": [],
   "source": [
    "model = AutoModelForSequenceClassification.from_pretrained(checkpoint)"
   ]
  },
  {
   "cell_type": "code",
   "execution_count": 31,
   "id": "2e8488a3-a365-4db5-a400-e0a0699f0ab7",
   "metadata": {
    "tags": []
   },
   "outputs": [],
   "source": [
    "from torchinfo import summary"
   ]
  },
  {
   "cell_type": "code",
   "execution_count": 32,
   "id": "c06e7fac-7f9f-4c23-8cbc-ddb6eec92651",
   "metadata": {
    "tags": []
   },
   "outputs": [
    {
     "data": {
      "text/plain": [
       "================================================================================\n",
       "Layer (type:depth-idx)                                  Param #\n",
       "================================================================================\n",
       "BertForSequenceClassification                           --\n",
       "├─BertModel: 1-1                                        --\n",
       "│    └─BertEmbeddings: 2-1                              --\n",
       "│    │    └─Embedding: 3-1                              22,881,792\n",
       "│    │    └─Embedding: 3-2                              393,216\n",
       "│    │    └─Embedding: 3-3                              1,536\n",
       "│    │    └─LayerNorm: 3-4                              1,536\n",
       "│    │    └─Dropout: 3-5                                --\n",
       "│    └─BertEncoder: 2-2                                 --\n",
       "│    │    └─ModuleList: 3-6                             85,054,464\n",
       "│    └─BertPooler: 2-3                                  --\n",
       "│    │    └─Linear: 3-7                                 590,592\n",
       "│    │    └─Tanh: 3-8                                   --\n",
       "├─Dropout: 1-2                                          --\n",
       "├─Linear: 1-3                                           2,307\n",
       "================================================================================\n",
       "Total params: 108,925,443\n",
       "Trainable params: 108,925,443\n",
       "Non-trainable params: 0\n",
       "================================================================================"
      ]
     },
     "execution_count": 32,
     "metadata": {},
     "output_type": "execute_result"
    }
   ],
   "source": [
    "summary(model)"
   ]
  },
  {
   "cell_type": "code",
   "execution_count": 33,
   "id": "3a0e98ae-ab04-42f9-aca1-5a49ad56e424",
   "metadata": {
    "tags": []
   },
   "outputs": [],
   "source": [
    "def compute_metrics(logits_and_labels):\n",
    "    logits, labels = logits_and_labels\n",
    "    predictions = np.argmax(logits, axis=-1)\n",
    "    acc = np.mean(predictions == labels)\n",
    "    f1 = f1_score(labels, predictions, average='macro')\n",
    "    return {'accuracy': acc, 'f1': f1}"
   ]
  },
  {
   "cell_type": "code",
   "execution_count": 34,
   "id": "66ddafee-eacd-4637-a7b9-1304d9208585",
   "metadata": {
    "tags": []
   },
   "outputs": [],
   "source": [
    "training_args = TrainingArguments(\n",
    "    output_dir='training_dir/pt/epoch5',\n",
    "    evaluation_strategy='epoch',\n",
    "    save_strategy='epoch',\n",
    "    num_train_epochs=5,\n",
    "    per_device_train_batch_size=16,\n",
    "    per_device_eval_batch_size= 64\n",
    ")"
   ]
  },
  {
   "cell_type": "code",
   "execution_count": 35,
   "id": "5c8a57c4-f80f-4347-a2b6-c87d433eb048",
   "metadata": {
    "tags": []
   },
   "outputs": [],
   "source": [
    "trainer = Trainer(\n",
    "    model,\n",
    "    training_args,\n",
    "    train_dataset=tokenized_datasets['train'],\n",
    "    eval_dataset=tokenized_datasets['test'],\n",
    "    tokenizer=tokenizer,\n",
    "    compute_metrics=compute_metrics\n",
    ")"
   ]
  },
  {
   "cell_type": "code",
   "execution_count": 36,
   "id": "39888059-a41b-41dc-b9ce-38c67d93ac56",
   "metadata": {
    "tags": []
   },
   "outputs": [
    {
     "name": "stderr",
     "output_type": "stream",
     "text": [
      "C:\\Users\\ftrav\\anaconda3\\envs\\tcc_gpu2\\Lib\\site-packages\\transformers\\optimization.py:411: FutureWarning: This implementation of AdamW is deprecated and will be removed in a future version. Use the PyTorch implementation torch.optim.AdamW instead, or set `no_deprecation_warning=True` to disable this warning\n",
      "  warnings.warn(\n",
      "You're using a BertTokenizerFast tokenizer. Please note that with a fast tokenizer, using the `__call__` method is faster than using a method to encode the text followed by a call to the `pad` method to get a padded encoding.\n"
     ]
    },
    {
     "data": {
      "text/html": [
       "\n",
       "    <div>\n",
       "      \n",
       "      <progress value='50' max='50' style='width:300px; height:20px; vertical-align: middle;'></progress>\n",
       "      [50/50 10:31, Epoch 5/5]\n",
       "    </div>\n",
       "    <table border=\"1\" class=\"dataframe\">\n",
       "  <thead>\n",
       " <tr style=\"text-align: left;\">\n",
       "      <th>Epoch</th>\n",
       "      <th>Training Loss</th>\n",
       "      <th>Validation Loss</th>\n",
       "      <th>Accuracy</th>\n",
       "      <th>F1</th>\n",
       "    </tr>\n",
       "  </thead>\n",
       "  <tbody>\n",
       "    <tr>\n",
       "      <td>1</td>\n",
       "      <td>No log</td>\n",
       "      <td>0.696387</td>\n",
       "      <td>0.730159</td>\n",
       "      <td>0.718523</td>\n",
       "    </tr>\n",
       "    <tr>\n",
       "      <td>2</td>\n",
       "      <td>No log</td>\n",
       "      <td>0.605407</td>\n",
       "      <td>0.746032</td>\n",
       "      <td>0.740459</td>\n",
       "    </tr>\n",
       "    <tr>\n",
       "      <td>3</td>\n",
       "      <td>No log</td>\n",
       "      <td>0.642802</td>\n",
       "      <td>0.746032</td>\n",
       "      <td>0.712233</td>\n",
       "    </tr>\n",
       "    <tr>\n",
       "      <td>4</td>\n",
       "      <td>No log</td>\n",
       "      <td>0.611234</td>\n",
       "      <td>0.777778</td>\n",
       "      <td>0.767058</td>\n",
       "    </tr>\n",
       "    <tr>\n",
       "      <td>5</td>\n",
       "      <td>No log</td>\n",
       "      <td>0.605023</td>\n",
       "      <td>0.777778</td>\n",
       "      <td>0.767058</td>\n",
       "    </tr>\n",
       "  </tbody>\n",
       "</table><p>"
      ],
      "text/plain": [
       "<IPython.core.display.HTML object>"
      ]
     },
     "metadata": {},
     "output_type": "display_data"
    },
    {
     "data": {
      "text/plain": [
       "TrainOutput(global_step=50, training_loss=0.7354808044433594, metrics={'train_runtime': 643.3725, 'train_samples_per_second': 1.127, 'train_steps_per_second': 0.078, 'total_flos': 190757227852800.0, 'train_loss': 0.7354808044433594, 'epoch': 5.0})"
      ]
     },
     "execution_count": 36,
     "metadata": {},
     "output_type": "execute_result"
    }
   ],
   "source": [
    "trainer.train()"
   ]
  },
  {
   "cell_type": "code",
   "execution_count": 38,
   "id": "e5c96c66-718f-4d6b-8b3d-6d81f8bb1a1d",
   "metadata": {
    "tags": []
   },
   "outputs": [
    {
     "name": "stdout",
     "output_type": "stream",
     "text": [
      " Volume in drive C has no label.\n",
      " Volume Serial Number is 5AAA-7C2A\n",
      "\n",
      " Directory of C:\\Users\\ftrav\\Documents\\Insper_tcc\\training_dir\\pt\\epoch5\n",
      "\n",
      "07/02/2023  01:55 PM    <DIR>          .\n",
      "07/02/2023  01:35 PM    <DIR>          ..\n",
      "07/02/2023  01:47 PM    <DIR>          checkpoint-10\n",
      "07/02/2023  01:49 PM    <DIR>          checkpoint-20\n",
      "07/02/2023  01:51 PM    <DIR>          checkpoint-30\n",
      "07/02/2023  01:53 PM    <DIR>          checkpoint-40\n",
      "07/02/2023  01:55 PM    <DIR>          checkpoint-50\n",
      "07/02/2023  01:45 PM    <DIR>          runs\n",
      "               0 File(s)              0 bytes\n",
      "               8 Dir(s)  38,488,719,360 bytes free\n"
     ]
    }
   ],
   "source": [
    "!dir training_dir\\pt\\epoch5"
   ]
  },
  {
   "cell_type": "markdown",
   "id": "66239168-aea1-4756-8183-97fce3b5af8f",
   "metadata": {},
   "source": [
    "#### Test"
   ]
  },
  {
   "cell_type": "code",
   "execution_count": 41,
   "id": "178e54b8-52ac-4da7-a694-d341e2e3d9b1",
   "metadata": {
    "tags": []
   },
   "outputs": [],
   "source": [
    "from transformers import pipeline, AutoConfig"
   ]
  },
  {
   "cell_type": "code",
   "execution_count": 42,
   "id": "e5e53fd8-f22d-4afd-a04b-5f55430ed308",
   "metadata": {
    "tags": []
   },
   "outputs": [],
   "source": [
    "config = AutoConfig.from_pretrained(checkpoint)"
   ]
  },
  {
   "cell_type": "code",
   "execution_count": 101,
   "id": "e08da70f-72ae-436c-b0f3-041e326e2bfe",
   "metadata": {
    "tags": []
   },
   "outputs": [],
   "source": [
    "savedmodel = pipeline('text-classification',\n",
    "                      model='training_dir/pt/epoch5/checkpoint-50',\n",
    "                      max_length=max_length,\n",
    "                      tokenizer=tokenizer, \n",
    "                      config=config,\n",
    "                      device=0,\n",
    "                      framework=\"pt\")"
   ]
  },
  {
   "cell_type": "code",
   "execution_count": 102,
   "id": "715754d4-cd7d-4d61-975d-92ad49e71b9b",
   "metadata": {
    "tags": []
   },
   "outputs": [
    {
     "data": {
      "text/plain": [
       "Dataset({\n",
       "    features: ['sentence', 'label'],\n",
       "    num_rows: 63\n",
       "})"
      ]
     },
     "execution_count": 102,
     "metadata": {},
     "output_type": "execute_result"
    }
   ],
   "source": [
    "split['test']"
   ]
  },
  {
   "cell_type": "code",
   "execution_count": 103,
   "id": "134f8d15-6fe6-427b-a95d-0315be003fe0",
   "metadata": {
    "tags": []
   },
   "outputs": [],
   "source": [
    "test_pred = savedmodel(split['test']['sentence'], batch_size=128, truncation=\"longest_first\")"
   ]
  },
  {
   "cell_type": "code",
   "execution_count": 105,
   "id": "fe8537ea-5009-4a31-9467-123026384990",
   "metadata": {
    "tags": []
   },
   "outputs": [
    {
     "name": "stdout",
     "output_type": "stream",
     "text": [
      "2 {'label': 'LABEL_2', 'score': 0.780500054359436}\n",
      "0 {'label': 'LABEL_0', 'score': 0.9683125615119934}\n",
      "0 {'label': 'LABEL_0', 'score': 0.9685774445533752}\n",
      "2 {'label': 'LABEL_2', 'score': 0.8075130581855774}\n",
      "1 {'label': 'LABEL_1', 'score': 0.9757391214370728}\n",
      "1 {'label': 'LABEL_1', 'score': 0.9483247995376587}\n",
      "0 {'label': 'LABEL_0', 'score': 0.94301438331604}\n",
      "0 {'label': 'LABEL_0', 'score': 0.9427601099014282}\n",
      "0 {'label': 'LABEL_0', 'score': 0.9053493738174438}\n",
      "2 {'label': 'LABEL_2', 'score': 0.7314084768295288}\n",
      "0 {'label': 'LABEL_0', 'score': 0.955547571182251}\n",
      "2 {'label': 'LABEL_2', 'score': 0.8936470746994019}\n",
      "0 {'label': 'LABEL_2', 'score': 0.8545569777488708}\n",
      "0 {'label': 'LABEL_0', 'score': 0.9724385738372803}\n",
      "1 {'label': 'LABEL_2', 'score': 0.45204830169677734}\n",
      "1 {'label': 'LABEL_1', 'score': 0.8843787312507629}\n",
      "0 {'label': 'LABEL_0', 'score': 0.8913962841033936}\n",
      "1 {'label': 'LABEL_2', 'score': 0.8500924706459045}\n",
      "0 {'label': 'LABEL_0', 'score': 0.9733455181121826}\n",
      "1 {'label': 'LABEL_1', 'score': 0.7088601589202881}\n",
      "1 {'label': 'LABEL_0', 'score': 0.6480569839477539}\n",
      "1 {'label': 'LABEL_1', 'score': 0.7798405289649963}\n",
      "1 {'label': 'LABEL_1', 'score': 0.6363369822502136}\n",
      "0 {'label': 'LABEL_2', 'score': 0.6784990429878235}\n",
      "2 {'label': 'LABEL_2', 'score': 0.9329962730407715}\n",
      "0 {'label': 'LABEL_1', 'score': 0.8399593830108643}\n",
      "2 {'label': 'LABEL_2', 'score': 0.9299479126930237}\n",
      "2 {'label': 'LABEL_2', 'score': 0.8977055549621582}\n",
      "0 {'label': 'LABEL_0', 'score': 0.6219849586486816}\n",
      "2 {'label': 'LABEL_2', 'score': 0.8917751908302307}\n",
      "2 {'label': 'LABEL_2', 'score': 0.9428774118423462}\n",
      "1 {'label': 'LABEL_2', 'score': 0.8451172113418579}\n",
      "1 {'label': 'LABEL_1', 'score': 0.9121618270874023}\n",
      "0 {'label': 'LABEL_0', 'score': 0.8989039659500122}\n",
      "1 {'label': 'LABEL_0', 'score': 0.971922755241394}\n",
      "0 {'label': 'LABEL_0', 'score': 0.606557309627533}\n",
      "2 {'label': 'LABEL_2', 'score': 0.9426143765449524}\n",
      "2 {'label': 'LABEL_2', 'score': 0.9116595387458801}\n",
      "0 {'label': 'LABEL_0', 'score': 0.9105046987533569}\n",
      "2 {'label': 'LABEL_1', 'score': 0.47922831773757935}\n",
      "0 {'label': 'LABEL_0', 'score': 0.6740646362304688}\n",
      "1 {'label': 'LABEL_0', 'score': 0.9715506434440613}\n",
      "0 {'label': 'LABEL_0', 'score': 0.9486207962036133}\n",
      "1 {'label': 'LABEL_0', 'score': 0.5573946833610535}\n",
      "1 {'label': 'LABEL_1', 'score': 0.9411379098892212}\n",
      "2 {'label': 'LABEL_2', 'score': 0.8319682478904724}\n",
      "2 {'label': 'LABEL_2', 'score': 0.8900529146194458}\n",
      "2 {'label': 'LABEL_2', 'score': 0.8077527284622192}\n",
      "1 {'label': 'LABEL_1', 'score': 0.9703613519668579}\n",
      "2 {'label': 'LABEL_2', 'score': 0.8826985955238342}\n",
      "0 {'label': 'LABEL_0', 'score': 0.9421338438987732}\n",
      "0 {'label': 'LABEL_0', 'score': 0.9541886448860168}\n",
      "0 {'label': 'LABEL_0', 'score': 0.9819210171699524}\n",
      "2 {'label': 'LABEL_2', 'score': 0.568452000617981}\n",
      "0 {'label': 'LABEL_0', 'score': 0.9477291107177734}\n",
      "0 {'label': 'LABEL_0', 'score': 0.9694448113441467}\n",
      "0 {'label': 'LABEL_2', 'score': 0.9354433417320251}\n",
      "1 {'label': 'LABEL_1', 'score': 0.8215214610099792}\n",
      "0 {'label': 'LABEL_1', 'score': 0.7298756241798401}\n",
      "1 {'label': 'LABEL_2', 'score': 0.8034627437591553}\n",
      "1 {'label': 'LABEL_1', 'score': 0.9213411211967468}\n",
      "2 {'label': 'LABEL_2', 'score': 0.9476308226585388}\n",
      "2 {'label': 'LABEL_2', 'score': 0.9177968502044678}\n"
     ]
    }
   ],
   "source": [
    "for i in range(len(split['test']['label'])):\n",
    "    print (split['test']['label'][i], test_pred[i])"
   ]
  },
  {
   "cell_type": "markdown",
   "id": "e1391c35-3b1d-4e67-b069-71e081e7739b",
   "metadata": {
    "tags": []
   },
   "source": [
    "#### Graph"
   ]
  },
  {
   "cell_type": "code",
   "execution_count": 106,
   "id": "bddaa43f-06fb-46bf-9c9e-6f95d5cf785b",
   "metadata": {
    "tags": []
   },
   "outputs": [],
   "source": [
    "def get_label(d):\n",
    "    return int(d['label'].split('_')[1])\n",
    "\n",
    "test_pred = [get_label(d) for d in test_pred]"
   ]
  },
  {
   "cell_type": "code",
   "execution_count": 107,
   "id": "2d8a50c0-69e6-440f-a849-f1cf91f032c2",
   "metadata": {
    "tags": []
   },
   "outputs": [
    {
     "name": "stdout",
     "output_type": "stream",
     "text": [
      "acc: 0.7777777777777778\n"
     ]
    }
   ],
   "source": [
    "print(\"acc:\", accuracy_score(split['test']['label'], test_pred))"
   ]
  },
  {
   "cell_type": "code",
   "execution_count": 108,
   "id": "d4447305-0e85-4267-a2ce-87867711658f",
   "metadata": {
    "tags": []
   },
   "outputs": [
    {
     "name": "stdout",
     "output_type": "stream",
     "text": [
      "f1: 0.7670583384869101\n"
     ]
    }
   ],
   "source": [
    "print(\"f1:\", f1_score(split['test']['label'], test_pred, average='macro'))"
   ]
  },
  {
   "cell_type": "code",
   "execution_count": 109,
   "id": "316c866b-ebf0-4da1-8fb7-4a652442c72b",
   "metadata": {
    "tags": []
   },
   "outputs": [
    {
     "data": {
      "image/png": "[encoded data removed]",
      "text/plain": [
       "<Figure size 640x480 with 2 Axes>"
      ]
     },
     "metadata": {},
     "output_type": "display_data"
    }
   ],
   "source": [
    "# Scikit-Learn is transitioning to V1 but it's not available on Colab\n",
    "# The changes modify how confusion matrices are plotted\n",
    "def plot_cm(cm):\n",
    "    classes = ['dovish', 'neutral', 'hawkish']\n",
    "    df_cm = pd.DataFrame(cm, index=classes, columns=classes)\n",
    "    ax = sn.heatmap(df_cm, annot=True, fmt='g')\n",
    "    ax.set_xlabel(\"Predicted\")\n",
    "    ax.set_ylabel(\"Target\")\n",
    "\n",
    "cm = confusion_matrix(split['test']['label'], test_pred, normalize='true')\n",
    "plot_cm(cm)"
   ]
  },
  {
   "cell_type": "code",
   "execution_count": null,
   "id": "a3a645fc-0661-40d7-ae7b-0f9f04bc8286",
   "metadata": {},
   "outputs": [],
   "source": []
  },
  {
   "cell_type": "code",
   "execution_count": null,
   "id": "03768b35-c4a3-44be-b00e-8f9fce9fc737",
   "metadata": {},
   "outputs": [],
   "source": []
  },
  {
   "cell_type": "code",
   "execution_count": null,
   "id": "3173d8c7-0170-4f2f-a313-e3beff921beb",
   "metadata": {},
   "outputs": [],
   "source": []
  },
  {
   "cell_type": "code",
   "execution_count": null,
   "id": "a11aecab-5b3a-450d-bddd-2390572a1f57",
   "metadata": {},
   "outputs": [],
   "source": []
  },
  {
   "cell_type": "code",
   "execution_count": null,
   "id": "40c57d64-b7fd-4a92-8b8c-d431310ddd7f",
   "metadata": {},
   "outputs": [],
   "source": []
  },
  {
   "cell_type": "code",
   "execution_count": null,
   "id": "13dc2822-40fc-4f5e-957c-06b27a41a654",
   "metadata": {},
   "outputs": [],
   "source": []
  },
  {
   "cell_type": "code",
   "execution_count": null,
   "id": "c6e0e8aa-58cf-4a6c-8b40-9bd907f525e9",
   "metadata": {},
   "outputs": [],
   "source": []
  },
  {
   "cell_type": "code",
   "execution_count": null,
   "id": "f129932c-1a6e-47fb-807a-122411962648",
   "metadata": {},
   "outputs": [],
   "source": []
  }
 ],
 "metadata": {
  "kernelspec": {
   "display_name": "Python 3 (ipykernel)",
   "language": "python",
   "name": "python3"
  },
  "language_info": {
   "codemirror_mode": {
    "name": "ipython",
    "version": 3
   },
   "file_extension": ".py",
   "mimetype": "text/x-python",
   "name": "python",
   "nbconvert_exporter": "python",
   "pygments_lexer": "ipython3",
   "version": "3.11.3"
  }
 },
 "nbformat": 4,
 "nbformat_minor": 5
}

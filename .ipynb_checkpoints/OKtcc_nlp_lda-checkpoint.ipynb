{
 "cells": [
  {
   "cell_type": "markdown",
   "id": "791f0e12-bbb6-4bcb-8a2e-1048ab03bbd2",
   "metadata": {},
   "source": [
    "# LDA"
   ]
  },
  {
   "cell_type": "code",
   "execution_count": 54,
   "id": "5a418dd8-90ca-41b5-b4ea-9638598d471d",
   "metadata": {},
   "outputs": [],
   "source": [
    "import pandas as pd\n",
    "import numpy as np\n",
    "import random"
   ]
  },
  {
   "cell_type": "code",
   "execution_count": 77,
   "id": "d116ad26-12a3-487c-9b47-5f9abe2b6a14",
   "metadata": {},
   "outputs": [],
   "source": [
    "df_copom = pd.read_csv('df_copom.csv')"
   ]
  },
  {
   "cell_type": "code",
   "execution_count": 78,
   "id": "60443267-16fc-4610-9633-d96d57c5a6d3",
   "metadata": {},
   "outputs": [
    {
     "data": {
      "text/html": [
       "<div>\n",
       "<style scoped>\n",
       "    .dataframe tbody tr th:only-of-type {\n",
       "        vertical-align: middle;\n",
       "    }\n",
       "\n",
       "    .dataframe tbody tr th {\n",
       "        vertical-align: top;\n",
       "    }\n",
       "\n",
       "    .dataframe thead th {\n",
       "        text-align: right;\n",
       "    }\n",
       "</style>\n",
       "<table border=\"1\" class=\"dataframe\">\n",
       "  <thead>\n",
       "    <tr style=\"text-align: right;\">\n",
       "      <th></th>\n",
       "      <th>Date</th>\n",
       "      <th>Selic</th>\n",
       "      <th>Meeting_Number</th>\n",
       "      <th>Decision</th>\n",
       "      <th>Decision_txt</th>\n",
       "      <th>Text</th>\n",
       "      <th>Type</th>\n",
       "    </tr>\n",
       "  </thead>\n",
       "  <tbody>\n",
       "    <tr>\n",
       "      <th>114</th>\n",
       "      <td>2020/08/05</td>\n",
       "      <td>2.00</td>\n",
       "      <td>232.0</td>\n",
       "      <td>-0.25</td>\n",
       "      <td>decrease</td>\n",
       "      <td>1. Regarding the global outlook, the Covid-19 ...</td>\n",
       "      <td>Minutes</td>\n",
       "    </tr>\n",
       "    <tr>\n",
       "      <th>116</th>\n",
       "      <td>2020/09/16</td>\n",
       "      <td>2.00</td>\n",
       "      <td>233.0</td>\n",
       "      <td>0.00</td>\n",
       "      <td>mantain</td>\n",
       "      <td>A) Update of economic outlook and Copom’s base...</td>\n",
       "      <td>Minutes</td>\n",
       "    </tr>\n",
       "    <tr>\n",
       "      <th>118</th>\n",
       "      <td>2020/10/28</td>\n",
       "      <td>2.00</td>\n",
       "      <td>234.0</td>\n",
       "      <td>0.00</td>\n",
       "      <td>mantain</td>\n",
       "      <td>A) Update of economic outlook and Copom’s base...</td>\n",
       "      <td>Minutes</td>\n",
       "    </tr>\n",
       "    <tr>\n",
       "      <th>120</th>\n",
       "      <td>2020/12/09</td>\n",
       "      <td>2.00</td>\n",
       "      <td>235.0</td>\n",
       "      <td>0.00</td>\n",
       "      <td>mantain</td>\n",
       "      <td>A) Update of economic outlook and Copom’s base...</td>\n",
       "      <td>Minutes</td>\n",
       "    </tr>\n",
       "    <tr>\n",
       "      <th>122</th>\n",
       "      <td>2021/01/20</td>\n",
       "      <td>2.00</td>\n",
       "      <td>236.0</td>\n",
       "      <td>0.00</td>\n",
       "      <td>mantain</td>\n",
       "      <td>A) Update of economic outlook and Copom’s base...</td>\n",
       "      <td>Minutes</td>\n",
       "    </tr>\n",
       "    <tr>\n",
       "      <th>123</th>\n",
       "      <td>2021/03/17</td>\n",
       "      <td>2.75</td>\n",
       "      <td>237.0</td>\n",
       "      <td>0.75</td>\n",
       "      <td>increase</td>\n",
       "      <td>A) Update of economic outlook and Copom’s base...</td>\n",
       "      <td>Minutes</td>\n",
       "    </tr>\n",
       "    <tr>\n",
       "      <th>125</th>\n",
       "      <td>2021/05/05</td>\n",
       "      <td>3.50</td>\n",
       "      <td>238.0</td>\n",
       "      <td>0.75</td>\n",
       "      <td>increase</td>\n",
       "      <td>A) Update of economic outlook and Copom’s base...</td>\n",
       "      <td>Minutes</td>\n",
       "    </tr>\n",
       "    <tr>\n",
       "      <th>128</th>\n",
       "      <td>2021/06/16</td>\n",
       "      <td>4.25</td>\n",
       "      <td>239.0</td>\n",
       "      <td>0.75</td>\n",
       "      <td>increase</td>\n",
       "      <td>A) Update of economic outlook and Copom’s base...</td>\n",
       "      <td>Minutes</td>\n",
       "    </tr>\n",
       "    <tr>\n",
       "      <th>129</th>\n",
       "      <td>2021/08/04</td>\n",
       "      <td>5.25</td>\n",
       "      <td>240.0</td>\n",
       "      <td>1.00</td>\n",
       "      <td>increase</td>\n",
       "      <td>A) Update of economic outlook and Copom’s base...</td>\n",
       "      <td>Minutes</td>\n",
       "    </tr>\n",
       "    <tr>\n",
       "      <th>131</th>\n",
       "      <td>2021/09/22</td>\n",
       "      <td>6.25</td>\n",
       "      <td>241.0</td>\n",
       "      <td>1.00</td>\n",
       "      <td>increase</td>\n",
       "      <td>A) Update of economic outlook and Copom’s base...</td>\n",
       "      <td>Minutes</td>\n",
       "    </tr>\n",
       "    <tr>\n",
       "      <th>133</th>\n",
       "      <td>2021/10/27</td>\n",
       "      <td>7.75</td>\n",
       "      <td>242.0</td>\n",
       "      <td>1.50</td>\n",
       "      <td>increase</td>\n",
       "      <td>A) Update of economic outlook and Copom’s base...</td>\n",
       "      <td>Minutes</td>\n",
       "    </tr>\n",
       "    <tr>\n",
       "      <th>135</th>\n",
       "      <td>2021/12/08</td>\n",
       "      <td>9.25</td>\n",
       "      <td>243.0</td>\n",
       "      <td>1.50</td>\n",
       "      <td>increase</td>\n",
       "      <td>A) Update of economic outlook and Copom’s base...</td>\n",
       "      <td>Minutes</td>\n",
       "    </tr>\n",
       "    <tr>\n",
       "      <th>137</th>\n",
       "      <td>2022/02/02</td>\n",
       "      <td>10.75</td>\n",
       "      <td>244.0</td>\n",
       "      <td>1.50</td>\n",
       "      <td>increase</td>\n",
       "      <td>A) Update of economic outlook and Copom’s refe...</td>\n",
       "      <td>Minutes</td>\n",
       "    </tr>\n",
       "    <tr>\n",
       "      <th>140</th>\n",
       "      <td>2022/03/16</td>\n",
       "      <td>11.75</td>\n",
       "      <td>245.0</td>\n",
       "      <td>1.00</td>\n",
       "      <td>increase</td>\n",
       "      <td>A) Update of economic outlook and Copom’s scen...</td>\n",
       "      <td>Minutes</td>\n",
       "    </tr>\n",
       "    <tr>\n",
       "      <th>142</th>\n",
       "      <td>2022/05/04</td>\n",
       "      <td>12.75</td>\n",
       "      <td>246.0</td>\n",
       "      <td>1.00</td>\n",
       "      <td>increase</td>\n",
       "      <td>A) Update of economic outlook and Copom’s scen...</td>\n",
       "      <td>Minutes</td>\n",
       "    </tr>\n",
       "    <tr>\n",
       "      <th>144</th>\n",
       "      <td>2022/06/15</td>\n",
       "      <td>13.25</td>\n",
       "      <td>247.0</td>\n",
       "      <td>0.50</td>\n",
       "      <td>increase</td>\n",
       "      <td>A) Update of economic outlook and Copom’s scen...</td>\n",
       "      <td>Minutes</td>\n",
       "    </tr>\n",
       "    <tr>\n",
       "      <th>146</th>\n",
       "      <td>2022/08/03</td>\n",
       "      <td>13.75</td>\n",
       "      <td>248.0</td>\n",
       "      <td>0.50</td>\n",
       "      <td>increase</td>\n",
       "      <td>A) Update of economic outlook and Copom’s scen...</td>\n",
       "      <td>Minutes</td>\n",
       "    </tr>\n",
       "    <tr>\n",
       "      <th>147</th>\n",
       "      <td>2022/09/21</td>\n",
       "      <td>13.75</td>\n",
       "      <td>249.0</td>\n",
       "      <td>0.00</td>\n",
       "      <td>mantain</td>\n",
       "      <td>A) Update of economic outlook and Copom’s scen...</td>\n",
       "      <td>Minutes</td>\n",
       "    </tr>\n",
       "    <tr>\n",
       "      <th>150</th>\n",
       "      <td>2022/10/26</td>\n",
       "      <td>13.75</td>\n",
       "      <td>250.0</td>\n",
       "      <td>0.00</td>\n",
       "      <td>mantain</td>\n",
       "      <td>A) Update of economic outlook and Copom’s scen...</td>\n",
       "      <td>Minutes</td>\n",
       "    </tr>\n",
       "    <tr>\n",
       "      <th>152</th>\n",
       "      <td>2022/12/07</td>\n",
       "      <td>13.75</td>\n",
       "      <td>251.0</td>\n",
       "      <td>0.00</td>\n",
       "      <td>mantain</td>\n",
       "      <td>A) Update of economic outlook and Copom’s scen...</td>\n",
       "      <td>Minutes</td>\n",
       "    </tr>\n",
       "    <tr>\n",
       "      <th>153</th>\n",
       "      <td>2023/02/01</td>\n",
       "      <td>13.75</td>\n",
       "      <td>252.0</td>\n",
       "      <td>0.00</td>\n",
       "      <td>mantain</td>\n",
       "      <td>A) Update of economic outlook and Copom’s scen...</td>\n",
       "      <td>Minutes</td>\n",
       "    </tr>\n",
       "    <tr>\n",
       "      <th>155</th>\n",
       "      <td>2023/03/22</td>\n",
       "      <td>13.75</td>\n",
       "      <td>253.0</td>\n",
       "      <td>0.00</td>\n",
       "      <td>mantain</td>\n",
       "      <td>A) Update of economic outlook and Copom’s scen...</td>\n",
       "      <td>Minutes</td>\n",
       "    </tr>\n",
       "    <tr>\n",
       "      <th>158</th>\n",
       "      <td>2023/05/03</td>\n",
       "      <td>13.75</td>\n",
       "      <td>254.0</td>\n",
       "      <td>0.00</td>\n",
       "      <td>mantain</td>\n",
       "      <td>A) Update of economic outlook and Copom’s scen...</td>\n",
       "      <td>Minutes</td>\n",
       "    </tr>\n",
       "  </tbody>\n",
       "</table>\n",
       "</div>"
      ],
      "text/plain": [
       "           Date  Selic  Meeting_Number  Decision Decision_txt  \\\n",
       "114  2020/08/05   2.00           232.0     -0.25     decrease   \n",
       "116  2020/09/16   2.00           233.0      0.00      mantain   \n",
       "118  2020/10/28   2.00           234.0      0.00      mantain   \n",
       "120  2020/12/09   2.00           235.0      0.00      mantain   \n",
       "122  2021/01/20   2.00           236.0      0.00      mantain   \n",
       "123  2021/03/17   2.75           237.0      0.75     increase   \n",
       "125  2021/05/05   3.50           238.0      0.75     increase   \n",
       "128  2021/06/16   4.25           239.0      0.75     increase   \n",
       "129  2021/08/04   5.25           240.0      1.00     increase   \n",
       "131  2021/09/22   6.25           241.0      1.00     increase   \n",
       "133  2021/10/27   7.75           242.0      1.50     increase   \n",
       "135  2021/12/08   9.25           243.0      1.50     increase   \n",
       "137  2022/02/02  10.75           244.0      1.50     increase   \n",
       "140  2022/03/16  11.75           245.0      1.00     increase   \n",
       "142  2022/05/04  12.75           246.0      1.00     increase   \n",
       "144  2022/06/15  13.25           247.0      0.50     increase   \n",
       "146  2022/08/03  13.75           248.0      0.50     increase   \n",
       "147  2022/09/21  13.75           249.0      0.00      mantain   \n",
       "150  2022/10/26  13.75           250.0      0.00      mantain   \n",
       "152  2022/12/07  13.75           251.0      0.00      mantain   \n",
       "153  2023/02/01  13.75           252.0      0.00      mantain   \n",
       "155  2023/03/22  13.75           253.0      0.00      mantain   \n",
       "158  2023/05/03  13.75           254.0      0.00      mantain   \n",
       "\n",
       "                                                  Text     Type  \n",
       "114  1. Regarding the global outlook, the Covid-19 ...  Minutes  \n",
       "116  A) Update of economic outlook and Copom’s base...  Minutes  \n",
       "118  A) Update of economic outlook and Copom’s base...  Minutes  \n",
       "120  A) Update of economic outlook and Copom’s base...  Minutes  \n",
       "122  A) Update of economic outlook and Copom’s base...  Minutes  \n",
       "123  A) Update of economic outlook and Copom’s base...  Minutes  \n",
       "125  A) Update of economic outlook and Copom’s base...  Minutes  \n",
       "128  A) Update of economic outlook and Copom’s base...  Minutes  \n",
       "129  A) Update of economic outlook and Copom’s base...  Minutes  \n",
       "131  A) Update of economic outlook and Copom’s base...  Minutes  \n",
       "133  A) Update of economic outlook and Copom’s base...  Minutes  \n",
       "135  A) Update of economic outlook and Copom’s base...  Minutes  \n",
       "137  A) Update of economic outlook and Copom’s refe...  Minutes  \n",
       "140  A) Update of economic outlook and Copom’s scen...  Minutes  \n",
       "142  A) Update of economic outlook and Copom’s scen...  Minutes  \n",
       "144  A) Update of economic outlook and Copom’s scen...  Minutes  \n",
       "146  A) Update of economic outlook and Copom’s scen...  Minutes  \n",
       "147  A) Update of economic outlook and Copom’s scen...  Minutes  \n",
       "150  A) Update of economic outlook and Copom’s scen...  Minutes  \n",
       "152  A) Update of economic outlook and Copom’s scen...  Minutes  \n",
       "153  A) Update of economic outlook and Copom’s scen...  Minutes  \n",
       "155  A) Update of economic outlook and Copom’s scen...  Minutes  \n",
       "158  A) Update of economic outlook and Copom’s scen...  Minutes  "
      ]
     },
     "execution_count": 78,
     "metadata": {},
     "output_type": "execute_result"
    }
   ],
   "source": [
    "df_copom = df_copom[df_copom['Type'] == 'Minutes']\n",
    "df_copom"
   ]
  },
  {
   "cell_type": "code",
   "execution_count": 79,
   "id": "337fffae-4822-443f-8ded-5754339eecec",
   "metadata": {},
   "outputs": [],
   "source": [
    "from sklearn.feature_extraction.text import CountVectorizer"
   ]
  },
  {
   "cell_type": "code",
   "execution_count": 80,
   "id": "c174b528-3359-476e-afbe-3f2ff2ed2371",
   "metadata": {},
   "outputs": [],
   "source": [
    "cv = CountVectorizer(max_df=0.95, min_df=1, stop_words='english')"
   ]
  },
  {
   "cell_type": "code",
   "execution_count": 81,
   "id": "63153711-e1bc-4435-b548-61b79d2162f6",
   "metadata": {},
   "outputs": [],
   "source": [
    "dtm = cv.fit_transform(df_copom['Text'])"
   ]
  },
  {
   "cell_type": "code",
   "execution_count": 82,
   "id": "062dd028-8c02-4234-bd56-65180841cf03",
   "metadata": {},
   "outputs": [
    {
     "data": {
      "text/plain": [
       "<23x1910 sparse matrix of type '<class 'numpy.int64'>'\n",
       "\twith 9352 stored elements in Compressed Sparse Row format>"
      ]
     },
     "execution_count": 82,
     "metadata": {},
     "output_type": "execute_result"
    }
   ],
   "source": [
    "dtm"
   ]
  },
  {
   "cell_type": "code",
   "execution_count": 83,
   "id": "e42277cb-473e-4203-85ed-64c7bb770d0d",
   "metadata": {},
   "outputs": [],
   "source": [
    "from sklearn.decomposition import LatentDirichletAllocation"
   ]
  },
  {
   "cell_type": "code",
   "execution_count": 84,
   "id": "e32a39f4-b0f8-4280-a34b-b8a2798021d4",
   "metadata": {},
   "outputs": [],
   "source": [
    "LDA = LatentDirichletAllocation(n_components=3,random_state=123)"
   ]
  },
  {
   "cell_type": "code",
   "execution_count": 85,
   "id": "70383171-85fe-4bda-b2d8-4849f174065e",
   "metadata": {},
   "outputs": [
    {
     "data": {
      "text/plain": [
       "LatentDirichletAllocation(batch_size=128, doc_topic_prior=None,\n",
       "             evaluate_every=-1, learning_decay=0.7,\n",
       "             learning_method='batch', learning_offset=10.0,\n",
       "             max_doc_update_iter=100, max_iter=10, mean_change_tol=0.001,\n",
       "             n_components=3, n_jobs=None, n_topics=None, perp_tol=0.1,\n",
       "             random_state=123, topic_word_prior=None,\n",
       "             total_samples=1000000.0, verbose=0)"
      ]
     },
     "execution_count": 85,
     "metadata": {},
     "output_type": "execute_result"
    }
   ],
   "source": [
    "LDA.fit(dtm)"
   ]
  },
  {
   "cell_type": "code",
   "execution_count": 86,
   "id": "3bd1d3f3-8b83-4605-b672-218dee693941",
   "metadata": {},
   "outputs": [
    {
     "data": {
      "text/plain": [
       "1910"
      ]
     },
     "execution_count": 86,
     "metadata": {},
     "output_type": "execute_result"
    }
   ],
   "source": [
    "len(cv.get_feature_names())"
   ]
  },
  {
   "cell_type": "code",
   "execution_count": 87,
   "id": "cd716a9b-6f4f-4cde-88af-2beaf3dda9fc",
   "metadata": {},
   "outputs": [
    {
     "name": "stdout",
     "output_type": "stream",
     "text": [
      "departmentgilneu\n",
      "strongly\n",
      "compromise\n",
      "especially\n",
      "manoel\n",
      "implicit\n"
     ]
    },
    {
     "ename": "IndexError",
     "evalue": "list index out of range",
     "output_type": "error",
     "traceback": [
      "\u001b[1;31m---------------------------------------------------------------------------\u001b[0m",
      "\u001b[1;31mIndexError\u001b[0m                                Traceback (most recent call last)",
      "\u001b[1;32m~\\AppData\\Local\\Temp\\ipykernel_42056\\585762097.py\u001b[0m in \u001b[0;36m<module>\u001b[1;34m\u001b[0m\n\u001b[0;32m      1\u001b[0m \u001b[1;32mfor\u001b[0m \u001b[0mi\u001b[0m \u001b[1;32min\u001b[0m \u001b[0mrange\u001b[0m\u001b[1;33m(\u001b[0m\u001b[1;36m10\u001b[0m\u001b[1;33m)\u001b[0m\u001b[1;33m:\u001b[0m\u001b[1;33m\u001b[0m\u001b[1;33m\u001b[0m\u001b[0m\n\u001b[0;32m      2\u001b[0m     \u001b[0mrandom_word_id\u001b[0m \u001b[1;33m=\u001b[0m \u001b[0mrandom\u001b[0m\u001b[1;33m.\u001b[0m\u001b[0mrandint\u001b[0m\u001b[1;33m(\u001b[0m\u001b[1;36m0\u001b[0m\u001b[1;33m,\u001b[0m\u001b[1;36m2403\u001b[0m\u001b[1;33m)\u001b[0m\u001b[1;33m\u001b[0m\u001b[1;33m\u001b[0m\u001b[0m\n\u001b[1;32m----> 3\u001b[1;33m     \u001b[0mprint\u001b[0m\u001b[1;33m(\u001b[0m\u001b[0mcv\u001b[0m\u001b[1;33m.\u001b[0m\u001b[0mget_feature_names\u001b[0m\u001b[1;33m(\u001b[0m\u001b[1;33m)\u001b[0m\u001b[1;33m[\u001b[0m\u001b[0mrandom_word_id\u001b[0m\u001b[1;33m]\u001b[0m\u001b[1;33m)\u001b[0m\u001b[1;33m\u001b[0m\u001b[1;33m\u001b[0m\u001b[0m\n\u001b[0m",
      "\u001b[1;31mIndexError\u001b[0m: list index out of range"
     ]
    }
   ],
   "source": [
    "for i in range(10):\n",
    "    random_word_id = random.randint(0,2403)\n",
    "    print(cv.get_feature_names()[random_word_id])"
   ]
  },
  {
   "cell_type": "code",
   "execution_count": 88,
   "id": "83361112-c85c-4b54-b432-ad601a26c7d1",
   "metadata": {},
   "outputs": [
    {
     "data": {
      "text/plain": [
       "3"
      ]
     },
     "execution_count": 88,
     "metadata": {},
     "output_type": "execute_result"
    }
   ],
   "source": [
    "len(LDA.components_)"
   ]
  },
  {
   "cell_type": "code",
   "execution_count": 89,
   "id": "31fd21ea-5fd7-44bf-ae64-7f40e65c11c5",
   "metadata": {},
   "outputs": [
    {
     "data": {
      "text/plain": [
       "1910"
      ]
     },
     "execution_count": 89,
     "metadata": {},
     "output_type": "execute_result"
    }
   ],
   "source": [
    "len(LDA.components_[0])"
   ]
  },
  {
   "cell_type": "code",
   "execution_count": 90,
   "id": "dcdbdfe8-177c-4cf3-a288-03bf0b219a11",
   "metadata": {},
   "outputs": [
    {
     "data": {
      "text/plain": [
       "array([[ 3.15464938,  0.33334159,  0.33333611, ...,  0.33333562,\n",
       "         6.33332101,  2.33093657],\n",
       "       [ 9.50801129,  0.55932442,  0.33333866, ...,  0.33333749,\n",
       "         0.33333938,  0.33572165],\n",
       "       [15.33733933,  2.10733399,  1.33332523, ...,  4.33332689,\n",
       "         0.33333961,  0.33334178]])"
      ]
     },
     "execution_count": 90,
     "metadata": {},
     "output_type": "execute_result"
    }
   ],
   "source": [
    "LDA.components_"
   ]
  },
  {
   "cell_type": "code",
   "execution_count": 91,
   "id": "46ff5835-297a-4f76-99f7-5664ecf4692e",
   "metadata": {},
   "outputs": [],
   "source": [
    "single_topic = LDA.components_[0]"
   ]
  },
  {
   "cell_type": "code",
   "execution_count": 92,
   "id": "929ed70d-a019-4b9b-9ae6-1ef4d1722f72",
   "metadata": {},
   "outputs": [
    {
     "data": {
      "text/plain": [
       "array([ 962,  954, 1209, ...,   37,   35,  943], dtype=int64)"
      ]
     },
     "execution_count": 92,
     "metadata": {},
     "output_type": "execute_result"
    }
   ],
   "source": [
    "single_topic.argsort()"
   ]
  },
  {
   "cell_type": "code",
   "execution_count": 93,
   "id": "ea9801b9-0706-45e2-9774-c2bf4ee37baa",
   "metadata": {},
   "outputs": [],
   "source": [
    "top_word_indices = single_topic.argsort()[-10:]"
   ]
  },
  {
   "cell_type": "code",
   "execution_count": 94,
   "id": "3971c20b-c2ca-43ac-af58-c64f0b863c00",
   "metadata": {},
   "outputs": [
    {
     "name": "stdout",
     "output_type": "stream",
     "text": [
      "cycle\n",
      "period\n",
      "greater\n",
      "scenarios\n",
      "tightening\n",
      "pressures\n",
      "uncertainty\n",
      "2024\n",
      "2023\n",
      "inflationary\n"
     ]
    }
   ],
   "source": [
    "for index in top_word_indices:\n",
    "    print(cv.get_feature_names()[index])"
   ]
  },
  {
   "cell_type": "code",
   "execution_count": 95,
   "id": "5bdb591f-e689-40e1-b6a2-471f2a52785a",
   "metadata": {},
   "outputs": [
    {
     "name": "stdout",
     "output_type": "stream",
     "text": [
      "THE TOP 15 WORDS FOR TOPIC #0\n",
      "['emphasizes', 'labor', 'deceleration', 'strategy', 'remain', 'quarter', 'impacts', 'longer', 'financial', 'continues', 'cycle', 'period', 'greater', 'scenarios', 'tightening', 'pressures', 'uncertainty', '2024', '2023', 'inflationary']\n",
      "\n",
      "\n",
      "THE TOP 15 WORDS FOR TOPIC #1\n",
      "['result', 'reference', 'pace', 'pandemic', 'upward', 'usd', 'scenarios', 'future', 'evolution', 'price', 'recovery', 'second', 'normalization', 'adjustment', '2021', 'regarding', 'tightening', 'appropriate', '2023', 'baseline']\n",
      "\n",
      "\n",
      "THE TOP 15 WORDS FOR TOPIC #2\n",
      "['sectors', 'transfer', 'remain', 'necessary', 'conditions', 'continue', 'financial', 'uncertainty', 'programs', 'regarding', '2020', 'slack', 'guidance', 'forward', 'evolution', 'stimulus', 'pandemic', 'recovery', '2021', 'baseline']\n",
      "\n",
      "\n"
     ]
    }
   ],
   "source": [
    "for index,topic in enumerate(LDA.components_):\n",
    "    print(f'THE TOP 15 WORDS FOR TOPIC #{index}')\n",
    "    print([cv.get_feature_names()[i] for i in topic.argsort()[-20:]])\n",
    "    print('\\n')"
   ]
  },
  {
   "cell_type": "code",
   "execution_count": 96,
   "id": "44b194aa-0a91-4f07-a61d-bf901d9a4e2c",
   "metadata": {},
   "outputs": [],
   "source": [
    "topic_results = LDA.transform(dtm)"
   ]
  },
  {
   "cell_type": "code",
   "execution_count": 97,
   "id": "6ab6111f-3a5a-4d52-a7e5-56e9159bdda8",
   "metadata": {},
   "outputs": [
    {
     "data": {
      "text/plain": [
       "2"
      ]
     },
     "execution_count": 97,
     "metadata": {},
     "output_type": "execute_result"
    }
   ],
   "source": [
    "topic_results[0].argmax()"
   ]
  },
  {
   "cell_type": "code",
   "execution_count": 98,
   "id": "d98731b7-62a0-4ab4-b12c-0a9122f9ff8f",
   "metadata": {},
   "outputs": [
    {
     "data": {
      "text/plain": [
       "array([2, 2, 2, 2, 2, 2, 1, 1, 1, 1, 1, 1, 1, 1, 0, 0, 0, 0, 0, 0, 0, 0,\n",
       "       0], dtype=int64)"
      ]
     },
     "execution_count": 98,
     "metadata": {},
     "output_type": "execute_result"
    }
   ],
   "source": [
    "topic_results.argmax(axis=1)"
   ]
  },
  {
   "cell_type": "code",
   "execution_count": 99,
   "id": "f3876d3e-0dd1-41c2-b416-5a0282ac3ffa",
   "metadata": {},
   "outputs": [
    {
     "data": {
      "text/html": [
       "<div>\n",
       "<style scoped>\n",
       "    .dataframe tbody tr th:only-of-type {\n",
       "        vertical-align: middle;\n",
       "    }\n",
       "\n",
       "    .dataframe tbody tr th {\n",
       "        vertical-align: top;\n",
       "    }\n",
       "\n",
       "    .dataframe thead th {\n",
       "        text-align: right;\n",
       "    }\n",
       "</style>\n",
       "<table border=\"1\" class=\"dataframe\">\n",
       "  <thead>\n",
       "    <tr style=\"text-align: right;\">\n",
       "      <th></th>\n",
       "      <th>Decision_txt</th>\n",
       "      <th>LDA</th>\n",
       "    </tr>\n",
       "  </thead>\n",
       "  <tbody>\n",
       "    <tr>\n",
       "      <th>114</th>\n",
       "      <td>decrease</td>\n",
       "      <td>2</td>\n",
       "    </tr>\n",
       "    <tr>\n",
       "      <th>116</th>\n",
       "      <td>mantain</td>\n",
       "      <td>2</td>\n",
       "    </tr>\n",
       "    <tr>\n",
       "      <th>118</th>\n",
       "      <td>mantain</td>\n",
       "      <td>2</td>\n",
       "    </tr>\n",
       "    <tr>\n",
       "      <th>120</th>\n",
       "      <td>mantain</td>\n",
       "      <td>2</td>\n",
       "    </tr>\n",
       "    <tr>\n",
       "      <th>122</th>\n",
       "      <td>mantain</td>\n",
       "      <td>2</td>\n",
       "    </tr>\n",
       "    <tr>\n",
       "      <th>123</th>\n",
       "      <td>increase</td>\n",
       "      <td>2</td>\n",
       "    </tr>\n",
       "    <tr>\n",
       "      <th>125</th>\n",
       "      <td>increase</td>\n",
       "      <td>1</td>\n",
       "    </tr>\n",
       "    <tr>\n",
       "      <th>128</th>\n",
       "      <td>increase</td>\n",
       "      <td>1</td>\n",
       "    </tr>\n",
       "    <tr>\n",
       "      <th>129</th>\n",
       "      <td>increase</td>\n",
       "      <td>1</td>\n",
       "    </tr>\n",
       "    <tr>\n",
       "      <th>131</th>\n",
       "      <td>increase</td>\n",
       "      <td>1</td>\n",
       "    </tr>\n",
       "    <tr>\n",
       "      <th>133</th>\n",
       "      <td>increase</td>\n",
       "      <td>1</td>\n",
       "    </tr>\n",
       "    <tr>\n",
       "      <th>135</th>\n",
       "      <td>increase</td>\n",
       "      <td>1</td>\n",
       "    </tr>\n",
       "    <tr>\n",
       "      <th>137</th>\n",
       "      <td>increase</td>\n",
       "      <td>1</td>\n",
       "    </tr>\n",
       "    <tr>\n",
       "      <th>140</th>\n",
       "      <td>increase</td>\n",
       "      <td>1</td>\n",
       "    </tr>\n",
       "    <tr>\n",
       "      <th>142</th>\n",
       "      <td>increase</td>\n",
       "      <td>0</td>\n",
       "    </tr>\n",
       "    <tr>\n",
       "      <th>144</th>\n",
       "      <td>increase</td>\n",
       "      <td>0</td>\n",
       "    </tr>\n",
       "    <tr>\n",
       "      <th>146</th>\n",
       "      <td>increase</td>\n",
       "      <td>0</td>\n",
       "    </tr>\n",
       "    <tr>\n",
       "      <th>147</th>\n",
       "      <td>mantain</td>\n",
       "      <td>0</td>\n",
       "    </tr>\n",
       "    <tr>\n",
       "      <th>150</th>\n",
       "      <td>mantain</td>\n",
       "      <td>0</td>\n",
       "    </tr>\n",
       "    <tr>\n",
       "      <th>152</th>\n",
       "      <td>mantain</td>\n",
       "      <td>0</td>\n",
       "    </tr>\n",
       "    <tr>\n",
       "      <th>153</th>\n",
       "      <td>mantain</td>\n",
       "      <td>0</td>\n",
       "    </tr>\n",
       "    <tr>\n",
       "      <th>155</th>\n",
       "      <td>mantain</td>\n",
       "      <td>0</td>\n",
       "    </tr>\n",
       "    <tr>\n",
       "      <th>158</th>\n",
       "      <td>mantain</td>\n",
       "      <td>0</td>\n",
       "    </tr>\n",
       "  </tbody>\n",
       "</table>\n",
       "</div>"
      ],
      "text/plain": [
       "    Decision_txt  LDA\n",
       "114     decrease    2\n",
       "116      mantain    2\n",
       "118      mantain    2\n",
       "120      mantain    2\n",
       "122      mantain    2\n",
       "123     increase    2\n",
       "125     increase    1\n",
       "128     increase    1\n",
       "129     increase    1\n",
       "131     increase    1\n",
       "133     increase    1\n",
       "135     increase    1\n",
       "137     increase    1\n",
       "140     increase    1\n",
       "142     increase    0\n",
       "144     increase    0\n",
       "146     increase    0\n",
       "147      mantain    0\n",
       "150      mantain    0\n",
       "152      mantain    0\n",
       "153      mantain    0\n",
       "155      mantain    0\n",
       "158      mantain    0"
      ]
     },
     "execution_count": 99,
     "metadata": {},
     "output_type": "execute_result"
    }
   ],
   "source": [
    "df_copom['LDA'] = topic_results.argmax(axis=1)\n",
    "df_copom[['Decision_txt','LDA']]"
   ]
  },
  {
   "cell_type": "markdown",
   "id": "d3c9822f-4889-40a4-82d6-755c6caf742b",
   "metadata": {},
   "source": [
    "# Non-Negative Matric Factorization"
   ]
  },
  {
   "cell_type": "code",
   "execution_count": 58,
   "id": "05471517-33f1-4e0b-8ebf-5097e0fc3374",
   "metadata": {},
   "outputs": [],
   "source": [
    "from sklearn.feature_extraction.text import TfidfVectorizer"
   ]
  },
  {
   "cell_type": "code",
   "execution_count": 59,
   "id": "f826c080-46ae-454b-b4c5-e9455bf14fef",
   "metadata": {},
   "outputs": [],
   "source": [
    "tfidf = TfidfVectorizer(max_df=0.95, min_df=1, stop_words='english')"
   ]
  },
  {
   "cell_type": "code",
   "execution_count": 60,
   "id": "6f485c16-0bb2-41f4-a831-fd28efbe1cfd",
   "metadata": {},
   "outputs": [],
   "source": [
    "dtm2 = tfidf.fit_transform(df_copom['Text'])"
   ]
  },
  {
   "cell_type": "code",
   "execution_count": 61,
   "id": "0e02eb5f-82b8-4949-a920-97ece0120814",
   "metadata": {},
   "outputs": [],
   "source": [
    "from sklearn.decomposition import NMF"
   ]
  },
  {
   "cell_type": "code",
   "execution_count": 62,
   "id": "0301988b-0c86-4394-9e55-98428fb314e0",
   "metadata": {},
   "outputs": [],
   "source": [
    "nmf_model = NMF(n_components=3,random_state=123)"
   ]
  },
  {
   "cell_type": "code",
   "execution_count": 64,
   "id": "80440e50-d1dd-4d13-a52b-213def85a003",
   "metadata": {},
   "outputs": [
    {
     "data": {
      "text/plain": [
       "NMF(alpha=0.0, beta_loss='frobenius', init=None, l1_ratio=0.0, max_iter=200,\n",
       "  n_components=3, random_state=123, shuffle=False, solver='cd', tol=0.0001,\n",
       "  verbose=0)"
      ]
     },
     "execution_count": 64,
     "metadata": {},
     "output_type": "execute_result"
    }
   ],
   "source": [
    "nmf_model.fit(dtm2)"
   ]
  },
  {
   "cell_type": "code",
   "execution_count": 65,
   "id": "943c7221-62ad-418e-8639-1ba9b35b8788",
   "metadata": {},
   "outputs": [
    {
     "name": "stdout",
     "output_type": "stream",
     "text": [
      "understanding\n",
      "expand\n",
      "inherently\n",
      "strongly\n",
      "andgiven\n",
      "implemented\n",
      "agriculture\n",
      "20th\n",
      "eugênio\n",
      "end\n"
     ]
    }
   ],
   "source": [
    "for i in range(10):\n",
    "    random_word_id = random.randint(0,2403)\n",
    "    print(tfidf.get_feature_names()[random_word_id])"
   ]
  },
  {
   "cell_type": "code",
   "execution_count": 66,
   "id": "d7894c3a-3741-49a6-8218-ff1f82c38593",
   "metadata": {},
   "outputs": [
    {
     "data": {
      "text/plain": [
       "array([[9.00084836e-02, 3.69296219e-03, 1.70899824e-03, ...,\n",
       "        3.09937891e-02, 5.95255438e-03, 2.74706313e-03],\n",
       "       [8.10096301e-02, 0.00000000e+00, 0.00000000e+00, ...,\n",
       "        0.00000000e+00, 0.00000000e+00, 0.00000000e+00],\n",
       "       [3.36432965e-02, 0.00000000e+00, 0.00000000e+00, ...,\n",
       "        0.00000000e+00, 0.00000000e+00, 1.97450392e-05]])"
      ]
     },
     "execution_count": 66,
     "metadata": {},
     "output_type": "execute_result"
    }
   ],
   "source": [
    "nmf_model.components_"
   ]
  },
  {
   "cell_type": "code",
   "execution_count": 67,
   "id": "4bc5389b-2f81-4769-b1d8-0ca339fec619",
   "metadata": {},
   "outputs": [],
   "source": [
    "single_topic2 = nmf_model.components_[0]"
   ]
  },
  {
   "cell_type": "code",
   "execution_count": 68,
   "id": "5a19da7d-d34c-47b9-b928-feb83cafe0d0",
   "metadata": {},
   "outputs": [],
   "source": [
    "top_word_indices2 = single_topic2.argsort()[-10:]"
   ]
  },
  {
   "cell_type": "code",
   "execution_count": 69,
   "id": "74ead0a6-a242-4b9b-aa77-5f57e1a546ea",
   "metadata": {},
   "outputs": [
    {
     "name": "stdout",
     "output_type": "stream",
     "text": [
      "expectations\n",
      "baseline\n",
      "risks\n",
      "rate\n",
      "economic\n",
      "monetary\n",
      "policy\n",
      "scenario\n",
      "committee\n",
      "inflation\n"
     ]
    }
   ],
   "source": [
    "for index in top_word_indices2:\n",
    "    print(tfidf.get_feature_names()[index])"
   ]
  },
  {
   "cell_type": "code",
   "execution_count": 70,
   "id": "470e4081-730e-4306-8be9-c742786c7f67",
   "metadata": {},
   "outputs": [
    {
     "name": "stdout",
     "output_type": "stream",
     "text": [
      "THE TOP 15 WORDS FOR TOPIC #0\n",
      "['2023', 'meeting', 'balance', '2022', 'projections', 'expectations', 'baseline', 'risks', 'rate', 'economic', 'monetary', 'policy', 'scenario', 'committee', 'inflation']\n",
      "\n",
      "\n",
      "THE TOP 15 WORDS FOR TOPIC #1\n",
      "['edson', 'feltrim', 'lopes', 'anthero', 'moraes', 'meirelles', 'awazu', 'alexandre', 'antonio', 'released', 'aldo', 'tombini', 'altamir', 'following', 'luiz']\n",
      "\n",
      "\n",
      "THE TOP 15 WORDS FOR TOPIC #2\n",
      "['reduce', 'action', 'target', 'monetary', 'march', 'released', 'macroeconomic', 'brasília', 'minutes', 'bias', 'points', 'percent', 'thursday', 'basis', 'votes']\n",
      "\n",
      "\n"
     ]
    }
   ],
   "source": [
    "for index,topic in enumerate(nmf_model.components_):\n",
    "    print(f'THE TOP 15 WORDS FOR TOPIC #{index}')\n",
    "    print([tfidf.get_feature_names()[i] for i in topic.argsort()[-15:]])\n",
    "    print('\\n')"
   ]
  },
  {
   "cell_type": "code",
   "execution_count": 72,
   "id": "c9359a73-9722-45f2-921e-066d076f8b2a",
   "metadata": {},
   "outputs": [],
   "source": [
    "topic_results2 = nmf_model.transform(dtm2)"
   ]
  },
  {
   "cell_type": "code",
   "execution_count": 74,
   "id": "85cbc93b-f121-45ff-a656-c4a670059185",
   "metadata": {},
   "outputs": [
    {
     "data": {
      "text/plain": [
       "array([2, 2, 2, 2, 2, 2, 2, 2, 2, 2, 2, 2, 2, 2, 2, 2, 2, 2, 2, 2, 2, 2,\n",
       "       2, 2, 2, 2, 2, 2, 2, 2, 2, 2, 2, 2, 2, 2, 2, 2, 2, 2, 2, 2, 2, 2,\n",
       "       2, 2, 2, 2, 2, 2, 1, 1, 1, 1, 1, 1, 1, 1, 1, 1, 1, 1, 1, 1, 1, 1,\n",
       "       1, 1, 1, 1, 1, 1, 1, 1, 1, 1, 1, 1, 1, 1, 1, 0, 0, 0, 0, 0, 0, 0,\n",
       "       0, 0, 0, 0, 0, 0, 0, 0, 0, 0, 0, 0, 0, 0, 0, 0, 0, 0, 0, 0, 0, 0,\n",
       "       0, 0, 0, 0, 0, 0, 0, 0, 0, 0, 0, 0, 0, 0, 0, 0, 0, 0, 0, 0, 0, 0,\n",
       "       0, 0, 0, 0, 0, 0, 0, 0, 0, 0, 0, 0, 0, 0, 0, 0, 0, 0, 0, 0, 0, 0,\n",
       "       0, 0, 0, 0, 0], dtype=int64)"
      ]
     },
     "execution_count": 74,
     "metadata": {},
     "output_type": "execute_result"
    }
   ],
   "source": [
    "topic_results2.argmax(axis=1)"
   ]
  },
  {
   "cell_type": "code",
   "execution_count": 73,
   "id": "27e6e7f3-481d-4412-98f2-f357cfe8f135",
   "metadata": {},
   "outputs": [
    {
     "data": {
      "text/html": [
       "<div>\n",
       "<style scoped>\n",
       "    .dataframe tbody tr th:only-of-type {\n",
       "        vertical-align: middle;\n",
       "    }\n",
       "\n",
       "    .dataframe tbody tr th {\n",
       "        vertical-align: top;\n",
       "    }\n",
       "\n",
       "    .dataframe thead th {\n",
       "        text-align: right;\n",
       "    }\n",
       "</style>\n",
       "<table border=\"1\" class=\"dataframe\">\n",
       "  <thead>\n",
       "    <tr style=\"text-align: right;\">\n",
       "      <th></th>\n",
       "      <th>Decision_txt</th>\n",
       "      <th>NMF</th>\n",
       "    </tr>\n",
       "  </thead>\n",
       "  <tbody>\n",
       "    <tr>\n",
       "      <th>0</th>\n",
       "      <td>decrease</td>\n",
       "      <td>2</td>\n",
       "    </tr>\n",
       "    <tr>\n",
       "      <th>1</th>\n",
       "      <td>decrease</td>\n",
       "      <td>2</td>\n",
       "    </tr>\n",
       "    <tr>\n",
       "      <th>2</th>\n",
       "      <td>decrease</td>\n",
       "      <td>2</td>\n",
       "    </tr>\n",
       "    <tr>\n",
       "      <th>3</th>\n",
       "      <td>decrease</td>\n",
       "      <td>2</td>\n",
       "    </tr>\n",
       "    <tr>\n",
       "      <th>4</th>\n",
       "      <td>decrease</td>\n",
       "      <td>2</td>\n",
       "    </tr>\n",
       "    <tr>\n",
       "      <th>...</th>\n",
       "      <td>...</td>\n",
       "      <td>...</td>\n",
       "    </tr>\n",
       "    <tr>\n",
       "      <th>154</th>\n",
       "      <td>mantain</td>\n",
       "      <td>0</td>\n",
       "    </tr>\n",
       "    <tr>\n",
       "      <th>155</th>\n",
       "      <td>mantain</td>\n",
       "      <td>0</td>\n",
       "    </tr>\n",
       "    <tr>\n",
       "      <th>156</th>\n",
       "      <td>mantain</td>\n",
       "      <td>0</td>\n",
       "    </tr>\n",
       "    <tr>\n",
       "      <th>157</th>\n",
       "      <td>mantain</td>\n",
       "      <td>0</td>\n",
       "    </tr>\n",
       "    <tr>\n",
       "      <th>158</th>\n",
       "      <td>mantain</td>\n",
       "      <td>0</td>\n",
       "    </tr>\n",
       "  </tbody>\n",
       "</table>\n",
       "<p>159 rows × 2 columns</p>\n",
       "</div>"
      ],
      "text/plain": [
       "    Decision_txt  NMF\n",
       "0       decrease    2\n",
       "1       decrease    2\n",
       "2       decrease    2\n",
       "3       decrease    2\n",
       "4       decrease    2\n",
       "..           ...  ...\n",
       "154      mantain    0\n",
       "155      mantain    0\n",
       "156      mantain    0\n",
       "157      mantain    0\n",
       "158      mantain    0\n",
       "\n",
       "[159 rows x 2 columns]"
      ]
     },
     "execution_count": 73,
     "metadata": {},
     "output_type": "execute_result"
    }
   ],
   "source": [
    "df_copom['NMF'] = topic_results2.argmax(axis=1)\n",
    "df_copom[['Decision_txt','NMF']]"
   ]
  },
  {
   "cell_type": "code",
   "execution_count": null,
   "id": "c9b9d33c-4652-4917-95f1-c3cbcd0ca03b",
   "metadata": {},
   "outputs": [],
   "source": []
  }
 ],
 "metadata": {
  "kernelspec": {
   "display_name": "Python 3 (ipykernel)",
   "language": "python",
   "name": "python3"
  },
  "language_info": {
   "codemirror_mode": {
    "name": "ipython",
    "version": 3
   },
   "file_extension": ".py",
   "mimetype": "text/x-python",
   "name": "python",
   "nbconvert_exporter": "python",
   "pygments_lexer": "ipython3",
   "version": "3.7.16"
  }
 },
 "nbformat": 4,
 "nbformat_minor": 5
}

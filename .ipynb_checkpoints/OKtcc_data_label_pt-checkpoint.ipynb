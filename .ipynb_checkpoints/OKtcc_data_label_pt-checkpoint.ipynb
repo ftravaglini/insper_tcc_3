{
 "cells": [
  {
   "cell_type": "markdown",
   "id": "0be5e8ee-9b71-4a32-85a5-06fd872202e1",
   "metadata": {},
   "source": [
    "# Tratamento de dados"
   ]
  },
  {
   "cell_type": "code",
   "execution_count": 1,
   "id": "1a8c7a6a-4bed-4912-a47f-5fa2294965bb",
   "metadata": {},
   "outputs": [],
   "source": [
    "import os\n",
    "import re\n",
    "import numpy as np\n",
    "import pandas as pd\n",
    "from bs4 import BeautifulSoup\n",
    "from datetime import datetime"
   ]
  },
  {
   "cell_type": "code",
   "execution_count": 2,
   "id": "aab44dff-1937-4a4c-84ec-2154152a4ed2",
   "metadata": {},
   "outputs": [
    {
     "name": "stderr",
     "output_type": "stream",
     "text": [
      "[nltk_data] Downloading package stopwords to\n",
      "[nltk_data]     C:\\Users\\ftrav\\AppData\\Roaming\\nltk_data...\n",
      "[nltk_data]   Package stopwords is already up-to-date!\n",
      "[nltk_data] Downloading package punkt to\n",
      "[nltk_data]     C:\\Users\\ftrav\\AppData\\Roaming\\nltk_data...\n",
      "[nltk_data]   Package punkt is already up-to-date!\n"
     ]
    },
    {
     "data": {
      "text/plain": [
       "True"
      ]
     },
     "execution_count": 2,
     "metadata": {},
     "output_type": "execute_result"
    }
   ],
   "source": [
    "import nltk\n",
    "from nltk.corpus import stopwords\n",
    "\n",
    "nltk.download('stopwords')\n",
    "nltk.download('punkt')"
   ]
  },
  {
   "cell_type": "code",
   "execution_count": 3,
   "id": "2bd9064c-563d-4c6d-ad8e-30b91728b66c",
   "metadata": {},
   "outputs": [],
   "source": [
    "def count_words(text):\n",
    "    words = text.split()\n",
    "    return len(words)"
   ]
  },
  {
   "cell_type": "code",
   "execution_count": 4,
   "id": "84a78898-8211-4095-9086-8c5334381f2e",
   "metadata": {},
   "outputs": [],
   "source": [
    "def cut_voters(text):\n",
    "    regex = re.compile('(?P<voters>.+) Votaram por essa decisão')\n",
    "    try:\n",
    "        text_cut = regex.search(str(text)).group('voters')\n",
    "    except:\n",
    "        text_cut = text\n",
    "    return text_cut"
   ]
  },
  {
   "cell_type": "code",
   "execution_count": 5,
   "id": "2212d8a9-8377-4620-b674-69a4aecde106",
   "metadata": {
    "tags": []
   },
   "outputs": [],
   "source": [
    "def extract_meeting_number(sentence):\n",
    "    match = re.search(r'\\d+', sentence)\n",
    "    if match:\n",
    "        return match.group()\n",
    "    else:\n",
    "        return None"
   ]
  },
  {
   "cell_type": "code",
   "execution_count": 6,
   "id": "8a183fd6-2087-475c-85eb-ebf9398d91fe",
   "metadata": {},
   "outputs": [],
   "source": [
    "def preprocess_text(text):\n",
    "\n",
    "    # Remove newline characters\n",
    "    text = re.sub(r'\\n', ' ', text)\n",
    "\n",
    "    # Remove tab characters\n",
    "    text = re.sub(r'\\t', ' ', text)\n",
    "\n",
    "    # Remove Unicode characters\n",
    "    # text = re.sub(r'[^\\x00-\\x7F]+', '', text)\n",
    "\n",
    "    # Convert text to lowercase\n",
    "    text = text.lower()\n",
    "\n",
    "    # Tokenize text into individual words\n",
    "    words = nltk.word_tokenize(text)\n",
    "\n",
    "    # Remove stopwords\n",
    "    stop_words = set(stopwords.words('portuguese'))\n",
    "    stop_words.discard('sem')\n",
    "    stop_words.discard('com')\n",
    "    stop_words.discard('até')\n",
    "    stop_words.discard('por')\n",
    "    words = [word for word in words if word not in stop_words]\n",
    "\n",
    "    # Join the words back into a single string\n",
    "    processed_text = ' '.join(words)\n",
    "\n",
    "    return processed_text"
   ]
  },
  {
   "cell_type": "markdown",
   "id": "3b433c6e-1f16-4840-8a7f-f5c524aafde4",
   "metadata": {},
   "source": [
    "### Statements"
   ]
  },
  {
   "cell_type": "code",
   "execution_count": 7,
   "id": "50d847a1-47a6-4a94-880f-e1aa67fefe5c",
   "metadata": {},
   "outputs": [],
   "source": [
    "df_statements = pd.read_csv('comunicados.csv')"
   ]
  },
  {
   "cell_type": "code",
   "execution_count": 8,
   "id": "9325a567-c85e-4e7c-81bc-fd7759202101",
   "metadata": {
    "tags": []
   },
   "outputs": [
    {
     "data": {
      "text/html": [
       "<div>\n",
       "<style scoped>\n",
       "    .dataframe tbody tr th:only-of-type {\n",
       "        vertical-align: middle;\n",
       "    }\n",
       "\n",
       "    .dataframe tbody tr th {\n",
       "        vertical-align: top;\n",
       "    }\n",
       "\n",
       "    .dataframe thead th {\n",
       "        text-align: right;\n",
       "    }\n",
       "</style>\n",
       "<table border=\"1\" class=\"dataframe\">\n",
       "  <thead>\n",
       "    <tr style=\"text-align: right;\">\n",
       "      <th></th>\n",
       "      <th>Conteudo</th>\n",
       "      <th>Titulo</th>\n",
       "      <th>dataPublicacao</th>\n",
       "      <th>mostrarCabecalho</th>\n",
       "      <th>mostrarRodape</th>\n",
       "      <th>ultimaAtualizacao</th>\n",
       "    </tr>\n",
       "  </thead>\n",
       "  <tbody>\n",
       "    <tr>\n",
       "      <th>204</th>\n",
       "      <td>&lt;div&gt; &lt;p&gt;O Copom decidiu manter a meta da taxa...</td>\n",
       "      <td>Nota à Imprensa - 50ª. Reunião</td>\n",
       "      <td>2000-08-23T03:00:00Z</td>\n",
       "      <td>False</td>\n",
       "      <td>False</td>\n",
       "      <td>2016-10-18T20:01:17Z</td>\n",
       "    </tr>\n",
       "    <tr>\n",
       "      <th>205</th>\n",
       "      <td>&lt;div&gt; &lt;p&gt;O Copom decidiu alterar a meta da tax...</td>\n",
       "      <td>Nota à Imprensa - 49ª. Reunião</td>\n",
       "      <td>2000-07-19T03:00:00Z</td>\n",
       "      <td>False</td>\n",
       "      <td>False</td>\n",
       "      <td>2016-10-18T20:01:17Z</td>\n",
       "    </tr>\n",
       "    <tr>\n",
       "      <th>206</th>\n",
       "      <td>&lt;div&gt; &lt;p&gt;Os resultados recentes da inflação mu...</td>\n",
       "      <td>Nota à Imprensa - 48ª. Reunião</td>\n",
       "      <td>2000-06-20T03:00:00Z</td>\n",
       "      <td>False</td>\n",
       "      <td>False</td>\n",
       "      <td>2016-10-18T20:01:17Z</td>\n",
       "    </tr>\n",
       "    <tr>\n",
       "      <th>207</th>\n",
       "      <td>&lt;div&gt; &lt;p&gt;O Copom analisando os eventos recente...</td>\n",
       "      <td>Nota à Imprensa - 47ª. Reunião</td>\n",
       "      <td>2000-05-24T03:00:00Z</td>\n",
       "      <td>False</td>\n",
       "      <td>False</td>\n",
       "      <td>2016-10-18T20:01:17Z</td>\n",
       "    </tr>\n",
       "    <tr>\n",
       "      <th>208</th>\n",
       "      <td>&lt;div&gt; &lt;p&gt;Em que pese as recentes trajetórias f...</td>\n",
       "      <td>Nota à Imprensa - 46ª. Reunião</td>\n",
       "      <td>2000-04-19T03:00:00Z</td>\n",
       "      <td>False</td>\n",
       "      <td>False</td>\n",
       "      <td>2016-10-18T20:01:16Z</td>\n",
       "    </tr>\n",
       "  </tbody>\n",
       "</table>\n",
       "</div>"
      ],
      "text/plain": [
       "                                              Conteudo  \\\n",
       "204  <div> <p>O Copom decidiu manter a meta da taxa...   \n",
       "205  <div> <p>O Copom decidiu alterar a meta da tax...   \n",
       "206  <div> <p>Os resultados recentes da inflação mu...   \n",
       "207  <div> <p>O Copom analisando os eventos recente...   \n",
       "208  <div> <p>Em que pese as recentes trajetórias f...   \n",
       "\n",
       "                             Titulo        dataPublicacao  mostrarCabecalho  \\\n",
       "204  Nota à Imprensa - 50ª. Reunião  2000-08-23T03:00:00Z             False   \n",
       "205  Nota à Imprensa - 49ª. Reunião  2000-07-19T03:00:00Z             False   \n",
       "206  Nota à Imprensa - 48ª. Reunião  2000-06-20T03:00:00Z             False   \n",
       "207  Nota à Imprensa - 47ª. Reunião  2000-05-24T03:00:00Z             False   \n",
       "208  Nota à Imprensa - 46ª. Reunião  2000-04-19T03:00:00Z             False   \n",
       "\n",
       "     mostrarRodape     ultimaAtualizacao  \n",
       "204          False  2016-10-18T20:01:17Z  \n",
       "205          False  2016-10-18T20:01:17Z  \n",
       "206          False  2016-10-18T20:01:17Z  \n",
       "207          False  2016-10-18T20:01:17Z  \n",
       "208          False  2016-10-18T20:01:16Z  "
      ]
     },
     "execution_count": 8,
     "metadata": {},
     "output_type": "execute_result"
    }
   ],
   "source": [
    "df_statements.tail()"
   ]
  },
  {
   "cell_type": "code",
   "execution_count": 9,
   "id": "39068769-c25b-491e-b8e6-3fcd6ab518d1",
   "metadata": {
    "tags": []
   },
   "outputs": [
    {
     "data": {
      "text/plain": [
       "50     Copom reduz a taxa Selic para 13,00% ao ano\n",
       "51     Copom reduz a taxa Selic para 13,75% ao ano\n",
       "52     Copom reduz a taxa Selic para 14,00% ao ano\n",
       "53                 Nota à Imprensa - 201ª. Reunião\n",
       "54                 Nota à Imprensa - 200ª. Reunião\n",
       "                          ...                     \n",
       "204                 Nota à Imprensa - 50ª. Reunião\n",
       "205                 Nota à Imprensa - 49ª. Reunião\n",
       "206                 Nota à Imprensa - 48ª. Reunião\n",
       "207                 Nota à Imprensa - 47ª. Reunião\n",
       "208                 Nota à Imprensa - 46ª. Reunião\n",
       "Name: Titulo, Length: 159, dtype: object"
      ]
     },
     "execution_count": 9,
     "metadata": {},
     "output_type": "execute_result"
    }
   ],
   "source": [
    "df_statements.loc[50:,'Titulo']"
   ]
  },
  {
   "cell_type": "code",
   "execution_count": 10,
   "id": "0efddf47-8492-4c1b-b0a1-9c378c5339ca",
   "metadata": {
    "tags": []
   },
   "outputs": [],
   "source": [
    "df_statements['meeting_number'] = df_statements['Titulo'].apply(extract_meeting_number).astype(int)"
   ]
  },
  {
   "cell_type": "code",
   "execution_count": 11,
   "id": "bfdc940a-5dbe-418d-acf0-f4e8d02aecac",
   "metadata": {
    "tags": []
   },
   "outputs": [
    {
     "data": {
      "text/html": [
       "<div>\n",
       "<style scoped>\n",
       "    .dataframe tbody tr th:only-of-type {\n",
       "        vertical-align: middle;\n",
       "    }\n",
       "\n",
       "    .dataframe tbody tr th {\n",
       "        vertical-align: top;\n",
       "    }\n",
       "\n",
       "    .dataframe thead th {\n",
       "        text-align: right;\n",
       "    }\n",
       "</style>\n",
       "<table border=\"1\" class=\"dataframe\">\n",
       "  <thead>\n",
       "    <tr style=\"text-align: right;\">\n",
       "      <th></th>\n",
       "      <th>Conteudo</th>\n",
       "      <th>Titulo</th>\n",
       "      <th>dataPublicacao</th>\n",
       "      <th>mostrarCabecalho</th>\n",
       "      <th>mostrarRodape</th>\n",
       "      <th>ultimaAtualizacao</th>\n",
       "      <th>meeting_number</th>\n",
       "    </tr>\n",
       "  </thead>\n",
       "  <tbody>\n",
       "    <tr>\n",
       "      <th>0</th>\n",
       "      <td>&lt;p style=\"text-align&amp;#58;justify;\"&gt;O ambiente ...</td>\n",
       "      <td>Copom mantém a taxa Selic em 13,75% a.a.</td>\n",
       "      <td>2023-05-03T21:46:13Z</td>\n",
       "      <td>False</td>\n",
       "      <td>False</td>\n",
       "      <td>2023-05-03T21:46:14Z</td>\n",
       "      <td>13</td>\n",
       "    </tr>\n",
       "    <tr>\n",
       "      <th>1</th>\n",
       "      <td>&lt;p style=\"text-align&amp;#58;justify;\"&gt;Desde a reu...</td>\n",
       "      <td>Copom mantém a taxa Selic em 13,75% a.a.</td>\n",
       "      <td>2023-03-22T21:31:40Z</td>\n",
       "      <td>False</td>\n",
       "      <td>False</td>\n",
       "      <td>2023-03-22T21:31:41Z</td>\n",
       "      <td>13</td>\n",
       "    </tr>\n",
       "    <tr>\n",
       "      <th>2</th>\n",
       "      <td>&lt;p style=\"text-align&amp;#58;justify;\"&gt;Em sua 252ª...</td>\n",
       "      <td>Copom mantém a taxa Selic em 13,75% a.a.</td>\n",
       "      <td>2023-02-01T21:34:30Z</td>\n",
       "      <td>False</td>\n",
       "      <td>False</td>\n",
       "      <td>2023-02-01T21:34:30Z</td>\n",
       "      <td>13</td>\n",
       "    </tr>\n",
       "    <tr>\n",
       "      <th>3</th>\n",
       "      <td>&lt;p style=\"text-align&amp;#58;justify;\"&gt;Em sua 251ª...</td>\n",
       "      <td>Copom mantém a taxa Selic em 13,75% a.a.</td>\n",
       "      <td>2022-12-07T21:31:04Z</td>\n",
       "      <td>False</td>\n",
       "      <td>False</td>\n",
       "      <td>2022-12-07T21:31:04Z</td>\n",
       "      <td>13</td>\n",
       "    </tr>\n",
       "    <tr>\n",
       "      <th>4</th>\n",
       "      <td>&lt;p style=\"text-align&amp;#58;justify;\"&gt;Em sua 250ª...</td>\n",
       "      <td>Copom mantém a taxa Selic em 13,75% a.a.</td>\n",
       "      <td>2022-10-26T21:35:29Z</td>\n",
       "      <td>False</td>\n",
       "      <td>False</td>\n",
       "      <td>2022-10-26T21:35:30Z</td>\n",
       "      <td>13</td>\n",
       "    </tr>\n",
       "  </tbody>\n",
       "</table>\n",
       "</div>"
      ],
      "text/plain": [
       "                                            Conteudo  \\\n",
       "0  <p style=\"text-align&#58;justify;\">O ambiente ...   \n",
       "1  <p style=\"text-align&#58;justify;\">Desde a reu...   \n",
       "2  <p style=\"text-align&#58;justify;\">Em sua 252ª...   \n",
       "3  <p style=\"text-align&#58;justify;\">Em sua 251ª...   \n",
       "4  <p style=\"text-align&#58;justify;\">Em sua 250ª...   \n",
       "\n",
       "                                     Titulo        dataPublicacao  \\\n",
       "0  Copom mantém a taxa Selic em 13,75% a.a.  2023-05-03T21:46:13Z   \n",
       "1  Copom mantém a taxa Selic em 13,75% a.a.  2023-03-22T21:31:40Z   \n",
       "2  Copom mantém a taxa Selic em 13,75% a.a.  2023-02-01T21:34:30Z   \n",
       "3  Copom mantém a taxa Selic em 13,75% a.a.  2022-12-07T21:31:04Z   \n",
       "4  Copom mantém a taxa Selic em 13,75% a.a.  2022-10-26T21:35:29Z   \n",
       "\n",
       "   mostrarCabecalho  mostrarRodape     ultimaAtualizacao  meeting_number  \n",
       "0             False          False  2023-05-03T21:46:14Z              13  \n",
       "1             False          False  2023-03-22T21:31:41Z              13  \n",
       "2             False          False  2023-02-01T21:34:30Z              13  \n",
       "3             False          False  2022-12-07T21:31:04Z              13  \n",
       "4             False          False  2022-10-26T21:35:30Z              13  "
      ]
     },
     "execution_count": 11,
     "metadata": {},
     "output_type": "execute_result"
    }
   ],
   "source": [
    "df_statements.head()"
   ]
  },
  {
   "cell_type": "code",
   "execution_count": 12,
   "id": "774a4b40-48d9-47ed-bfd3-37e2ab6cb99d",
   "metadata": {
    "tags": []
   },
   "outputs": [
    {
     "data": {
      "text/plain": [
       "50      13\n",
       "51      13\n",
       "52      14\n",
       "53     201\n",
       "54     200\n",
       "      ... \n",
       "204     50\n",
       "205     49\n",
       "206     48\n",
       "207     47\n",
       "208     46\n",
       "Name: meeting_number, Length: 159, dtype: int32"
      ]
     },
     "execution_count": 12,
     "metadata": {},
     "output_type": "execute_result"
    }
   ],
   "source": [
    "df_statements.loc[50:,'meeting_number']"
   ]
  },
  {
   "cell_type": "code",
   "execution_count": 13,
   "id": "ac208b4b-375a-4c62-bf4f-61570b4b3429",
   "metadata": {
    "tags": []
   },
   "outputs": [],
   "source": [
    "for i in range(53, 0, -1):\n",
    "    number = df_statements.iloc[i, 6]\n",
    "    df_statements.iloc[i-1, 6] = number + 1"
   ]
  },
  {
   "cell_type": "code",
   "execution_count": 14,
   "id": "a7295e48-ddbc-426c-95ca-122fcda6f49d",
   "metadata": {
    "tags": []
   },
   "outputs": [
    {
     "data": {
      "text/plain": [
       "0      254\n",
       "1      253\n",
       "2      252\n",
       "3      251\n",
       "4      250\n",
       "      ... \n",
       "204     50\n",
       "205     49\n",
       "206     48\n",
       "207     47\n",
       "208     46\n",
       "Name: meeting_number, Length: 209, dtype: int32"
      ]
     },
     "execution_count": 14,
     "metadata": {},
     "output_type": "execute_result"
    }
   ],
   "source": [
    "df_statements.loc[:,'meeting_number']"
   ]
  },
  {
   "cell_type": "code",
   "execution_count": 15,
   "id": "8cbb4134-eb4a-4b68-b8b6-cbba2e28f69a",
   "metadata": {},
   "outputs": [],
   "source": [
    "df_statements['type'] = 'statement'\n",
    "df_statements[\"date\"] = df_statements[\"dataPublicacao\"].apply(pd.to_datetime, format='%Y-%m-%d %H:%M:%S.%f').dt.strftime('%Y/%m/%d')\n",
    "df_statements.drop(['dataPublicacao', 'Titulo', 'ultimaAtualizacao', 'mostrarCabecalho', 'mostrarRodape'], axis=1, inplace=True)"
   ]
  },
  {
   "cell_type": "code",
   "execution_count": 16,
   "id": "e35a2fa6-958a-4300-8805-c3f2db94aa0b",
   "metadata": {},
   "outputs": [],
   "source": [
    "df_statements.rename(columns={'Conteudo': 'text_raw'}, inplace=True)"
   ]
  },
  {
   "cell_type": "code",
   "execution_count": 17,
   "id": "b203be97-4d23-4ce0-8a4a-162fd281c0c3",
   "metadata": {
    "tags": []
   },
   "outputs": [],
   "source": [
    "# df_statements.sort_values('Date', inplace=True)\n",
    "# df_statements.set_index('Date', inplace=True)\n",
    "df_statements = df_statements.sort_values('meeting_number').copy()"
   ]
  },
  {
   "cell_type": "code",
   "execution_count": 18,
   "id": "cee3ef06-d029-4106-9b69-ffd88a597028",
   "metadata": {},
   "outputs": [],
   "source": [
    "df_statements['text_raw'] = df_statements['text_raw'].apply(lambda x: BeautifulSoup(x, features=\"html.parser\").get_text())"
   ]
  },
  {
   "cell_type": "code",
   "execution_count": 19,
   "id": "081153c5-e389-4c69-b2ff-7ab071865b90",
   "metadata": {
    "tags": []
   },
   "outputs": [
    {
     "data": {
      "text/html": [
       "<div>\n",
       "<style scoped>\n",
       "    .dataframe tbody tr th:only-of-type {\n",
       "        vertical-align: middle;\n",
       "    }\n",
       "\n",
       "    .dataframe tbody tr th {\n",
       "        vertical-align: top;\n",
       "    }\n",
       "\n",
       "    .dataframe thead th {\n",
       "        text-align: right;\n",
       "    }\n",
       "</style>\n",
       "<table border=\"1\" class=\"dataframe\">\n",
       "  <thead>\n",
       "    <tr style=\"text-align: right;\">\n",
       "      <th></th>\n",
       "      <th>text_raw</th>\n",
       "      <th>meeting_number</th>\n",
       "      <th>type</th>\n",
       "      <th>date</th>\n",
       "    </tr>\n",
       "  </thead>\n",
       "  <tbody>\n",
       "    <tr>\n",
       "      <th>208</th>\n",
       "      <td>Em que pese as recentes trajetórias favorávei...</td>\n",
       "      <td>46</td>\n",
       "      <td>statement</td>\n",
       "      <td>2000/04/19</td>\n",
       "    </tr>\n",
       "    <tr>\n",
       "      <th>207</th>\n",
       "      <td>O Copom analisando os eventos recentes e pros...</td>\n",
       "      <td>47</td>\n",
       "      <td>statement</td>\n",
       "      <td>2000/05/24</td>\n",
       "    </tr>\n",
       "    <tr>\n",
       "      <th>206</th>\n",
       "      <td>Os resultados recentes da inflação mudaram si...</td>\n",
       "      <td>48</td>\n",
       "      <td>statement</td>\n",
       "      <td>2000/06/20</td>\n",
       "    </tr>\n",
       "    <tr>\n",
       "      <th>205</th>\n",
       "      <td>O Copom decidiu alterar a meta da taxa Selic ...</td>\n",
       "      <td>49</td>\n",
       "      <td>statement</td>\n",
       "      <td>2000/07/19</td>\n",
       "    </tr>\n",
       "    <tr>\n",
       "      <th>204</th>\n",
       "      <td>O Copom decidiu manter a meta da taxa Selic e...</td>\n",
       "      <td>50</td>\n",
       "      <td>statement</td>\n",
       "      <td>2000/08/23</td>\n",
       "    </tr>\n",
       "  </tbody>\n",
       "</table>\n",
       "</div>"
      ],
      "text/plain": [
       "                                              text_raw  meeting_number  \\\n",
       "208   Em que pese as recentes trajetórias favorávei...              46   \n",
       "207   O Copom analisando os eventos recentes e pros...              47   \n",
       "206   Os resultados recentes da inflação mudaram si...              48   \n",
       "205   O Copom decidiu alterar a meta da taxa Selic ...              49   \n",
       "204   O Copom decidiu manter a meta da taxa Selic e...              50   \n",
       "\n",
       "          type        date  \n",
       "208  statement  2000/04/19  \n",
       "207  statement  2000/05/24  \n",
       "206  statement  2000/06/20  \n",
       "205  statement  2000/07/19  \n",
       "204  statement  2000/08/23  "
      ]
     },
     "execution_count": 19,
     "metadata": {},
     "output_type": "execute_result"
    }
   ],
   "source": [
    "df_statements.head()"
   ]
  },
  {
   "cell_type": "code",
   "execution_count": 20,
   "id": "b1b27da9-9b92-4534-ad76-8f5f11530366",
   "metadata": {},
   "outputs": [],
   "source": [
    "# df_statements['Text_raw'][208]"
   ]
  },
  {
   "cell_type": "code",
   "execution_count": 21,
   "id": "947e07d4-173d-4132-aaf2-c6635f40230c",
   "metadata": {},
   "outputs": [],
   "source": [
    "df_statements['text'] = df_statements['text_raw'].apply(cut_voters).apply(preprocess_text)"
   ]
  },
  {
   "cell_type": "code",
   "execution_count": 22,
   "id": "f62c9389-ba4b-42bf-9bd9-eb6c53e9cf22",
   "metadata": {},
   "outputs": [],
   "source": [
    "# df_statements['Text'][208]"
   ]
  },
  {
   "cell_type": "code",
   "execution_count": 23,
   "id": "97c0970e-75b5-4777-a40e-cf7778b05cb0",
   "metadata": {},
   "outputs": [],
   "source": [
    "df_statements['num_words'] = df_statements['text'].apply(count_words).astype(int)\n",
    "df_statements['num_words_raw'] = df_statements['text_raw'].apply(count_words).astype(int)"
   ]
  },
  {
   "cell_type": "code",
   "execution_count": 24,
   "id": "6156d086-df51-4575-a6b9-64990d52a1ba",
   "metadata": {},
   "outputs": [
    {
     "data": {
      "text/html": [
       "<div>\n",
       "<style scoped>\n",
       "    .dataframe tbody tr th:only-of-type {\n",
       "        vertical-align: middle;\n",
       "    }\n",
       "\n",
       "    .dataframe tbody tr th {\n",
       "        vertical-align: top;\n",
       "    }\n",
       "\n",
       "    .dataframe thead th {\n",
       "        text-align: right;\n",
       "    }\n",
       "</style>\n",
       "<table border=\"1\" class=\"dataframe\">\n",
       "  <thead>\n",
       "    <tr style=\"text-align: right;\">\n",
       "      <th></th>\n",
       "      <th>text_raw</th>\n",
       "      <th>meeting_number</th>\n",
       "      <th>type</th>\n",
       "      <th>date</th>\n",
       "      <th>text</th>\n",
       "      <th>num_words</th>\n",
       "      <th>num_words_raw</th>\n",
       "    </tr>\n",
       "  </thead>\n",
       "  <tbody>\n",
       "    <tr>\n",
       "      <th>208</th>\n",
       "      <td>Em que pese as recentes trajetórias favorávei...</td>\n",
       "      <td>46</td>\n",
       "      <td>statement</td>\n",
       "      <td>2000/04/19</td>\n",
       "      <td>pese recentes trajetórias favoráveis taxas inf...</td>\n",
       "      <td>51</td>\n",
       "      <td>54</td>\n",
       "    </tr>\n",
       "    <tr>\n",
       "      <th>207</th>\n",
       "      <td>O Copom analisando os eventos recentes e pros...</td>\n",
       "      <td>47</td>\n",
       "      <td>statement</td>\n",
       "      <td>2000/05/24</td>\n",
       "      <td>copom analisando eventos recentes prospectivos...</td>\n",
       "      <td>15</td>\n",
       "      <td>22</td>\n",
       "    </tr>\n",
       "    <tr>\n",
       "      <th>206</th>\n",
       "      <td>Os resultados recentes da inflação mudaram si...</td>\n",
       "      <td>48</td>\n",
       "      <td>statement</td>\n",
       "      <td>2000/06/20</td>\n",
       "      <td>resultados recentes inflação mudaram significa...</td>\n",
       "      <td>29</td>\n",
       "      <td>36</td>\n",
       "    </tr>\n",
       "    <tr>\n",
       "      <th>205</th>\n",
       "      <td>O Copom decidiu alterar a meta da taxa Selic ...</td>\n",
       "      <td>49</td>\n",
       "      <td>statement</td>\n",
       "      <td>2000/07/19</td>\n",
       "      <td>copom decidiu alterar meta taxa selic 17,0 % 1...</td>\n",
       "      <td>23</td>\n",
       "      <td>37</td>\n",
       "    </tr>\n",
       "    <tr>\n",
       "      <th>204</th>\n",
       "      <td>O Copom decidiu manter a meta da taxa Selic e...</td>\n",
       "      <td>50</td>\n",
       "      <td>statement</td>\n",
       "      <td>2000/08/23</td>\n",
       "      <td>copom decidiu manter meta taxa selic 16,50 % e...</td>\n",
       "      <td>17</td>\n",
       "      <td>23</td>\n",
       "    </tr>\n",
       "  </tbody>\n",
       "</table>\n",
       "</div>"
      ],
      "text/plain": [
       "                                              text_raw  meeting_number  \\\n",
       "208   Em que pese as recentes trajetórias favorávei...              46   \n",
       "207   O Copom analisando os eventos recentes e pros...              47   \n",
       "206   Os resultados recentes da inflação mudaram si...              48   \n",
       "205   O Copom decidiu alterar a meta da taxa Selic ...              49   \n",
       "204   O Copom decidiu manter a meta da taxa Selic e...              50   \n",
       "\n",
       "          type        date                                               text  \\\n",
       "208  statement  2000/04/19  pese recentes trajetórias favoráveis taxas inf...   \n",
       "207  statement  2000/05/24  copom analisando eventos recentes prospectivos...   \n",
       "206  statement  2000/06/20  resultados recentes inflação mudaram significa...   \n",
       "205  statement  2000/07/19  copom decidiu alterar meta taxa selic 17,0 % 1...   \n",
       "204  statement  2000/08/23  copom decidiu manter meta taxa selic 16,50 % e...   \n",
       "\n",
       "     num_words  num_words_raw  \n",
       "208         51             54  \n",
       "207         15             22  \n",
       "206         29             36  \n",
       "205         23             37  \n",
       "204         17             23  "
      ]
     },
     "execution_count": 24,
     "metadata": {},
     "output_type": "execute_result"
    }
   ],
   "source": [
    "df_statements.head(5)"
   ]
  },
  {
   "cell_type": "code",
   "execution_count": 25,
   "id": "a5f685e4-339e-43c8-86e6-ecc19b3dcbef",
   "metadata": {},
   "outputs": [
    {
     "data": {
      "text/plain": [
       "(209, 7)"
      ]
     },
     "execution_count": 25,
     "metadata": {},
     "output_type": "execute_result"
    }
   ],
   "source": [
    "df_statements.shape"
   ]
  },
  {
   "cell_type": "code",
   "execution_count": 26,
   "id": "3664cf40-8fee-462a-aa8e-96d0aa22c911",
   "metadata": {},
   "outputs": [],
   "source": [
    "# df_statements.drop(['text_raw', 'num_words_raw'], axis=1, inplace=True)"
   ]
  },
  {
   "cell_type": "code",
   "execution_count": 27,
   "id": "1dd5e46d-a908-4f16-ae25-c79ddedb6d7c",
   "metadata": {
    "tags": []
   },
   "outputs": [
    {
     "data": {
      "text/html": [
       "<div>\n",
       "<style scoped>\n",
       "    .dataframe tbody tr th:only-of-type {\n",
       "        vertical-align: middle;\n",
       "    }\n",
       "\n",
       "    .dataframe tbody tr th {\n",
       "        vertical-align: top;\n",
       "    }\n",
       "\n",
       "    .dataframe thead th {\n",
       "        text-align: right;\n",
       "    }\n",
       "</style>\n",
       "<table border=\"1\" class=\"dataframe\">\n",
       "  <thead>\n",
       "    <tr style=\"text-align: right;\">\n",
       "      <th></th>\n",
       "      <th>text_raw</th>\n",
       "      <th>meeting_number</th>\n",
       "      <th>type</th>\n",
       "      <th>date</th>\n",
       "      <th>text</th>\n",
       "      <th>num_words</th>\n",
       "      <th>num_words_raw</th>\n",
       "    </tr>\n",
       "  </thead>\n",
       "  <tbody>\n",
       "    <tr>\n",
       "      <th>208</th>\n",
       "      <td>Em que pese as recentes trajetórias favorávei...</td>\n",
       "      <td>46</td>\n",
       "      <td>statement</td>\n",
       "      <td>2000/04/19</td>\n",
       "      <td>pese recentes trajetórias favoráveis taxas inf...</td>\n",
       "      <td>51</td>\n",
       "      <td>54</td>\n",
       "    </tr>\n",
       "    <tr>\n",
       "      <th>207</th>\n",
       "      <td>O Copom analisando os eventos recentes e pros...</td>\n",
       "      <td>47</td>\n",
       "      <td>statement</td>\n",
       "      <td>2000/05/24</td>\n",
       "      <td>copom analisando eventos recentes prospectivos...</td>\n",
       "      <td>15</td>\n",
       "      <td>22</td>\n",
       "    </tr>\n",
       "    <tr>\n",
       "      <th>206</th>\n",
       "      <td>Os resultados recentes da inflação mudaram si...</td>\n",
       "      <td>48</td>\n",
       "      <td>statement</td>\n",
       "      <td>2000/06/20</td>\n",
       "      <td>resultados recentes inflação mudaram significa...</td>\n",
       "      <td>29</td>\n",
       "      <td>36</td>\n",
       "    </tr>\n",
       "    <tr>\n",
       "      <th>205</th>\n",
       "      <td>O Copom decidiu alterar a meta da taxa Selic ...</td>\n",
       "      <td>49</td>\n",
       "      <td>statement</td>\n",
       "      <td>2000/07/19</td>\n",
       "      <td>copom decidiu alterar meta taxa selic 17,0 % 1...</td>\n",
       "      <td>23</td>\n",
       "      <td>37</td>\n",
       "    </tr>\n",
       "    <tr>\n",
       "      <th>204</th>\n",
       "      <td>O Copom decidiu manter a meta da taxa Selic e...</td>\n",
       "      <td>50</td>\n",
       "      <td>statement</td>\n",
       "      <td>2000/08/23</td>\n",
       "      <td>copom decidiu manter meta taxa selic 16,50 % e...</td>\n",
       "      <td>17</td>\n",
       "      <td>23</td>\n",
       "    </tr>\n",
       "    <tr>\n",
       "      <th>...</th>\n",
       "      <td>...</td>\n",
       "      <td>...</td>\n",
       "      <td>...</td>\n",
       "      <td>...</td>\n",
       "      <td>...</td>\n",
       "      <td>...</td>\n",
       "      <td>...</td>\n",
       "    </tr>\n",
       "    <tr>\n",
       "      <th>4</th>\n",
       "      <td>Em sua 250ª reunião, o Comitê de Política Mone...</td>\n",
       "      <td>250</td>\n",
       "      <td>statement</td>\n",
       "      <td>2022/10/26</td>\n",
       "      <td>250ª reunião , comitê política monetária ( cop...</td>\n",
       "      <td>532</td>\n",
       "      <td>814</td>\n",
       "    </tr>\n",
       "    <tr>\n",
       "      <th>3</th>\n",
       "      <td>Em sua 251ª reunião, o Comitê de Política Mone...</td>\n",
       "      <td>251</td>\n",
       "      <td>statement</td>\n",
       "      <td>2022/12/07</td>\n",
       "      <td>251ª reunião , comitê política monetária ( cop...</td>\n",
       "      <td>550</td>\n",
       "      <td>832</td>\n",
       "    </tr>\n",
       "    <tr>\n",
       "      <th>2</th>\n",
       "      <td>Em sua 252ª reunião, o Comitê de Política Mone...</td>\n",
       "      <td>252</td>\n",
       "      <td>statement</td>\n",
       "      <td>2023/02/01</td>\n",
       "      <td>252ª reunião , comitê política monetária ( cop...</td>\n",
       "      <td>520</td>\n",
       "      <td>896</td>\n",
       "    </tr>\n",
       "    <tr>\n",
       "      <th>1</th>\n",
       "      <td>Desde a reunião anterior do Comitê de Política...</td>\n",
       "      <td>253</td>\n",
       "      <td>statement</td>\n",
       "      <td>2023/03/22</td>\n",
       "      <td>desde reunião anterior comitê política monetár...</td>\n",
       "      <td>606</td>\n",
       "      <td>845</td>\n",
       "    </tr>\n",
       "    <tr>\n",
       "      <th>0</th>\n",
       "      <td>O ambiente externo se mantém adverso. Os episó...</td>\n",
       "      <td>254</td>\n",
       "      <td>statement</td>\n",
       "      <td>2023/05/03</td>\n",
       "      <td>ambiente externo mantém adverso . episódios en...</td>\n",
       "      <td>469</td>\n",
       "      <td>835</td>\n",
       "    </tr>\n",
       "  </tbody>\n",
       "</table>\n",
       "<p>209 rows × 7 columns</p>\n",
       "</div>"
      ],
      "text/plain": [
       "                                              text_raw  meeting_number  \\\n",
       "208   Em que pese as recentes trajetórias favorávei...              46   \n",
       "207   O Copom analisando os eventos recentes e pros...              47   \n",
       "206   Os resultados recentes da inflação mudaram si...              48   \n",
       "205   O Copom decidiu alterar a meta da taxa Selic ...              49   \n",
       "204   O Copom decidiu manter a meta da taxa Selic e...              50   \n",
       "..                                                 ...             ...   \n",
       "4    Em sua 250ª reunião, o Comitê de Política Mone...             250   \n",
       "3    Em sua 251ª reunião, o Comitê de Política Mone...             251   \n",
       "2    Em sua 252ª reunião, o Comitê de Política Mone...             252   \n",
       "1    Desde a reunião anterior do Comitê de Política...             253   \n",
       "0    O ambiente externo se mantém adverso. Os episó...             254   \n",
       "\n",
       "          type        date                                               text  \\\n",
       "208  statement  2000/04/19  pese recentes trajetórias favoráveis taxas inf...   \n",
       "207  statement  2000/05/24  copom analisando eventos recentes prospectivos...   \n",
       "206  statement  2000/06/20  resultados recentes inflação mudaram significa...   \n",
       "205  statement  2000/07/19  copom decidiu alterar meta taxa selic 17,0 % 1...   \n",
       "204  statement  2000/08/23  copom decidiu manter meta taxa selic 16,50 % e...   \n",
       "..         ...         ...                                                ...   \n",
       "4    statement  2022/10/26  250ª reunião , comitê política monetária ( cop...   \n",
       "3    statement  2022/12/07  251ª reunião , comitê política monetária ( cop...   \n",
       "2    statement  2023/02/01  252ª reunião , comitê política monetária ( cop...   \n",
       "1    statement  2023/03/22  desde reunião anterior comitê política monetár...   \n",
       "0    statement  2023/05/03  ambiente externo mantém adverso . episódios en...   \n",
       "\n",
       "     num_words  num_words_raw  \n",
       "208         51             54  \n",
       "207         15             22  \n",
       "206         29             36  \n",
       "205         23             37  \n",
       "204         17             23  \n",
       "..         ...            ...  \n",
       "4          532            814  \n",
       "3          550            832  \n",
       "2          520            896  \n",
       "1          606            845  \n",
       "0          469            835  \n",
       "\n",
       "[209 rows x 7 columns]"
      ]
     },
     "execution_count": 27,
     "metadata": {},
     "output_type": "execute_result"
    }
   ],
   "source": [
    "df_statements"
   ]
  },
  {
   "cell_type": "markdown",
   "id": "54370f15-cb36-45fb-b5e1-de1d85eea8a1",
   "metadata": {},
   "source": [
    "### Minutes"
   ]
  },
  {
   "cell_type": "code",
   "execution_count": 28,
   "id": "87cbc3c4-bb14-4bcb-b009-16b5ac68c659",
   "metadata": {},
   "outputs": [],
   "source": [
    "df_minutes = pd.read_csv('atas.csv')"
   ]
  },
  {
   "cell_type": "code",
   "execution_count": 29,
   "id": "b77d1d65-5d84-4f30-a89e-95cda231c8ea",
   "metadata": {
    "tags": []
   },
   "outputs": [
    {
     "data": {
      "text/html": [
       "<div>\n",
       "<style scoped>\n",
       "    .dataframe tbody tr th:only-of-type {\n",
       "        vertical-align: middle;\n",
       "    }\n",
       "\n",
       "    .dataframe tbody tr th {\n",
       "        vertical-align: top;\n",
       "    }\n",
       "\n",
       "    .dataframe thead th {\n",
       "        text-align: right;\n",
       "    }\n",
       "</style>\n",
       "<table border=\"1\" class=\"dataframe\">\n",
       "  <thead>\n",
       "    <tr style=\"text-align: right;\">\n",
       "      <th></th>\n",
       "      <th>BoxDestaque</th>\n",
       "      <th>DataReferencia</th>\n",
       "      <th>Edicao</th>\n",
       "      <th>EsconderCapa</th>\n",
       "      <th>EsconderDataReferencia</th>\n",
       "      <th>Grafico</th>\n",
       "      <th>Id</th>\n",
       "      <th>ImagemCapa</th>\n",
       "      <th>Introducao</th>\n",
       "      <th>LinkPagina</th>\n",
       "      <th>OutrasInformacoes</th>\n",
       "      <th>Titulo</th>\n",
       "      <th>Url</th>\n",
       "      <th>Volume</th>\n",
       "      <th>data</th>\n",
       "    </tr>\n",
       "  </thead>\n",
       "  <tbody>\n",
       "    <tr>\n",
       "      <th>233</th>\n",
       "      <td>NaN</td>\n",
       "      <td>1998-01-28T02:00:00Z</td>\n",
       "      <td>NaN</td>\n",
       "      <td>True</td>\n",
       "      <td>NaN</td>\n",
       "      <td>NaN</td>\n",
       "      <td>191</td>\n",
       "      <td>/content/publicacoes/PublishingImages/Capas/at...</td>\n",
       "      <td>NaN</td>\n",
       "      <td>/publicacoes/atascopom/cronologicos</td>\n",
       "      <td>\\n\\n  \\n&lt;h3&gt;Sumário&lt;/h3&gt;&lt;a href=\"#_Toc37333813...</td>\n",
       "      <td>21ª Reunião</td>\n",
       "      <td>NaN</td>\n",
       "      <td>NaN</td>\n",
       "      <td>1998-05-22T03:00:00Z</td>\n",
       "    </tr>\n",
       "  </tbody>\n",
       "</table>\n",
       "</div>"
      ],
      "text/plain": [
       "     BoxDestaque        DataReferencia  Edicao  EsconderCapa  \\\n",
       "233          NaN  1998-01-28T02:00:00Z     NaN          True   \n",
       "\n",
       "    EsconderDataReferencia  Grafico   Id  \\\n",
       "233                    NaN      NaN  191   \n",
       "\n",
       "                                            ImagemCapa Introducao  \\\n",
       "233  /content/publicacoes/PublishingImages/Capas/at...        NaN   \n",
       "\n",
       "                              LinkPagina  \\\n",
       "233  /publicacoes/atascopom/cronologicos   \n",
       "\n",
       "                                     OutrasInformacoes       Titulo  Url  \\\n",
       "233  \\n\\n  \\n<h3>Sumário</h3><a href=\"#_Toc37333813...  21ª Reunião  NaN   \n",
       "\n",
       "     Volume                  data  \n",
       "233     NaN  1998-05-22T03:00:00Z  "
      ]
     },
     "execution_count": 29,
     "metadata": {},
     "output_type": "execute_result"
    }
   ],
   "source": [
    "df_minutes.tail(1)"
   ]
  },
  {
   "cell_type": "code",
   "execution_count": 30,
   "id": "4316d712-5221-4396-9d34-795dd0344c36",
   "metadata": {
    "tags": []
   },
   "outputs": [
    {
     "data": {
      "text/plain": [
       "0                      254ª Reunião - 2-3 maio, 2023\n",
       "1                   253ª Reunião - 21-22 março, 2023\n",
       "2      252ª Reunião - 31 janeiro - 1 fevereiro, 2023\n",
       "3                  251ª Reunião - 6-7 dezembro, 2022\n",
       "4                 250ª Reunião - 25-26 outubro, 2022\n",
       "                           ...                      \n",
       "229                                      25ª Reunião\n",
       "230                                      24ª Reunião\n",
       "231                                      23ª Reunião\n",
       "232                                      22ª Reunião\n",
       "233                                      21ª Reunião\n",
       "Name: Titulo, Length: 234, dtype: object"
      ]
     },
     "execution_count": 30,
     "metadata": {},
     "output_type": "execute_result"
    }
   ],
   "source": [
    "df_minutes.loc[:,'Titulo']"
   ]
  },
  {
   "cell_type": "code",
   "execution_count": 31,
   "id": "df5c4569-6a0b-4ed2-bf2d-676896ed21a2",
   "metadata": {
    "tags": []
   },
   "outputs": [],
   "source": [
    "# df_minutes.iloc[150:164,[1,14]]"
   ]
  },
  {
   "cell_type": "code",
   "execution_count": 32,
   "id": "3a2d4b00-cea4-4ca7-904b-58e17c103a9d",
   "metadata": {
    "tags": []
   },
   "outputs": [],
   "source": [
    "df_minutes['meeting_number'] = df_minutes['Titulo'].apply(extract_meeting_number).astype(int)"
   ]
  },
  {
   "cell_type": "code",
   "execution_count": 33,
   "id": "7205799d-9807-40ce-b2fb-7e414329275c",
   "metadata": {
    "tags": []
   },
   "outputs": [
    {
     "data": {
      "text/html": [
       "<div>\n",
       "<style scoped>\n",
       "    .dataframe tbody tr th:only-of-type {\n",
       "        vertical-align: middle;\n",
       "    }\n",
       "\n",
       "    .dataframe tbody tr th {\n",
       "        vertical-align: top;\n",
       "    }\n",
       "\n",
       "    .dataframe thead th {\n",
       "        text-align: right;\n",
       "    }\n",
       "</style>\n",
       "<table border=\"1\" class=\"dataframe\">\n",
       "  <thead>\n",
       "    <tr style=\"text-align: right;\">\n",
       "      <th></th>\n",
       "      <th>BoxDestaque</th>\n",
       "      <th>DataReferencia</th>\n",
       "      <th>Edicao</th>\n",
       "      <th>EsconderCapa</th>\n",
       "      <th>EsconderDataReferencia</th>\n",
       "      <th>Grafico</th>\n",
       "      <th>Id</th>\n",
       "      <th>ImagemCapa</th>\n",
       "      <th>Introducao</th>\n",
       "      <th>LinkPagina</th>\n",
       "      <th>OutrasInformacoes</th>\n",
       "      <th>Titulo</th>\n",
       "      <th>Url</th>\n",
       "      <th>Volume</th>\n",
       "      <th>data</th>\n",
       "      <th>meeting_number</th>\n",
       "    </tr>\n",
       "  </thead>\n",
       "  <tbody>\n",
       "    <tr>\n",
       "      <th>229</th>\n",
       "      <td>NaN</td>\n",
       "      <td>1998-06-01T03:00:00Z</td>\n",
       "      <td>NaN</td>\n",
       "      <td>True</td>\n",
       "      <td>NaN</td>\n",
       "      <td>NaN</td>\n",
       "      <td>95</td>\n",
       "      <td>/content/publicacoes/PublishingImages/Capas/at...</td>\n",
       "      <td>NaN</td>\n",
       "      <td>/publicacoes/atascopom/cronologicos</td>\n",
       "      <td>\\n\\n  \\n    &lt;p&gt;&amp;nbsp;&lt;/p&gt;\\n\\n    &lt;p&gt;&lt;strong&gt;Su...</td>\n",
       "      <td>25ª Reunião</td>\n",
       "      <td>NaN</td>\n",
       "      <td>NaN</td>\n",
       "      <td>1998-10-09T03:00:00Z</td>\n",
       "      <td>25</td>\n",
       "    </tr>\n",
       "    <tr>\n",
       "      <th>230</th>\n",
       "      <td>NaN</td>\n",
       "      <td>1998-05-01T03:00:00Z</td>\n",
       "      <td>NaN</td>\n",
       "      <td>True</td>\n",
       "      <td>NaN</td>\n",
       "      <td>NaN</td>\n",
       "      <td>96</td>\n",
       "      <td>/content/publicacoes/PublishingImages/Capas/at...</td>\n",
       "      <td>NaN</td>\n",
       "      <td>/publicacoes/atascopom/cronologicos</td>\n",
       "      <td>\\n  \\n    &lt;div class=\"h3\"&gt;Sum&amp;aacute;rio&lt;/div&gt;...</td>\n",
       "      <td>24ª Reunião</td>\n",
       "      <td>NaN</td>\n",
       "      <td>NaN</td>\n",
       "      <td>1998-08-04T03:00:00Z</td>\n",
       "      <td>24</td>\n",
       "    </tr>\n",
       "    <tr>\n",
       "      <th>231</th>\n",
       "      <td>NaN</td>\n",
       "      <td>1998-04-01T03:00:00Z</td>\n",
       "      <td>NaN</td>\n",
       "      <td>True</td>\n",
       "      <td>NaN</td>\n",
       "      <td>NaN</td>\n",
       "      <td>97</td>\n",
       "      <td>/content/publicacoes/PublishingImages/Capas/at...</td>\n",
       "      <td>NaN</td>\n",
       "      <td>/publicacoes/atascopom/cronologicos</td>\n",
       "      <td>\\n  \\n    &lt;div class=\"h3\"&gt;Sum&amp;aacute;rio&lt;/div&gt;...</td>\n",
       "      <td>23ª Reunião</td>\n",
       "      <td>NaN</td>\n",
       "      <td>NaN</td>\n",
       "      <td>1998-07-31T03:00:00Z</td>\n",
       "      <td>23</td>\n",
       "    </tr>\n",
       "    <tr>\n",
       "      <th>232</th>\n",
       "      <td>NaN</td>\n",
       "      <td>1998-03-01T03:00:00Z</td>\n",
       "      <td>NaN</td>\n",
       "      <td>True</td>\n",
       "      <td>NaN</td>\n",
       "      <td>NaN</td>\n",
       "      <td>98</td>\n",
       "      <td>/content/publicacoes/PublishingImages/Capas/at...</td>\n",
       "      <td>NaN</td>\n",
       "      <td>/publicacoes/atascopom/cronologicos</td>\n",
       "      <td>\\n  \\n    &lt;div class=\"h3\"&gt;Sum&amp;aacute;rio&lt;/div&gt;...</td>\n",
       "      <td>22ª Reunião</td>\n",
       "      <td>NaN</td>\n",
       "      <td>NaN</td>\n",
       "      <td>1998-06-26T03:00:00Z</td>\n",
       "      <td>22</td>\n",
       "    </tr>\n",
       "    <tr>\n",
       "      <th>233</th>\n",
       "      <td>NaN</td>\n",
       "      <td>1998-01-28T02:00:00Z</td>\n",
       "      <td>NaN</td>\n",
       "      <td>True</td>\n",
       "      <td>NaN</td>\n",
       "      <td>NaN</td>\n",
       "      <td>191</td>\n",
       "      <td>/content/publicacoes/PublishingImages/Capas/at...</td>\n",
       "      <td>NaN</td>\n",
       "      <td>/publicacoes/atascopom/cronologicos</td>\n",
       "      <td>\\n\\n  \\n&lt;h3&gt;Sumário&lt;/h3&gt;&lt;a href=\"#_Toc37333813...</td>\n",
       "      <td>21ª Reunião</td>\n",
       "      <td>NaN</td>\n",
       "      <td>NaN</td>\n",
       "      <td>1998-05-22T03:00:00Z</td>\n",
       "      <td>21</td>\n",
       "    </tr>\n",
       "  </tbody>\n",
       "</table>\n",
       "</div>"
      ],
      "text/plain": [
       "     BoxDestaque        DataReferencia  Edicao  EsconderCapa  \\\n",
       "229          NaN  1998-06-01T03:00:00Z     NaN          True   \n",
       "230          NaN  1998-05-01T03:00:00Z     NaN          True   \n",
       "231          NaN  1998-04-01T03:00:00Z     NaN          True   \n",
       "232          NaN  1998-03-01T03:00:00Z     NaN          True   \n",
       "233          NaN  1998-01-28T02:00:00Z     NaN          True   \n",
       "\n",
       "    EsconderDataReferencia  Grafico   Id  \\\n",
       "229                    NaN      NaN   95   \n",
       "230                    NaN      NaN   96   \n",
       "231                    NaN      NaN   97   \n",
       "232                    NaN      NaN   98   \n",
       "233                    NaN      NaN  191   \n",
       "\n",
       "                                            ImagemCapa Introducao  \\\n",
       "229  /content/publicacoes/PublishingImages/Capas/at...        NaN   \n",
       "230  /content/publicacoes/PublishingImages/Capas/at...        NaN   \n",
       "231  /content/publicacoes/PublishingImages/Capas/at...        NaN   \n",
       "232  /content/publicacoes/PublishingImages/Capas/at...        NaN   \n",
       "233  /content/publicacoes/PublishingImages/Capas/at...        NaN   \n",
       "\n",
       "                              LinkPagina  \\\n",
       "229  /publicacoes/atascopom/cronologicos   \n",
       "230  /publicacoes/atascopom/cronologicos   \n",
       "231  /publicacoes/atascopom/cronologicos   \n",
       "232  /publicacoes/atascopom/cronologicos   \n",
       "233  /publicacoes/atascopom/cronologicos   \n",
       "\n",
       "                                     OutrasInformacoes       Titulo  Url  \\\n",
       "229  \\n\\n  \\n    <p>&nbsp;</p>\\n\\n    <p><strong>Su...  25ª Reunião  NaN   \n",
       "230  \\n  \\n    <div class=\"h3\">Sum&aacute;rio</div>...  24ª Reunião  NaN   \n",
       "231  \\n  \\n    <div class=\"h3\">Sum&aacute;rio</div>...  23ª Reunião  NaN   \n",
       "232  \\n  \\n    <div class=\"h3\">Sum&aacute;rio</div>...  22ª Reunião  NaN   \n",
       "233  \\n\\n  \\n<h3>Sumário</h3><a href=\"#_Toc37333813...  21ª Reunião  NaN   \n",
       "\n",
       "     Volume                  data  meeting_number  \n",
       "229     NaN  1998-10-09T03:00:00Z              25  \n",
       "230     NaN  1998-08-04T03:00:00Z              24  \n",
       "231     NaN  1998-07-31T03:00:00Z              23  \n",
       "232     NaN  1998-06-26T03:00:00Z              22  \n",
       "233     NaN  1998-05-22T03:00:00Z              21  "
      ]
     },
     "execution_count": 33,
     "metadata": {},
     "output_type": "execute_result"
    }
   ],
   "source": [
    "df_minutes.tail()"
   ]
  },
  {
   "cell_type": "code",
   "execution_count": 34,
   "id": "05b7581a-0a86-4a28-9567-88ce4c8385b9",
   "metadata": {},
   "outputs": [],
   "source": [
    "df_minutes['type'] = 'minutes'\n",
    "# df_minutes[\"Minutes_Date\"] = df_minutes[\"data\"].apply(pd.to_datetime).dt.strftime('%Y/%m/%d')\n",
    "df_minutes[\"date\"] = df_minutes[\"DataReferencia\"].apply(pd.to_datetime).dt.strftime('%Y/%m/%d')"
   ]
  },
  {
   "cell_type": "code",
   "execution_count": 35,
   "id": "0b82ce85-63cf-4525-b050-743b962e751e",
   "metadata": {
    "tags": []
   },
   "outputs": [
    {
     "data": {
      "text/plain": [
       "234"
      ]
     },
     "execution_count": 35,
     "metadata": {},
     "output_type": "execute_result"
    }
   ],
   "source": [
    "len(df_minutes)"
   ]
  },
  {
   "cell_type": "code",
   "execution_count": 36,
   "id": "08dbaf1e-90c6-415f-95b9-99e8f19e3fb1",
   "metadata": {},
   "outputs": [],
   "source": [
    "df_minutes.drop(['data', 'DataReferencia', 'BoxDestaque', 'Edicao', 'EsconderCapa', \n",
    "                 'EsconderDataReferencia', 'Grafico', 'Id', \n",
    "                 'ImagemCapa', 'LinkPagina', 'Url',\n",
    "                 'Titulo', 'Volume', 'Introducao'], axis=1, inplace=True)"
   ]
  },
  {
   "cell_type": "code",
   "execution_count": 37,
   "id": "5f4ce9b1-1045-4544-8fd4-bd8b88f0e4ef",
   "metadata": {},
   "outputs": [],
   "source": [
    "df_minutes.rename(columns={'OutrasInformacoes': 'text_raw'}, inplace=True)"
   ]
  },
  {
   "cell_type": "code",
   "execution_count": 38,
   "id": "97ccdc67-3bb1-495e-81b1-1b1e514c0b14",
   "metadata": {
    "tags": []
   },
   "outputs": [],
   "source": [
    "# df_minutes.sort_values('Date', inplace=True)\n",
    "# df_minutes.set_index('Date', inplace=True)\n",
    "df_minutes = df_minutes.sort_values('meeting_number').copy()"
   ]
  },
  {
   "cell_type": "code",
   "execution_count": 39,
   "id": "7ed7c07a-cad0-4704-992b-227c42719262",
   "metadata": {
    "tags": []
   },
   "outputs": [
    {
     "data": {
      "text/html": [
       "<div>\n",
       "<style scoped>\n",
       "    .dataframe tbody tr th:only-of-type {\n",
       "        vertical-align: middle;\n",
       "    }\n",
       "\n",
       "    .dataframe tbody tr th {\n",
       "        vertical-align: top;\n",
       "    }\n",
       "\n",
       "    .dataframe thead th {\n",
       "        text-align: right;\n",
       "    }\n",
       "</style>\n",
       "<table border=\"1\" class=\"dataframe\">\n",
       "  <thead>\n",
       "    <tr style=\"text-align: right;\">\n",
       "      <th></th>\n",
       "      <th>text_raw</th>\n",
       "      <th>meeting_number</th>\n",
       "      <th>type</th>\n",
       "      <th>date</th>\n",
       "    </tr>\n",
       "  </thead>\n",
       "  <tbody>\n",
       "    <tr>\n",
       "      <th>233</th>\n",
       "      <td>\\n\\n  \\n&lt;h3&gt;Sumário&lt;/h3&gt;&lt;a href=\"#_Toc37333813...</td>\n",
       "      <td>21</td>\n",
       "      <td>minutes</td>\n",
       "      <td>1998/01/28</td>\n",
       "    </tr>\n",
       "    <tr>\n",
       "      <th>232</th>\n",
       "      <td>\\n  \\n    &lt;div class=\"h3\"&gt;Sum&amp;aacute;rio&lt;/div&gt;...</td>\n",
       "      <td>22</td>\n",
       "      <td>minutes</td>\n",
       "      <td>1998/03/01</td>\n",
       "    </tr>\n",
       "    <tr>\n",
       "      <th>231</th>\n",
       "      <td>\\n  \\n    &lt;div class=\"h3\"&gt;Sum&amp;aacute;rio&lt;/div&gt;...</td>\n",
       "      <td>23</td>\n",
       "      <td>minutes</td>\n",
       "      <td>1998/04/01</td>\n",
       "    </tr>\n",
       "    <tr>\n",
       "      <th>230</th>\n",
       "      <td>\\n  \\n    &lt;div class=\"h3\"&gt;Sum&amp;aacute;rio&lt;/div&gt;...</td>\n",
       "      <td>24</td>\n",
       "      <td>minutes</td>\n",
       "      <td>1998/05/01</td>\n",
       "    </tr>\n",
       "    <tr>\n",
       "      <th>229</th>\n",
       "      <td>\\n\\n  \\n    &lt;p&gt;&amp;nbsp;&lt;/p&gt;\\n\\n    &lt;p&gt;&lt;strong&gt;Su...</td>\n",
       "      <td>25</td>\n",
       "      <td>minutes</td>\n",
       "      <td>1998/06/01</td>\n",
       "    </tr>\n",
       "    <tr>\n",
       "      <th>...</th>\n",
       "      <td>...</td>\n",
       "      <td>...</td>\n",
       "      <td>...</td>\n",
       "      <td>...</td>\n",
       "    </tr>\n",
       "    <tr>\n",
       "      <th>4</th>\n",
       "      <td>&lt;div id=\"atacompleta\"&gt;&lt;div id=\"ataconteudo\"&gt;&lt;h...</td>\n",
       "      <td>250</td>\n",
       "      <td>minutes</td>\n",
       "      <td>2022/10/26</td>\n",
       "    </tr>\n",
       "    <tr>\n",
       "      <th>3</th>\n",
       "      <td>&lt;div id=\"atacompleta\"&gt;&lt;div id=\"ataconteudo\"&gt;&lt;h...</td>\n",
       "      <td>251</td>\n",
       "      <td>minutes</td>\n",
       "      <td>2022/12/07</td>\n",
       "    </tr>\n",
       "    <tr>\n",
       "      <th>2</th>\n",
       "      <td>&lt;div id=\"atacompleta\"&gt;&lt;div id=\"ataconteudo\"&gt;&lt;h...</td>\n",
       "      <td>252</td>\n",
       "      <td>minutes</td>\n",
       "      <td>2023/02/01</td>\n",
       "    </tr>\n",
       "    <tr>\n",
       "      <th>1</th>\n",
       "      <td>&lt;div id=\"atacompleta\"&gt;&lt;div id=\"ataconteudo\"&gt;&lt;h...</td>\n",
       "      <td>253</td>\n",
       "      <td>minutes</td>\n",
       "      <td>2023/03/22</td>\n",
       "    </tr>\n",
       "    <tr>\n",
       "      <th>0</th>\n",
       "      <td>&lt;div id=\"atacompleta\"&gt;&lt;div id=\"ataconteudo\"&gt;&lt;h...</td>\n",
       "      <td>254</td>\n",
       "      <td>minutes</td>\n",
       "      <td>2023/05/03</td>\n",
       "    </tr>\n",
       "  </tbody>\n",
       "</table>\n",
       "<p>234 rows × 4 columns</p>\n",
       "</div>"
      ],
      "text/plain": [
       "                                              text_raw  meeting_number  \\\n",
       "233  \\n\\n  \\n<h3>Sumário</h3><a href=\"#_Toc37333813...              21   \n",
       "232  \\n  \\n    <div class=\"h3\">Sum&aacute;rio</div>...              22   \n",
       "231  \\n  \\n    <div class=\"h3\">Sum&aacute;rio</div>...              23   \n",
       "230  \\n  \\n    <div class=\"h3\">Sum&aacute;rio</div>...              24   \n",
       "229  \\n\\n  \\n    <p>&nbsp;</p>\\n\\n    <p><strong>Su...              25   \n",
       "..                                                 ...             ...   \n",
       "4    <div id=\"atacompleta\"><div id=\"ataconteudo\"><h...             250   \n",
       "3    <div id=\"atacompleta\"><div id=\"ataconteudo\"><h...             251   \n",
       "2    <div id=\"atacompleta\"><div id=\"ataconteudo\"><h...             252   \n",
       "1    <div id=\"atacompleta\"><div id=\"ataconteudo\"><h...             253   \n",
       "0    <div id=\"atacompleta\"><div id=\"ataconteudo\"><h...             254   \n",
       "\n",
       "        type        date  \n",
       "233  minutes  1998/01/28  \n",
       "232  minutes  1998/03/01  \n",
       "231  minutes  1998/04/01  \n",
       "230  minutes  1998/05/01  \n",
       "229  minutes  1998/06/01  \n",
       "..       ...         ...  \n",
       "4    minutes  2022/10/26  \n",
       "3    minutes  2022/12/07  \n",
       "2    minutes  2023/02/01  \n",
       "1    minutes  2023/03/22  \n",
       "0    minutes  2023/05/03  \n",
       "\n",
       "[234 rows x 4 columns]"
      ]
     },
     "execution_count": 39,
     "metadata": {},
     "output_type": "execute_result"
    }
   ],
   "source": [
    "df_minutes"
   ]
  },
  {
   "cell_type": "code",
   "execution_count": 40,
   "id": "21e55b3c-5b62-47c2-875c-4cb3410d526b",
   "metadata": {},
   "outputs": [],
   "source": [
    "df_minutes = df_minutes[df_minutes['text_raw'].notna()]"
   ]
  },
  {
   "cell_type": "code",
   "execution_count": 41,
   "id": "3a2d1298-b907-400a-a662-8192ce8ddad3",
   "metadata": {},
   "outputs": [
    {
     "name": "stderr",
     "output_type": "stream",
     "text": [
      "C:\\Users\\ftrav\\AppData\\Local\\Temp\\ipykernel_11168\\586401199.py:1: SettingWithCopyWarning: \n",
      "A value is trying to be set on a copy of a slice from a DataFrame.\n",
      "Try using .loc[row_indexer,col_indexer] = value instead\n",
      "\n",
      "See the caveats in the documentation: https://pandas.pydata.org/pandas-docs/stable/user_guide/indexing.html#returning-a-view-versus-a-copy\n",
      "  df_minutes['text_raw'] = df_minutes['text_raw'].apply(lambda x: BeautifulSoup(x, features=\"html.parser\").get_text())\n"
     ]
    }
   ],
   "source": [
    "df_minutes['text_raw'] = df_minutes['text_raw'].apply(lambda x: BeautifulSoup(x, features=\"html.parser\").get_text())"
   ]
  },
  {
   "cell_type": "code",
   "execution_count": 42,
   "id": "c56b2cad-fb6a-4d39-816c-4b728b53466e",
   "metadata": {
    "tags": []
   },
   "outputs": [],
   "source": [
    "# df_minutes['Text_raw'][200]"
   ]
  },
  {
   "cell_type": "code",
   "execution_count": 43,
   "id": "0fa4f121-d897-4d60-83ea-f95906b8222d",
   "metadata": {},
   "outputs": [
    {
     "name": "stderr",
     "output_type": "stream",
     "text": [
      "C:\\Users\\ftrav\\AppData\\Local\\Temp\\ipykernel_11168\\1530529726.py:1: SettingWithCopyWarning: \n",
      "A value is trying to be set on a copy of a slice from a DataFrame.\n",
      "Try using .loc[row_indexer,col_indexer] = value instead\n",
      "\n",
      "See the caveats in the documentation: https://pandas.pydata.org/pandas-docs/stable/user_guide/indexing.html#returning-a-view-versus-a-copy\n",
      "  df_minutes['text'] = df_minutes['text_raw'].apply(cut_voters).apply(preprocess_text)\n"
     ]
    }
   ],
   "source": [
    "df_minutes['text'] = df_minutes['text_raw'].apply(cut_voters).apply(preprocess_text)"
   ]
  },
  {
   "cell_type": "code",
   "execution_count": 44,
   "id": "f9a4f948-44ea-4c4a-8d4d-655a89941a4a",
   "metadata": {
    "tags": []
   },
   "outputs": [],
   "source": [
    "# df_minutes['Text'][200]"
   ]
  },
  {
   "cell_type": "code",
   "execution_count": 45,
   "id": "16f3b6a4-fbb6-4869-b04e-82e46338b90d",
   "metadata": {},
   "outputs": [
    {
     "name": "stderr",
     "output_type": "stream",
     "text": [
      "C:\\Users\\ftrav\\AppData\\Local\\Temp\\ipykernel_11168\\1668320117.py:1: SettingWithCopyWarning: \n",
      "A value is trying to be set on a copy of a slice from a DataFrame.\n",
      "Try using .loc[row_indexer,col_indexer] = value instead\n",
      "\n",
      "See the caveats in the documentation: https://pandas.pydata.org/pandas-docs/stable/user_guide/indexing.html#returning-a-view-versus-a-copy\n",
      "  df_minutes['num_words'] = df_minutes['text'].apply(count_words).astype(int)\n",
      "C:\\Users\\ftrav\\AppData\\Local\\Temp\\ipykernel_11168\\1668320117.py:2: SettingWithCopyWarning: \n",
      "A value is trying to be set on a copy of a slice from a DataFrame.\n",
      "Try using .loc[row_indexer,col_indexer] = value instead\n",
      "\n",
      "See the caveats in the documentation: https://pandas.pydata.org/pandas-docs/stable/user_guide/indexing.html#returning-a-view-versus-a-copy\n",
      "  df_minutes['num_words_raw'] = df_minutes['text_raw'].apply(count_words).astype(int)\n"
     ]
    }
   ],
   "source": [
    "df_minutes['num_words'] = df_minutes['text'].apply(count_words).astype(int)\n",
    "df_minutes['num_words_raw'] = df_minutes['text_raw'].apply(count_words).astype(int)"
   ]
  },
  {
   "cell_type": "code",
   "execution_count": 46,
   "id": "ac11fa3a-c858-4c07-90b5-91e76533bcaa",
   "metadata": {},
   "outputs": [
    {
     "data": {
      "text/plain": [
       "(202, 7)"
      ]
     },
     "execution_count": 46,
     "metadata": {},
     "output_type": "execute_result"
    }
   ],
   "source": [
    "df_minutes.shape"
   ]
  },
  {
   "cell_type": "code",
   "execution_count": 47,
   "id": "1a953cae-4427-49f9-a426-b904d4c1be4e",
   "metadata": {},
   "outputs": [],
   "source": [
    "# df_minutes.iloc[200:,[1,14]]"
   ]
  },
  {
   "cell_type": "code",
   "execution_count": 48,
   "id": "0cfae824-75d3-403d-b729-a51cf06c7f2e",
   "metadata": {},
   "outputs": [],
   "source": [
    "# df_minutes.drop(['text_raw', 'num_words_raw'], axis=1, inplace=True)"
   ]
  },
  {
   "cell_type": "code",
   "execution_count": 49,
   "id": "72bf5f28-86b2-47d7-a059-ede07966f080",
   "metadata": {
    "tags": []
   },
   "outputs": [
    {
     "data": {
      "text/html": [
       "<div>\n",
       "<style scoped>\n",
       "    .dataframe tbody tr th:only-of-type {\n",
       "        vertical-align: middle;\n",
       "    }\n",
       "\n",
       "    .dataframe tbody tr th {\n",
       "        vertical-align: top;\n",
       "    }\n",
       "\n",
       "    .dataframe thead th {\n",
       "        text-align: right;\n",
       "    }\n",
       "</style>\n",
       "<table border=\"1\" class=\"dataframe\">\n",
       "  <thead>\n",
       "    <tr style=\"text-align: right;\">\n",
       "      <th></th>\n",
       "      <th>text_raw</th>\n",
       "      <th>meeting_number</th>\n",
       "      <th>type</th>\n",
       "      <th>date</th>\n",
       "      <th>text</th>\n",
       "      <th>num_words</th>\n",
       "      <th>num_words_raw</th>\n",
       "    </tr>\n",
       "  </thead>\n",
       "  <tbody>\n",
       "    <tr>\n",
       "      <th>233</th>\n",
       "      <td>\\nSumárioPreços e Nível de Atividade\\nAgregado...</td>\n",
       "      <td>21</td>\n",
       "      <td>minutes</td>\n",
       "      <td>1998/01/28</td>\n",
       "      <td>sumáriopreços nível atividade agregados monetá...</td>\n",
       "      <td>3926</td>\n",
       "      <td>5066</td>\n",
       "    </tr>\n",
       "    <tr>\n",
       "      <th>232</th>\n",
       "      <td>\\nSumárioPreços e Nível de Atividade\\nAgregado...</td>\n",
       "      <td>22</td>\n",
       "      <td>minutes</td>\n",
       "      <td>1998/03/01</td>\n",
       "      <td>sumáriopreços nível atividade agregados monetá...</td>\n",
       "      <td>2961</td>\n",
       "      <td>3893</td>\n",
       "    </tr>\n",
       "    <tr>\n",
       "      <th>231</th>\n",
       "      <td>\\nSumárioPreços e Nível de Atividade\\nAgregado...</td>\n",
       "      <td>23</td>\n",
       "      <td>minutes</td>\n",
       "      <td>1998/04/01</td>\n",
       "      <td>sumáriopreços nível atividade agregados monetá...</td>\n",
       "      <td>3899</td>\n",
       "      <td>4945</td>\n",
       "    </tr>\n",
       "    <tr>\n",
       "      <th>230</th>\n",
       "      <td>\\nSumárioPreços e Nível de Atividade\\nAgregado...</td>\n",
       "      <td>24</td>\n",
       "      <td>minutes</td>\n",
       "      <td>1998/05/01</td>\n",
       "      <td>sumáriopreços nível atividade agregados monetá...</td>\n",
       "      <td>3367</td>\n",
       "      <td>4341</td>\n",
       "    </tr>\n",
       "    <tr>\n",
       "      <th>229</th>\n",
       "      <td>\\n \\nSumário\\n \\nPreços e Nível de Atividade\\n...</td>\n",
       "      <td>25</td>\n",
       "      <td>minutes</td>\n",
       "      <td>1998/06/01</td>\n",
       "      <td>sumário preços nível atividade agregados monet...</td>\n",
       "      <td>5246</td>\n",
       "      <td>6626</td>\n",
       "    </tr>\n",
       "  </tbody>\n",
       "</table>\n",
       "</div>"
      ],
      "text/plain": [
       "                                              text_raw  meeting_number  \\\n",
       "233  \\nSumárioPreços e Nível de Atividade\\nAgregado...              21   \n",
       "232  \\nSumárioPreços e Nível de Atividade\\nAgregado...              22   \n",
       "231  \\nSumárioPreços e Nível de Atividade\\nAgregado...              23   \n",
       "230  \\nSumárioPreços e Nível de Atividade\\nAgregado...              24   \n",
       "229  \\n \\nSumário\\n \\nPreços e Nível de Atividade\\n...              25   \n",
       "\n",
       "        type        date                                               text  \\\n",
       "233  minutes  1998/01/28  sumáriopreços nível atividade agregados monetá...   \n",
       "232  minutes  1998/03/01  sumáriopreços nível atividade agregados monetá...   \n",
       "231  minutes  1998/04/01  sumáriopreços nível atividade agregados monetá...   \n",
       "230  minutes  1998/05/01  sumáriopreços nível atividade agregados monetá...   \n",
       "229  minutes  1998/06/01  sumário preços nível atividade agregados monet...   \n",
       "\n",
       "     num_words  num_words_raw  \n",
       "233       3926           5066  \n",
       "232       2961           3893  \n",
       "231       3899           4945  \n",
       "230       3367           4341  \n",
       "229       5246           6626  "
      ]
     },
     "execution_count": 49,
     "metadata": {},
     "output_type": "execute_result"
    }
   ],
   "source": [
    "df_minutes.head()"
   ]
  },
  {
   "cell_type": "markdown",
   "id": "cb9a6448-c5a7-4cd7-a45e-2268f47acd43",
   "metadata": {
    "tags": []
   },
   "source": [
    "### Decisions"
   ]
  },
  {
   "cell_type": "code",
   "execution_count": 50,
   "id": "68086b54-b883-42ce-94aa-cc683d74efcc",
   "metadata": {},
   "outputs": [],
   "source": [
    "df_decisions = pd.read_csv('decisions.csv')"
   ]
  },
  {
   "cell_type": "code",
   "execution_count": 51,
   "id": "fc9233f4-5b0a-4005-8902-b2ff750df8fc",
   "metadata": {
    "tags": []
   },
   "outputs": [
    {
     "data": {
      "text/plain": [
       "0      254.0\n",
       "1      253.0\n",
       "2      252.0\n",
       "3      251.0\n",
       "4      250.0\n",
       "       ...  \n",
       "257      5.0\n",
       "258      4.0\n",
       "259      3.0\n",
       "260      2.0\n",
       "261      1.0\n",
       "Name: NumeroReuniaoCopom, Length: 262, dtype: float64"
      ]
     },
     "execution_count": 51,
     "metadata": {},
     "output_type": "execute_result"
    }
   ],
   "source": [
    "df_decisions.loc[:,'NumeroReuniaoCopom']"
   ]
  },
  {
   "cell_type": "code",
   "execution_count": 52,
   "id": "c83ad57d-280c-44f0-854d-cf063a924512",
   "metadata": {
    "tags": []
   },
   "outputs": [
    {
     "data": {
      "text/plain": [
       "34.0     4\n",
       "33.0     3\n",
       "48.0     2\n",
       "35.0     2\n",
       "45.0     2\n",
       "        ..\n",
       "165.0    1\n",
       "164.0    1\n",
       "163.0    1\n",
       "162.0    1\n",
       "1.0      1\n",
       "Name: NumeroReuniaoCopom, Length: 254, dtype: int64"
      ]
     },
     "execution_count": 52,
     "metadata": {},
     "output_type": "execute_result"
    }
   ],
   "source": [
    "df_decisions['NumeroReuniaoCopom'].value_counts()"
   ]
  },
  {
   "cell_type": "code",
   "execution_count": 53,
   "id": "80d7026f-ccd6-44a0-a507-06f8d780e0b2",
   "metadata": {
    "tags": []
   },
   "outputs": [],
   "source": [
    "# df_decisions.iloc[150:164,[0, 1, 2]]"
   ]
  },
  {
   "cell_type": "code",
   "execution_count": 54,
   "id": "7cf1b59f-708d-4416-8b25-6bc390d80cc3",
   "metadata": {
    "tags": []
   },
   "outputs": [],
   "source": [
    "df_decisions.drop(['DataFimVigencia', 'DataInicioVigencia', 'TaxaSelicEfetivaAnualizada',\n",
    "                 'TaxaSelicEfetivaVigencia', 'TaxaTban', 'UsoMetaSelic', 'ReuniaoExtraordinaria',\n",
    "                 'Vies'], axis=1, inplace=True)"
   ]
  },
  {
   "cell_type": "code",
   "execution_count": 55,
   "id": "058bd11a-6a9b-4ce2-97ac-82bcef70c582",
   "metadata": {},
   "outputs": [],
   "source": [
    "df_decisions[\"DataReuniaoCopom\"] = df_decisions[\"DataReuniaoCopom\"].apply(pd.to_datetime).dt.strftime('%Y/%m/%d')"
   ]
  },
  {
   "cell_type": "code",
   "execution_count": 56,
   "id": "5c857bf3-38f4-4cbb-a33f-9d6c0e8e1356",
   "metadata": {},
   "outputs": [],
   "source": [
    "df_decisions.rename(columns={'MetaSelic': 'selic', \n",
    "                             'NumeroReuniaoCopom': 'meeting_number',\n",
    "                             'DataReuniaoCopom': 'date'\n",
    "                            }, inplace=True)"
   ]
  },
  {
   "cell_type": "code",
   "execution_count": 57,
   "id": "ea0ce1ac-8c5b-4a17-93af-92b82da62d0b",
   "metadata": {
    "tags": []
   },
   "outputs": [],
   "source": [
    "df_decisions['meeting_number'] = df_decisions['meeting_number'].astype(int).copy()"
   ]
  },
  {
   "cell_type": "code",
   "execution_count": 58,
   "id": "eda5adb0-3cd2-4169-8bd2-ca6302c45080",
   "metadata": {
    "tags": []
   },
   "outputs": [],
   "source": [
    "df_decisions = df_decisions[df_decisions['date'].notna()]"
   ]
  },
  {
   "cell_type": "code",
   "execution_count": 59,
   "id": "f0aae92a-20f1-438f-b6c6-a4ebe5e7e77f",
   "metadata": {},
   "outputs": [],
   "source": [
    "# df_decisions = df_decisions.sort_values('Date').copy()\n",
    "# df_decisions.set_index('Date', inplace=True)\n",
    "df_decisions = df_decisions.sort_values('meeting_number').copy()"
   ]
  },
  {
   "cell_type": "code",
   "execution_count": 60,
   "id": "728ca4b1-0afa-48fe-9598-e233ddd5c133",
   "metadata": {},
   "outputs": [],
   "source": [
    "df_decisions['decision'] = np.nan\n",
    "df_decisions['decision_txt'] = ''"
   ]
  },
  {
   "cell_type": "code",
   "execution_count": 61,
   "id": "860af501-212d-431e-b772-bbf2baaa24e4",
   "metadata": {
    "tags": []
   },
   "outputs": [],
   "source": [
    "# df_decisions = df_decisions[['Selic', 'meeting_number', 'Decision', 'Decision_txt', 'Date']]"
   ]
  },
  {
   "cell_type": "code",
   "execution_count": 62,
   "id": "473137fb-986f-49fa-9b3d-f5b6f21b39cb",
   "metadata": {
    "tags": []
   },
   "outputs": [
    {
     "data": {
      "text/plain": [
       "254"
      ]
     },
     "execution_count": 62,
     "metadata": {},
     "output_type": "execute_result"
    }
   ],
   "source": [
    "df_decisions['meeting_number'].count()"
   ]
  },
  {
   "cell_type": "code",
   "execution_count": 63,
   "id": "eeb6b8cd-8278-4267-8e94-f6d3b86d28cb",
   "metadata": {
    "tags": []
   },
   "outputs": [],
   "source": [
    "for i in range(len(df_decisions)-1):\n",
    "    df_decisions.iloc[i+1,3] = df_decisions.iloc[i+1,1] - df_decisions.iloc[i,1]"
   ]
  },
  {
   "cell_type": "code",
   "execution_count": 64,
   "id": "cd83f6b1-dc8f-4cb1-a956-ecf717090dd2",
   "metadata": {},
   "outputs": [],
   "source": [
    "def decision_txt(num):\n",
    "    if num == 0:\n",
    "        return 'manter'\n",
    "    elif num >= 0:\n",
    "        return 'elevar'\n",
    "    elif num <= 0:\n",
    "        return 'cortar'\n",
    "    else:\n",
    "        return ''"
   ]
  },
  {
   "cell_type": "code",
   "execution_count": 65,
   "id": "c2579792-d4b4-4f90-94ff-c74037054870",
   "metadata": {
    "tags": []
   },
   "outputs": [],
   "source": [
    "for i in range(len(df_decisions)-1):\n",
    "    df_decisions.iloc[i+1,4] = decision_txt(df_decisions.iloc[i+1,3])"
   ]
  },
  {
   "cell_type": "code",
   "execution_count": 66,
   "id": "ed9ac928-5baa-495e-8f13-14b603ebcdd1",
   "metadata": {
    "tags": []
   },
   "outputs": [
    {
     "data": {
      "text/html": [
       "<div>\n",
       "<style scoped>\n",
       "    .dataframe tbody tr th:only-of-type {\n",
       "        vertical-align: middle;\n",
       "    }\n",
       "\n",
       "    .dataframe tbody tr th {\n",
       "        vertical-align: top;\n",
       "    }\n",
       "\n",
       "    .dataframe thead th {\n",
       "        text-align: right;\n",
       "    }\n",
       "</style>\n",
       "<table border=\"1\" class=\"dataframe\">\n",
       "  <thead>\n",
       "    <tr style=\"text-align: right;\">\n",
       "      <th></th>\n",
       "      <th>date</th>\n",
       "      <th>selic</th>\n",
       "      <th>meeting_number</th>\n",
       "      <th>decision</th>\n",
       "      <th>decision_txt</th>\n",
       "    </tr>\n",
       "  </thead>\n",
       "  <tbody>\n",
       "    <tr>\n",
       "      <th>261</th>\n",
       "      <td>1996/06/26</td>\n",
       "      <td>1.90</td>\n",
       "      <td>1</td>\n",
       "      <td>NaN</td>\n",
       "      <td></td>\n",
       "    </tr>\n",
       "    <tr>\n",
       "      <th>260</th>\n",
       "      <td>1996/07/30</td>\n",
       "      <td>1.90</td>\n",
       "      <td>2</td>\n",
       "      <td>0.00</td>\n",
       "      <td>manter</td>\n",
       "    </tr>\n",
       "    <tr>\n",
       "      <th>259</th>\n",
       "      <td>1996/08/21</td>\n",
       "      <td>1.88</td>\n",
       "      <td>3</td>\n",
       "      <td>-0.02</td>\n",
       "      <td>cortar</td>\n",
       "    </tr>\n",
       "    <tr>\n",
       "      <th>258</th>\n",
       "      <td>1996/09/23</td>\n",
       "      <td>1.82</td>\n",
       "      <td>4</td>\n",
       "      <td>-0.06</td>\n",
       "      <td>cortar</td>\n",
       "    </tr>\n",
       "    <tr>\n",
       "      <th>257</th>\n",
       "      <td>1996/10/23</td>\n",
       "      <td>1.78</td>\n",
       "      <td>5</td>\n",
       "      <td>-0.04</td>\n",
       "      <td>cortar</td>\n",
       "    </tr>\n",
       "  </tbody>\n",
       "</table>\n",
       "</div>"
      ],
      "text/plain": [
       "           date  selic  meeting_number  decision decision_txt\n",
       "261  1996/06/26   1.90               1       NaN             \n",
       "260  1996/07/30   1.90               2      0.00       manter\n",
       "259  1996/08/21   1.88               3     -0.02       cortar\n",
       "258  1996/09/23   1.82               4     -0.06       cortar\n",
       "257  1996/10/23   1.78               5     -0.04       cortar"
      ]
     },
     "execution_count": 66,
     "metadata": {},
     "output_type": "execute_result"
    }
   ],
   "source": [
    "df_decisions.head()"
   ]
  },
  {
   "cell_type": "markdown",
   "id": "c323b517-f3c4-4708-9ea7-396bfd98cbdf",
   "metadata": {},
   "source": [
    "### Labels"
   ]
  },
  {
   "cell_type": "code",
   "execution_count": 67,
   "id": "a413bb87-b575-4cfc-aced-d097953c5dea",
   "metadata": {},
   "outputs": [],
   "source": [
    "df_decisions['label_hawk_dove'] = None\n",
    "df_decisions['label_next_meet'] = None"
   ]
  },
  {
   "cell_type": "code",
   "execution_count": 68,
   "id": "35147b92-4caf-4574-a374-ccd7f1119891",
   "metadata": {
    "tags": []
   },
   "outputs": [],
   "source": [
    "for i in range(len(df_decisions)-1):\n",
    "    decisao_atual = df_decisions.iloc[i, 3]\n",
    "    decisao_seguite =  df_decisions.iloc[i+1, 3]\n",
    "    decisao_seguite_txt = df_decisions.iloc[i+1, 4]    \n",
    "        \n",
    "    if decisao_seguite_txt == 'cortar':\n",
    "        if decisao_seguite == decisao_atual:\n",
    "            resultado = 'dovish'\n",
    "        elif decisao_seguite > decisao_atual:\n",
    "            resultado = 'dovish' # less dovish\n",
    "        else:\n",
    "            resultado = 'dovish' # more dovish\n",
    "    elif decisao_seguite_txt == 'elevar':\n",
    "        if decisao_seguite == decisao_atual:\n",
    "            resultado = 'hawkish'\n",
    "        elif decisao_seguite > decisao_atual:\n",
    "            resultado = 'hawkish' # more hawkish\n",
    "        else:\n",
    "            resultado = 'hawkish' # less hawkish\n",
    "    elif decisao_seguite_txt == 'manter':\n",
    "        if decisao_atual < 0: \n",
    "            resultado = 'hawkish' # parou de cortar\n",
    "        elif decisao_atual > 0:\n",
    "            resultado = 'dovish' # parou de elevar\n",
    "        else:\n",
    "            resultado = 'neutral' # manteve\n",
    "    \n",
    "    df_decisions.iloc[i, 5] = resultado "
   ]
  },
  {
   "cell_type": "code",
   "execution_count": 69,
   "id": "a69c1c6f-36ae-472f-9fb8-a894c2acfd05",
   "metadata": {
    "tags": []
   },
   "outputs": [],
   "source": [
    "# df_decisions.head()"
   ]
  },
  {
   "cell_type": "code",
   "execution_count": 70,
   "id": "0ed05141-03c4-4bec-b43f-e50929778ac5",
   "metadata": {
    "tags": []
   },
   "outputs": [],
   "source": [
    "for i in range(len(df_decisions)-1):\n",
    "    df_decisions.iloc[i, 6] = df_decisions.iloc[i+1, 4]"
   ]
  },
  {
   "cell_type": "code",
   "execution_count": 71,
   "id": "21e6caa6-2846-4be9-ac3b-50a7a3719faa",
   "metadata": {},
   "outputs": [
    {
     "data": {
      "text/html": [
       "<div>\n",
       "<style scoped>\n",
       "    .dataframe tbody tr th:only-of-type {\n",
       "        vertical-align: middle;\n",
       "    }\n",
       "\n",
       "    .dataframe tbody tr th {\n",
       "        vertical-align: top;\n",
       "    }\n",
       "\n",
       "    .dataframe thead th {\n",
       "        text-align: right;\n",
       "    }\n",
       "</style>\n",
       "<table border=\"1\" class=\"dataframe\">\n",
       "  <thead>\n",
       "    <tr style=\"text-align: right;\">\n",
       "      <th></th>\n",
       "      <th>date</th>\n",
       "      <th>selic</th>\n",
       "      <th>meeting_number</th>\n",
       "      <th>decision</th>\n",
       "      <th>decision_txt</th>\n",
       "      <th>label_hawk_dove</th>\n",
       "      <th>label_next_meet</th>\n",
       "    </tr>\n",
       "  </thead>\n",
       "  <tbody>\n",
       "    <tr>\n",
       "      <th>261</th>\n",
       "      <td>1996/06/26</td>\n",
       "      <td>1.90</td>\n",
       "      <td>1</td>\n",
       "      <td>NaN</td>\n",
       "      <td></td>\n",
       "      <td>neutral</td>\n",
       "      <td>manter</td>\n",
       "    </tr>\n",
       "    <tr>\n",
       "      <th>260</th>\n",
       "      <td>1996/07/30</td>\n",
       "      <td>1.90</td>\n",
       "      <td>2</td>\n",
       "      <td>0.00</td>\n",
       "      <td>manter</td>\n",
       "      <td>dovish</td>\n",
       "      <td>cortar</td>\n",
       "    </tr>\n",
       "    <tr>\n",
       "      <th>259</th>\n",
       "      <td>1996/08/21</td>\n",
       "      <td>1.88</td>\n",
       "      <td>3</td>\n",
       "      <td>-0.02</td>\n",
       "      <td>cortar</td>\n",
       "      <td>dovish</td>\n",
       "      <td>cortar</td>\n",
       "    </tr>\n",
       "    <tr>\n",
       "      <th>258</th>\n",
       "      <td>1996/09/23</td>\n",
       "      <td>1.82</td>\n",
       "      <td>4</td>\n",
       "      <td>-0.06</td>\n",
       "      <td>cortar</td>\n",
       "      <td>dovish</td>\n",
       "      <td>cortar</td>\n",
       "    </tr>\n",
       "    <tr>\n",
       "      <th>257</th>\n",
       "      <td>1996/10/23</td>\n",
       "      <td>1.78</td>\n",
       "      <td>5</td>\n",
       "      <td>-0.04</td>\n",
       "      <td>cortar</td>\n",
       "      <td>dovish</td>\n",
       "      <td>cortar</td>\n",
       "    </tr>\n",
       "    <tr>\n",
       "      <th>...</th>\n",
       "      <td>...</td>\n",
       "      <td>...</td>\n",
       "      <td>...</td>\n",
       "      <td>...</td>\n",
       "      <td>...</td>\n",
       "      <td>...</td>\n",
       "      <td>...</td>\n",
       "    </tr>\n",
       "    <tr>\n",
       "      <th>4</th>\n",
       "      <td>2022/10/26</td>\n",
       "      <td>13.75</td>\n",
       "      <td>250</td>\n",
       "      <td>0.00</td>\n",
       "      <td>manter</td>\n",
       "      <td>neutral</td>\n",
       "      <td>manter</td>\n",
       "    </tr>\n",
       "    <tr>\n",
       "      <th>3</th>\n",
       "      <td>2022/12/07</td>\n",
       "      <td>13.75</td>\n",
       "      <td>251</td>\n",
       "      <td>0.00</td>\n",
       "      <td>manter</td>\n",
       "      <td>neutral</td>\n",
       "      <td>manter</td>\n",
       "    </tr>\n",
       "    <tr>\n",
       "      <th>2</th>\n",
       "      <td>2023/02/01</td>\n",
       "      <td>13.75</td>\n",
       "      <td>252</td>\n",
       "      <td>0.00</td>\n",
       "      <td>manter</td>\n",
       "      <td>neutral</td>\n",
       "      <td>manter</td>\n",
       "    </tr>\n",
       "    <tr>\n",
       "      <th>1</th>\n",
       "      <td>2023/03/22</td>\n",
       "      <td>13.75</td>\n",
       "      <td>253</td>\n",
       "      <td>0.00</td>\n",
       "      <td>manter</td>\n",
       "      <td>neutral</td>\n",
       "      <td>manter</td>\n",
       "    </tr>\n",
       "    <tr>\n",
       "      <th>0</th>\n",
       "      <td>2023/05/03</td>\n",
       "      <td>13.75</td>\n",
       "      <td>254</td>\n",
       "      <td>0.00</td>\n",
       "      <td>manter</td>\n",
       "      <td>None</td>\n",
       "      <td>None</td>\n",
       "    </tr>\n",
       "  </tbody>\n",
       "</table>\n",
       "<p>254 rows × 7 columns</p>\n",
       "</div>"
      ],
      "text/plain": [
       "           date  selic  meeting_number  decision decision_txt label_hawk_dove  \\\n",
       "261  1996/06/26   1.90               1       NaN                      neutral   \n",
       "260  1996/07/30   1.90               2      0.00       manter          dovish   \n",
       "259  1996/08/21   1.88               3     -0.02       cortar          dovish   \n",
       "258  1996/09/23   1.82               4     -0.06       cortar          dovish   \n",
       "257  1996/10/23   1.78               5     -0.04       cortar          dovish   \n",
       "..          ...    ...             ...       ...          ...             ...   \n",
       "4    2022/10/26  13.75             250      0.00       manter         neutral   \n",
       "3    2022/12/07  13.75             251      0.00       manter         neutral   \n",
       "2    2023/02/01  13.75             252      0.00       manter         neutral   \n",
       "1    2023/03/22  13.75             253      0.00       manter         neutral   \n",
       "0    2023/05/03  13.75             254      0.00       manter            None   \n",
       "\n",
       "    label_next_meet  \n",
       "261          manter  \n",
       "260          cortar  \n",
       "259          cortar  \n",
       "258          cortar  \n",
       "257          cortar  \n",
       "..              ...  \n",
       "4            manter  \n",
       "3            manter  \n",
       "2            manter  \n",
       "1            manter  \n",
       "0              None  \n",
       "\n",
       "[254 rows x 7 columns]"
      ]
     },
     "execution_count": 71,
     "metadata": {},
     "output_type": "execute_result"
    }
   ],
   "source": [
    "df_decisions"
   ]
  },
  {
   "cell_type": "markdown",
   "id": "209d119e-b3d4-4834-8e8a-4e0ec30e7135",
   "metadata": {},
   "source": [
    "### Merge columns"
   ]
  },
  {
   "cell_type": "code",
   "execution_count": 72,
   "id": "90c56073-5777-4268-8d59-473e915146cf",
   "metadata": {
    "tags": []
   },
   "outputs": [],
   "source": [
    "# df_minutes.head()"
   ]
  },
  {
   "cell_type": "code",
   "execution_count": 73,
   "id": "cff5e211-9519-4a3b-927a-6248f8698a44",
   "metadata": {
    "tags": []
   },
   "outputs": [],
   "source": [
    "# df_minutes.tail()"
   ]
  },
  {
   "cell_type": "code",
   "execution_count": 74,
   "id": "91ebae1c-19d4-4f14-b006-bf6f34696e3b",
   "metadata": {
    "tags": []
   },
   "outputs": [],
   "source": [
    "# df_statements.head()"
   ]
  },
  {
   "cell_type": "code",
   "execution_count": 75,
   "id": "e6ff1279-b797-4086-b63f-e1e8b562a756",
   "metadata": {
    "tags": []
   },
   "outputs": [],
   "source": [
    "# df_statements.tail()"
   ]
  },
  {
   "cell_type": "code",
   "execution_count": 76,
   "id": "0e83a14f-6c4f-4b49-a662-dbd2aeddda40",
   "metadata": {
    "tags": []
   },
   "outputs": [],
   "source": [
    "df1 = pd.merge(df_statements, df_minutes, how=\"outer\")"
   ]
  },
  {
   "cell_type": "code",
   "execution_count": 77,
   "id": "33ba4e4b-a7d6-45cd-aa8b-993e90dbcdaa",
   "metadata": {
    "tags": []
   },
   "outputs": [],
   "source": [
    "df1 = df1.sort_values('meeting_number').copy()"
   ]
  },
  {
   "cell_type": "code",
   "execution_count": 78,
   "id": "af1f6e1b-5dc4-44d7-9043-0b34c30ccaaa",
   "metadata": {
    "tags": []
   },
   "outputs": [
    {
     "data": {
      "text/html": [
       "<div>\n",
       "<style scoped>\n",
       "    .dataframe tbody tr th:only-of-type {\n",
       "        vertical-align: middle;\n",
       "    }\n",
       "\n",
       "    .dataframe tbody tr th {\n",
       "        vertical-align: top;\n",
       "    }\n",
       "\n",
       "    .dataframe thead th {\n",
       "        text-align: right;\n",
       "    }\n",
       "</style>\n",
       "<table border=\"1\" class=\"dataframe\">\n",
       "  <thead>\n",
       "    <tr style=\"text-align: right;\">\n",
       "      <th></th>\n",
       "      <th>text_raw</th>\n",
       "      <th>meeting_number</th>\n",
       "      <th>type</th>\n",
       "      <th>date</th>\n",
       "      <th>text</th>\n",
       "      <th>num_words</th>\n",
       "      <th>num_words_raw</th>\n",
       "    </tr>\n",
       "  </thead>\n",
       "  <tbody>\n",
       "    <tr>\n",
       "      <th>209</th>\n",
       "      <td>\\nSumárioPreços e Nível de Atividade\\nAgregado...</td>\n",
       "      <td>21</td>\n",
       "      <td>minutes</td>\n",
       "      <td>1998/01/28</td>\n",
       "      <td>sumáriopreços nível atividade agregados monetá...</td>\n",
       "      <td>3926</td>\n",
       "      <td>5066</td>\n",
       "    </tr>\n",
       "    <tr>\n",
       "      <th>210</th>\n",
       "      <td>\\nSumárioPreços e Nível de Atividade\\nAgregado...</td>\n",
       "      <td>22</td>\n",
       "      <td>minutes</td>\n",
       "      <td>1998/03/01</td>\n",
       "      <td>sumáriopreços nível atividade agregados monetá...</td>\n",
       "      <td>2961</td>\n",
       "      <td>3893</td>\n",
       "    </tr>\n",
       "    <tr>\n",
       "      <th>211</th>\n",
       "      <td>\\nSumárioPreços e Nível de Atividade\\nAgregado...</td>\n",
       "      <td>23</td>\n",
       "      <td>minutes</td>\n",
       "      <td>1998/04/01</td>\n",
       "      <td>sumáriopreços nível atividade agregados monetá...</td>\n",
       "      <td>3899</td>\n",
       "      <td>4945</td>\n",
       "    </tr>\n",
       "    <tr>\n",
       "      <th>212</th>\n",
       "      <td>\\nSumárioPreços e Nível de Atividade\\nAgregado...</td>\n",
       "      <td>24</td>\n",
       "      <td>minutes</td>\n",
       "      <td>1998/05/01</td>\n",
       "      <td>sumáriopreços nível atividade agregados monetá...</td>\n",
       "      <td>3367</td>\n",
       "      <td>4341</td>\n",
       "    </tr>\n",
       "    <tr>\n",
       "      <th>213</th>\n",
       "      <td>\\n \\nSumário\\n \\nPreços e Nível de Atividade\\n...</td>\n",
       "      <td>25</td>\n",
       "      <td>minutes</td>\n",
       "      <td>1998/06/01</td>\n",
       "      <td>sumário preços nível atividade agregados monet...</td>\n",
       "      <td>5246</td>\n",
       "      <td>6626</td>\n",
       "    </tr>\n",
       "    <tr>\n",
       "      <th>...</th>\n",
       "      <td>...</td>\n",
       "      <td>...</td>\n",
       "      <td>...</td>\n",
       "      <td>...</td>\n",
       "      <td>...</td>\n",
       "      <td>...</td>\n",
       "      <td>...</td>\n",
       "    </tr>\n",
       "    <tr>\n",
       "      <th>408</th>\n",
       "      <td>A) Atualização da conjuntura econômica e do ce...</td>\n",
       "      <td>252</td>\n",
       "      <td>minutes</td>\n",
       "      <td>2023/02/01</td>\n",
       "      <td>) atualização conjuntura econômica cenário cop...</td>\n",
       "      <td>1937</td>\n",
       "      <td>3247</td>\n",
       "    </tr>\n",
       "    <tr>\n",
       "      <th>207</th>\n",
       "      <td>Desde a reunião anterior do Comitê de Política...</td>\n",
       "      <td>253</td>\n",
       "      <td>statement</td>\n",
       "      <td>2023/03/22</td>\n",
       "      <td>desde reunião anterior comitê política monetár...</td>\n",
       "      <td>606</td>\n",
       "      <td>845</td>\n",
       "    </tr>\n",
       "    <tr>\n",
       "      <th>409</th>\n",
       "      <td>A) Atualização da conjuntura econômica e do ce...</td>\n",
       "      <td>253</td>\n",
       "      <td>minutes</td>\n",
       "      <td>2023/03/22</td>\n",
       "      <td>) atualização conjuntura econômica cenário cop...</td>\n",
       "      <td>2013</td>\n",
       "      <td>3359</td>\n",
       "    </tr>\n",
       "    <tr>\n",
       "      <th>208</th>\n",
       "      <td>O ambiente externo se mantém adverso. Os episó...</td>\n",
       "      <td>254</td>\n",
       "      <td>statement</td>\n",
       "      <td>2023/05/03</td>\n",
       "      <td>ambiente externo mantém adverso . episódios en...</td>\n",
       "      <td>469</td>\n",
       "      <td>835</td>\n",
       "    </tr>\n",
       "    <tr>\n",
       "      <th>410</th>\n",
       "      <td>A) Atualização da conjuntura econômica e do ce...</td>\n",
       "      <td>254</td>\n",
       "      <td>minutes</td>\n",
       "      <td>2023/05/03</td>\n",
       "      <td>) atualização conjuntura econômica cenário cop...</td>\n",
       "      <td>1801</td>\n",
       "      <td>3076</td>\n",
       "    </tr>\n",
       "  </tbody>\n",
       "</table>\n",
       "<p>411 rows × 7 columns</p>\n",
       "</div>"
      ],
      "text/plain": [
       "                                              text_raw  meeting_number  \\\n",
       "209  \\nSumárioPreços e Nível de Atividade\\nAgregado...              21   \n",
       "210  \\nSumárioPreços e Nível de Atividade\\nAgregado...              22   \n",
       "211  \\nSumárioPreços e Nível de Atividade\\nAgregado...              23   \n",
       "212  \\nSumárioPreços e Nível de Atividade\\nAgregado...              24   \n",
       "213  \\n \\nSumário\\n \\nPreços e Nível de Atividade\\n...              25   \n",
       "..                                                 ...             ...   \n",
       "408  A) Atualização da conjuntura econômica e do ce...             252   \n",
       "207  Desde a reunião anterior do Comitê de Política...             253   \n",
       "409  A) Atualização da conjuntura econômica e do ce...             253   \n",
       "208  O ambiente externo se mantém adverso. Os episó...             254   \n",
       "410  A) Atualização da conjuntura econômica e do ce...             254   \n",
       "\n",
       "          type        date                                               text  \\\n",
       "209    minutes  1998/01/28  sumáriopreços nível atividade agregados monetá...   \n",
       "210    minutes  1998/03/01  sumáriopreços nível atividade agregados monetá...   \n",
       "211    minutes  1998/04/01  sumáriopreços nível atividade agregados monetá...   \n",
       "212    minutes  1998/05/01  sumáriopreços nível atividade agregados monetá...   \n",
       "213    minutes  1998/06/01  sumário preços nível atividade agregados monet...   \n",
       "..         ...         ...                                                ...   \n",
       "408    minutes  2023/02/01  ) atualização conjuntura econômica cenário cop...   \n",
       "207  statement  2023/03/22  desde reunião anterior comitê política monetár...   \n",
       "409    minutes  2023/03/22  ) atualização conjuntura econômica cenário cop...   \n",
       "208  statement  2023/05/03  ambiente externo mantém adverso . episódios en...   \n",
       "410    minutes  2023/05/03  ) atualização conjuntura econômica cenário cop...   \n",
       "\n",
       "     num_words  num_words_raw  \n",
       "209       3926           5066  \n",
       "210       2961           3893  \n",
       "211       3899           4945  \n",
       "212       3367           4341  \n",
       "213       5246           6626  \n",
       "..         ...            ...  \n",
       "408       1937           3247  \n",
       "207        606            845  \n",
       "409       2013           3359  \n",
       "208        469            835  \n",
       "410       1801           3076  \n",
       "\n",
       "[411 rows x 7 columns]"
      ]
     },
     "execution_count": 78,
     "metadata": {},
     "output_type": "execute_result"
    }
   ],
   "source": [
    "df1"
   ]
  },
  {
   "cell_type": "code",
   "execution_count": 79,
   "id": "552541a6-2e20-4489-8b9a-b2d9c5306d70",
   "metadata": {
    "tags": []
   },
   "outputs": [
    {
     "data": {
      "text/html": [
       "<div>\n",
       "<style scoped>\n",
       "    .dataframe tbody tr th:only-of-type {\n",
       "        vertical-align: middle;\n",
       "    }\n",
       "\n",
       "    .dataframe tbody tr th {\n",
       "        vertical-align: top;\n",
       "    }\n",
       "\n",
       "    .dataframe thead th {\n",
       "        text-align: right;\n",
       "    }\n",
       "</style>\n",
       "<table border=\"1\" class=\"dataframe\">\n",
       "  <thead>\n",
       "    <tr style=\"text-align: right;\">\n",
       "      <th></th>\n",
       "      <th>date</th>\n",
       "      <th>selic</th>\n",
       "      <th>meeting_number</th>\n",
       "      <th>decision</th>\n",
       "      <th>decision_txt</th>\n",
       "      <th>label_hawk_dove</th>\n",
       "      <th>label_next_meet</th>\n",
       "    </tr>\n",
       "  </thead>\n",
       "  <tbody>\n",
       "    <tr>\n",
       "      <th>261</th>\n",
       "      <td>1996/06/26</td>\n",
       "      <td>1.90</td>\n",
       "      <td>1</td>\n",
       "      <td>NaN</td>\n",
       "      <td></td>\n",
       "      <td>neutral</td>\n",
       "      <td>manter</td>\n",
       "    </tr>\n",
       "    <tr>\n",
       "      <th>260</th>\n",
       "      <td>1996/07/30</td>\n",
       "      <td>1.90</td>\n",
       "      <td>2</td>\n",
       "      <td>0.00</td>\n",
       "      <td>manter</td>\n",
       "      <td>dovish</td>\n",
       "      <td>cortar</td>\n",
       "    </tr>\n",
       "    <tr>\n",
       "      <th>259</th>\n",
       "      <td>1996/08/21</td>\n",
       "      <td>1.88</td>\n",
       "      <td>3</td>\n",
       "      <td>-0.02</td>\n",
       "      <td>cortar</td>\n",
       "      <td>dovish</td>\n",
       "      <td>cortar</td>\n",
       "    </tr>\n",
       "    <tr>\n",
       "      <th>258</th>\n",
       "      <td>1996/09/23</td>\n",
       "      <td>1.82</td>\n",
       "      <td>4</td>\n",
       "      <td>-0.06</td>\n",
       "      <td>cortar</td>\n",
       "      <td>dovish</td>\n",
       "      <td>cortar</td>\n",
       "    </tr>\n",
       "    <tr>\n",
       "      <th>257</th>\n",
       "      <td>1996/10/23</td>\n",
       "      <td>1.78</td>\n",
       "      <td>5</td>\n",
       "      <td>-0.04</td>\n",
       "      <td>cortar</td>\n",
       "      <td>dovish</td>\n",
       "      <td>cortar</td>\n",
       "    </tr>\n",
       "    <tr>\n",
       "      <th>...</th>\n",
       "      <td>...</td>\n",
       "      <td>...</td>\n",
       "      <td>...</td>\n",
       "      <td>...</td>\n",
       "      <td>...</td>\n",
       "      <td>...</td>\n",
       "      <td>...</td>\n",
       "    </tr>\n",
       "    <tr>\n",
       "      <th>4</th>\n",
       "      <td>2022/10/26</td>\n",
       "      <td>13.75</td>\n",
       "      <td>250</td>\n",
       "      <td>0.00</td>\n",
       "      <td>manter</td>\n",
       "      <td>neutral</td>\n",
       "      <td>manter</td>\n",
       "    </tr>\n",
       "    <tr>\n",
       "      <th>3</th>\n",
       "      <td>2022/12/07</td>\n",
       "      <td>13.75</td>\n",
       "      <td>251</td>\n",
       "      <td>0.00</td>\n",
       "      <td>manter</td>\n",
       "      <td>neutral</td>\n",
       "      <td>manter</td>\n",
       "    </tr>\n",
       "    <tr>\n",
       "      <th>2</th>\n",
       "      <td>2023/02/01</td>\n",
       "      <td>13.75</td>\n",
       "      <td>252</td>\n",
       "      <td>0.00</td>\n",
       "      <td>manter</td>\n",
       "      <td>neutral</td>\n",
       "      <td>manter</td>\n",
       "    </tr>\n",
       "    <tr>\n",
       "      <th>1</th>\n",
       "      <td>2023/03/22</td>\n",
       "      <td>13.75</td>\n",
       "      <td>253</td>\n",
       "      <td>0.00</td>\n",
       "      <td>manter</td>\n",
       "      <td>neutral</td>\n",
       "      <td>manter</td>\n",
       "    </tr>\n",
       "    <tr>\n",
       "      <th>0</th>\n",
       "      <td>2023/05/03</td>\n",
       "      <td>13.75</td>\n",
       "      <td>254</td>\n",
       "      <td>0.00</td>\n",
       "      <td>manter</td>\n",
       "      <td>None</td>\n",
       "      <td>None</td>\n",
       "    </tr>\n",
       "  </tbody>\n",
       "</table>\n",
       "<p>254 rows × 7 columns</p>\n",
       "</div>"
      ],
      "text/plain": [
       "           date  selic  meeting_number  decision decision_txt label_hawk_dove  \\\n",
       "261  1996/06/26   1.90               1       NaN                      neutral   \n",
       "260  1996/07/30   1.90               2      0.00       manter          dovish   \n",
       "259  1996/08/21   1.88               3     -0.02       cortar          dovish   \n",
       "258  1996/09/23   1.82               4     -0.06       cortar          dovish   \n",
       "257  1996/10/23   1.78               5     -0.04       cortar          dovish   \n",
       "..          ...    ...             ...       ...          ...             ...   \n",
       "4    2022/10/26  13.75             250      0.00       manter         neutral   \n",
       "3    2022/12/07  13.75             251      0.00       manter         neutral   \n",
       "2    2023/02/01  13.75             252      0.00       manter         neutral   \n",
       "1    2023/03/22  13.75             253      0.00       manter         neutral   \n",
       "0    2023/05/03  13.75             254      0.00       manter            None   \n",
       "\n",
       "    label_next_meet  \n",
       "261          manter  \n",
       "260          cortar  \n",
       "259          cortar  \n",
       "258          cortar  \n",
       "257          cortar  \n",
       "..              ...  \n",
       "4            manter  \n",
       "3            manter  \n",
       "2            manter  \n",
       "1            manter  \n",
       "0              None  \n",
       "\n",
       "[254 rows x 7 columns]"
      ]
     },
     "execution_count": 79,
     "metadata": {},
     "output_type": "execute_result"
    }
   ],
   "source": [
    "df_decisions"
   ]
  },
  {
   "cell_type": "code",
   "execution_count": 80,
   "id": "4b0c7abd-dda7-4403-9ed0-634b74b7567a",
   "metadata": {},
   "outputs": [],
   "source": [
    "df2 = pd.merge(df1, df_decisions, how=\"outer\", on=['meeting_number'])"
   ]
  },
  {
   "cell_type": "code",
   "execution_count": 81,
   "id": "a11b1cfa-9554-4857-bb0d-3463a2420fc5",
   "metadata": {
    "tags": []
   },
   "outputs": [],
   "source": [
    "df = df2.sort_values('meeting_number').copy()"
   ]
  },
  {
   "cell_type": "code",
   "execution_count": 82,
   "id": "76f79c97-6275-4bf2-ad02-1af2f8fd4f61",
   "metadata": {
    "tags": []
   },
   "outputs": [
    {
     "data": {
      "text/html": [
       "<div>\n",
       "<style scoped>\n",
       "    .dataframe tbody tr th:only-of-type {\n",
       "        vertical-align: middle;\n",
       "    }\n",
       "\n",
       "    .dataframe tbody tr th {\n",
       "        vertical-align: top;\n",
       "    }\n",
       "\n",
       "    .dataframe thead th {\n",
       "        text-align: right;\n",
       "    }\n",
       "</style>\n",
       "<table border=\"1\" class=\"dataframe\">\n",
       "  <thead>\n",
       "    <tr style=\"text-align: right;\">\n",
       "      <th></th>\n",
       "      <th>text_raw</th>\n",
       "      <th>meeting_number</th>\n",
       "      <th>type</th>\n",
       "      <th>date_x</th>\n",
       "      <th>text</th>\n",
       "      <th>num_words</th>\n",
       "      <th>num_words_raw</th>\n",
       "      <th>date_y</th>\n",
       "      <th>selic</th>\n",
       "      <th>decision</th>\n",
       "      <th>decision_txt</th>\n",
       "      <th>label_hawk_dove</th>\n",
       "      <th>label_next_meet</th>\n",
       "    </tr>\n",
       "  </thead>\n",
       "  <tbody>\n",
       "    <tr>\n",
       "      <th>411</th>\n",
       "      <td>NaN</td>\n",
       "      <td>1</td>\n",
       "      <td>NaN</td>\n",
       "      <td>NaN</td>\n",
       "      <td>NaN</td>\n",
       "      <td>NaN</td>\n",
       "      <td>NaN</td>\n",
       "      <td>1996/06/26</td>\n",
       "      <td>1.90</td>\n",
       "      <td>NaN</td>\n",
       "      <td></td>\n",
       "      <td>neutral</td>\n",
       "      <td>manter</td>\n",
       "    </tr>\n",
       "    <tr>\n",
       "      <th>412</th>\n",
       "      <td>NaN</td>\n",
       "      <td>2</td>\n",
       "      <td>NaN</td>\n",
       "      <td>NaN</td>\n",
       "      <td>NaN</td>\n",
       "      <td>NaN</td>\n",
       "      <td>NaN</td>\n",
       "      <td>1996/07/30</td>\n",
       "      <td>1.90</td>\n",
       "      <td>0.00</td>\n",
       "      <td>manter</td>\n",
       "      <td>dovish</td>\n",
       "      <td>cortar</td>\n",
       "    </tr>\n",
       "    <tr>\n",
       "      <th>413</th>\n",
       "      <td>NaN</td>\n",
       "      <td>3</td>\n",
       "      <td>NaN</td>\n",
       "      <td>NaN</td>\n",
       "      <td>NaN</td>\n",
       "      <td>NaN</td>\n",
       "      <td>NaN</td>\n",
       "      <td>1996/08/21</td>\n",
       "      <td>1.88</td>\n",
       "      <td>-0.02</td>\n",
       "      <td>cortar</td>\n",
       "      <td>dovish</td>\n",
       "      <td>cortar</td>\n",
       "    </tr>\n",
       "    <tr>\n",
       "      <th>414</th>\n",
       "      <td>NaN</td>\n",
       "      <td>4</td>\n",
       "      <td>NaN</td>\n",
       "      <td>NaN</td>\n",
       "      <td>NaN</td>\n",
       "      <td>NaN</td>\n",
       "      <td>NaN</td>\n",
       "      <td>1996/09/23</td>\n",
       "      <td>1.82</td>\n",
       "      <td>-0.06</td>\n",
       "      <td>cortar</td>\n",
       "      <td>dovish</td>\n",
       "      <td>cortar</td>\n",
       "    </tr>\n",
       "    <tr>\n",
       "      <th>415</th>\n",
       "      <td>NaN</td>\n",
       "      <td>5</td>\n",
       "      <td>NaN</td>\n",
       "      <td>NaN</td>\n",
       "      <td>NaN</td>\n",
       "      <td>NaN</td>\n",
       "      <td>NaN</td>\n",
       "      <td>1996/10/23</td>\n",
       "      <td>1.78</td>\n",
       "      <td>-0.04</td>\n",
       "      <td>cortar</td>\n",
       "      <td>dovish</td>\n",
       "      <td>cortar</td>\n",
       "    </tr>\n",
       "  </tbody>\n",
       "</table>\n",
       "</div>"
      ],
      "text/plain": [
       "    text_raw  meeting_number type date_x text  num_words  num_words_raw  \\\n",
       "411      NaN               1  NaN    NaN  NaN        NaN            NaN   \n",
       "412      NaN               2  NaN    NaN  NaN        NaN            NaN   \n",
       "413      NaN               3  NaN    NaN  NaN        NaN            NaN   \n",
       "414      NaN               4  NaN    NaN  NaN        NaN            NaN   \n",
       "415      NaN               5  NaN    NaN  NaN        NaN            NaN   \n",
       "\n",
       "         date_y  selic  decision decision_txt label_hawk_dove label_next_meet  \n",
       "411  1996/06/26   1.90       NaN                      neutral          manter  \n",
       "412  1996/07/30   1.90      0.00       manter          dovish          cortar  \n",
       "413  1996/08/21   1.88     -0.02       cortar          dovish          cortar  \n",
       "414  1996/09/23   1.82     -0.06       cortar          dovish          cortar  \n",
       "415  1996/10/23   1.78     -0.04       cortar          dovish          cortar  "
      ]
     },
     "execution_count": 82,
     "metadata": {},
     "output_type": "execute_result"
    }
   ],
   "source": [
    "df.head()"
   ]
  },
  {
   "cell_type": "code",
   "execution_count": 83,
   "id": "b91127fb-009a-4dce-8833-f02e2ecc3d67",
   "metadata": {},
   "outputs": [],
   "source": [
    "df = df[df['selic'].notna()]"
   ]
  },
  {
   "cell_type": "code",
   "execution_count": 84,
   "id": "3eee5f88-5a4c-4579-8c64-c34c308a58ef",
   "metadata": {},
   "outputs": [],
   "source": [
    "df = df[df['text'].notna()]"
   ]
  },
  {
   "cell_type": "code",
   "execution_count": 85,
   "id": "81baadcd-6a7f-48c0-bdf9-34d084e8d042",
   "metadata": {},
   "outputs": [],
   "source": [
    "df = df[['meeting_number', 'date_x', 'date_y', 'selic', 'decision', 'decision_txt', \n",
    "         'type', 'text', 'num_words', 'text_raw', 'num_words_raw', 'label_hawk_dove', 'label_next_meet']]"
   ]
  },
  {
   "cell_type": "code",
   "execution_count": 86,
   "id": "a214a2f7-7cfa-479b-aea5-99196512df43",
   "metadata": {
    "tags": []
   },
   "outputs": [
    {
     "data": {
      "text/html": [
       "<div>\n",
       "<style scoped>\n",
       "    .dataframe tbody tr th:only-of-type {\n",
       "        vertical-align: middle;\n",
       "    }\n",
       "\n",
       "    .dataframe tbody tr th {\n",
       "        vertical-align: top;\n",
       "    }\n",
       "\n",
       "    .dataframe thead th {\n",
       "        text-align: right;\n",
       "    }\n",
       "</style>\n",
       "<table border=\"1\" class=\"dataframe\">\n",
       "  <thead>\n",
       "    <tr style=\"text-align: right;\">\n",
       "      <th></th>\n",
       "      <th>meeting_number</th>\n",
       "      <th>date_x</th>\n",
       "      <th>date_y</th>\n",
       "      <th>selic</th>\n",
       "      <th>decision</th>\n",
       "      <th>decision_txt</th>\n",
       "      <th>type</th>\n",
       "      <th>text</th>\n",
       "      <th>num_words</th>\n",
       "      <th>text_raw</th>\n",
       "      <th>num_words_raw</th>\n",
       "      <th>label_hawk_dove</th>\n",
       "      <th>label_next_meet</th>\n",
       "    </tr>\n",
       "  </thead>\n",
       "  <tbody>\n",
       "    <tr>\n",
       "      <th>0</th>\n",
       "      <td>21</td>\n",
       "      <td>1998/01/28</td>\n",
       "      <td>1998/01/28</td>\n",
       "      <td>34.50</td>\n",
       "      <td>-3.50</td>\n",
       "      <td>cortar</td>\n",
       "      <td>minutes</td>\n",
       "      <td>sumáriopreços nível atividade agregados monetá...</td>\n",
       "      <td>3926.0</td>\n",
       "      <td>\\nSumárioPreços e Nível de Atividade\\nAgregado...</td>\n",
       "      <td>5066.0</td>\n",
       "      <td>dovish</td>\n",
       "      <td>cortar</td>\n",
       "    </tr>\n",
       "    <tr>\n",
       "      <th>1</th>\n",
       "      <td>22</td>\n",
       "      <td>1998/03/01</td>\n",
       "      <td>1998/03/04</td>\n",
       "      <td>28.00</td>\n",
       "      <td>-6.50</td>\n",
       "      <td>cortar</td>\n",
       "      <td>minutes</td>\n",
       "      <td>sumáriopreços nível atividade agregados monetá...</td>\n",
       "      <td>2961.0</td>\n",
       "      <td>\\nSumárioPreços e Nível de Atividade\\nAgregado...</td>\n",
       "      <td>3893.0</td>\n",
       "      <td>dovish</td>\n",
       "      <td>cortar</td>\n",
       "    </tr>\n",
       "    <tr>\n",
       "      <th>2</th>\n",
       "      <td>23</td>\n",
       "      <td>1998/04/01</td>\n",
       "      <td>1998/04/15</td>\n",
       "      <td>23.25</td>\n",
       "      <td>-4.75</td>\n",
       "      <td>cortar</td>\n",
       "      <td>minutes</td>\n",
       "      <td>sumáriopreços nível atividade agregados monetá...</td>\n",
       "      <td>3899.0</td>\n",
       "      <td>\\nSumárioPreços e Nível de Atividade\\nAgregado...</td>\n",
       "      <td>4945.0</td>\n",
       "      <td>dovish</td>\n",
       "      <td>cortar</td>\n",
       "    </tr>\n",
       "    <tr>\n",
       "      <th>3</th>\n",
       "      <td>24</td>\n",
       "      <td>1998/05/01</td>\n",
       "      <td>1998/05/20</td>\n",
       "      <td>21.75</td>\n",
       "      <td>-1.50</td>\n",
       "      <td>cortar</td>\n",
       "      <td>minutes</td>\n",
       "      <td>sumáriopreços nível atividade agregados monetá...</td>\n",
       "      <td>3367.0</td>\n",
       "      <td>\\nSumárioPreços e Nível de Atividade\\nAgregado...</td>\n",
       "      <td>4341.0</td>\n",
       "      <td>dovish</td>\n",
       "      <td>cortar</td>\n",
       "    </tr>\n",
       "    <tr>\n",
       "      <th>4</th>\n",
       "      <td>25</td>\n",
       "      <td>1998/06/01</td>\n",
       "      <td>1998/06/24</td>\n",
       "      <td>21.00</td>\n",
       "      <td>-0.75</td>\n",
       "      <td>cortar</td>\n",
       "      <td>minutes</td>\n",
       "      <td>sumário preços nível atividade agregados monet...</td>\n",
       "      <td>5246.0</td>\n",
       "      <td>\\n \\nSumário\\n \\nPreços e Nível de Atividade\\n...</td>\n",
       "      <td>6626.0</td>\n",
       "      <td>dovish</td>\n",
       "      <td>cortar</td>\n",
       "    </tr>\n",
       "    <tr>\n",
       "      <th>...</th>\n",
       "      <td>...</td>\n",
       "      <td>...</td>\n",
       "      <td>...</td>\n",
       "      <td>...</td>\n",
       "      <td>...</td>\n",
       "      <td>...</td>\n",
       "      <td>...</td>\n",
       "      <td>...</td>\n",
       "      <td>...</td>\n",
       "      <td>...</td>\n",
       "      <td>...</td>\n",
       "      <td>...</td>\n",
       "      <td>...</td>\n",
       "    </tr>\n",
       "    <tr>\n",
       "      <th>406</th>\n",
       "      <td>252</td>\n",
       "      <td>2023/02/01</td>\n",
       "      <td>2023/02/01</td>\n",
       "      <td>13.75</td>\n",
       "      <td>0.00</td>\n",
       "      <td>manter</td>\n",
       "      <td>minutes</td>\n",
       "      <td>) atualização conjuntura econômica cenário cop...</td>\n",
       "      <td>1937.0</td>\n",
       "      <td>A) Atualização da conjuntura econômica e do ce...</td>\n",
       "      <td>3247.0</td>\n",
       "      <td>neutral</td>\n",
       "      <td>manter</td>\n",
       "    </tr>\n",
       "    <tr>\n",
       "      <th>407</th>\n",
       "      <td>253</td>\n",
       "      <td>2023/03/22</td>\n",
       "      <td>2023/03/22</td>\n",
       "      <td>13.75</td>\n",
       "      <td>0.00</td>\n",
       "      <td>manter</td>\n",
       "      <td>statement</td>\n",
       "      <td>desde reunião anterior comitê política monetár...</td>\n",
       "      <td>606.0</td>\n",
       "      <td>Desde a reunião anterior do Comitê de Política...</td>\n",
       "      <td>845.0</td>\n",
       "      <td>neutral</td>\n",
       "      <td>manter</td>\n",
       "    </tr>\n",
       "    <tr>\n",
       "      <th>408</th>\n",
       "      <td>253</td>\n",
       "      <td>2023/03/22</td>\n",
       "      <td>2023/03/22</td>\n",
       "      <td>13.75</td>\n",
       "      <td>0.00</td>\n",
       "      <td>manter</td>\n",
       "      <td>minutes</td>\n",
       "      <td>) atualização conjuntura econômica cenário cop...</td>\n",
       "      <td>2013.0</td>\n",
       "      <td>A) Atualização da conjuntura econômica e do ce...</td>\n",
       "      <td>3359.0</td>\n",
       "      <td>neutral</td>\n",
       "      <td>manter</td>\n",
       "    </tr>\n",
       "    <tr>\n",
       "      <th>410</th>\n",
       "      <td>254</td>\n",
       "      <td>2023/05/03</td>\n",
       "      <td>2023/05/03</td>\n",
       "      <td>13.75</td>\n",
       "      <td>0.00</td>\n",
       "      <td>manter</td>\n",
       "      <td>minutes</td>\n",
       "      <td>) atualização conjuntura econômica cenário cop...</td>\n",
       "      <td>1801.0</td>\n",
       "      <td>A) Atualização da conjuntura econômica e do ce...</td>\n",
       "      <td>3076.0</td>\n",
       "      <td>None</td>\n",
       "      <td>None</td>\n",
       "    </tr>\n",
       "    <tr>\n",
       "      <th>409</th>\n",
       "      <td>254</td>\n",
       "      <td>2023/05/03</td>\n",
       "      <td>2023/05/03</td>\n",
       "      <td>13.75</td>\n",
       "      <td>0.00</td>\n",
       "      <td>manter</td>\n",
       "      <td>statement</td>\n",
       "      <td>ambiente externo mantém adverso . episódios en...</td>\n",
       "      <td>469.0</td>\n",
       "      <td>O ambiente externo se mantém adverso. Os episó...</td>\n",
       "      <td>835.0</td>\n",
       "      <td>None</td>\n",
       "      <td>None</td>\n",
       "    </tr>\n",
       "  </tbody>\n",
       "</table>\n",
       "<p>411 rows × 13 columns</p>\n",
       "</div>"
      ],
      "text/plain": [
       "     meeting_number      date_x      date_y  selic  decision decision_txt  \\\n",
       "0                21  1998/01/28  1998/01/28  34.50     -3.50       cortar   \n",
       "1                22  1998/03/01  1998/03/04  28.00     -6.50       cortar   \n",
       "2                23  1998/04/01  1998/04/15  23.25     -4.75       cortar   \n",
       "3                24  1998/05/01  1998/05/20  21.75     -1.50       cortar   \n",
       "4                25  1998/06/01  1998/06/24  21.00     -0.75       cortar   \n",
       "..              ...         ...         ...    ...       ...          ...   \n",
       "406             252  2023/02/01  2023/02/01  13.75      0.00       manter   \n",
       "407             253  2023/03/22  2023/03/22  13.75      0.00       manter   \n",
       "408             253  2023/03/22  2023/03/22  13.75      0.00       manter   \n",
       "410             254  2023/05/03  2023/05/03  13.75      0.00       manter   \n",
       "409             254  2023/05/03  2023/05/03  13.75      0.00       manter   \n",
       "\n",
       "          type                                               text  num_words  \\\n",
       "0      minutes  sumáriopreços nível atividade agregados monetá...     3926.0   \n",
       "1      minutes  sumáriopreços nível atividade agregados monetá...     2961.0   \n",
       "2      minutes  sumáriopreços nível atividade agregados monetá...     3899.0   \n",
       "3      minutes  sumáriopreços nível atividade agregados monetá...     3367.0   \n",
       "4      minutes  sumário preços nível atividade agregados monet...     5246.0   \n",
       "..         ...                                                ...        ...   \n",
       "406    minutes  ) atualização conjuntura econômica cenário cop...     1937.0   \n",
       "407  statement  desde reunião anterior comitê política monetár...      606.0   \n",
       "408    minutes  ) atualização conjuntura econômica cenário cop...     2013.0   \n",
       "410    minutes  ) atualização conjuntura econômica cenário cop...     1801.0   \n",
       "409  statement  ambiente externo mantém adverso . episódios en...      469.0   \n",
       "\n",
       "                                              text_raw  num_words_raw  \\\n",
       "0    \\nSumárioPreços e Nível de Atividade\\nAgregado...         5066.0   \n",
       "1    \\nSumárioPreços e Nível de Atividade\\nAgregado...         3893.0   \n",
       "2    \\nSumárioPreços e Nível de Atividade\\nAgregado...         4945.0   \n",
       "3    \\nSumárioPreços e Nível de Atividade\\nAgregado...         4341.0   \n",
       "4    \\n \\nSumário\\n \\nPreços e Nível de Atividade\\n...         6626.0   \n",
       "..                                                 ...            ...   \n",
       "406  A) Atualização da conjuntura econômica e do ce...         3247.0   \n",
       "407  Desde a reunião anterior do Comitê de Política...          845.0   \n",
       "408  A) Atualização da conjuntura econômica e do ce...         3359.0   \n",
       "410  A) Atualização da conjuntura econômica e do ce...         3076.0   \n",
       "409  O ambiente externo se mantém adverso. Os episó...          835.0   \n",
       "\n",
       "    label_hawk_dove label_next_meet  \n",
       "0            dovish          cortar  \n",
       "1            dovish          cortar  \n",
       "2            dovish          cortar  \n",
       "3            dovish          cortar  \n",
       "4            dovish          cortar  \n",
       "..              ...             ...  \n",
       "406         neutral          manter  \n",
       "407         neutral          manter  \n",
       "408         neutral          manter  \n",
       "410            None            None  \n",
       "409            None            None  \n",
       "\n",
       "[411 rows x 13 columns]"
      ]
     },
     "execution_count": 86,
     "metadata": {},
     "output_type": "execute_result"
    }
   ],
   "source": [
    "df"
   ]
  },
  {
   "cell_type": "code",
   "execution_count": 87,
   "id": "65383dca-081c-4923-a6a7-783c96b524a8",
   "metadata": {},
   "outputs": [],
   "source": [
    "df.to_csv('df_copom_label_pt.csv', index=False)"
   ]
  },
  {
   "cell_type": "code",
   "execution_count": null,
   "id": "0132ebe0-4928-4850-8b23-af412239fbc1",
   "metadata": {},
   "outputs": [],
   "source": []
  }
 ],
 "metadata": {
  "kernelspec": {
   "display_name": "Python 3 (ipykernel)",
   "language": "python",
   "name": "python3"
  },
  "language_info": {
   "codemirror_mode": {
    "name": "ipython",
    "version": 3
   },
   "file_extension": ".py",
   "mimetype": "text/x-python",
   "name": "python",
   "nbconvert_exporter": "python",
   "pygments_lexer": "ipython3",
   "version": "3.11.3"
  }
 },
 "nbformat": 4,
 "nbformat_minor": 5
}

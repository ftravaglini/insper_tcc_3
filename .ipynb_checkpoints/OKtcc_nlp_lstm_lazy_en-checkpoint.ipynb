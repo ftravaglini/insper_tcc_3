{
 "cells": [
  {
   "cell_type": "markdown",
   "id": "791f0e12-bbb6-4bcb-8a2e-1048ab03bbd2",
   "metadata": {},
   "source": [
    "# NLP - Lazy rnn - lstm"
   ]
  },
  {
   "cell_type": "code",
   "execution_count": 1,
   "id": "5a418dd8-90ca-41b5-b4ea-9638598d471d",
   "metadata": {},
   "outputs": [],
   "source": [
    "import pandas as pd\n",
    "import numpy as np\n",
    "import matplotlib.pyplot as plt"
   ]
  },
  {
   "cell_type": "code",
   "execution_count": 2,
   "id": "d116ad26-12a3-487c-9b47-5f9abe2b6a14",
   "metadata": {},
   "outputs": [],
   "source": [
    "df_copom = pd.read_csv('df_copom_label.csv')"
   ]
  },
  {
   "cell_type": "code",
   "execution_count": 3,
   "id": "60443267-16fc-4610-9633-d96d57c5a6d3",
   "metadata": {},
   "outputs": [
    {
     "data": {
      "text/html": [
       "<div>\n",
       "<style scoped>\n",
       "    .dataframe tbody tr th:only-of-type {\n",
       "        vertical-align: middle;\n",
       "    }\n",
       "\n",
       "    .dataframe tbody tr th {\n",
       "        vertical-align: top;\n",
       "    }\n",
       "\n",
       "    .dataframe thead th {\n",
       "        text-align: right;\n",
       "    }\n",
       "</style>\n",
       "<table border=\"1\" class=\"dataframe\">\n",
       "  <thead>\n",
       "    <tr style=\"text-align: right;\">\n",
       "      <th></th>\n",
       "      <th>Date</th>\n",
       "      <th>Selic</th>\n",
       "      <th>Meeting_Number</th>\n",
       "      <th>Decision</th>\n",
       "      <th>Decision_txt</th>\n",
       "      <th>label_hawk_dove</th>\n",
       "      <th>label_next_meet</th>\n",
       "      <th>Type</th>\n",
       "      <th>Text</th>\n",
       "      <th>num_words</th>\n",
       "    </tr>\n",
       "  </thead>\n",
       "  <tbody>\n",
       "    <tr>\n",
       "      <th>0</th>\n",
       "      <td>2006/03/08</td>\n",
       "      <td>16.5</td>\n",
       "      <td>117.0</td>\n",
       "      <td>-0.75</td>\n",
       "      <td>decrease</td>\n",
       "      <td>dovish</td>\n",
       "      <td>decrease</td>\n",
       "      <td>Statement</td>\n",
       "      <td>march meeting , banco central brasil 's moneta...</td>\n",
       "      <td>55.0</td>\n",
       "    </tr>\n",
       "  </tbody>\n",
       "</table>\n",
       "</div>"
      ],
      "text/plain": [
       "         Date  Selic  Meeting_Number  Decision Decision_txt label_hawk_dove  \\\n",
       "0  2006/03/08   16.5           117.0     -0.75     decrease          dovish   \n",
       "\n",
       "  label_next_meet       Type  \\\n",
       "0        decrease  Statement   \n",
       "\n",
       "                                                Text  num_words  \n",
       "0  march meeting , banco central brasil 's moneta...       55.0  "
      ]
     },
     "execution_count": 3,
     "metadata": {},
     "output_type": "execute_result"
    }
   ],
   "source": [
    "df_copom.head(1)"
   ]
  },
  {
   "cell_type": "code",
   "execution_count": 4,
   "id": "d8e853d8-e066-46f9-bac5-f3686a143845",
   "metadata": {},
   "outputs": [],
   "source": [
    "df = df_copom[df_copom['Type'] == 'Statement'].copy()"
   ]
  },
  {
   "cell_type": "code",
   "execution_count": 5,
   "id": "c0403aab-6e78-44c6-ba1d-cd2324d077f7",
   "metadata": {},
   "outputs": [
    {
     "data": {
      "text/html": [
       "<div>\n",
       "<style scoped>\n",
       "    .dataframe tbody tr th:only-of-type {\n",
       "        vertical-align: middle;\n",
       "    }\n",
       "\n",
       "    .dataframe tbody tr th {\n",
       "        vertical-align: top;\n",
       "    }\n",
       "\n",
       "    .dataframe thead th {\n",
       "        text-align: right;\n",
       "    }\n",
       "</style>\n",
       "<table border=\"1\" class=\"dataframe\">\n",
       "  <thead>\n",
       "    <tr style=\"text-align: right;\">\n",
       "      <th></th>\n",
       "      <th>Date</th>\n",
       "      <th>Selic</th>\n",
       "      <th>Meeting_Number</th>\n",
       "      <th>Decision</th>\n",
       "      <th>Decision_txt</th>\n",
       "      <th>label_hawk_dove</th>\n",
       "      <th>label_next_meet</th>\n",
       "      <th>Type</th>\n",
       "      <th>Text</th>\n",
       "      <th>num_words</th>\n",
       "    </tr>\n",
       "  </thead>\n",
       "  <tbody>\n",
       "    <tr>\n",
       "      <th>0</th>\n",
       "      <td>2006/03/08</td>\n",
       "      <td>16.5</td>\n",
       "      <td>117.0</td>\n",
       "      <td>-0.75</td>\n",
       "      <td>decrease</td>\n",
       "      <td>dovish</td>\n",
       "      <td>decrease</td>\n",
       "      <td>Statement</td>\n",
       "      <td>march meeting , banco central brasil 's moneta...</td>\n",
       "      <td>55.0</td>\n",
       "    </tr>\n",
       "  </tbody>\n",
       "</table>\n",
       "</div>"
      ],
      "text/plain": [
       "         Date  Selic  Meeting_Number  Decision Decision_txt label_hawk_dove  \\\n",
       "0  2006/03/08   16.5           117.0     -0.75     decrease          dovish   \n",
       "\n",
       "  label_next_meet       Type  \\\n",
       "0        decrease  Statement   \n",
       "\n",
       "                                                Text  num_words  \n",
       "0  march meeting , banco central brasil 's moneta...       55.0  "
      ]
     },
     "execution_count": 5,
     "metadata": {},
     "output_type": "execute_result"
    }
   ],
   "source": [
    "df.head(1)"
   ]
  },
  {
   "cell_type": "code",
   "execution_count": 6,
   "id": "c84c4022-78cd-4e0e-aa03-61e3ef9a1bb0",
   "metadata": {},
   "outputs": [
    {
     "data": {
      "text/plain": [
       "(136, 10)"
      ]
     },
     "execution_count": 6,
     "metadata": {},
     "output_type": "execute_result"
    }
   ],
   "source": [
    "df.shape"
   ]
  },
  {
   "cell_type": "markdown",
   "id": "36c44e4b-0795-4f05-838d-c5caa6b9dcd9",
   "metadata": {},
   "source": [
    "### Split test and train"
   ]
  },
  {
   "cell_type": "code",
   "execution_count": 7,
   "id": "9783a43e-78d9-4a51-a65e-58e9ba6bf0e8",
   "metadata": {},
   "outputs": [],
   "source": [
    "from sklearn.model_selection import train_test_split"
   ]
  },
  {
   "cell_type": "code",
   "execution_count": 8,
   "id": "b9572834-9d66-4da3-8e55-e6fa9177a530",
   "metadata": {},
   "outputs": [],
   "source": [
    "X = df.copy()\n",
    "y = df['label_hawk_dove']"
   ]
  },
  {
   "cell_type": "code",
   "execution_count": 9,
   "id": "26356f49-54c3-4096-bf3d-4154aacce342",
   "metadata": {},
   "outputs": [],
   "source": [
    "#Perform train/test split\n",
    "X_train, X_test, y_train, y_test = train_test_split(X, y, test_size=0.2, random_state=2015)"
   ]
  },
  {
   "cell_type": "code",
   "execution_count": 10,
   "id": "48226f65-b901-44e2-b066-bdc45a9dda50",
   "metadata": {},
   "outputs": [],
   "source": [
    "texts = X_train['Text'].tolist()\n",
    "labels = y_train.tolist()"
   ]
  },
  {
   "cell_type": "code",
   "execution_count": 11,
   "id": "4f688c59-6721-4af2-82c0-13b9ead5e0e1",
   "metadata": {},
   "outputs": [
    {
     "data": {
      "text/plain": [
       "'braslia - assessing macroeconomic outlook prospects inflation , copom unanimously decided maintain s'"
      ]
     },
     "execution_count": 11,
     "metadata": {},
     "output_type": "execute_result"
    }
   ],
   "source": [
    "texts[0][:100]"
   ]
  },
  {
   "cell_type": "code",
   "execution_count": 12,
   "id": "c6e6c3df-8161-4e4c-bec2-3c98773d2d96",
   "metadata": {},
   "outputs": [
    {
     "data": {
      "text/plain": [
       "['neutral', 'hawkish', 'neutral', 'neutral', 'neutral']"
      ]
     },
     "execution_count": 12,
     "metadata": {},
     "output_type": "execute_result"
    }
   ],
   "source": [
    "labels[:5]"
   ]
  },
  {
   "cell_type": "code",
   "execution_count": 13,
   "id": "505cec28-3d87-47e6-a8a5-c7acfaea9efe",
   "metadata": {},
   "outputs": [
    {
     "data": {
      "text/plain": [
       "(108, 108)"
      ]
     },
     "execution_count": 13,
     "metadata": {},
     "output_type": "execute_result"
    }
   ],
   "source": [
    "len(texts), len(labels)"
   ]
  },
  {
   "cell_type": "code",
   "execution_count": 14,
   "id": "c8a8b86c-9391-4baf-9aff-59221bb3faa6",
   "metadata": {},
   "outputs": [],
   "source": [
    "# seq_len = 512 # number of the tokens tokenizer will create\n",
    "# num_samples = len (texts)\n",
    "# num_samples, seq_len"
   ]
  },
  {
   "cell_type": "markdown",
   "id": "7029bbf4-2632-4984-8d0a-42bdc2382cdd",
   "metadata": {},
   "source": [
    "### Convert labels to one-hot encoded vectors"
   ]
  },
  {
   "cell_type": "code",
   "execution_count": 15,
   "id": "4b0e070e-a8ae-43f6-b8b1-504ec31b12c6",
   "metadata": {},
   "outputs": [],
   "source": [
    "label_classes = list(set(labels))\n",
    "num_classes = len(label_classes)\n",
    "\n",
    "label_to_index = {label: index for index, label in enumerate(label_classes)}\n",
    "index_to_label = {index: label for label, index in label_to_index.items()}\n",
    "\n",
    "labels_encoded = np.array([label_to_index[label] for label in labels])\n",
    "labels = np.eye(num_classes)[labels_encoded]"
   ]
  },
  {
   "cell_type": "code",
   "execution_count": 16,
   "id": "661e9943-7abf-47a2-af7a-df2e982a36f7",
   "metadata": {},
   "outputs": [
    {
     "data": {
      "text/plain": [
       "{'dovish': 0, 'hawkish': 1, 'neutral': 2}"
      ]
     },
     "execution_count": 16,
     "metadata": {},
     "output_type": "execute_result"
    }
   ],
   "source": [
    "label_to_index"
   ]
  },
  {
   "cell_type": "code",
   "execution_count": 17,
   "id": "960493b5-4c56-49d0-98b5-ceb1a8ab31df",
   "metadata": {},
   "outputs": [
    {
     "data": {
      "text/plain": [
       "array([[0., 0., 1.],\n",
       "       [0., 1., 0.],\n",
       "       [0., 0., 1.],\n",
       "       [0., 0., 1.],\n",
       "       [0., 0., 1.]])"
      ]
     },
     "execution_count": 17,
     "metadata": {},
     "output_type": "execute_result"
    }
   ],
   "source": [
    "labels[:5]"
   ]
  },
  {
   "cell_type": "code",
   "execution_count": 18,
   "id": "89ce264c-0ed0-4041-ae4b-81364cff95db",
   "metadata": {},
   "outputs": [
    {
     "data": {
      "text/plain": [
       "108"
      ]
     },
     "execution_count": 18,
     "metadata": {},
     "output_type": "execute_result"
    }
   ],
   "source": [
    "len(labels)"
   ]
  },
  {
   "cell_type": "markdown",
   "id": "41ff51f9-f286-4f63-b42e-1ee6dc4ae8ca",
   "metadata": {},
   "source": [
    "## Model"
   ]
  },
  {
   "cell_type": "code",
   "execution_count": 19,
   "id": "6fba3d00-052e-4a92-88df-904263258eec",
   "metadata": {
    "tags": []
   },
   "outputs": [],
   "source": [
    "import os\n",
    "import sys"
   ]
  },
  {
   "cell_type": "code",
   "execution_count": 20,
   "id": "6f7dd4d6-753f-4712-acd9-e8eeb3dc834b",
   "metadata": {},
   "outputs": [],
   "source": [
    "from keras.models import Model\n",
    "from keras.layers import Dense, Embedding, Input\n",
    "from keras.layers import LSTM, Bidirectional, GlobalMaxPool1D, Dropout\n",
    "from keras.preprocessing.text import Tokenizer\n",
    "# from keras.preprocessing.sequence import pad_sequences\n",
    "from keras.optimizers import Adam\n",
    "from sklearn.metrics import roc_auc_score\n",
    "\n",
    "import tensorflow as tf\n",
    "\n",
    "import keras.backend as K\n",
    "# if len(K.tensorflow_backend._get_available_gpus()) > 0:\n",
    "#   from keras.layers import CuDNNLSTM as LSTM\n",
    "#   from keras.layers import CuDNNGRU as GRU"
   ]
  },
  {
   "cell_type": "code",
   "execution_count": 21,
   "id": "b0e937f0-71fa-403d-bf1f-7d7e7b41c205",
   "metadata": {
    "tags": []
   },
   "outputs": [
    {
     "name": "stdout",
     "output_type": "stream",
     "text": [
      "2.12.0\n"
     ]
    }
   ],
   "source": [
    "import keras\n",
    "print(keras.__version__)"
   ]
  },
  {
   "cell_type": "code",
   "execution_count": 22,
   "id": "80fa6053-d1f2-4673-a401-b58e15806ec5",
   "metadata": {
    "tags": []
   },
   "outputs": [],
   "source": [
    "# some configuration\n",
    "MAX_SEQUENCE_LENGTH = 100\n",
    "MAX_VOCAB_SIZE = 20000\n",
    "EMBEDDING_DIM = 50\n",
    "VALIDATION_SPLIT = 0.2\n",
    "BATCH_SIZE = 128\n",
    "EPOCHS = 50"
   ]
  },
  {
   "cell_type": "code",
   "execution_count": 23,
   "id": "513b6547-d009-46fa-968b-683af5acb1fb",
   "metadata": {
    "tags": []
   },
   "outputs": [
    {
     "name": "stdout",
     "output_type": "stream",
     "text": [
      "Loading word vectors...\n",
      "Found 400000 word vectors.\n"
     ]
    }
   ],
   "source": [
    "# load in pre-trained word vectors\n",
    "print('Loading word vectors...')\n",
    "word2vec = {}\n",
    "with open('glove.6B/glove.6B.50d.txt', encoding='utf-8') as f:\n",
    "  # is just a space-separated text file in the format:\n",
    "  # word vec[0] vec[1] vec[2] ...\n",
    "  for line in f:\n",
    "    values = line.split()\n",
    "    word = values[0]\n",
    "    vec = np.asarray(values[1:], dtype='float32')\n",
    "    word2vec[word] = vec\n",
    "print('Found %s word vectors.' % len(word2vec))"
   ]
  },
  {
   "cell_type": "code",
   "execution_count": 24,
   "id": "36301ddc-4715-4138-a875-08b1ed382208",
   "metadata": {
    "tags": []
   },
   "outputs": [],
   "source": [
    "# train = pd.read_csv(\"train.csv/train.csv\")\n",
    "# sentences = train[\"comment_text\"].fillna(\"DUMMY_VALUE\").values\n",
    "# possible_labels = [\"toxic\", \"severe_toxic\", \"obscene\", \"threat\", \"insult\", \"identity_hate\"]\n",
    "# targets = train[possible_labels].values"
   ]
  },
  {
   "cell_type": "code",
   "execution_count": 25,
   "id": "7df62310-9328-4ef1-8509-60936cd48b84",
   "metadata": {
    "tags": []
   },
   "outputs": [],
   "source": [
    "sentences = X_train['Text'].fillna(\"DUMMY_VALUE\").values\n",
    "possible_labels = ['dovish', 'neutral', 'hawkish']\n",
    "targets = labels"
   ]
  },
  {
   "cell_type": "code",
   "execution_count": 26,
   "id": "2e474c7f-f406-4160-b31b-5f93d328212a",
   "metadata": {
    "tags": []
   },
   "outputs": [],
   "source": [
    "# convert the sentences (strings) into integers\n",
    "tokenizer = Tokenizer(num_words=MAX_VOCAB_SIZE)\n",
    "tokenizer.fit_on_texts(sentences)\n",
    "sequences = tokenizer.texts_to_sequences(sentences)"
   ]
  },
  {
   "cell_type": "code",
   "execution_count": 27,
   "id": "d8683ffc-f1e5-49a4-b2ad-dc548d9ff857",
   "metadata": {
    "tags": []
   },
   "outputs": [
    {
     "data": {
      "text/plain": [
       "108"
      ]
     },
     "execution_count": 27,
     "metadata": {},
     "output_type": "execute_result"
    }
   ],
   "source": [
    "len(sequences)"
   ]
  },
  {
   "cell_type": "code",
   "execution_count": 28,
   "id": "a4d269c7-aef3-47fe-ba96-60e096b2a4ba",
   "metadata": {
    "tags": []
   },
   "outputs": [
    {
     "name": "stdout",
     "output_type": "stream",
     "text": [
      "Found 1339 unique tokens.\n"
     ]
    }
   ],
   "source": [
    "# get word -> integer mapping\n",
    "word2idx = tokenizer.word_index\n",
    "print('Found %s unique tokens.' % len(word2idx))"
   ]
  },
  {
   "cell_type": "code",
   "execution_count": 29,
   "id": "b570e5c7-905f-4c23-8b1d-37417ab641b1",
   "metadata": {
    "tags": []
   },
   "outputs": [
    {
     "name": "stdout",
     "output_type": "stream",
     "text": [
      "Shape of data tensor: (108, 100)\n"
     ]
    }
   ],
   "source": [
    "# pad sequences so that we get a N x T matrix\n",
    "data = tf.keras.utils.pad_sequences(sequences, maxlen=MAX_SEQUENCE_LENGTH)\n",
    "print('Shape of data tensor:', data.shape)"
   ]
  },
  {
   "cell_type": "code",
   "execution_count": 30,
   "id": "48eea7a7-b326-4348-b640-8b1e644668e0",
   "metadata": {
    "tags": []
   },
   "outputs": [
    {
     "name": "stdout",
     "output_type": "stream",
     "text": [
      "Filling pre-trained embeddings...\n"
     ]
    }
   ],
   "source": [
    "# prepare embedding matrix\n",
    "print('Filling pre-trained embeddings...')\n",
    "num_words = min(MAX_VOCAB_SIZE, len(word2idx) + 1)\n",
    "embedding_matrix = np.zeros((num_words, EMBEDDING_DIM))\n",
    "for word, i in word2idx.items():\n",
    "  if i < MAX_VOCAB_SIZE:\n",
    "    embedding_vector = word2vec.get(word)\n",
    "    if embedding_vector is not None:\n",
    "      # words not found in embedding index will be all zeros.\n",
    "      embedding_matrix[i] = embedding_vector"
   ]
  },
  {
   "cell_type": "code",
   "execution_count": 31,
   "id": "a9e0d37f-8b5d-4f63-9370-4e8d53240e48",
   "metadata": {
    "tags": []
   },
   "outputs": [],
   "source": [
    "# load pre-trained word embeddings into an Embedding layer\n",
    "# note that we set trainable = False so as to keep the embeddings fixed\n",
    "embedding_layer = Embedding(\n",
    "  num_words,\n",
    "  EMBEDDING_DIM,\n",
    "  weights=[embedding_matrix],\n",
    "  input_length=MAX_SEQUENCE_LENGTH,\n",
    "  trainable=False\n",
    ")"
   ]
  },
  {
   "cell_type": "code",
   "execution_count": 32,
   "id": "dc57cb3b-fd40-4fb8-b518-db52b1437c47",
   "metadata": {
    "tags": []
   },
   "outputs": [
    {
     "name": "stdout",
     "output_type": "stream",
     "text": [
      "Building model...\n"
     ]
    }
   ],
   "source": [
    "print('Building model...')\n",
    "\n",
    "# create an LSTM network with a single LSTM\n",
    "input_ = Input(shape=(MAX_SEQUENCE_LENGTH,))\n",
    "x = embedding_layer(input_)\n",
    "# x = LSTM(15, return_sequences=True)(x)\n",
    "x = Bidirectional(LSTM(15, return_sequences=True))(x)\n",
    "x = GlobalMaxPool1D()(x)\n",
    "output = Dense(len(possible_labels), activation=\"sigmoid\")(x)\n",
    "\n",
    "model = Model(input_, output)\n",
    "model.compile(\n",
    "  loss='binary_crossentropy',\n",
    "  optimizer=Adam(learning_rate=0.01),\n",
    "  metrics=['accuracy'],\n",
    ")"
   ]
  },
  {
   "cell_type": "code",
   "execution_count": 33,
   "id": "e4eeb64d-f9fb-4a43-98bd-db7c6f5763f5",
   "metadata": {
    "tags": []
   },
   "outputs": [
    {
     "name": "stdout",
     "output_type": "stream",
     "text": [
      "Training model...\n",
      "Epoch 1/50\n",
      "1/1 [==============================] - 2s 2s/step - loss: 0.6619 - accuracy: 0.3488 - val_loss: 0.6242 - val_accuracy: 0.4545\n",
      "Epoch 2/50\n",
      "1/1 [==============================] - 0s 46ms/step - loss: 0.6291 - accuracy: 0.3721 - val_loss: 0.6165 - val_accuracy: 0.4545\n",
      "Epoch 3/50\n",
      "1/1 [==============================] - 0s 44ms/step - loss: 0.6238 - accuracy: 0.3721 - val_loss: 0.6101 - val_accuracy: 0.4545\n",
      "Epoch 4/50\n",
      "1/1 [==============================] - 0s 43ms/step - loss: 0.6131 - accuracy: 0.3721 - val_loss: 0.6077 - val_accuracy: 0.4545\n",
      "Epoch 5/50\n",
      "1/1 [==============================] - 0s 42ms/step - loss: 0.6017 - accuracy: 0.3953 - val_loss: 0.6063 - val_accuracy: 0.4545\n",
      "Epoch 6/50\n",
      "1/1 [==============================] - 0s 42ms/step - loss: 0.5920 - accuracy: 0.5814 - val_loss: 0.6032 - val_accuracy: 0.5909\n",
      "Epoch 7/50\n",
      "1/1 [==============================] - 0s 44ms/step - loss: 0.5824 - accuracy: 0.7326 - val_loss: 0.5979 - val_accuracy: 0.5455\n",
      "Epoch 8/50\n",
      "1/1 [==============================] - 0s 44ms/step - loss: 0.5717 - accuracy: 0.7209 - val_loss: 0.5898 - val_accuracy: 0.5909\n",
      "Epoch 9/50\n",
      "1/1 [==============================] - 0s 51ms/step - loss: 0.5597 - accuracy: 0.7791 - val_loss: 0.5792 - val_accuracy: 0.6364\n",
      "Epoch 10/50\n",
      "1/1 [==============================] - 0s 44ms/step - loss: 0.5468 - accuracy: 0.8488 - val_loss: 0.5695 - val_accuracy: 0.6364\n",
      "Epoch 11/50\n",
      "1/1 [==============================] - 0s 45ms/step - loss: 0.5327 - accuracy: 0.8488 - val_loss: 0.5584 - val_accuracy: 0.6364\n",
      "Epoch 12/50\n",
      "1/1 [==============================] - 0s 44ms/step - loss: 0.5178 - accuracy: 0.8488 - val_loss: 0.5459 - val_accuracy: 0.6818\n",
      "Epoch 13/50\n",
      "1/1 [==============================] - 0s 44ms/step - loss: 0.5021 - accuracy: 0.8488 - val_loss: 0.5344 - val_accuracy: 0.6818\n",
      "Epoch 14/50\n",
      "1/1 [==============================] - 0s 44ms/step - loss: 0.4870 - accuracy: 0.8372 - val_loss: 0.5270 - val_accuracy: 0.6364\n",
      "Epoch 15/50\n",
      "1/1 [==============================] - 0s 45ms/step - loss: 0.4714 - accuracy: 0.8837 - val_loss: 0.5136 - val_accuracy: 0.6364\n",
      "Epoch 16/50\n",
      "1/1 [==============================] - 0s 43ms/step - loss: 0.4553 - accuracy: 0.8721 - val_loss: 0.4967 - val_accuracy: 0.7273\n",
      "Epoch 17/50\n",
      "1/1 [==============================] - 0s 42ms/step - loss: 0.4427 - accuracy: 0.8837 - val_loss: 0.4917 - val_accuracy: 0.6818\n",
      "Epoch 18/50\n",
      "1/1 [==============================] - 0s 43ms/step - loss: 0.4277 - accuracy: 0.8605 - val_loss: 0.4702 - val_accuracy: 0.7727\n",
      "Epoch 19/50\n",
      "1/1 [==============================] - 0s 43ms/step - loss: 0.4095 - accuracy: 0.9186 - val_loss: 0.4595 - val_accuracy: 0.7727\n",
      "Epoch 20/50\n",
      "1/1 [==============================] - 0s 42ms/step - loss: 0.3922 - accuracy: 0.9070 - val_loss: 0.4515 - val_accuracy: 0.7273\n",
      "Epoch 21/50\n",
      "1/1 [==============================] - 0s 43ms/step - loss: 0.3779 - accuracy: 0.9186 - val_loss: 0.4359 - val_accuracy: 0.7727\n",
      "Epoch 22/50\n",
      "1/1 [==============================] - 0s 44ms/step - loss: 0.3639 - accuracy: 0.9302 - val_loss: 0.4363 - val_accuracy: 0.7273\n",
      "Epoch 23/50\n",
      "1/1 [==============================] - 0s 41ms/step - loss: 0.3557 - accuracy: 0.9070 - val_loss: 0.4046 - val_accuracy: 0.8182\n",
      "Epoch 24/50\n",
      "1/1 [==============================] - 0s 43ms/step - loss: 0.3404 - accuracy: 0.8953 - val_loss: 0.4018 - val_accuracy: 0.7727\n",
      "Epoch 25/50\n",
      "1/1 [==============================] - 0s 43ms/step - loss: 0.3213 - accuracy: 0.9419 - val_loss: 0.4084 - val_accuracy: 0.8182\n",
      "Epoch 26/50\n",
      "1/1 [==============================] - 0s 43ms/step - loss: 0.3144 - accuracy: 0.9419 - val_loss: 0.3799 - val_accuracy: 0.8636\n",
      "Epoch 27/50\n",
      "1/1 [==============================] - 0s 44ms/step - loss: 0.2940 - accuracy: 0.9535 - val_loss: 0.3668 - val_accuracy: 0.7727\n",
      "Epoch 28/50\n",
      "1/1 [==============================] - 0s 45ms/step - loss: 0.2939 - accuracy: 0.9535 - val_loss: 0.3709 - val_accuracy: 0.8182\n",
      "Epoch 29/50\n",
      "1/1 [==============================] - 0s 43ms/step - loss: 0.2710 - accuracy: 0.9535 - val_loss: 0.3718 - val_accuracy: 0.7727\n",
      "Epoch 30/50\n",
      "1/1 [==============================] - 0s 42ms/step - loss: 0.2614 - accuracy: 0.9535 - val_loss: 0.3509 - val_accuracy: 0.8636\n",
      "Epoch 31/50\n",
      "1/1 [==============================] - 0s 51ms/step - loss: 0.2485 - accuracy: 0.9535 - val_loss: 0.3367 - val_accuracy: 0.8636\n",
      "Epoch 32/50\n",
      "1/1 [==============================] - 0s 44ms/step - loss: 0.2412 - accuracy: 0.9535 - val_loss: 0.3354 - val_accuracy: 0.8636\n",
      "Epoch 33/50\n",
      "1/1 [==============================] - 0s 44ms/step - loss: 0.2269 - accuracy: 0.9535 - val_loss: 0.3308 - val_accuracy: 0.8182\n",
      "Epoch 34/50\n",
      "1/1 [==============================] - 0s 42ms/step - loss: 0.2170 - accuracy: 0.9535 - val_loss: 0.3226 - val_accuracy: 0.9091\n",
      "Epoch 35/50\n",
      "1/1 [==============================] - 0s 43ms/step - loss: 0.2064 - accuracy: 0.9651 - val_loss: 0.3128 - val_accuracy: 0.9091\n",
      "Epoch 36/50\n",
      "1/1 [==============================] - 0s 46ms/step - loss: 0.1965 - accuracy: 0.9651 - val_loss: 0.3087 - val_accuracy: 0.8636\n",
      "Epoch 37/50\n",
      "1/1 [==============================] - 0s 50ms/step - loss: 0.1857 - accuracy: 0.9651 - val_loss: 0.2999 - val_accuracy: 0.8636\n",
      "Epoch 38/50\n",
      "1/1 [==============================] - 0s 54ms/step - loss: 0.1753 - accuracy: 0.9651 - val_loss: 0.2991 - val_accuracy: 0.9091\n",
      "Epoch 39/50\n",
      "1/1 [==============================] - 0s 45ms/step - loss: 0.1683 - accuracy: 0.9651 - val_loss: 0.2858 - val_accuracy: 0.8636\n",
      "Epoch 40/50\n",
      "1/1 [==============================] - 0s 43ms/step - loss: 0.1572 - accuracy: 0.9651 - val_loss: 0.2868 - val_accuracy: 0.8636\n",
      "Epoch 41/50\n",
      "1/1 [==============================] - 0s 42ms/step - loss: 0.1501 - accuracy: 0.9767 - val_loss: 0.2828 - val_accuracy: 0.9091\n",
      "Epoch 42/50\n",
      "1/1 [==============================] - 0s 45ms/step - loss: 0.1413 - accuracy: 0.9767 - val_loss: 0.2789 - val_accuracy: 0.9091\n",
      "Epoch 43/50\n",
      "1/1 [==============================] - 0s 43ms/step - loss: 0.1328 - accuracy: 0.9767 - val_loss: 0.2733 - val_accuracy: 0.8636\n",
      "Epoch 44/50\n",
      "1/1 [==============================] - 0s 43ms/step - loss: 0.1268 - accuracy: 0.9884 - val_loss: 0.2660 - val_accuracy: 0.8636\n",
      "Epoch 45/50\n",
      "1/1 [==============================] - 0s 44ms/step - loss: 0.1187 - accuracy: 0.9884 - val_loss: 0.2636 - val_accuracy: 0.9091\n",
      "Epoch 46/50\n",
      "1/1 [==============================] - 0s 44ms/step - loss: 0.1144 - accuracy: 0.9884 - val_loss: 0.2645 - val_accuracy: 0.8636\n",
      "Epoch 47/50\n",
      "1/1 [==============================] - 0s 54ms/step - loss: 0.1119 - accuracy: 0.9884 - val_loss: 0.2590 - val_accuracy: 0.9091\n",
      "Epoch 48/50\n",
      "1/1 [==============================] - 0s 58ms/step - loss: 0.1050 - accuracy: 0.9884 - val_loss: 0.2737 - val_accuracy: 0.9091\n",
      "Epoch 49/50\n",
      "1/1 [==============================] - 0s 47ms/step - loss: 0.0981 - accuracy: 0.9884 - val_loss: 0.2631 - val_accuracy: 0.9091\n",
      "Epoch 50/50\n",
      "1/1 [==============================] - 0s 63ms/step - loss: 0.0930 - accuracy: 0.9884 - val_loss: 0.2617 - val_accuracy: 0.9091\n"
     ]
    }
   ],
   "source": [
    "print('Training model...')\n",
    "r = model.fit(\n",
    "  data,\n",
    "  targets,\n",
    "  batch_size=BATCH_SIZE,\n",
    "  epochs=EPOCHS,\n",
    "  validation_split=VALIDATION_SPLIT\n",
    ")"
   ]
  },
  {
   "cell_type": "code",
   "execution_count": 34,
   "id": "b3ad1df1-8ae0-4eba-bfd8-9b454faa3dee",
   "metadata": {
    "tags": []
   },
   "outputs": [
    {
     "data": {
      "image/png": "[encoded data removed]",
      "text/plain": [
       "<Figure size 640x480 with 1 Axes>"
      ]
     },
     "metadata": {},
     "output_type": "display_data"
    }
   ],
   "source": [
    "# plot some data\n",
    "plt.plot(r.history['loss'], label='loss')\n",
    "plt.plot(r.history['val_loss'], label='val_loss')\n",
    "plt.legend()\n",
    "plt.show()"
   ]
  },
  {
   "cell_type": "code",
   "execution_count": 35,
   "id": "e767af5d-ee2e-4879-9775-60ba393f911f",
   "metadata": {
    "tags": []
   },
   "outputs": [
    {
     "data": {
      "image/png": "[encoded data removed]",
      "text/plain": [
       "<Figure size 640x480 with 1 Axes>"
      ]
     },
     "metadata": {},
     "output_type": "display_data"
    }
   ],
   "source": [
    "# accuracies\n",
    "plt.plot(r.history['accuracy'], label='acc')\n",
    "plt.plot(r.history['val_accuracy'], label='val_acc')\n",
    "plt.legend()\n",
    "plt.show()"
   ]
  },
  {
   "cell_type": "code",
   "execution_count": 36,
   "id": "acadb07f-0519-4d37-808c-08acd904ddb7",
   "metadata": {
    "tags": []
   },
   "outputs": [
    {
     "name": "stdout",
     "output_type": "stream",
     "text": [
      "4/4 [==============================] - 0s 5ms/step\n",
      "0.9911693295739349\n"
     ]
    }
   ],
   "source": [
    "p = model.predict(data)\n",
    "aucs = []\n",
    "for j in range(3):\n",
    "    auc = roc_auc_score(targets[:,j], p[:,j])\n",
    "    aucs.append(auc)\n",
    "print(np.mean(aucs))"
   ]
  },
  {
   "cell_type": "code",
   "execution_count": null,
   "id": "bf5b2acd-67a5-4cff-a706-77ceb832ef4c",
   "metadata": {},
   "outputs": [],
   "source": []
  },
  {
   "cell_type": "code",
   "execution_count": 37,
   "id": "d3a26767-96a4-4dfd-9769-89079b62db36",
   "metadata": {
    "tags": []
   },
   "outputs": [],
   "source": [
    "sentences_test = X_test['Text'].fillna(\"DUMMY_VALUE\").values"
   ]
  },
  {
   "cell_type": "code",
   "execution_count": 38,
   "id": "aaabea3a-49e6-4fdb-829b-65240064ad50",
   "metadata": {
    "tags": []
   },
   "outputs": [],
   "source": [
    "# convert the sentences (strings) into integers\n",
    "tokenizer = Tokenizer(num_words=MAX_VOCAB_SIZE)\n",
    "tokenizer.fit_on_texts(sentences_test)\n",
    "sequences_test = tokenizer.texts_to_sequences(sentences_test)"
   ]
  },
  {
   "cell_type": "code",
   "execution_count": 39,
   "id": "e0dac109-eb3a-4797-810e-af294b4fdf0f",
   "metadata": {
    "tags": []
   },
   "outputs": [
    {
     "name": "stdout",
     "output_type": "stream",
     "text": [
      "Found 877 unique tokens.\n"
     ]
    }
   ],
   "source": [
    "# get word -> integer mapping\n",
    "word2idx = tokenizer.word_index\n",
    "print('Found %s unique tokens.' % len(word2idx))"
   ]
  },
  {
   "cell_type": "code",
   "execution_count": 40,
   "id": "4c4f60e7-f50f-4c4e-8a57-6c91a8d9597f",
   "metadata": {
    "tags": []
   },
   "outputs": [
    {
     "name": "stdout",
     "output_type": "stream",
     "text": [
      "Shape of data tensor: (28, 100)\n"
     ]
    }
   ],
   "source": [
    "# pad sequences so that we get a N x T matrix\n",
    "data_test = tf.keras.utils.pad_sequences(sequences_test, maxlen=MAX_SEQUENCE_LENGTH)\n",
    "print('Shape of data tensor:', data_test.shape)"
   ]
  },
  {
   "cell_type": "code",
   "execution_count": null,
   "id": "c0269718-441b-4589-b285-2bf04e20a811",
   "metadata": {},
   "outputs": [],
   "source": []
  },
  {
   "cell_type": "code",
   "execution_count": 41,
   "id": "7932f5fe-a1cb-48f2-b816-dc4d77bcd2bb",
   "metadata": {
    "tags": []
   },
   "outputs": [
    {
     "name": "stdout",
     "output_type": "stream",
     "text": [
      "1/1 [==============================] - 0s 15ms/step\n"
     ]
    }
   ],
   "source": [
    "p = model.predict(data_test)"
   ]
  },
  {
   "cell_type": "code",
   "execution_count": 42,
   "id": "ffd0378e-12c7-4397-bf69-165daf2e177d",
   "metadata": {
    "tags": []
   },
   "outputs": [],
   "source": [
    "results = np.argmax(p, axis=1)"
   ]
  },
  {
   "cell_type": "code",
   "execution_count": 43,
   "id": "b5ddef1e-cb26-4397-8421-6da04fc2cd07",
   "metadata": {
    "tags": []
   },
   "outputs": [],
   "source": [
    "label = y_test.values"
   ]
  },
  {
   "cell_type": "code",
   "execution_count": 44,
   "id": "73a6effb-fbe9-449c-97bd-e56b40a9c4a9",
   "metadata": {
    "tags": []
   },
   "outputs": [],
   "source": [
    "df = pd.DataFrame({'Label': label, 'Result': results})"
   ]
  },
  {
   "cell_type": "code",
   "execution_count": 45,
   "id": "7e78b88d-f001-422c-925a-c74b2199267d",
   "metadata": {
    "tags": []
   },
   "outputs": [
    {
     "data": {
      "text/html": [
       "<div>\n",
       "<style scoped>\n",
       "    .dataframe tbody tr th:only-of-type {\n",
       "        vertical-align: middle;\n",
       "    }\n",
       "\n",
       "    .dataframe tbody tr th {\n",
       "        vertical-align: top;\n",
       "    }\n",
       "\n",
       "    .dataframe thead th {\n",
       "        text-align: right;\n",
       "    }\n",
       "</style>\n",
       "<table border=\"1\" class=\"dataframe\">\n",
       "  <thead>\n",
       "    <tr style=\"text-align: right;\">\n",
       "      <th></th>\n",
       "      <th>Label</th>\n",
       "      <th>Result</th>\n",
       "    </tr>\n",
       "  </thead>\n",
       "  <tbody>\n",
       "    <tr>\n",
       "      <th>0</th>\n",
       "      <td>dovish</td>\n",
       "      <td>0</td>\n",
       "    </tr>\n",
       "    <tr>\n",
       "      <th>1</th>\n",
       "      <td>neutral</td>\n",
       "      <td>1</td>\n",
       "    </tr>\n",
       "    <tr>\n",
       "      <th>2</th>\n",
       "      <td>neutral</td>\n",
       "      <td>1</td>\n",
       "    </tr>\n",
       "    <tr>\n",
       "      <th>3</th>\n",
       "      <td>hawkish</td>\n",
       "      <td>2</td>\n",
       "    </tr>\n",
       "    <tr>\n",
       "      <th>4</th>\n",
       "      <td>neutral</td>\n",
       "      <td>1</td>\n",
       "    </tr>\n",
       "    <tr>\n",
       "      <th>5</th>\n",
       "      <td>neutral</td>\n",
       "      <td>2</td>\n",
       "    </tr>\n",
       "    <tr>\n",
       "      <th>6</th>\n",
       "      <td>neutral</td>\n",
       "      <td>1</td>\n",
       "    </tr>\n",
       "    <tr>\n",
       "      <th>7</th>\n",
       "      <td>neutral</td>\n",
       "      <td>0</td>\n",
       "    </tr>\n",
       "    <tr>\n",
       "      <th>8</th>\n",
       "      <td>dovish</td>\n",
       "      <td>0</td>\n",
       "    </tr>\n",
       "    <tr>\n",
       "      <th>9</th>\n",
       "      <td>dovish</td>\n",
       "      <td>1</td>\n",
       "    </tr>\n",
       "    <tr>\n",
       "      <th>10</th>\n",
       "      <td>neutral</td>\n",
       "      <td>1</td>\n",
       "    </tr>\n",
       "    <tr>\n",
       "      <th>11</th>\n",
       "      <td>dovish</td>\n",
       "      <td>1</td>\n",
       "    </tr>\n",
       "    <tr>\n",
       "      <th>12</th>\n",
       "      <td>dovish</td>\n",
       "      <td>1</td>\n",
       "    </tr>\n",
       "    <tr>\n",
       "      <th>13</th>\n",
       "      <td>neutral</td>\n",
       "      <td>1</td>\n",
       "    </tr>\n",
       "    <tr>\n",
       "      <th>14</th>\n",
       "      <td>neutral</td>\n",
       "      <td>1</td>\n",
       "    </tr>\n",
       "    <tr>\n",
       "      <th>15</th>\n",
       "      <td>hawkish</td>\n",
       "      <td>1</td>\n",
       "    </tr>\n",
       "    <tr>\n",
       "      <th>16</th>\n",
       "      <td>dovish</td>\n",
       "      <td>0</td>\n",
       "    </tr>\n",
       "    <tr>\n",
       "      <th>17</th>\n",
       "      <td>dovish</td>\n",
       "      <td>2</td>\n",
       "    </tr>\n",
       "    <tr>\n",
       "      <th>18</th>\n",
       "      <td>hawkish</td>\n",
       "      <td>0</td>\n",
       "    </tr>\n",
       "    <tr>\n",
       "      <th>19</th>\n",
       "      <td>dovish</td>\n",
       "      <td>1</td>\n",
       "    </tr>\n",
       "    <tr>\n",
       "      <th>20</th>\n",
       "      <td>hawkish</td>\n",
       "      <td>1</td>\n",
       "    </tr>\n",
       "    <tr>\n",
       "      <th>21</th>\n",
       "      <td>neutral</td>\n",
       "      <td>2</td>\n",
       "    </tr>\n",
       "    <tr>\n",
       "      <th>22</th>\n",
       "      <td>hawkish</td>\n",
       "      <td>0</td>\n",
       "    </tr>\n",
       "    <tr>\n",
       "      <th>23</th>\n",
       "      <td>neutral</td>\n",
       "      <td>1</td>\n",
       "    </tr>\n",
       "    <tr>\n",
       "      <th>24</th>\n",
       "      <td>dovish</td>\n",
       "      <td>1</td>\n",
       "    </tr>\n",
       "    <tr>\n",
       "      <th>25</th>\n",
       "      <td>hawkish</td>\n",
       "      <td>2</td>\n",
       "    </tr>\n",
       "    <tr>\n",
       "      <th>26</th>\n",
       "      <td>hawkish</td>\n",
       "      <td>0</td>\n",
       "    </tr>\n",
       "    <tr>\n",
       "      <th>27</th>\n",
       "      <td>dovish</td>\n",
       "      <td>1</td>\n",
       "    </tr>\n",
       "  </tbody>\n",
       "</table>\n",
       "</div>"
      ],
      "text/plain": [
       "      Label  Result\n",
       "0    dovish       0\n",
       "1   neutral       1\n",
       "2   neutral       1\n",
       "3   hawkish       2\n",
       "4   neutral       1\n",
       "5   neutral       2\n",
       "6   neutral       1\n",
       "7   neutral       0\n",
       "8    dovish       0\n",
       "9    dovish       1\n",
       "10  neutral       1\n",
       "11   dovish       1\n",
       "12   dovish       1\n",
       "13  neutral       1\n",
       "14  neutral       1\n",
       "15  hawkish       1\n",
       "16   dovish       0\n",
       "17   dovish       2\n",
       "18  hawkish       0\n",
       "19   dovish       1\n",
       "20  hawkish       1\n",
       "21  neutral       2\n",
       "22  hawkish       0\n",
       "23  neutral       1\n",
       "24   dovish       1\n",
       "25  hawkish       2\n",
       "26  hawkish       0\n",
       "27   dovish       1"
      ]
     },
     "execution_count": 45,
     "metadata": {},
     "output_type": "execute_result"
    }
   ],
   "source": [
    "df"
   ]
  },
  {
   "cell_type": "code",
   "execution_count": null,
   "id": "56dd19fe-5a1d-4eff-845a-29221738d119",
   "metadata": {},
   "outputs": [],
   "source": []
  }
 ],
 "metadata": {
  "kernelspec": {
   "display_name": "Python 3 (ipykernel)",
   "language": "python",
   "name": "python3"
  },
  "language_info": {
   "codemirror_mode": {
    "name": "ipython",
    "version": 3
   },
   "file_extension": ".py",
   "mimetype": "text/x-python",
   "name": "python",
   "nbconvert_exporter": "python",
   "pygments_lexer": "ipython3",
   "version": "3.11.3"
  }
 },
 "nbformat": 4,
 "nbformat_minor": 5
}
